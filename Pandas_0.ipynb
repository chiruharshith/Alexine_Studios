{
 "cells": [
  {
   "cell_type": "markdown",
   "metadata": {
    "id": "Dk_I-E6pl05S"
   },
   "source": [
    "# Alexine Studios"
   ]
  },
  {
   "cell_type": "markdown",
   "metadata": {
    "id": "FhA-4D7SrIpo"
   },
   "source": [
    "## Download Dataset"
   ]
  },
  {
   "cell_type": "code",
   "execution_count": 1,
   "metadata": {
    "executionInfo": {
     "elapsed": 1054,
     "status": "ok",
     "timestamp": 1632335351708,
     "user": {
      "displayName": "mohan kondle",
      "photoUrl": "https://lh3.googleusercontent.com/a/default-user=s64",
      "userId": "04458732900237689824"
     },
     "user_tz": -330
    },
    "id": "DrAZGKNorOH8"
   },
   "outputs": [],
   "source": [
    "!mkdir datasets\n",
    "!wget -qq https://raw.githubusercontent.com/chiruharshith/Alexine_Studios/main/datasets/five_states.csv -P datasets"
   ]
  },
  {
   "cell_type": "code",
   "execution_count": 2,
   "metadata": {
    "colab": {
     "base_uri": "https://localhost:8080/",
     "height": 36
    },
    "executionInfo": {
     "elapsed": 28,
     "status": "ok",
     "timestamp": 1632335351710,
     "user": {
      "displayName": "mohan kondle",
      "photoUrl": "https://lh3.googleusercontent.com/a/default-user=s64",
      "userId": "04458732900237689824"
     },
     "user_tz": -330
    },
    "id": "ow3xX_gvXUM0",
    "outputId": "ebb83478-6677-48e1-fd93-602fb4a49937"
   },
   "outputs": [
    {
     "data": {
      "application/vnd.google.colaboratory.intrinsic+json": {
       "type": "string"
      },
      "text/plain": [
       "'1.1.5'"
      ]
     },
     "execution_count": 2,
     "metadata": {},
     "output_type": "execute_result"
    }
   ],
   "source": [
    "# Import pandas and check for the version\n",
    "import pandas as pd\n",
    "pd.__version__"
   ]
  },
  {
   "cell_type": "code",
   "execution_count": 3,
   "metadata": {
    "colab": {
     "base_uri": "https://localhost:8080/",
     "height": 206
    },
    "executionInfo": {
     "elapsed": 24,
     "status": "ok",
     "timestamp": 1632335351712,
     "user": {
      "displayName": "mohan kondle",
      "photoUrl": "https://lh3.googleusercontent.com/a/default-user=s64",
      "userId": "04458732900237689824"
     },
     "user_tz": -330
    },
    "id": "EIzO1BS2cTBO",
    "outputId": "4e2dff0a-af77-47a2-d479-f5681d643e56"
   },
   "outputs": [
    {
     "data": {
      "text/html": [
       "<div>\n",
       "<style scoped>\n",
       "    .dataframe tbody tr th:only-of-type {\n",
       "        vertical-align: middle;\n",
       "    }\n",
       "\n",
       "    .dataframe tbody tr th {\n",
       "        vertical-align: top;\n",
       "    }\n",
       "\n",
       "    .dataframe thead th {\n",
       "        text-align: right;\n",
       "    }\n",
       "</style>\n",
       "<table border=\"1\" class=\"dataframe\">\n",
       "  <thead>\n",
       "    <tr style=\"text-align: right;\">\n",
       "      <th></th>\n",
       "      <th>State Name</th>\n",
       "      <th>Capital</th>\n",
       "      <th>Area</th>\n",
       "      <th>Population</th>\n",
       "      <th>Largest City</th>\n",
       "    </tr>\n",
       "  </thead>\n",
       "  <tbody>\n",
       "    <tr>\n",
       "      <th>0</th>\n",
       "      <td>Karnataka</td>\n",
       "      <td>Bangalore</td>\n",
       "      <td>1,91,791 sq. km</td>\n",
       "      <td>6,11,30,704</td>\n",
       "      <td>Bengaluru</td>\n",
       "    </tr>\n",
       "    <tr>\n",
       "      <th>1</th>\n",
       "      <td>Tamil Nadu</td>\n",
       "      <td>Chennai</td>\n",
       "      <td>1,30,058 sq. km</td>\n",
       "      <td>7,21,38,958</td>\n",
       "      <td>Tamil</td>\n",
       "    </tr>\n",
       "    <tr>\n",
       "      <th>2</th>\n",
       "      <td>Telangana</td>\n",
       "      <td>Hyderabad</td>\n",
       "      <td>112,077 Sq. Kms</td>\n",
       "      <td>350.04 Lakhs</td>\n",
       "      <td>Hyderabad</td>\n",
       "    </tr>\n",
       "    <tr>\n",
       "      <th>3</th>\n",
       "      <td>Maharashtra</td>\n",
       "      <td>Mumbai</td>\n",
       "      <td>3,07,713 sq. km</td>\n",
       "      <td>11,23,72,972</td>\n",
       "      <td>Mumbai</td>\n",
       "    </tr>\n",
       "    <tr>\n",
       "      <th>4</th>\n",
       "      <td>Kerala</td>\n",
       "      <td>Thiruvananthapuram</td>\n",
       "      <td>38,863 sq. km</td>\n",
       "      <td>3,33,87,677</td>\n",
       "      <td>Malappuram</td>\n",
       "    </tr>\n",
       "  </tbody>\n",
       "</table>\n",
       "</div>"
      ],
      "text/plain": [
       "   State Name             Capital             Area     Population Largest City \n",
       "0    Karnataka           Bangalore  1,91,791 sq. km   6,11,30,704     Bengaluru\n",
       "1   Tamil Nadu             Chennai  1,30,058 sq. km   7,21,38,958         Tamil\n",
       "2   Telangana            Hyderabad  112,077 Sq. Kms  350.04 Lakhs     Hyderabad\n",
       "3  Maharashtra             Mumbai   3,07,713 sq. km  11,23,72,972       Mumbai \n",
       "4       Kerala  Thiruvananthapuram    38,863 sq. km   3,33,87,677    Malappuram"
      ]
     },
     "execution_count": 3,
     "metadata": {},
     "output_type": "execute_result"
    }
   ],
   "source": [
    "df = pd.read_csv(\"datasets/five_states.csv\")\n",
    "df"
   ]
  },
  {
   "cell_type": "code",
   "execution_count": 4,
   "metadata": {
    "colab": {
     "base_uri": "https://localhost:8080/",
     "height": 206
    },
    "executionInfo": {
     "elapsed": 24,
     "status": "ok",
     "timestamp": 1632335351713,
     "user": {
      "displayName": "mohan kondle",
      "photoUrl": "https://lh3.googleusercontent.com/a/default-user=s64",
      "userId": "04458732900237689824"
     },
     "user_tz": -330
    },
    "id": "0MKc_I8yd1y_",
    "outputId": "f0136131-5e6c-44bf-dd4e-1ed410512e94"
   },
   "outputs": [
    {
     "data": {
      "text/html": [
       "<div>\n",
       "<style scoped>\n",
       "    .dataframe tbody tr th:only-of-type {\n",
       "        vertical-align: middle;\n",
       "    }\n",
       "\n",
       "    .dataframe tbody tr th {\n",
       "        vertical-align: top;\n",
       "    }\n",
       "\n",
       "    .dataframe thead th {\n",
       "        text-align: right;\n",
       "    }\n",
       "</style>\n",
       "<table border=\"1\" class=\"dataframe\">\n",
       "  <thead>\n",
       "    <tr style=\"text-align: right;\">\n",
       "      <th></th>\n",
       "      <th>Capital</th>\n",
       "      <th>State Name</th>\n",
       "    </tr>\n",
       "  </thead>\n",
       "  <tbody>\n",
       "    <tr>\n",
       "      <th>0</th>\n",
       "      <td>Bangalore</td>\n",
       "      <td>Karnataka</td>\n",
       "    </tr>\n",
       "    <tr>\n",
       "      <th>1</th>\n",
       "      <td>Chennai</td>\n",
       "      <td>Tamil Nadu</td>\n",
       "    </tr>\n",
       "    <tr>\n",
       "      <th>2</th>\n",
       "      <td>Hyderabad</td>\n",
       "      <td>Telangana</td>\n",
       "    </tr>\n",
       "    <tr>\n",
       "      <th>3</th>\n",
       "      <td>Mumbai</td>\n",
       "      <td>Maharashtra</td>\n",
       "    </tr>\n",
       "    <tr>\n",
       "      <th>4</th>\n",
       "      <td>Thiruvananthapuram</td>\n",
       "      <td>Kerala</td>\n",
       "    </tr>\n",
       "  </tbody>\n",
       "</table>\n",
       "</div>"
      ],
      "text/plain": [
       "             Capital   State Name \n",
       "0           Bangalore    Karnataka\n",
       "1             Chennai   Tamil Nadu\n",
       "2           Hyderabad   Telangana \n",
       "3             Mumbai   Maharashtra\n",
       "4  Thiruvananthapuram       Kerala"
      ]
     },
     "execution_count": 4,
     "metadata": {},
     "output_type": "execute_result"
    }
   ],
   "source": [
    "# Display only Capitals and States columns from the dataframe\n",
    "df[['Capital ','State Name ']]"
   ]
  },
  {
   "cell_type": "code",
   "execution_count": 5,
   "metadata": {
    "colab": {
     "base_uri": "https://localhost:8080/",
     "height": 206
    },
    "executionInfo": {
     "elapsed": 22,
     "status": "ok",
     "timestamp": 1632335351715,
     "user": {
      "displayName": "mohan kondle",
      "photoUrl": "https://lh3.googleusercontent.com/a/default-user=s64",
      "userId": "04458732900237689824"
     },
     "user_tz": -330
    },
    "id": "n-6DIiqksDe2",
    "outputId": "58c01c49-b7c7-492e-e708-4b8d4e4d00dc"
   },
   "outputs": [
    {
     "data": {
      "text/html": [
       "<div>\n",
       "<style scoped>\n",
       "    .dataframe tbody tr th:only-of-type {\n",
       "        vertical-align: middle;\n",
       "    }\n",
       "\n",
       "    .dataframe tbody tr th {\n",
       "        vertical-align: top;\n",
       "    }\n",
       "\n",
       "    .dataframe thead th {\n",
       "        text-align: right;\n",
       "    }\n",
       "</style>\n",
       "<table border=\"1\" class=\"dataframe\">\n",
       "  <thead>\n",
       "    <tr style=\"text-align: right;\">\n",
       "      <th></th>\n",
       "      <th>State Name</th>\n",
       "      <th>Capital</th>\n",
       "      <th>Area</th>\n",
       "      <th>Population</th>\n",
       "      <th>Largest City</th>\n",
       "    </tr>\n",
       "  </thead>\n",
       "  <tbody>\n",
       "    <tr>\n",
       "      <th>0</th>\n",
       "      <td>Karnataka</td>\n",
       "      <td>Bangalore</td>\n",
       "      <td>191791</td>\n",
       "      <td>61130704</td>\n",
       "      <td>Bengaluru</td>\n",
       "    </tr>\n",
       "    <tr>\n",
       "      <th>1</th>\n",
       "      <td>Tamil Nadu</td>\n",
       "      <td>Chennai</td>\n",
       "      <td>130058</td>\n",
       "      <td>72138958</td>\n",
       "      <td>Tamil</td>\n",
       "    </tr>\n",
       "    <tr>\n",
       "      <th>2</th>\n",
       "      <td>Telangana</td>\n",
       "      <td>Hyderabad</td>\n",
       "      <td>112077</td>\n",
       "      <td>35004</td>\n",
       "      <td>Hyderabad</td>\n",
       "    </tr>\n",
       "    <tr>\n",
       "      <th>3</th>\n",
       "      <td>Maharashtra</td>\n",
       "      <td>Mumbai</td>\n",
       "      <td>307713</td>\n",
       "      <td>112372972</td>\n",
       "      <td>Mumbai</td>\n",
       "    </tr>\n",
       "    <tr>\n",
       "      <th>4</th>\n",
       "      <td>Kerala</td>\n",
       "      <td>Thiruvananthapuram</td>\n",
       "      <td>38863</td>\n",
       "      <td>33387677</td>\n",
       "      <td>Malappuram</td>\n",
       "    </tr>\n",
       "  </tbody>\n",
       "</table>\n",
       "</div>"
      ],
      "text/plain": [
       "   State Name             Capital    Area  Population Largest City \n",
       "0    Karnataka           Bangalore  191791   61130704     Bengaluru\n",
       "1   Tamil Nadu             Chennai  130058   72138958         Tamil\n",
       "2   Telangana            Hyderabad  112077      35004     Hyderabad\n",
       "3  Maharashtra             Mumbai   307713  112372972       Mumbai \n",
       "4       Kerala  Thiruvananthapuram   38863   33387677    Malappuram"
      ]
     },
     "execution_count": 5,
     "metadata": {},
     "output_type": "execute_result"
    }
   ],
   "source": [
    "def removeAlpha(X):\n",
    "    return ''.join(filter(str.isdigit, X))\n",
    "\n",
    "df.Population = df.Population.apply(removeAlpha)\n",
    "df['Area '] = df['Area '].apply(removeAlpha)\n",
    "df"
   ]
  },
  {
   "cell_type": "code",
   "execution_count": 6,
   "metadata": {
    "colab": {
     "base_uri": "https://localhost:8080/"
    },
    "executionInfo": {
     "elapsed": 24,
     "status": "ok",
     "timestamp": 1632335352328,
     "user": {
      "displayName": "mohan kondle",
      "photoUrl": "https://lh3.googleusercontent.com/a/default-user=s64",
      "userId": "04458732900237689824"
     },
     "user_tz": -330
    },
    "id": "5jdrgoY1sDe5",
    "outputId": "6fb97e68-f143-4367-d1a0-793d7f12b729"
   },
   "outputs": [
    {
     "data": {
      "text/plain": [
       "['191791', '130058', '112077', '307713', '38863']"
      ]
     },
     "execution_count": 6,
     "metadata": {},
     "output_type": "execute_result"
    }
   ],
   "source": [
    "list(df['Area '])"
   ]
  },
  {
   "cell_type": "code",
   "execution_count": 7,
   "metadata": {
    "colab": {
     "base_uri": "https://localhost:8080/",
     "height": 206
    },
    "executionInfo": {
     "elapsed": 17,
     "status": "ok",
     "timestamp": 1632335352331,
     "user": {
      "displayName": "mohan kondle",
      "photoUrl": "https://lh3.googleusercontent.com/a/default-user=s64",
      "userId": "04458732900237689824"
     },
     "user_tz": -330
    },
    "id": "i_vSkiNc1CtL",
    "outputId": "7928d883-7cdf-4ae4-f44a-a0b055e7e139"
   },
   "outputs": [
    {
     "data": {
      "text/html": [
       "<div>\n",
       "<style scoped>\n",
       "    .dataframe tbody tr th:only-of-type {\n",
       "        vertical-align: middle;\n",
       "    }\n",
       "\n",
       "    .dataframe tbody tr th {\n",
       "        vertical-align: top;\n",
       "    }\n",
       "\n",
       "    .dataframe thead th {\n",
       "        text-align: right;\n",
       "    }\n",
       "</style>\n",
       "<table border=\"1\" class=\"dataframe\">\n",
       "  <thead>\n",
       "    <tr style=\"text-align: right;\">\n",
       "      <th></th>\n",
       "      <th>State Name</th>\n",
       "      <th>Capital</th>\n",
       "      <th>Area</th>\n",
       "      <th>Population</th>\n",
       "      <th>Largest City</th>\n",
       "    </tr>\n",
       "  </thead>\n",
       "  <tbody>\n",
       "    <tr>\n",
       "      <th>0</th>\n",
       "      <td>Karnataka</td>\n",
       "      <td>Bangalore</td>\n",
       "      <td>191791</td>\n",
       "      <td>61130704</td>\n",
       "      <td>Bengaluru</td>\n",
       "    </tr>\n",
       "    <tr>\n",
       "      <th>1</th>\n",
       "      <td>Tamil Nadu</td>\n",
       "      <td>Chennai</td>\n",
       "      <td>130058</td>\n",
       "      <td>72138958</td>\n",
       "      <td>Tamil</td>\n",
       "    </tr>\n",
       "    <tr>\n",
       "      <th>2</th>\n",
       "      <td>Telangana</td>\n",
       "      <td>Hyderabad</td>\n",
       "      <td>112077</td>\n",
       "      <td>35004</td>\n",
       "      <td>Hyderabad</td>\n",
       "    </tr>\n",
       "    <tr>\n",
       "      <th>3</th>\n",
       "      <td>Maharashtra</td>\n",
       "      <td>Mumbai</td>\n",
       "      <td>307713</td>\n",
       "      <td>112372972</td>\n",
       "      <td>Mumbai</td>\n",
       "    </tr>\n",
       "    <tr>\n",
       "      <th>4</th>\n",
       "      <td>Kerala</td>\n",
       "      <td>Thiruvananthapuram</td>\n",
       "      <td>10000</td>\n",
       "      <td>33387677</td>\n",
       "      <td>Malappuram</td>\n",
       "    </tr>\n",
       "  </tbody>\n",
       "</table>\n",
       "</div>"
      ],
      "text/plain": [
       "   State Name             Capital    Area  Population Largest City \n",
       "0    Karnataka           Bangalore  191791   61130704     Bengaluru\n",
       "1   Tamil Nadu             Chennai  130058   72138958         Tamil\n",
       "2   Telangana            Hyderabad  112077      35004     Hyderabad\n",
       "3  Maharashtra             Mumbai   307713  112372972       Mumbai \n",
       "4       Kerala  Thiruvananthapuram   10000   33387677    Malappuram"
      ]
     },
     "execution_count": 7,
     "metadata": {},
     "output_type": "execute_result"
    }
   ],
   "source": [
    "df.at[4,'Area '] = 10000\n",
    "df"
   ]
  },
  {
   "cell_type": "code",
   "execution_count": 8,
   "metadata": {
    "executionInfo": {
     "elapsed": 12,
     "status": "ok",
     "timestamp": 1632335352777,
     "user": {
      "displayName": "mohan kondle",
      "photoUrl": "https://lh3.googleusercontent.com/a/default-user=s64",
      "userId": "04458732900237689824"
     },
     "user_tz": -330
    },
    "id": "0n2MJNPZsDe8"
   },
   "outputs": [],
   "source": [
    "df = df.set_index('State Name ')"
   ]
  },
  {
   "cell_type": "code",
   "execution_count": 9,
   "metadata": {
    "colab": {
     "base_uri": "https://localhost:8080/",
     "height": 36
    },
    "executionInfo": {
     "elapsed": 15,
     "status": "ok",
     "timestamp": 1632335353781,
     "user": {
      "displayName": "mohan kondle",
      "photoUrl": "https://lh3.googleusercontent.com/a/default-user=s64",
      "userId": "04458732900237689824"
     },
     "user_tz": -330
    },
    "id": "Vdsg6g5BaeOK",
    "outputId": "98bf9677-9437-49d5-d6cb-0b4500a0ef7c"
   },
   "outputs": [
    {
     "data": {
      "application/vnd.google.colaboratory.intrinsic+json": {
       "type": "string"
      },
      "text/plain": [
       "'Malappuram'"
      ]
     },
     "execution_count": 9,
     "metadata": {},
     "output_type": "execute_result"
    }
   ],
   "source": [
    "df['Largest City ']['Kerala']"
   ]
  },
  {
   "cell_type": "code",
   "execution_count": null,
   "metadata": {
    "id": "_0QiJPG_xNKW"
   },
   "outputs": [],
   "source": []
  }
 ],
 "metadata": {
  "colab": {
   "collapsed_sections": [],
   "name": "Pandas_0.ipynb",
   "provenance": []
  },
  "kernelspec": {
   "display_name": "Python 3",
   "language": "python",
   "name": "python3"
  },
  "language_info": {
   "codemirror_mode": {
    "name": "ipython",
    "version": 3
   },
   "file_extension": ".py",
   "mimetype": "text/x-python",
   "name": "python",
   "nbconvert_exporter": "python",
   "pygments_lexer": "ipython3",
   "version": "3.8.8"
  }
 },
 "nbformat": 4,
 "nbformat_minor": 1
}
