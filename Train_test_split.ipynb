{
 "cells": [
  {
   "cell_type": "markdown",
   "metadata": {
    "id": "Dk_I-E6pl05S"
   },
   "source": [
    "# Alexine Studios"
   ]
  },
  {
   "cell_type": "markdown",
   "metadata": {},
   "source": [
    "![Penguin](https://github.com/chiruharshith/Alexine_Studios/blob/main/media/penguine.png?raw=true)\n",
    "\n",
    "The dataset consists of the below 7 columns,\n",
    "\n",
    "- **species:** penguin species (Chinstrap, Adélie, or Gentoo)\n",
    "- **culmen length & depth:** The culmen is the upper ridge of a bird's beak\n",
    "- **flipper_length_mm:** flipper length\n",
    "- **body_mass_g:** body mass\n",
    "- **island:** island name (Dream, Torgersen, or Biscoe)\n",
    "- **sex:** penguin sex"
   ]
  },
  {
   "cell_type": "markdown",
   "metadata": {
    "id": "FhA-4D7SrIpo"
   },
   "source": [
    "## Download Dataset"
   ]
  },
  {
   "cell_type": "code",
   "execution_count": null,
   "metadata": {
    "id": "DrAZGKNorOH8"
   },
   "outputs": [],
   "source": [
    "!mkdir datasets\n",
    "!wget -qq https://github.com/chiruharshith/Alexine_Studios/blob/main/datasets/penguins.csv -P datasets"
   ]
  },
  {
   "cell_type": "markdown",
   "metadata": {
    "id": "chbz3z4oobiG"
   },
   "source": [
    "#### Importing Required Packages"
   ]
  },
  {
   "cell_type": "code",
   "execution_count": 10,
   "metadata": {
    "id": "dhDuIuA5mYrM"
   },
   "outputs": [],
   "source": [
    "import pandas as pd\n",
    "from sklearn.model_selection import train_test_split"
   ]
  },
  {
   "cell_type": "code",
   "execution_count": 11,
   "metadata": {
    "colab": {
     "base_uri": "https://localhost:8080/",
     "height": 143
    },
    "executionInfo": {
     "elapsed": 4183,
     "status": "ok",
     "timestamp": 1619323938927,
     "user": {
      "displayName": "tanuja b",
      "photoUrl": "https://lh3.googleusercontent.com/a-/AOh14Gg9Q6sUC5CBS6NIWyhPbrCA-02jrcvBDs3WpQT_sQ=s64",
      "userId": "04437579799669360422"
     },
     "user_tz": -330
    },
    "id": "Ln7B5AyGoeEb",
    "outputId": "9358d33b-f2d6-4876-8eda-ff1fa084e8b0"
   },
   "outputs": [
    {
     "data": {
      "text/html": [
       "<div>\n",
       "<style scoped>\n",
       "    .dataframe tbody tr th:only-of-type {\n",
       "        vertical-align: middle;\n",
       "    }\n",
       "\n",
       "    .dataframe tbody tr th {\n",
       "        vertical-align: top;\n",
       "    }\n",
       "\n",
       "    .dataframe thead th {\n",
       "        text-align: right;\n",
       "    }\n",
       "</style>\n",
       "<table border=\"1\" class=\"dataframe\">\n",
       "  <thead>\n",
       "    <tr style=\"text-align: right;\">\n",
       "      <th></th>\n",
       "      <th>species</th>\n",
       "      <th>island</th>\n",
       "      <th>culmen_length_mm</th>\n",
       "      <th>culmen_depth_mm</th>\n",
       "      <th>flipper_length_mm</th>\n",
       "      <th>body_mass_g</th>\n",
       "      <th>sex</th>\n",
       "    </tr>\n",
       "  </thead>\n",
       "  <tbody>\n",
       "    <tr>\n",
       "      <th>0</th>\n",
       "      <td>Adelie</td>\n",
       "      <td>Torgersen</td>\n",
       "      <td>39.1</td>\n",
       "      <td>18.7</td>\n",
       "      <td>181.0</td>\n",
       "      <td>3750.0</td>\n",
       "      <td>MALE</td>\n",
       "    </tr>\n",
       "    <tr>\n",
       "      <th>1</th>\n",
       "      <td>Adelie</td>\n",
       "      <td>Torgersen</td>\n",
       "      <td>39.5</td>\n",
       "      <td>17.4</td>\n",
       "      <td>186.0</td>\n",
       "      <td>3800.0</td>\n",
       "      <td>FEMALE</td>\n",
       "    </tr>\n",
       "    <tr>\n",
       "      <th>2</th>\n",
       "      <td>Adelie</td>\n",
       "      <td>Torgersen</td>\n",
       "      <td>40.3</td>\n",
       "      <td>18.0</td>\n",
       "      <td>195.0</td>\n",
       "      <td>3250.0</td>\n",
       "      <td>FEMALE</td>\n",
       "    </tr>\n",
       "  </tbody>\n",
       "</table>\n",
       "</div>"
      ],
      "text/plain": [
       "  species     island  culmen_length_mm  culmen_depth_mm  flipper_length_mm  \\\n",
       "0  Adelie  Torgersen              39.1             18.7              181.0   \n",
       "1  Adelie  Torgersen              39.5             17.4              186.0   \n",
       "2  Adelie  Torgersen              40.3             18.0              195.0   \n",
       "\n",
       "   body_mass_g     sex  \n",
       "0       3750.0    MALE  \n",
       "1       3800.0  FEMALE  \n",
       "2       3250.0  FEMALE  "
      ]
     },
     "execution_count": 11,
     "metadata": {},
     "output_type": "execute_result"
    }
   ],
   "source": [
    "# Load the data\n",
    "df = pd.read_csv('datasets/penguins.csv')\n",
    "df.head(3)"
   ]
  },
  {
   "cell_type": "code",
   "execution_count": 12,
   "metadata": {
    "id": "FoeQu6r6ogol"
   },
   "outputs": [],
   "source": [
    "# Storing the data and target values in two seperate variable x and y\n",
    "x = df.drop(['species'], axis=1)\n",
    "y = df['species']"
   ]
  },
  {
   "cell_type": "code",
   "execution_count": 13,
   "metadata": {
    "colab": {
     "base_uri": "https://localhost:8080/"
    },
    "executionInfo": {
     "elapsed": 4178,
     "status": "ok",
     "timestamp": 1619323938930,
     "user": {
      "displayName": "tanuja b",
      "photoUrl": "https://lh3.googleusercontent.com/a-/AOh14Gg9Q6sUC5CBS6NIWyhPbrCA-02jrcvBDs3WpQT_sQ=s64",
      "userId": "04437579799669360422"
     },
     "user_tz": -330
    },
    "id": "pR_gSzIVdW95",
    "outputId": "55b2d6af-26b2-48a4-aab2-6d91a09ff0d5"
   },
   "outputs": [
    {
     "data": {
      "text/plain": [
       "((344, 6), (344,))"
      ]
     },
     "execution_count": 13,
     "metadata": {},
     "output_type": "execute_result"
    }
   ],
   "source": [
    "x.shape, y.shape"
   ]
  },
  {
   "cell_type": "code",
   "execution_count": 14,
   "metadata": {
    "id": "UcfuFy38ouZ4"
   },
   "outputs": [],
   "source": [
    "# We are splitting the data into train and test sets in the ratio of 80:20 \n",
    "# i.e 80 % of data is train set and 20 % of the data is test set\n",
    "x_train, x_test, y_train, y_test = train_test_split(x, y, test_size = 0.2)"
   ]
  },
  {
   "cell_type": "code",
   "execution_count": 15,
   "metadata": {
    "colab": {
     "base_uri": "https://localhost:8080/"
    },
    "executionInfo": {
     "elapsed": 4172,
     "status": "ok",
     "timestamp": 1619323938933,
     "user": {
      "displayName": "tanuja b",
      "photoUrl": "https://lh3.googleusercontent.com/a-/AOh14Gg9Q6sUC5CBS6NIWyhPbrCA-02jrcvBDs3WpQT_sQ=s64",
      "userId": "04437579799669360422"
     },
     "user_tz": -330
    },
    "id": "ArVtMUeXo2Ch",
    "outputId": "52aa99af-e31c-41ef-a214-6d3d68857108"
   },
   "outputs": [
    {
     "data": {
      "text/plain": [
       "((275, 6), (69, 6), (275,), (69,))"
      ]
     },
     "execution_count": 15,
     "metadata": {},
     "output_type": "execute_result"
    }
   ],
   "source": [
    "x_train.shape, x_test.shape, y_train.shape, y_test.shape"
   ]
  },
  {
   "cell_type": "markdown",
   "metadata": {
    "id": "Qh5YfFjgp-7e"
   },
   "source": [
    "Know more about [Train_Test_Split()](https://scikit-learn.org/stable/modules/generated/sklearn.model_selection.train_test_split.html)"
   ]
  }
 ],
 "metadata": {
  "colab": {
   "collapsed_sections": [],
   "name": "Demo_Train_test_split_Penguins.ipynb",
   "provenance": []
  },
  "kernelspec": {
   "display_name": "Python 3",
   "language": "python",
   "name": "python3"
  },
  "language_info": {
   "codemirror_mode": {
    "name": "ipython",
    "version": 3
   },
   "file_extension": ".py",
   "mimetype": "text/x-python",
   "name": "python",
   "nbconvert_exporter": "python",
   "pygments_lexer": "ipython3",
   "version": "3.8.8"
  }
 },
 "nbformat": 4,
 "nbformat_minor": 1
}
