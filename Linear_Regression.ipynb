{
 "cells": [
  {
   "cell_type": "markdown",
   "metadata": {
    "id": "Dk_I-E6pl05S"
   },
   "source": [
    "# Alexine Studios"
   ]
  },
  {
   "cell_type": "markdown",
   "metadata": {
    "id": "FhA-4D7SrIpo"
   },
   "source": [
    "## Download Dataset"
   ]
  },
  {
   "cell_type": "code",
   "execution_count": null,
   "metadata": {
    "id": "DrAZGKNorOH8"
   },
   "outputs": [],
   "source": [
    "!mkdir datasets\n",
    "!wget -qq https://raw.githubusercontent.com/chiruharshith/Alexine_Studios/main/datasets/linear_regression_sample.csv -P datasets"
   ]
  },
  {
   "cell_type": "markdown",
   "metadata": {
    "id": "pkcxp0yJDgSY"
   },
   "source": [
    "### Load the Dataset"
   ]
  },
  {
   "cell_type": "code",
   "execution_count": null,
   "metadata": {
    "id": "6WqQ4stgLwpo"
   },
   "outputs": [],
   "source": [
    "import pandas as pd\n",
    "data = pd.read_csv(\"datasets/linear_regression_sample.csv\")\n",
    "data.head()"
   ]
  },
  {
   "cell_type": "code",
   "execution_count": null,
   "metadata": {
    "id": "FVZ9pE2VS8C6"
   },
   "outputs": [],
   "source": [
    "X = data.X.values\n",
    "y = data.y.values"
   ]
  },
  {
   "cell_type": "code",
   "execution_count": null,
   "metadata": {},
   "outputs": [],
   "source": [
    "print(X.shape)"
   ]
  },
  {
   "cell_type": "code",
   "execution_count": null,
   "metadata": {
    "colab": {
     "base_uri": "https://localhost:8080/"
    },
    "executionInfo": {
     "elapsed": 1020,
     "status": "ok",
     "timestamp": 1620466037761,
     "user": {
      "displayName": "Harshith a",
      "photoUrl": "https://lh3.googleusercontent.com/a-/AOh14Gg1ydY-8sWUdly1ac69J0vS3b5r75JtQ5GIvAJc=s64",
      "userId": "11844310727840414540"
     },
     "user_tz": -330
    },
    "id": "vNVXkvsqTWBv",
    "outputId": "c4d29fe3-222b-4598-ae6a-d2d1e2da0dd3"
   },
   "outputs": [],
   "source": [
    "print(y.shape)"
   ]
  },
  {
   "cell_type": "markdown",
   "metadata": {
    "id": "3EUduG65bHO9"
   },
   "source": [
    "### Perform Linear Regression"
   ]
  },
  {
   "cell_type": "markdown",
   "metadata": {
    "id": "KchnjnOIXkoy"
   },
   "source": [
    "#### 1. Take X values from the data and reshape to 2-d array\n",
    "\n",
    "#### 2. Take y values from the data\n",
    "\n",
    "**Hint:** reshape(-1,1)"
   ]
  },
  {
   "cell_type": "code",
   "execution_count": null,
   "metadata": {
    "colab": {
     "base_uri": "https://localhost:8080/"
    },
    "executionInfo": {
     "elapsed": 1138,
     "status": "ok",
     "timestamp": 1620466918852,
     "user": {
      "displayName": "Harshith a",
      "photoUrl": "https://lh3.googleusercontent.com/a-/AOh14Gg1ydY-8sWUdly1ac69J0vS3b5r75JtQ5GIvAJc=s64",
      "userId": "11844310727840414540"
     },
     "user_tz": -330
    },
    "id": "ZznpOVk3XkPo",
    "outputId": "49f47c11-d2c2-4bdf-df44-03a2ddbf29d8"
   },
   "outputs": [],
   "source": [
    "X = X.reshape(-1,1)\n",
    "X.shape"
   ]
  },
  {
   "cell_type": "markdown",
   "metadata": {
    "id": "osTEwthXQJPJ"
   },
   "source": [
    "#### Create an object of Linear regression model and fit X and y given in data\n",
    "**Hint:** Refer to the [Linear Regression Model](https://scikit-learn.org/0.20/modules/generated/sklearn.linear_model.LinearRegression.html)"
   ]
  },
  {
   "cell_type": "code",
   "execution_count": null,
   "metadata": {
    "id": "G4dIis8RbLna"
   },
   "outputs": [],
   "source": [
    "from sklearn.linear_model import LinearRegression\n",
    "obj = LinearRegression()"
   ]
  },
  {
   "cell_type": "code",
   "execution_count": null,
   "metadata": {
    "colab": {
     "base_uri": "https://localhost:8080/"
    },
    "executionInfo": {
     "elapsed": 1150,
     "status": "ok",
     "timestamp": 1620467172497,
     "user": {
      "displayName": "Harshith a",
      "photoUrl": "https://lh3.googleusercontent.com/a-/AOh14Gg1ydY-8sWUdly1ac69J0vS3b5r75JtQ5GIvAJc=s64",
      "userId": "11844310727840414540"
     },
     "user_tz": -330
    },
    "id": "biI322T9Xrgu",
    "outputId": "9175719e-648a-43d6-c57d-780941463da4"
   },
   "outputs": [],
   "source": [
    "obj"
   ]
  },
  {
   "cell_type": "code",
   "execution_count": null,
   "metadata": {
    "colab": {
     "base_uri": "https://localhost:8080/"
    },
    "executionInfo": {
     "elapsed": 980,
     "status": "ok",
     "timestamp": 1620466974520,
     "user": {
      "displayName": "Harshith a",
      "photoUrl": "https://lh3.googleusercontent.com/a-/AOh14Gg1ydY-8sWUdly1ac69J0vS3b5r75JtQ5GIvAJc=s64",
      "userId": "11844310727840414540"
     },
     "user_tz": -330
    },
    "id": "BnuFQz7CUMeU",
    "outputId": "466fa6f5-2c17-4642-e02e-169e7e4cc675"
   },
   "outputs": [],
   "source": [
    "obj.fit(X,y)"
   ]
  },
  {
   "cell_type": "markdown",
   "metadata": {
    "id": "K1dm6cS5QrH0"
   },
   "source": [
    "#### Using the model predict on the same 'X' data "
   ]
  },
  {
   "cell_type": "code",
   "execution_count": null,
   "metadata": {
    "colab": {
     "base_uri": "https://localhost:8080/"
    },
    "executionInfo": {
     "elapsed": 1153,
     "status": "ok",
     "timestamp": 1620467285694,
     "user": {
      "displayName": "Harshith a",
      "photoUrl": "https://lh3.googleusercontent.com/a-/AOh14Gg1ydY-8sWUdly1ac69J0vS3b5r75JtQ5GIvAJc=s64",
      "userId": "11844310727840414540"
     },
     "user_tz": -330
    },
    "id": "PT0Z5aBsQoLf",
    "outputId": "02264224-20e6-4f7e-c71a-d6f968248d7c"
   },
   "outputs": [],
   "source": [
    "pred = obj.predict(X)\n",
    "pred.shape"
   ]
  },
  {
   "cell_type": "markdown",
   "metadata": {
    "id": "jPixgs1wR_VG"
   },
   "source": [
    "#### Plot the predicted line\n",
    "\n",
    "\n",
    "1.   Using X and y scatter the points\n",
    "2.   Using X and predictions plot the line on the points\n",
    "\n"
   ]
  },
  {
   "cell_type": "code",
   "execution_count": null,
   "metadata": {
    "colab": {
     "base_uri": "https://localhost:8080/",
     "height": 268
    },
    "executionInfo": {
     "elapsed": 1151,
     "status": "ok",
     "timestamp": 1620467524258,
     "user": {
      "displayName": "Harshith a",
      "photoUrl": "https://lh3.googleusercontent.com/a-/AOh14Gg1ydY-8sWUdly1ac69J0vS3b5r75JtQ5GIvAJc=s64",
      "userId": "11844310727840414540"
     },
     "user_tz": -330
    },
    "id": "KFVd0Gt4R-nw",
    "outputId": "a9c3fea2-75e5-4fe2-cfae-9a4a04a80a54"
   },
   "outputs": [],
   "source": [
    "import matplotlib.pyplot as plt\n",
    "\n",
    "plt.scatter(X, y)\n",
    "plt.plot(X, pred, color='red')\n",
    "plt.show()"
   ]
  },
  {
   "cell_type": "code",
   "execution_count": null,
   "metadata": {},
   "outputs": [],
   "source": []
  }
 ],
 "metadata": {
  "colab": {
   "collapsed_sections": [],
   "name": "U1W2_05_Linear_Regression.ipynb",
   "provenance": []
  },
  "kernelspec": {
   "display_name": "Python 3",
   "language": "python",
   "name": "python3"
  },
  "language_info": {
   "codemirror_mode": {
    "name": "ipython",
    "version": 3
   },
   "file_extension": ".py",
   "mimetype": "text/x-python",
   "name": "python",
   "nbconvert_exporter": "python",
   "pygments_lexer": "ipython3",
   "version": "3.8.8"
  }
 },
 "nbformat": 4,
 "nbformat_minor": 1
}
