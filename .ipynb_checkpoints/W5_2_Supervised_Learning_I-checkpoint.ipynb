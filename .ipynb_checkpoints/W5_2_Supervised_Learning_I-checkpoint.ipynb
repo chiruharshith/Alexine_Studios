{
 "cells": [
  {
   "cell_type": "markdown",
   "metadata": {
    "id": "Dq3WVvu7skLd"
   },
   "source": [
    "# Certified Data Science Engineer\n",
    "## A Program by TalentSprint"
   ]
  },
  {
   "cell_type": "markdown",
   "metadata": {
    "id": "Jw4QHJlfsSF4"
   },
   "source": [
    "# Objectives\n",
    "\n",
    "At the end of the experiment you will be able to understand\n",
    "\n",
    "* Linear regression model\n",
    "* Logistic regression model"
   ]
  },
  {
   "cell_type": "markdown",
   "metadata": {
    "id": "Zj8WkncabhlY"
   },
   "source": [
    "##Datasets used in this experiment\n",
    "* Fruits Dataset\n",
    "* Simple Pendulum Dataset\n",
    "* Stock market Dataset"
   ]
  },
  {
   "cell_type": "markdown",
   "metadata": {
    "id": "yUA7qPx9NrFq"
   },
   "source": [
    "### Setup Steps:"
   ]
  },
  {
   "cell_type": "code",
   "execution_count": null,
   "metadata": {
    "id": "6dj50zGDNvHz"
   },
   "outputs": [],
   "source": [
    "#@title Please enter your registration id to start:  { run: \"auto\", display-mode: \"form\" }\n",
    "Id = \"PL-0002\" #@param {type:\"string\"}\n"
   ]
  },
  {
   "cell_type": "code",
   "execution_count": null,
   "metadata": {
    "id": "OrXIQ4vVNyhi"
   },
   "outputs": [],
   "source": [
    "#@title Please enter your password (normally your phone number) to continue: { run: \"auto\", display-mode: \"form\" }\n",
    "password = \"9959040\" #@param {type:\"string\"}\n"
   ]
  },
  {
   "cell_type": "code",
   "execution_count": null,
   "metadata": {
    "cellView": "form",
    "id": "lkeaFEdvJmfj"
   },
   "outputs": [],
   "source": [
    "#@title Run this cell to complete the setup for this Notebook\n",
    "from IPython import get_ipython\n",
    "\n",
    "ipython = get_ipython()\n",
    "  \n",
    "notebook=\"W5_2_Supervised_Learning_I\" #name of the notebook\n",
    "\n",
    "def setup():\n",
    "    from IPython.display import HTML, display\n",
    "    ipython.magic(\"sx wget https://cdn.iiith.talentsprint.com/CDSE_experiments_data/fruits.csv\")\n",
    "    ipython.magic(\"sx wget https://www.dropbox.com/s/vu7xkf6j3v9p5np/AIML_DS_REGR01_SIMPLEPENDULUMOSCILLATIONDATA.txt.zip?dl=1\")\n",
    "    ipython.magic(\"sx unzip AIML_DS_REGR01_SIMPLEPENDULUMOSCILLATIONDATA.txt.zip?dl=1\")\n",
    "    display(HTML('<script src=\"https://dashboard.talentsprint.com/aiml/record_ip.html?traineeId={0}&recordId={1}\"></script>'.format(getId(),submission_id)))\n",
    "    print(\"Setup completed successfully\")\n",
    "    return\n",
    "\n",
    "def submit_notebook():\n",
    "    ipython.magic(\"notebook -e \"+ notebook + \".ipynb\")\n",
    "    \n",
    "    import requests, json, base64, datetime\n",
    "\n",
    "    url = \"https://dashboard.talentsprint.com/xp/app/save_notebook_attempts\"\n",
    "    if not submission_id:\n",
    "      data = {\"id\" : getId(), \"notebook\" : notebook, \"mobile\" : getPassword()}\n",
    "      r = requests.post(url, data = data)\n",
    "      r = json.loads(r.text)\n",
    "\n",
    "      if r[\"status\"] == \"Success\":\n",
    "          return r[\"record_id\"]\n",
    "      elif \"err\" in r:        \n",
    "        print(r[\"err\"])\n",
    "        return None        \n",
    "      else:\n",
    "        print (\"Something is wrong, the notebook will not be submitted for grading\")\n",
    "        return None\n",
    "    \n",
    "    elif getAnswer1() and getAnswer2() and getComplexity() and getConcepts() and getOnlineSupport():\n",
    "      f = open(notebook + \".ipynb\", \"rb\")\n",
    "      file_hash = base64.b64encode(f.read())\n",
    "\n",
    "      data = {\"complexity\" : Complexity,  \"concepts\" : Concepts, \"record_id\" : submission_id, \n",
    "              \"answer1\" : Answer1,  \"answer2\" : Answer2, \"id\" : Id, \"file_hash\" : file_hash,\n",
    "              \"notebook\" : notebook, \"online_support\" : Online_support}\n",
    "\n",
    "      r = requests.post(url, data = data)\n",
    "      r = json.loads(r.text)\n",
    "      if \"err\" in r:        \n",
    "        print(r[\"err\"])\n",
    "        return None   \n",
    "      else:\n",
    "        print(\"Your submission is successful.\")\n",
    "        print(\"Ref Id:\", submission_id)\n",
    "        print(\"Date of submission: \", r[\"date\"])\n",
    "        print(\"Time of submission: \", r[\"time\"])\n",
    "        #print(\"For any queries/discrepancies, please connect with mentors through the chat icon in LMS dashboard.\")\n",
    "        return submission_id\n",
    "    else: submission_id\n",
    "    \n",
    "\n",
    "def getComplexity():\n",
    "  try:\n",
    "    if not Complexity:\n",
    "      raise NameError\n",
    "    else:\n",
    "      return Complexity\n",
    "  except NameError:\n",
    "    print (\"Please answer Complexity Question\")\n",
    "    return None\n",
    "  \n",
    "def getConcepts():\n",
    "  try:\n",
    "    if not Concepts:\n",
    "      raise NameError\n",
    "    else:\n",
    "      return Concepts\n",
    "  except NameError:\n",
    "    print (\"Please answer Concepts Question\")\n",
    "    return None\n",
    "  \n",
    "  \n",
    "  \n",
    "def getOnlineSupport():\n",
    "  try:\n",
    "    if not Online_support:\n",
    "      raise NameError\n",
    "    else:\n",
    "      return Online_support\n",
    "  except NameError:\n",
    "    print (\"Please answer Online support Question\")\n",
    "    return None\n",
    "\n",
    "def getAnswer1():\n",
    "  try:\n",
    "    if not Answer1:\n",
    "      raise NameError \n",
    "    else: \n",
    "      return Answer1\n",
    "  except NameError:\n",
    "    print (\"Please answer Question\")\n",
    "    return None\n",
    "  \n",
    "def getAnswer2():\n",
    "  try:\n",
    "    if not Answer2:\n",
    "      raise NameError \n",
    "    else: \n",
    "      return Answer2\n",
    "  except NameError:\n",
    "    print (\"Please answer Question\")\n",
    "    return None\n",
    "\n",
    "def getId():\n",
    "  try: \n",
    "    return Id if Id else None\n",
    "  except NameError:\n",
    "    return None\n",
    "\n",
    "def getPassword():\n",
    "  try:\n",
    "    return password if password else None\n",
    "  except NameError:\n",
    "    return None\n",
    "\n",
    "submission_id = None\n",
    "### Setup \n",
    "if getPassword() and getId():\n",
    "  submission_id = submit_notebook()\n",
    "  if submission_id:\n",
    "    setup() \n",
    "else:\n",
    "  print (\"Please complete Id and Password cells before running setup\")\n",
    "\n"
   ]
  },
  {
   "cell_type": "markdown",
   "metadata": {
    "id": "7S_-q5brMd-P"
   },
   "source": [
    "#### Exercise 01: Read the data and perform the following:\n",
    "\n",
    "1. Load the **Fruits dataset**\n",
    "2. Print the maximum and minimum **`weights`** of an orange\n",
    "3. Print the maximum and minimum **`sizes`** of an apple"
   ]
  },
  {
   "cell_type": "code",
   "execution_count": null,
   "metadata": {
    "id": "MKFnL9bLMd-a"
   },
   "outputs": [],
   "source": [
    "import pandas as pd\n",
    "import numpy as np\n",
    "import matplotlib.pyplot as plt"
   ]
  },
  {
   "cell_type": "code",
   "execution_count": null,
   "metadata": {
    "id": "vPSeF4fw3LBr"
   },
   "outputs": [],
   "source": [
    "df = pd.read_csv(\"/content/fruits.csv\")\n",
    "df.head()"
   ]
  },
  {
   "cell_type": "code",
   "execution_count": null,
   "metadata": {
    "id": "HevpfTn-YDQZ"
   },
   "outputs": [],
   "source": [
    "df[df['Class']=='orange']['Weight'].max(), df[df['Class']=='orange']['Weight'].min()"
   ]
  },
  {
   "cell_type": "code",
   "execution_count": null,
   "metadata": {
    "id": "vN-67ub-YNUE"
   },
   "outputs": [],
   "source": [
    "df[df['Class']=='apple']['Size'].max(), df[df['Class']=='apple']['Size'].min()"
   ]
  },
  {
   "cell_type": "code",
   "execution_count": null,
   "metadata": {
    "id": "4AuaHBPgX7D6"
   },
   "outputs": [],
   "source": [
    "df.groupby('Class').max()"
   ]
  },
  {
   "cell_type": "code",
   "execution_count": null,
   "metadata": {
    "id": "ghPl57KrXwL9"
   },
   "outputs": [],
   "source": [
    "df.groupby('Class').min()"
   ]
  },
  {
   "cell_type": "code",
   "execution_count": null,
   "metadata": {
    "id": "Uj0yYbbJXLtq"
   },
   "outputs": [],
   "source": [
    "df[df['Class']=='orange'].describe()"
   ]
  },
  {
   "cell_type": "markdown",
   "metadata": {
    "id": "oH2AmktaMd-t"
   },
   "source": [
    "#### Exercise 02: Classify the Fruits based on Weight and Size\n",
    "\n",
    "1. From the above observations, write a function (*`classify_fruit`*) to classify a given fruit\n",
    "\n",
    "  Example: For a given fruit, if its weight and size are greater than the maximum weight and size of an Orange then consider it as an Apple, else an Orange.\n",
    "\n",
    "2. For the given list of **`test_fruits`** call the *`classify_fruit`* function and classify the samples into respective fruits"
   ]
  },
  {
   "cell_type": "code",
   "execution_count": null,
   "metadata": {
    "id": "r9bwcu40Yup2"
   },
   "outputs": [],
   "source": [
    "weight_threshold = df[df['Class']=='orange']['Weight'].max()\n",
    "size_threshold = df[df['Class']=='orange']['Size'].max()"
   ]
  },
  {
   "cell_type": "code",
   "execution_count": null,
   "metadata": {
    "id": "VGmDzsi3hyIs"
   },
   "outputs": [],
   "source": [
    "def classify_fruit(weight,size):\n",
    "  if (weight > weight_threshold) and (size > size_threshold):\n",
    "    return \"Apple\"\n",
    "  else:\n",
    "    return \"Orange\""
   ]
  },
  {
   "cell_type": "code",
   "execution_count": null,
   "metadata": {
    "id": "ybY-mYczh1Mk"
   },
   "outputs": [],
   "source": [
    "test_fruits = [(62,3.25),(68,4.09),(74,5.13),(67,4.8),(72,6.2)]\n",
    "\n",
    "for each_param in test_fruits:\n",
    "  weight, size = each_param\n",
    "  print(\"Weight: \", weight)\n",
    "  print(\"Size: \", size)\n",
    "  print(classify_fruit(weight, size))\n",
    "  print()"
   ]
  },
  {
   "cell_type": "code",
   "execution_count": null,
   "metadata": {
    "id": "4J5vjWFHMd-v"
   },
   "outputs": [],
   "source": [
    "def classify_fruit(parameters):\n",
    "  weight,size = parameters[0], parameters[1]\n",
    "  if (weight > weight_threshold) and (size > size_threshold):\n",
    "    return \"Apple\"\n",
    "  else:\n",
    "    return \"Orange\""
   ]
  },
  {
   "cell_type": "code",
   "execution_count": null,
   "metadata": {
    "id": "XINXWX-nMd-0"
   },
   "outputs": [],
   "source": [
    "test_fruits = [(62,3.25),(68,4.09),(74,5.13),(67,4.8),(72,6.2)]\n",
    "# YOUR CODE HERE to classify the fruits for test_fruits using classify_fruit function\n",
    "predictions = [classify_fruit(each_param) for each_param in test_fruits]\n",
    "predictions"
   ]
  },
  {
   "cell_type": "markdown",
   "metadata": {
    "id": "sz1IKrLbMd-6"
   },
   "source": [
    "#### Exercise 03: Given a series of 2D points below, Find the next 4 elements and plot all the 10 points"
   ]
  },
  {
   "cell_type": "code",
   "execution_count": null,
   "metadata": {
    "id": "fHR2r2jZMd-7"
   },
   "outputs": [],
   "source": [
    "D = {1:1,\n",
    "     2:4,\n",
    "     3:6,\n",
    "     4:8,\n",
    "     5:10,\n",
    "     6:12}\n",
    "\n",
    "plt.scatter(D.keys(), D.values(), c='r');"
   ]
  },
  {
   "cell_type": "code",
   "execution_count": null,
   "metadata": {
    "id": "KrjD7ZWlbNgL"
   },
   "outputs": [],
   "source": [
    "## y = f(x)\n",
    "\n",
    "def f(x):\n",
    "  return 2*x\n",
    "\n",
    "for x in range(7,11):\n",
    "  # y = f(x)\n",
    "  D[x] = f(x)\n",
    "\n",
    "D"
   ]
  },
  {
   "cell_type": "code",
   "execution_count": null,
   "metadata": {
    "id": "SyqJMcuMcrkn"
   },
   "outputs": [],
   "source": [
    "plt.scatter(D.keys(), D.values());"
   ]
  },
  {
   "cell_type": "markdown",
   "metadata": {
    "id": "c_kVo-QeMd_D"
   },
   "source": [
    "#### Exercise 04: Regression Problem\n",
    "\n",
    "From the below-given list, find the next element by defining the function f(x).\n",
    "\n",
    "**y = f(x)**"
   ]
  },
  {
   "cell_type": "code",
   "execution_count": null,
   "metadata": {
    "id": "OBapthw-c0v0"
   },
   "outputs": [],
   "source": [
    "c = [1,3,9,19,33,51,73,99,129,163,201]\n",
    "plt.plot(c);"
   ]
  },
  {
   "cell_type": "code",
   "execution_count": null,
   "metadata": {
    "id": "gvRe9Tq9Md_E"
   },
   "outputs": [],
   "source": [
    "def f(x):\n",
    "  # y = mx^2 + c\n",
    "  y = 2*(x**2) + 1\n",
    "  return y\n",
    "\n",
    "# Find the next element\n",
    "c.append(f(11))\n",
    "plt.plot(c);"
   ]
  },
  {
   "cell_type": "markdown",
   "metadata": {
    "id": "ythCfKQ1Md_J"
   },
   "source": [
    "#### Exercise 05: Perform the following:\n",
    "\n",
    "\n",
    "1.   Create an array **'x'** of range 1-10  \n",
    "    Hint: `np.arange`\n",
    "2.   Get y values with squares of x\n",
    "3.   Display a line plot of the points of x and y\n",
    "4.   Display any two points on the curve using a **scatterplot**"
   ]
  },
  {
   "cell_type": "code",
   "execution_count": null,
   "metadata": {
    "id": "3vfJEIMcxGHb"
   },
   "outputs": [],
   "source": [
    "x = np.arange(1,11)\n",
    "y = x**2\n",
    "plt.plot(x,y);"
   ]
  },
  {
   "cell_type": "code",
   "execution_count": null,
   "metadata": {
    "id": "t9FCBX4ldus9"
   },
   "outputs": [],
   "source": [
    "p1 = [x[2], x[-2]]\n",
    "p2 = [y[2], y[-2]]\n",
    "\n",
    "plt.plot(x,y)\n",
    "plt.scatter(p1, p2, c='r')\n",
    "plt.show()"
   ]
  },
  {
   "cell_type": "markdown",
   "metadata": {
    "id": "tHTIYQ7oMd_Q"
   },
   "source": [
    "#### Exercise 06: Perform Linear regression with x1 and y1 given below\n",
    "\n",
    "1. Import and Initialize the linear regression model from **`sklearn`**\n",
    "2. Convert the provided **`x1 and y1`** to 2D array by reshaping\n",
    "\n",
    "    **Hint:** `reshape(-1,1)`"
   ]
  },
  {
   "cell_type": "code",
   "execution_count": null,
   "metadata": {
    "id": "Z7vSVzPgMd_R"
   },
   "outputs": [],
   "source": [
    "x1 = [-10. ,  -7.14285714, -4.28571429,  -1.42857143, 1.42857143, 4.28571429, 7.14285714, 10.]\n",
    "y1 = [-11.80967958, -16.42165341, -6.39591565, -0.44834386, -0.17790086, 6.50222179, 19.19506584, 23.27346142]\n",
    "\n",
    "features = np.array(x1)\n",
    "targets = np.array(y1)\n",
    "features.shape, targets.shape"
   ]
  },
  {
   "cell_type": "code",
   "execution_count": null,
   "metadata": {
    "id": "vT9VBy-Uehuz"
   },
   "outputs": [],
   "source": [
    "from sklearn.linear_model import LinearRegression\n",
    "lr = LinearRegression()"
   ]
  },
  {
   "cell_type": "code",
   "execution_count": null,
   "metadata": {
    "id": "CWg5GWVJe7Bb"
   },
   "outputs": [],
   "source": [
    "features = features.reshape(-1,1)"
   ]
  },
  {
   "cell_type": "code",
   "execution_count": null,
   "metadata": {
    "id": "bzKNfHIsfckY"
   },
   "outputs": [],
   "source": [
    "features.shape, targets.shape"
   ]
  },
  {
   "cell_type": "markdown",
   "metadata": {
    "id": "NxgIfC8WMd_W"
   },
   "source": [
    "#### Exercise 07: For the above initialized linear regression, perform the following:\n",
    "\n",
    "1. Fit the linear regression model with **`x1 and y1`**\n",
    "2. Predict the linear regression model for **`x1`**"
   ]
  },
  {
   "cell_type": "code",
   "execution_count": null,
   "metadata": {
    "id": "8gY-yvzbfeJ7"
   },
   "outputs": [],
   "source": [
    "lr.fit(features, targets)"
   ]
  },
  {
   "cell_type": "code",
   "execution_count": null,
   "metadata": {
    "id": "GcSHUV1LMd_X"
   },
   "outputs": [],
   "source": [
    "predictions = lr.predict(features)"
   ]
  },
  {
   "cell_type": "markdown",
   "metadata": {
    "id": "-uXNdIIgMd_b"
   },
   "source": [
    "#### Exercise 08: For the above linear regression model, plot the regression line\n",
    "\n",
    "1.   Scatter the points of **`x1 and y1`**\n",
    "2.   Plot the regression line over the points using **`x1 and predictions`**\n",
    "\n"
   ]
  },
  {
   "cell_type": "code",
   "execution_count": null,
   "metadata": {
    "id": "bR9HeXzKMd_c"
   },
   "outputs": [],
   "source": [
    "plt.scatter(features, targets)\n",
    "plt.plot(features, predictions, c='r')\n",
    "plt.show()"
   ]
  },
  {
   "cell_type": "markdown",
   "metadata": {
    "id": "rgwLFniyMd_i"
   },
   "source": [
    "#### Exercise 09: Simple Pendulum Oscillation Data\n",
    "\n",
    "*   Perform a scatter plot between the **`l and t`** values from the data given below to check whether they suitable for regression \n",
    "\n"
   ]
  },
  {
   "cell_type": "code",
   "execution_count": null,
   "metadata": {
    "id": "2IXwEcBJMd_k"
   },
   "outputs": [],
   "source": [
    "data = pd.read_csv(\"AIML_DS_REGR01_SIMPLEPENDULUMOSCILLATIONDATA.txt\", sep=\" \", header=None, names=['l', 't'])\n",
    "data.head()"
   ]
  },
  {
   "cell_type": "code",
   "execution_count": null,
   "metadata": {
    "id": "YwrajlaQMd_q"
   },
   "outputs": [],
   "source": [
    "plt.scatter(data['l'], data['t']);"
   ]
  },
  {
   "cell_type": "markdown",
   "metadata": {
    "id": "PXoHs_vVMd_x"
   },
   "source": [
    "#### Exercise 10: Apply the simple pendulum domain formula   $l ∝ t^2$\n",
    "\n",
    "*  Perform a scatter plot between the $l$ ***and*** $t^2$ and check if there is any change in the pattern\n",
    "\n",
    "**Hint:** Create a new column containing the $t^2$ values"
   ]
  },
  {
   "cell_type": "code",
   "execution_count": null,
   "metadata": {
    "id": "MOMedkFlMd_z"
   },
   "outputs": [],
   "source": [
    "data['tsq'] = data['t'] **2\n",
    "data.head()"
   ]
  },
  {
   "cell_type": "code",
   "execution_count": null,
   "metadata": {
    "id": "l8YYUH1oGu_Q"
   },
   "outputs": [],
   "source": [
    "plt.scatter(data['l'], data['tsq']);"
   ]
  },
  {
   "cell_type": "markdown",
   "metadata": {
    "id": "QSV9ofBeMd_5"
   },
   "source": [
    "#### Exercise 11: We see that points are arranged linearly after applying the simple pendulum domain formula\n",
    "\n",
    "1.  Perform linear regression on $l$ ***and*** $t^2$ values\n",
    "2.  Plot a regression line using ***$l$ and predictions***\n",
    "\n",
    "**Hint:** $predictions = model.predict(l)$"
   ]
  },
  {
   "cell_type": "code",
   "execution_count": null,
   "metadata": {
    "id": "FkaAWSdEMd_6"
   },
   "outputs": [],
   "source": [
    "regr = LinearRegression()\n",
    "l = np.array(data['l']).reshape(-1,1)\n",
    "tsq = np.array(data['tsq']).reshape(-1,1)\n",
    "\n",
    "regr.fit(l, tsq)\n",
    "pred_t = regr.predict(l)\n",
    "\n",
    "plt.scatter(l, tsq,  color='black')\n",
    "plt.plot(l, pred_t, color='red', linewidth=3)\n",
    "\n",
    "plt.show()"
   ]
  },
  {
   "cell_type": "markdown",
   "metadata": {
    "id": "eXAeXJBUMd_-"
   },
   "source": [
    "#### Exercise 12: Dataset of the Stock Market is given below, *understand the relationship* between each of the columns by plotting them\n",
    "\n",
    "1. Perform a scatter plot between **Stock_Index_Price** and **Interest_rate**\n",
    "2. Perform a scatter plot between **Stock_Index_Price** and **Unemployment_Rate**"
   ]
  },
  {
   "cell_type": "code",
   "execution_count": null,
   "metadata": {
    "id": "bSmZQ-DoMd__"
   },
   "outputs": [],
   "source": [
    "Stock_Market = {\n",
    "                'Interest_Rate': [2.75,2.5,2.5,2.5,2.5,2.5,2.5,2.25,2.25,2.25,2,2,2,1.75,1.75,1.75,1.75,1.75,1.75,1.75,1.75,1.75,1.75,1.75],\n",
    "                'Unemployment_Rate': [5.3,5.3,5.3,5.3,5.4,5.6,5.5,5.5,5.5,5.6,5.7,5.9,6,5.9,5.8,6.1,6.2,6.1,6.1,6.1,5.9,6.2,6.2,6.1],\n",
    "                'Stock_Index_Price': [1464,1394,1357,1293,1256,1254,1234,1195,1159,1167,1130,1075,1047,965,943,958,971,949,884,866,876,822,704,719]        \n",
    "                }\n",
    "\n",
    "df = pd.DataFrame(Stock_Market,columns=['Interest_Rate','Unemployment_Rate','Stock_Index_Price']) \n",
    "\n",
    "print(df.shape)\n",
    "df.head()"
   ]
  },
  {
   "cell_type": "code",
   "execution_count": null,
   "metadata": {
    "id": "zlGYpNW5HRxi"
   },
   "outputs": [],
   "source": [
    "plt.scatter(df['Stock_Index_Price'],df['Interest_Rate'])\n",
    "plt.xlabel('Stock Price')\n",
    "plt.ylabel('Interest Rate')\n",
    "plt.show()"
   ]
  },
  {
   "cell_type": "code",
   "execution_count": null,
   "metadata": {
    "id": "RDPNcGMwMeAE"
   },
   "outputs": [],
   "source": [
    "plt.scatter(df['Stock_Index_Price'],df['Unemployment_Rate'])\n",
    "plt.xlabel('Stock Price')\n",
    "plt.ylabel('Unemployment Rate')\n",
    "plt.show()"
   ]
  },
  {
   "cell_type": "code",
   "execution_count": null,
   "metadata": {
    "id": "GoHErZgGMeAJ"
   },
   "outputs": [],
   "source": [
    "# YOUR OBSERVATIONS/INSIGHTS HERE\n",
    "\n",
    "# STOCK PRICE IS INCREASING WITH INTEREST RATE AND DECREASING WITH UNEMPLOYMENT RATE"
   ]
  },
  {
   "cell_type": "markdown",
   "metadata": {
    "id": "JKe5kNrhMeAO"
   },
   "source": [
    "#### Exercise 13: Split the data\n",
    "\n",
    "\n",
    "\n",
    "1.   Consider the **Interest_rate** and **Unemployment_Rate** as features and store the values in **X** and **stock price** as the target labels in **y**.\n",
    "2.   Use **train_test_split** to split the X and y values\n",
    "\n"
   ]
  },
  {
   "cell_type": "code",
   "execution_count": null,
   "metadata": {
    "id": "rQjFImPNMeAP"
   },
   "outputs": [],
   "source": [
    "from sklearn.model_selection import train_test_split\n",
    "\n",
    "X = df[['Interest_Rate','Unemployment_Rate']]\n",
    "y = df['Stock_Index_Price']\n",
    "\n",
    "type(X), type(y)"
   ]
  },
  {
   "cell_type": "code",
   "execution_count": null,
   "metadata": {
    "id": "BTUnP_FMHqNK"
   },
   "outputs": [],
   "source": [
    "x_train, x_test, y_train, y_test = train_test_split(X, y, test_size=0.3, random_state=42)\n",
    "x_train.shape,y_train.shape"
   ]
  },
  {
   "cell_type": "markdown",
   "metadata": {
    "id": "QWu6keK9MeAV"
   },
   "source": [
    "#### Exercise 14: Perform the Linear Regression using the above train data \n",
    "- Initialize the Linear Regression Model\n",
    "- Fit the model using train data\n",
    "- Get the predictions using test data"
   ]
  },
  {
   "cell_type": "code",
   "execution_count": null,
   "metadata": {
    "id": "CsCZhGRBMeAW"
   },
   "outputs": [],
   "source": [
    "from sklearn.linear_model import LinearRegression\n",
    "\n",
    "lin_reg = LinearRegression()\n",
    "lin_reg.fit(x_train.values, y_train.values)\n",
    "\n",
    "predictions = lin_reg.predict(x_test)"
   ]
  },
  {
   "cell_type": "markdown",
   "metadata": {
    "id": "jBtGHSwGMeAb"
   },
   "source": [
    "#### Exercise 15: Perform the following:\n",
    "\n",
    "\n",
    "1.   Print the Intercept and bias value from the above constructed linear regression\n",
    "2.   Find the score of a linear regression model with test data\n"
   ]
  },
  {
   "cell_type": "code",
   "execution_count": null,
   "metadata": {
    "id": "UEuuWhQAMeAc"
   },
   "outputs": [],
   "source": [
    "print(lin_reg.coef_, lin_reg.intercept_)\n",
    "print(f\"Train score: {lin_reg.score(x_train,y_train)*100:.2f}\")\n",
    "print(f\"Test score: {lin_reg.score(x_test,y_test)*100:.2f}\")"
   ]
  },
  {
   "cell_type": "markdown",
   "metadata": {
    "id": "spyzcd8AMSRa"
   },
   "source": [
    "#### Exercise 16: Perform Logistic Regression for the given fruits data\n",
    "\n",
    "\n",
    "1.   Load the data and convert categorical data into numericals (Orange: 0, Apple: 1)\n",
    "2.   Consider the features \"Weight, Size\" as X and Target labels \"Class\" as y\n",
    "3.   Split the data in train and test using X and y\n",
    "4.   Fit and predict the Logistic regression model and find the accuracy. \n",
    "(Hint: `metrics.accuracy_score`)\n",
    "\n"
   ]
  },
  {
   "cell_type": "code",
   "execution_count": null,
   "metadata": {
    "id": "yYtOC4ZUR-7S"
   },
   "outputs": [],
   "source": [
    "from sklearn.model_selection import train_test_split\n",
    "from sklearn.linear_model import LogisticRegression\n",
    "from sklearn import metrics\n",
    "\n",
    "df = pd.read_csv(\"/content/fruits.csv\")\n",
    "df.head()"
   ]
  },
  {
   "cell_type": "code",
   "execution_count": null,
   "metadata": {
    "id": "QP4S2JqDEVZG"
   },
   "outputs": [],
   "source": [
    "X = df.iloc[:, :2]\n",
    "y = df.iloc[:, -1]\n",
    "X.shape, y.shape"
   ]
  },
  {
   "cell_type": "code",
   "execution_count": null,
   "metadata": {
    "id": "NYQ7z4-cEbGg"
   },
   "outputs": [],
   "source": [
    "X_train, X_test, y_train, y_test = train_test_split(X, Y, test_size=0.3, random_state=42)\n",
    "X_train.shape, X_test.shape, y_train.shape, y_test.shape"
   ]
  },
  {
   "cell_type": "code",
   "execution_count": null,
   "metadata": {
    "id": "WR0GC2zkfoNB"
   },
   "outputs": [],
   "source": [
    "log_reg = LogisticRegression()\n",
    "log_reg.fit(X_train, y_train)\n",
    "predictions = log_reg.predict(X_test)\n",
    "print(f\"Accuracy(in %): {metrics.accuracy_score(y_test, predictions)*100:.2f}\") "
   ]
  },
  {
   "cell_type": "markdown",
   "metadata": {
    "id": "jnBU3uiQem_8"
   },
   "source": [
    "### Please answer the questions below to complete the experiment:"
   ]
  },
  {
   "cell_type": "code",
   "execution_count": null,
   "metadata": {
    "id": "sBgeodXp-bAo"
   },
   "outputs": [],
   "source": [
    "#@title State if True or False: Reshape an array into 2-d array before applying sklearn Linear Regression (5 Points) { run: \"auto\", form-width: \"500px\", display-mode: \"form\" }\n",
    "Answer1 = \"\" #@param [\"\",\"True\", \"False\"]"
   ]
  },
  {
   "cell_type": "code",
   "execution_count": null,
   "metadata": {
    "id": "9JXjMafvOIc3"
   },
   "outputs": [],
   "source": [
    "#@title State if True or False: Random_state in train_test_split function will help to randomize the data splits (5 Points) { run: \"auto\", form-width: \"500px\", display-mode: \"form\" }\n",
    "Answer2 = \"\" #@param [\"\",\"True\", \"False\"]"
   ]
  },
  {
   "cell_type": "code",
   "execution_count": null,
   "metadata": {
    "id": "ipkCMK2LA-wu"
   },
   "outputs": [],
   "source": [
    "#@title How was the experiment? { run: \"auto\", form-width: \"500px\", display-mode: \"form\" }\n",
    "Complexity = \"\" #@param [\"\",\"Too Simple, I am wasting time\", \"Good, But Not Challenging for me\", \"Good and Challenging for me\", \"Was Tough, but I did it\", \"Too Difficult for me\"]\n"
   ]
  },
  {
   "cell_type": "code",
   "execution_count": null,
   "metadata": {
    "id": "i1CjEoumPfbL"
   },
   "outputs": [],
   "source": [
    "#@title Can you identify the concepts from the lecture which this experiment covered? { run: \"auto\", vertical-output: true, display-mode: \"form\" }\n",
    "Concepts = \"\" #@param [\"\",\"Yes\", \"No\"]"
   ]
  },
  {
   "cell_type": "code",
   "execution_count": null,
   "metadata": {
    "id": "0vBmt9yyPlMB"
   },
   "outputs": [],
   "source": [
    "#@title Mentor Support: { run: \"auto\", vertical-output: true, display-mode: \"form\" }\n",
    "Online_support = \"\" #@param [\"\",\"Very Useful\", \"Somewhat Useful\", \"Not Useful\", \"Didn't use\"]\n"
   ]
  },
  {
   "cell_type": "code",
   "execution_count": null,
   "metadata": {
    "cellView": "form",
    "id": "345Lfz5kPoRe"
   },
   "outputs": [],
   "source": [
    "#@title Run this cell to submit your notebook for grading { vertical-output: true }\n",
    "try:\n",
    "  if submission_id:\n",
    "      return_id = submit_notebook()\n",
    "      if return_id : submission_id =return_id\n",
    "  else:\n",
    "      print(\"Please complete the setup first.\")\n",
    "except NameError:\n",
    "  print (\"Please complete the setup first.\")"
   ]
  }
 ],
 "metadata": {
  "colab": {
   "collapsed_sections": [],
   "name": "W5_2_Supervised_Learning_I.ipynb",
   "private_outputs": true,
   "provenance": []
  },
  "kernelspec": {
   "display_name": "Python 3",
   "language": "python",
   "name": "python3"
  },
  "language_info": {
   "codemirror_mode": {
    "name": "ipython",
    "version": 3
   },
   "file_extension": ".py",
   "mimetype": "text/x-python",
   "name": "python",
   "nbconvert_exporter": "python",
   "pygments_lexer": "ipython3",
   "version": "3.8.8"
  }
 },
 "nbformat": 4,
 "nbformat_minor": 1
}
