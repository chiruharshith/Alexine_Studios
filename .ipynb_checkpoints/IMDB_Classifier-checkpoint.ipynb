{
 "cells": [
  {
   "cell_type": "markdown",
   "metadata": {
    "id": "Dk_I-E6pl05S"
   },
   "source": [
    "# Alexine Studios"
   ]
  },
  {
   "cell_type": "code",
   "execution_count": 1,
   "metadata": {
    "executionInfo": {
     "elapsed": 474,
     "status": "ok",
     "timestamp": 1632453549028,
     "user": {
      "displayName": "mohan kondle",
      "photoUrl": "https://lh3.googleusercontent.com/a/default-user=s64",
      "userId": "04458732900237689824"
     },
     "user_tz": -330
    },
    "id": "zZVHMCM_z8Cl"
   },
   "outputs": [],
   "source": [
    "!mkdir datasets"
   ]
  },
  {
   "cell_type": "code",
   "execution_count": 2,
   "metadata": {
    "executionInfo": {
     "elapsed": 409,
     "status": "ok",
     "timestamp": 1632453553716,
     "user": {
      "displayName": "mohan kondle",
      "photoUrl": "https://lh3.googleusercontent.com/a/default-user=s64",
      "userId": "04458732900237689824"
     },
     "user_tz": -330
    },
    "id": "-a8mKmmbaixD"
   },
   "outputs": [],
   "source": [
    "!wget -qq https://raw.githubusercontent.com/chiruharshith/Alexine_Studios/main/datasets/imdb_movie.csv -P datasets"
   ]
  },
  {
   "cell_type": "markdown",
   "metadata": {
    "id": "sL7fUIUgEQki"
   },
   "source": [
    "### Importing Required Packages"
   ]
  },
  {
   "cell_type": "code",
   "execution_count": null,
   "metadata": {
    "id": "X8bMSCmX8dLt"
   },
   "outputs": [],
   "source": [
    "from sklearn.model_selection import train_test_split\n",
    "from sklearn.tree import DecisionTreeClassifier\n",
    "import pandas as pd\n",
    "import numpy as np"
   ]
  },
  {
   "cell_type": "code",
   "execution_count": null,
   "metadata": {
    "id": "vuHJJt_5Tcv4"
   },
   "outputs": [],
   "source": [
    "# Load The Data\n",
    "df = pd.read_csv('imdb_movie.csv')\n",
    "df.head()"
   ]
  },
  {
   "cell_type": "markdown",
   "metadata": {
    "id": "x6FPSqzREXiV"
   },
   "source": [
    "**Data Pre-Processing**"
   ]
  },
  {
   "cell_type": "code",
   "execution_count": null,
   "metadata": {
    "id": "r-CwgPMQS318"
   },
   "outputs": [],
   "source": [
    "df.shape"
   ]
  },
  {
   "cell_type": "code",
   "execution_count": null,
   "metadata": {
    "id": "YtPMtDIR_-jS"
   },
   "outputs": [],
   "source": [
    "df.isna().sum()"
   ]
  },
  {
   "cell_type": "code",
   "execution_count": null,
   "metadata": {
    "id": "ndPzVTkCThtC"
   },
   "outputs": [],
   "source": [
    "df.columns"
   ]
  },
  {
   "cell_type": "code",
   "execution_count": null,
   "metadata": {
    "id": "LLJ0j6DzS_Eo"
   },
   "outputs": [],
   "source": [
    "df = df.drop(columns=['director_name','movie_title', 'Genre','facenumber_in_poster', 'movie_imdb_link', 'language', 'title_year', 'aspect_ratio','gross','budget','director_facebook_likes', 'actor_3_facebook_likes','actor_1_facebook_likes'])\n",
    "df.head()"
   ]
  },
  {
   "cell_type": "code",
   "execution_count": null,
   "metadata": {
    "id": "bKkdblMzUjq6"
   },
   "outputs": [],
   "source": [
    "df.isna().sum()"
   ]
  },
  {
   "cell_type": "code",
   "execution_count": null,
   "metadata": {
    "id": "CWI0Ie_AUlaa"
   },
   "outputs": [],
   "source": [
    "df.dropna(inplace=True)"
   ]
  },
  {
   "cell_type": "code",
   "execution_count": null,
   "metadata": {
    "id": "fYCgIEweUsk5"
   },
   "outputs": [],
   "source": [
    "df.head()"
   ]
  },
  {
   "cell_type": "code",
   "execution_count": null,
   "metadata": {
    "id": "2YeAEstkUvDR"
   },
   "outputs": [],
   "source": [
    "df.dtypes"
   ]
  },
  {
   "cell_type": "code",
   "execution_count": null,
   "metadata": {
    "id": "JswnLmObUywq"
   },
   "outputs": [],
   "source": [
    "from sklearn.preprocessing import LabelEncoder\n",
    "\n",
    "le = LabelEncoder()\n",
    "targets = le.fit_transform(df['imdb_score'])\n",
    "targets.shape"
   ]
  },
  {
   "cell_type": "code",
   "execution_count": null,
   "metadata": {
    "id": "Je1rGB7nVRrj"
   },
   "outputs": [],
   "source": [
    "features = df.iloc[:,:-1]\n",
    "features"
   ]
  },
  {
   "cell_type": "markdown",
   "metadata": {
    "id": "IjRxArIwUJjB"
   },
   "source": [
    "**Split the data into train and test sets**"
   ]
  },
  {
   "cell_type": "code",
   "execution_count": null,
   "metadata": {
    "id": "gKZDe6ZJAPv0"
   },
   "outputs": [],
   "source": [
    "from sklearn.model_selection import train_test_split\n",
    "\n",
    "X_train, X_test, y_train, y_test = train_test_split(features, targets, test_size=0.2, random_state=42)"
   ]
  },
  {
   "cell_type": "code",
   "execution_count": null,
   "metadata": {
    "id": "IdIY5C8ZVfcQ"
   },
   "outputs": [],
   "source": [
    "X_train.shape, X_test.shape, y_train.shape, y_test.shape"
   ]
  },
  {
   "cell_type": "markdown",
   "metadata": {
    "id": "-MthCZiXF8yR"
   },
   "source": [
    "**Classification**"
   ]
  },
  {
   "cell_type": "code",
   "execution_count": null,
   "metadata": {
    "id": "Y_JMls_AGg2L"
   },
   "outputs": [],
   "source": [
    "from sklearn.metrics import accuracy_score\n",
    "dt = DecisionTreeClassifier(max_depth=5)\n",
    "dt.fit(X_train, y_train)\n",
    "y_pred = dt.predict(X_test)\n",
    "accuracy_score(y_test, y_pred)"
   ]
  }
 ],
 "metadata": {
  "colab": {
   "collapsed_sections": [],
   "name": "Demo_Movie_IMDB_Classifier.ipynb",
   "private_outputs": true,
   "provenance": []
  },
  "kernelspec": {
   "display_name": "Python 3",
   "language": "python",
   "name": "python3"
  },
  "language_info": {
   "codemirror_mode": {
    "name": "ipython",
    "version": 3
   },
   "file_extension": ".py",
   "mimetype": "text/x-python",
   "name": "python",
   "nbconvert_exporter": "python",
   "pygments_lexer": "ipython3",
   "version": "3.8.8"
  }
 },
 "nbformat": 4,
 "nbformat_minor": 1
}
