{
 "cells": [
  {
   "cell_type": "markdown",
   "metadata": {
    "id": "y9NNhMb5wbUK"
   },
   "source": [
    "# Alexine Studios"
   ]
  },
  {
   "cell_type": "code",
   "execution_count": null,
   "metadata": {
    "cellView": "form",
    "id": "QRvlfkw5rV_Q"
   },
   "outputs": [],
   "source": [
    "ipython.magic(\"sx wget -qq https://www.dropbox.com/s/fm7nvhyvekhaka4/AIML_DS_WORD2VEC2D_STD.pkl.zip?dl=1\")\n",
    "    ipython.magic(\"sx mv AIML_DS_WORD2VEC2D_STD.pkl.zip?dl=1 AIML_DS_WORD2VEC2D_STD.pkl.zip\")\n",
    "    ipython.magic(\"sx unzip AIML_DS_WORD2VEC2D_STD.pkl.zip\")\n",
    "    ipython.magic(\"sx pip3 install gensim\")\n",
    "    ipython.magic(\"sx wget -qq https://www.dropbox.com/s/9xivz2pox1i83td/AIML_DS_GOOGLENEWS-VECTORS-NEGATIVE-300_STD.bin?dl=1\")\n",
    "    ipython.magic(\"sx mv AIML_DS_GOOGLENEWS-VECTORS-NEGATIVE-300_STD.bin?dl=1 AIML_DS_GOOGLENEWS-VECTORS-NEGATIVE-300_STD.bin\")\n",
    "    ipython.magic(\"sx wget https://cdn.talentsprint.com/aiml/Experiment_related_data/AIML_DS_NEWSGROUPS_PICKELFILE.pkl\")"
   ]
  },
  {
   "cell_type": "markdown",
   "metadata": {
    "id": "6bs4Orxz2DPK"
   },
   "source": [
    "### Importing required Packages\n"
   ]
  },
  {
   "cell_type": "code",
   "execution_count": null,
   "metadata": {
    "id": "H9sC9--9wbUq"
   },
   "outputs": [],
   "source": [
    "import pickle\n",
    "import re\n",
    "import operator\n",
    "from collections import defaultdict\n",
    "import matplotlib.pyplot as plt\n",
    "import numpy as np\n",
    "import math\n",
    "import collections\n",
    "import gensim\n",
    "from nltk import ngrams"
   ]
  },
  {
   "cell_type": "code",
   "execution_count": null,
   "metadata": {
    "id": "JEhKu_rjwbUt"
   },
   "outputs": [],
   "source": [
    "# Loading the dataset\n",
    "\n",
    "dataset = pickle.load(open('AIML_DS_NEWSGROUPS_PICKELFILE.pkl','rb'))\n",
    "print(dataset.keys())"
   ]
  },
  {
   "cell_type": "code",
   "execution_count": null,
   "metadata": {
    "id": "ZF9S3GYSwbUx"
   },
   "outputs": [],
   "source": [
    "# Print frequencies of dataset\n",
    "print(\"Class : count\")\n",
    "print(\"--------------\")\n",
    "number_of_documents = 0\n",
    "for key in dataset:\n",
    "    print(key, ':', len(dataset[key]))"
   ]
  },
  {
   "cell_type": "markdown",
   "metadata": {
    "id": "gJDnkxkmwbU1"
   },
   "source": [
    "Next, let us split our dataset which consists of 1000 samples per class, into training and test sets. We use 950 samples from each class in the training set, and the remaining 50 in the test set. \n",
    "\n",
    "As a mental exercise you should try reasoning about why is it important to ensure a nearly equal distribution of classes in your training and test sets. "
   ]
  },
  {
   "cell_type": "code",
   "execution_count": null,
   "metadata": {
    "id": "u6GK60NEwbU2"
   },
   "outputs": [],
   "source": [
    "train_set = {}\n",
    "test_set = {}\n",
    "\n",
    "# Clean dataset for text encoding issues :- Very useful when dealing with non-unicode characters\n",
    "for key in dataset:\n",
    "    dataset[key] = [[i.decode('utf-8', errors='replace').lower() for i in f] for f in dataset[key]]\n",
    "    \n",
    "# Break dataset into 95-5 split for training and testing\n",
    "n_train = 0\n",
    "n_test = 0\n",
    "for k in dataset:\n",
    "    split = int(0.95*len(dataset[k]))\n",
    "    train_set[k] = dataset[k][0:split]\n",
    "    test_set[k] = dataset[k][split:-1]\n",
    "    n_train += len(train_set[k])\n",
    "    n_test += len(test_set[k])"
   ]
  },
  {
   "cell_type": "markdown",
   "metadata": {
    "id": "afd4qfAEwbU6"
   },
   "source": [
    "## 1. Bag-of-Words\n",
    "\n",
    "Let us begin our journey into text classification with one of the simplest but most commonly used feature representations for news documents - Bag-of-Words.\n",
    "\n",
    "As you might have realized, machine learning algorithms need good feature representations of different inputs.  Concretely, we would like to represent each news article $D$ in terms of a feature vector $V$, which can be used for classification. Feature vector $V$ is made up of the number of occurences of each word in the vocabulary.\n",
    "\n",
    "Let us begin by counting the number of occurences of every word in the news documents in the training set."
   ]
  },
  {
   "cell_type": "markdown",
   "metadata": {
    "id": "OACynazXwbU7"
   },
   "source": [
    "### 1.1 Word frequency"
   ]
  },
  {
   "cell_type": "markdown",
   "metadata": {
    "id": "zWgzZVqYwbU8"
   },
   "source": [
    "Let us try understanding the kind of words that appear frequently, and those that occur rarely. We now count the frequencies of words:"
   ]
  },
  {
   "cell_type": "code",
   "execution_count": null,
   "metadata": {
    "id": "9kyqVjvBWLdK"
   },
   "outputs": [],
   "source": [
    "def frequency_words(train_set):\n",
    "    frequency = defaultdict(int)\n",
    "    for key in train_set:\n",
    "        for f in train_set[key]:\n",
    "            # Find all words which consist only of capital and lowercase characters and are between length of 2-9.\n",
    "            # We ignore all special characters such as !.$ and words containing numbers\n",
    "            words = re.findall(r'(\\b[A-Za-z][a-z]{2,9}\\b)', ' '.join(f))\n",
    "            for word in words:\n",
    "                frequency[word] += 1\n",
    "    return frequency"
   ]
  },
  {
   "cell_type": "code",
   "execution_count": null,
   "metadata": {
    "id": "AdILkwjHwbU9"
   },
   "outputs": [],
   "source": [
    "frequency_of_words = frequency_words(train_set)\n",
    "\n",
    "sorted_words = sorted(frequency_of_words.items(), key=operator.itemgetter(1), reverse=True)\n",
    "print(\"Top-10 most frequent words:\")\n",
    "for word in sorted_words[:10]:\n",
    "    print(word)\n",
    "\n",
    "print('----------------------------')\n",
    "print(\"10 least frequent words:\")\n",
    "for word in sorted_words[-10:-1]:\n",
    "    print(word)"
   ]
  },
  {
   "cell_type": "markdown",
   "metadata": {
    "id": "YxZqnO8GwbVB"
   },
   "source": [
    "Next, we attempt to plot a histogram of the counts of various words in descending order. \n",
    "\n",
    "Could you comment about the relationship between the frequency of the most frequent word to the second frequent word? \n",
    "And what about the third most frequent word?\n",
    "\n",
    "(Hint - Check the relative frequencies of the first, second and third most frequent words)\n",
    "\n",
    "(After answering, you can visit https://en.wikipedia.org/wiki/Zipf%27s_law for further Reading)"
   ]
  },
  {
   "cell_type": "code",
   "execution_count": null,
   "metadata": {
    "id": "kyWfgN4qwbVC"
   },
   "outputs": [],
   "source": [
    "fig = plt.figure()\n",
    "fig.set_size_inches(20,10)\n",
    "\n",
    "plt.bar(range(len(sorted_words[:100])), [v for k, v in sorted_words[:100]] , align='center')\n",
    "plt.xticks(range(len(sorted_words[:100])), [k for k, v in sorted_words[:100]])\n",
    "locs, labels = plt.xticks()\n",
    "plt.setp(labels, rotation=90)\n",
    "plt.show()"
   ]
  },
  {
   "cell_type": "markdown",
   "metadata": {
    "id": "yvcU4VDkwbVE"
   },
   "source": [
    "### 1.2 Pre-processing to remove most and least frequent words\n",
    "\n",
    "We can see that different words appear with different frequencies.\n",
    "\n",
    "The most common words appear in almost all documents. Hence, for a classification task, having information about those words' frequencies does not mater much since they appear frequently in every type of document. To get a good feature representation, we eliminate them since they do not add too much value.\n",
    "\n",
    "Additionally, notice how the least frequent words appear so rarely that they might not be useful either.\n",
    "\n",
    "Let us pre-process our news articles now to remove the most frequent and least frequent words by thresholding their counts: "
   ]
  },
  {
   "cell_type": "code",
   "execution_count": null,
   "metadata": {
    "id": "TrBX6IOSaofH"
   },
   "outputs": [],
   "source": [
    "def cleaning_vocabulary_words(list_of_grams):\n",
    "  valid_words = defaultdict(int)\n",
    "\n",
    "  print('Number of words before preprocessing:', len(list_of_grams))\n",
    "\n",
    "  # Ignore the 25 most frequent words, and the words which appear less than 100 times\n",
    "  ignore_most_frequent = 25\n",
    "  freq_thresh = 100\n",
    "  feature_number = 0\n",
    "  for word, word_frequency in list_of_grams[ignore_most_frequent:]:\n",
    "      if word_frequency > freq_thresh:\n",
    "          valid_words[word] = feature_number\n",
    "          feature_number += 1\n",
    "      elif '_' in word:\n",
    "          valid_words[word] = feature_number\n",
    "          feature_number += 1\n",
    "\n",
    "  print('Number of words after preprocessing:', len(valid_words))\n",
    "\n",
    "  vector_size = len(valid_words)\n",
    "  return valid_words, vector_size"
   ]
  },
  {
   "cell_type": "code",
   "execution_count": null,
   "metadata": {
    "id": "ztxnNsH8bVQV"
   },
   "outputs": [],
   "source": [
    "valid_words, number_of_words = cleaning_vocabulary_words(sorted_words)"
   ]
  },
  {
   "cell_type": "markdown",
   "metadata": {
    "id": "OL7KDD5nwbVG"
   },
   "source": [
    "### 1.3 Bag-of-Words representation\n",
    "\n",
    "The simplest way to represent a document $D$ as a vector $V$ would be to now count the relevant words in the document. \n",
    "\n",
    "For each document, make a vector of the count of each of the words in the vocabulary (excluding the words removed in the previous step - the \"stopwords\")."
   ]
  },
  {
   "cell_type": "code",
   "execution_count": null,
   "metadata": {
    "id": "hmPFrRWfwbVH"
   },
   "outputs": [],
   "source": [
    "def convert_to_BoW(dataset, number_of_documents):\n",
    "    bow_representation = np.zeros((number_of_documents, number_of_words))\n",
    "    labels = np.zeros((number_of_documents, 1))\n",
    "    \n",
    "    i = 0\n",
    "    for label, class_name in enumerate(dataset):\n",
    "        \n",
    "        # For each file\n",
    "        for f in dataset[class_name]:\n",
    "            \n",
    "            # Read all text in file\n",
    "            text = ' '.join(f).split(' ')\n",
    "            \n",
    "            # For each word\n",
    "            for word in text:\n",
    "                if word in valid_words:\n",
    "                    bow_representation[i, valid_words[word]] += 1\n",
    "            \n",
    "            # Label of document\n",
    "            labels[i] = label\n",
    "            \n",
    "            # Increment document counter\n",
    "            i += 1\n",
    "    \n",
    "    return bow_representation, labels\n",
    "\n",
    "# Convert the dataset into their bag of words representation treating train and test separately\n",
    "train_bow_set, train_bow_labels = convert_to_BoW(train_set, n_train)\n",
    "test_bow_set, test_bow_labels = convert_to_BoW(test_set, n_test)"
   ]
  },
  {
   "cell_type": "markdown",
   "metadata": {
    "id": "b2L9gwfXwbVI"
   },
   "source": [
    "### 1.4 Document classification using Bag-of-Words\n",
    "\n",
    "For the test documents, use your favorite distance metric (Cosine, Eucilidean, etc.) to find similar news articles from your training set and classify using kNN."
   ]
  },
  {
   "cell_type": "code",
   "execution_count": null,
   "metadata": {
    "id": "hGen5XWiwbVK"
   },
   "outputs": [],
   "source": [
    "# Optimized K-NN:- This does the same thing as you've learned but in an optimized manner\n",
    "def dist(train_features, given_feature):\n",
    "    squared_difference = (train_features - given_feature)**2\n",
    "    distances = np.sqrt(np.sum(squared_difference, axis = 1))\n",
    "    return distances\n",
    "\n",
    "''' \n",
    " Optimized K-NN code. This code is the same as what you've already seen, but trades off memory efficency \n",
    " for computational efficency. \n",
    "'''\n",
    "def kNN(k, train_features, train_labels, given_feature):\n",
    "    distances = []\n",
    "    \n",
    "    n = train_features.shape[0]\n",
    "    \n",
    "    # np.tile function repeats the given_feature n times.\n",
    "    given_feature = np.tile(given_feature, (n, 1))\n",
    "    \n",
    "    # Compute distance\n",
    "    distances = dist(train_features, given_feature)\n",
    "    sort_neighbors = np.argsort(distances)\n",
    "    return np.concatenate((distances[sort_neighbors][:k].reshape(-1, 1), train_labels[sort_neighbors][:k].reshape(-1, 1)), axis = 1)\n",
    "\n",
    "def kNN_classify(k, train_features, train_labels, given_feature):\n",
    "    tally = collections.Counter()\n",
    "    tally.update(str(int(nn[1])) for nn in kNN(k, train_features, train_labels, given_feature))\n",
    "    return int(tally.most_common(1)[0][0])"
   ]
  },
  {
   "cell_type": "markdown",
   "metadata": {
    "id": "p1oZ_fMvwbVL"
   },
   "source": [
    "For example, using 3 nearest neighbours, the $0^{th}$ test document is classified as:"
   ]
  },
  {
   "cell_type": "markdown",
   "metadata": {
    "id": "oUjby7ObwbVN"
   },
   "source": [
    "Computing accuracy for the bag-of-words features on the full test set:\n",
    "\n",
    "It takes some time to run this cell"
   ]
  },
  {
   "cell_type": "code",
   "execution_count": null,
   "metadata": {
    "id": "bjxqR2gUwbVO"
   },
   "outputs": [],
   "source": [
    "accuracy = 0\n",
    "for i, given_feature in enumerate(test_bow_set):\n",
    "    print(\"Progress: {0:.04f}\".format((i+1)/len(test_bow_set)), end=\"\\r\")\n",
    "    predicted_class = kNN_classify(3, train_bow_set, train_bow_labels, given_feature)\n",
    "    if predicted_class == int(test_bow_labels[i]):\n",
    "        accuracy += 1\n",
    "BoW_accuracy = (accuracy / len(test_bow_set))"
   ]
  },
  {
   "cell_type": "code",
   "execution_count": null,
   "metadata": {
    "id": "FJk9zGFMYe2G"
   },
   "outputs": [],
   "source": [
    "print(BoW_accuracy)"
   ]
  },
  {
   "cell_type": "markdown",
   "metadata": {
    "id": "bXqK59gGDTqE"
   },
   "source": [
    "# 2. Word2Vec"
   ]
  },
  {
   "cell_type": "markdown",
   "metadata": {
    "id": "Lvhba-_oNx8l"
   },
   "source": [
    "## 2.1 Load pre-trained Word2Vec\n",
    "\n",
    "Let us now proceed to load the complete pretrained vectors."
   ]
  },
  {
   "cell_type": "code",
   "execution_count": null,
   "metadata": {
    "id": "c9TeOff151Qe"
   },
   "outputs": [],
   "source": [
    "model = gensim.models.KeyedVectors.load_word2vec_format('AIML_DS_GOOGLENEWS-VECTORS-NEGATIVE-300_STD.bin', binary=True, limit=500000)"
   ]
  },
  {
   "cell_type": "markdown",
   "metadata": {
    "id": "wFdjtmZLDTqq"
   },
   "source": [
    "## 2.2 Word2Vec representation\n",
    "\n",
    "Convert each document into average of the word2vec vectors of all valid words in document"
   ]
  },
  {
   "cell_type": "code",
   "execution_count": null,
   "metadata": {
    "id": "DiZxIihmDTqr"
   },
   "outputs": [],
   "source": [
    "word2vec_vector_size = 300\n",
    "\n",
    "'''\n",
    " This method converts documents to word vectors. It first checks if the word is valid according to our initial frequency \n",
    " threshold. Next, if it is, we add the precomputed word vectors together. If the word is valid, but we do not have a valid \n",
    " vector to represent the word, we add a random gaussian noise instead. Since we do not want to induce new noise each time,\n",
    " we store the same noise vector for training and test time in substitute_word_vecs variable.\n",
    "'''\n",
    "def convert_to_w2v(dataset, number_of_documents, substitute_word_vecs={}):\n",
    "    labels = np.zeros((number_of_documents, 1))\n",
    "    w2v_rep = np.zeros((number_of_documents, word2vec_vector_size))\n",
    "    \n",
    "    # Iterate over the dataset and split into words\n",
    "    i = 0\n",
    "    for label, class_name in enumerate(dataset):\n",
    "        for f in dataset[class_name]:\n",
    "            text = ' '.join(f).split(' ')\n",
    "            valid_count = 1\n",
    "            for word in text:\n",
    "                \n",
    "                # Check if word is valid or not according to original dataset pruning\n",
    "                if word in valid_words:\n",
    "                    try:\n",
    "                        w2v_rep[i] += model[word]\n",
    "                    except:\n",
    "                        '''The word isn't in our pretrained word-vectors, hence we add a random gaussian noise\n",
    "                         to account for this. We store the random vector we assigned to the word, and reuse \n",
    "                         the same vector during test time to ensure consistency.'''\n",
    "                        \n",
    "                        if word not in substitute_word_vecs.keys():\n",
    "                            substitute_word_vecs[word] = np.random.normal(-0.25, 0.25, word2vec_vector_size)\n",
    "                            \n",
    "                        w2v_rep[i] += substitute_word_vecs[word]\n",
    "                    \n",
    "                    valid_count += 1\n",
    "            \n",
    "            # Average\n",
    "            w2v_rep[i] = w2v_rep[i] / valid_count\n",
    "            \n",
    "            # Save label\n",
    "            labels[i] = label\n",
    "            \n",
    "            i += 1\n",
    "    \n",
    "    return w2v_rep, labels, substitute_word_vecs\n",
    "\n",
    "# Convert the train and test datasets into their word2vec representations\n",
    "train_w2v_set, train_w2v_labels, substitute_word_vecs = convert_to_w2v(train_set, n_train)\n",
    "test_w2v_set, test_w2v_labels,_ = convert_to_w2v(test_set, n_test, substitute_word_vecs)"
   ]
  },
  {
   "cell_type": "markdown",
   "metadata": {
    "id": "hrs_bVWhDTqy"
   },
   "source": [
    "## 2.3 Document classification using Word2Vec\n",
    "\n",
    "For the test documents, use your favorite distance metric (Cosine, Eucilidean, etc.) to find similar news articles from your training set and classify using kNN.\n",
    "\n",
    "It takes some time to run this cell."
   ]
  },
  {
   "cell_type": "code",
   "execution_count": null,
   "metadata": {
    "id": "Fxp9eRSjDTqz"
   },
   "outputs": [],
   "source": [
    "accuracy = 0\n",
    "for i, given_feature in enumerate(test_w2v_set):\n",
    "    print(\"Progress: {0:.04f}\".format((i+1)/len(test_w2v_set)), end=\"\\r\")\n",
    "    predicted_class = kNN_classify(3, train_w2v_set, train_w2v_labels, given_feature)\n",
    "    if predicted_class == int(test_w2v_labels[i]):\n",
    "        accuracy += 1\n"
   ]
  },
  {
   "cell_type": "code",
   "execution_count": null,
   "metadata": {
    "id": "EnktFQP_KCDf"
   },
   "outputs": [],
   "source": [
    "W2V_accuracy = accuracy / len(test_w2v_set)"
   ]
  },
  {
   "cell_type": "code",
   "execution_count": null,
   "metadata": {
    "id": "o60fr4v3JKZe"
   },
   "outputs": [],
   "source": [
    "label = ['BoW', 'W2V']\n",
    "accuracies = [BoW_accuracy*100, W2V_accuracy*100]"
   ]
  },
  {
   "cell_type": "code",
   "execution_count": null,
   "metadata": {
    "id": "QQKK84SNJD1I"
   },
   "outputs": [],
   "source": [
    "plt.figure(figsize=(5,5))\n",
    "index = np.arange(len(label))\n",
    "plt.bar(index, accuracies, width = 0.2)\n",
    "plt.xlabel('Representation', fontsize=15)\n",
    "plt.ylabel('Accuracy', fontsize=15)\n",
    "plt.xticks(index, label, fontsize=15, rotation=30)\n",
    "plt.title('Compare BoW - W2V on Newsgroup classification')\n",
    "for i, v in enumerate(accuracies):\n",
    "    plt.text(v, i, str(v), color='red', fontweight='bold')\n",
    "plt.savefig('Compare BoW-W2v on Newsgroup Classification.png')"
   ]
  },
  {
   "cell_type": "markdown",
   "metadata": {
    "id": "tC2rt1ZxrgC7"
   },
   "source": [
    "## Please answer the questions below to complete the experiment:"
   ]
  },
  {
   "cell_type": "code",
   "execution_count": null,
   "metadata": {
    "id": "NMzKSbLIgFzQ"
   },
   "outputs": [],
   "source": [
    "#@title How was the experiment? { run: \"auto\", form-width: \"500px\", display-mode: \"form\" }\n",
    "Complexity = \"\" #@param [\"\",\"Too Simple, I am wasting time\", \"Good, But Not Challenging for me\", \"Good and Challenging for me\", \"Was Tough, but I did it\", \"Too Difficult for me\"]\n"
   ]
  },
  {
   "cell_type": "code",
   "execution_count": null,
   "metadata": {
    "id": "DjcH1VWSFI2l"
   },
   "outputs": [],
   "source": [
    "#@title If it was too easy, what more would you have liked to be added? If it was very difficult, what would you have liked to have been removed? { run: \"auto\", display-mode: \"form\" }\n",
    "Additional = \"\" #@param {type:\"string\"}\n"
   ]
  },
  {
   "cell_type": "code",
   "execution_count": null,
   "metadata": {
    "id": "_cTetkuegP7d"
   },
   "outputs": [],
   "source": [
    "#@title Can you identify the concepts from the lecture which this experiment covered? { run: \"auto\", vertical-output: true, display-mode: \"form\" }\n",
    "Concepts = \"\" #@param [\"\",\"Yes\", \"No\"]\n"
   ]
  },
  {
   "cell_type": "code",
   "execution_count": null,
   "metadata": {
    "id": "QFQw0ddId_Ej"
   },
   "outputs": [],
   "source": [
    "#@title  Text and image description/explanation and code comments within the experiment: { run: \"auto\", vertical-output: true, display-mode: \"form\" }\n",
    "Comments = \"\" #@param [\"\",\"Very Useful\", \"Somewhat Useful\", \"Not Useful\", \"Didn't use\"]\n"
   ]
  },
  {
   "cell_type": "code",
   "execution_count": null,
   "metadata": {
    "cellView": "form",
    "id": "-CXztFuygSBG"
   },
   "outputs": [],
   "source": [
    "#@title Run this cell to submit your notebook  { vertical-output: true }\n",
    "try:\n",
    "  if submission_id:\n",
    "      return_id = submit_notebook()\n",
    "      if return_id : submission_id =return_id\n",
    "  else:\n",
    "      print(\"Please complete the setup first.\")\n",
    "except NameError:\n",
    "  print (\"Please complete the setup first.\")"
   ]
  }
 ],
 "metadata": {
  "accelerator": "GPU",
  "colab": {
   "collapsed_sections": [],
   "name": "U2W7_CS_BoW_Word2Vec.ipynb",
   "provenance": []
  },
  "kernelspec": {
   "display_name": "Python 3",
   "language": "python",
   "name": "python3"
  },
  "language_info": {
   "codemirror_mode": {
    "name": "ipython",
    "version": 3
   },
   "file_extension": ".py",
   "mimetype": "text/x-python",
   "name": "python",
   "nbconvert_exporter": "python",
   "pygments_lexer": "ipython3",
   "version": "3.8.8"
  }
 },
 "nbformat": 4,
 "nbformat_minor": 1
}
