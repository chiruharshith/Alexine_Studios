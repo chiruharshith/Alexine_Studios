{
 "cells": [
  {
   "cell_type": "markdown",
   "metadata": {
    "id": "YFu_oj3E0jYc"
   },
   "source": [
    "# Advanced Certification in AIML\n",
    "## A Program by IIIT-H and TalentSprint\n",
    "## Not for grading"
   ]
  },
  {
   "cell_type": "markdown",
   "metadata": {
    "id": "0BFwTfYgrI-1"
   },
   "source": [
    "## Learning Objective"
   ]
  },
  {
   "cell_type": "markdown",
   "metadata": {
    "id": "dC4JnILabiF3"
   },
   "source": [
    "The objective of this experiment is to understand Linear classifier."
   ]
  },
  {
   "cell_type": "markdown",
   "metadata": {
    "id": "Nh70dVHx0G_B"
   },
   "source": [
    "## Dataset"
   ]
  },
  {
   "cell_type": "markdown",
   "metadata": {
    "id": "0AUjpyII06yk"
   },
   "source": [
    "### Description"
   ]
  },
  {
   "cell_type": "markdown",
   "metadata": {
    "id": "y-GMJTRb0Iyy"
   },
   "source": [
    "The dataset consists of the below 7 columns,\n",
    "\n",
    "- **species:** penguin species (Chinstrap, Adélie, or Gentoo)\n",
    "- **culmen length & depth:** The culmen is the upper ridge of a bird's beak\n",
    "- **flipper_length_mm:** flipper length\n",
    "- **body_mass_g:** body mass\n",
    "- **island:** island name (Dream, Torgersen, or Biscoe)\n",
    "- **sex:** penguin sex"
   ]
  },
  {
   "cell_type": "markdown",
   "metadata": {
    "id": "FhA-4D7SrIpo"
   },
   "source": [
    "## Setup Steps"
   ]
  },
  {
   "cell_type": "code",
   "execution_count": null,
   "metadata": {
    "id": "DrAZGKNorOH8"
   },
   "outputs": [],
   "source": [
    "#@title Please enter your registration id to start: { run: \"auto\", display-mode: \"form\" }\n",
    "Id = \"\" #@param {type:\"string\"}"
   ]
  },
  {
   "cell_type": "code",
   "execution_count": null,
   "metadata": {
    "id": "XLpBVa3MrRPn"
   },
   "outputs": [],
   "source": [
    "#@title Please enter your password (normally your phone number) to continue: { run: \"auto\", display-mode: \"form\" }\n",
    "password = \"\" #@param {type:\"string\"}"
   ]
  },
  {
   "cell_type": "markdown",
   "metadata": {
    "id": "Y9pFXqtfbcxG"
   },
   "source": [
    "### Importing Required Packages"
   ]
  },
  {
   "cell_type": "code",
   "execution_count": null,
   "metadata": {
    "id": "hOiKa2ma0iXG"
   },
   "outputs": [],
   "source": [
    "from sklearn.linear_model import SGDClassifier\n",
    "import pandas as pd"
   ]
  },
  {
   "cell_type": "markdown",
   "metadata": {
    "id": "WW2MIcyYbp3R"
   },
   "source": [
    "### Loading the data"
   ]
  },
  {
   "cell_type": "code",
   "execution_count": null,
   "metadata": {
    "id": "fFtD8-S8PEA7"
   },
   "outputs": [],
   "source": [
    "dataset = \"Penguin.csv\"\n",
    "\n",
    "data = pd.read_csv(dataset)\n",
    "\n",
    "print(data.shape)"
   ]
  },
  {
   "cell_type": "code",
   "execution_count": null,
   "metadata": {
    "id": "Z3dXNhYkF8-E"
   },
   "outputs": [],
   "source": [
    "data.head()"
   ]
  },
  {
   "cell_type": "code",
   "execution_count": null,
   "metadata": {
    "id": "DGINDb-6JxqW"
   },
   "outputs": [],
   "source": [
    "# Count NaN values in each column of the dataframe\n",
    "data.isna().sum()"
   ]
  },
  {
   "cell_type": "code",
   "execution_count": null,
   "metadata": {
    "id": "GiuG89Ptm03Y"
   },
   "outputs": [],
   "source": [
    "# Print the unique() elements from the sex column \n",
    "data['sex'].unique()"
   ]
  },
  {
   "cell_type": "code",
   "execution_count": null,
   "metadata": {
    "id": "iu5wa232pL9S"
   },
   "outputs": [],
   "source": [
    "# Drop the records where sex column has NaN values\n",
    "data.dropna(subset = ['sex'], inplace = True)\n",
    "\n",
    "# Print the unique() elements from the sex column after dropping\n",
    "print(\"Unique values after dropping NA values : \",data.sex.unique())"
   ]
  },
  {
   "cell_type": "code",
   "execution_count": null,
   "metadata": {
    "id": "20vaxBonWe_Y"
   },
   "outputs": [],
   "source": [
    "data['species'] = data['species'].replace(['Adelie','Chinstrap', 'Gentoo'],[0, 1, 2])\n",
    "data['island'] = data['island'].replace(['Torgersen','Biscoe', 'Dream'],[2, 1, 0])\n",
    "data['sex'] = data['sex'].replace(['MALE','FEMALE'],[1, 0])"
   ]
  },
  {
   "cell_type": "code",
   "execution_count": null,
   "metadata": {
    "id": "iIHBcnJXBLZ1"
   },
   "outputs": [],
   "source": [
    "data.head()"
   ]
  },
  {
   "cell_type": "markdown",
   "metadata": {
    "id": "P4PERpLOJdjU"
   },
   "source": [
    "### Storing the data and labels"
   ]
  },
  {
   "cell_type": "code",
   "execution_count": null,
   "metadata": {
    "id": "GmMqehwvacYN"
   },
   "outputs": [],
   "source": [
    "X = data.drop(['species'], axis=1)\n",
    "y = data['species']"
   ]
  },
  {
   "cell_type": "markdown",
   "metadata": {
    "id": "I7U-Twt17lbo"
   },
   "source": [
    "### Splitting the data into train and test sets "
   ]
  },
  {
   "cell_type": "code",
   "execution_count": null,
   "metadata": {
    "id": "jjP5s4zX7vyL"
   },
   "outputs": [],
   "source": [
    "from sklearn.model_selection import train_test_split"
   ]
  },
  {
   "cell_type": "code",
   "execution_count": null,
   "metadata": {
    "id": "LK8VJHlv71Bd"
   },
   "outputs": [],
   "source": [
    "X_train, X_test, y_train, y_test = train_test_split(X, y, test_size=0.3, random_state=42)"
   ]
  },
  {
   "cell_type": "code",
   "execution_count": null,
   "metadata": {
    "id": "-t0sCcrA8Mhq"
   },
   "outputs": [],
   "source": [
    "# Let us see the size of train and test sets\n",
    "X_train.shape, X_test.shape, y_train.shape, y_test.shape"
   ]
  },
  {
   "cell_type": "markdown",
   "metadata": {
    "id": "EFpCi8-jbyOO"
   },
   "source": [
    "### Training a  Linear Classifier "
   ]
  },
  {
   "cell_type": "code",
   "execution_count": null,
   "metadata": {
    "id": "7FAEVCEL8qV2"
   },
   "outputs": [],
   "source": [
    "linear_classifier = SGDClassifier()\n",
    "\n",
    "# Training or fitting the model with the train data\n",
    "linear_classifier.fit(X_train, y_train)\n",
    "\n",
    "# Testing the trained model\n",
    "y_pred = linear_classifier.predict(X_test)"
   ]
  },
  {
   "cell_type": "code",
   "execution_count": null,
   "metadata": {
    "id": "FzS94q-eHkyg"
   },
   "outputs": [],
   "source": [
    "from sklearn.metrics import accuracy_score\n",
    "print(accuracy_score(y_pred, y_test))"
   ]
  },
  {
   "cell_type": "code",
   "execution_count": null,
   "metadata": {
    "id": "jqx1zn2p7HnY"
   },
   "outputs": [],
   "source": [
    "from sklearn.metrics import confusion_matrix\n",
    "print(confusion_matrix(y_pred, y_test))"
   ]
  },
  {
   "cell_type": "markdown",
   "metadata": {
    "id": "aHEwWt6Xv0Sd"
   },
   "source": [
    "### Scaling the data"
   ]
  },
  {
   "cell_type": "code",
   "execution_count": null,
   "metadata": {
    "id": "o612AaAUvyu-"
   },
   "outputs": [],
   "source": [
    "# Scaling the data\n",
    "from sklearn.preprocessing import StandardScaler\n",
    "scaler = StandardScaler()\n",
    "\n",
    "X_train_scale1 = scaler.fit_transform(X_train)\n",
    "X_test_scale1 = scaler.transform(X_test)\n",
    "\n",
    "linear_classifier = SGDClassifier()\n",
    "\n",
    "# Training or fitting the model with the train data\n",
    "linear_classifier.fit(X_train_scale1, y_train)\n",
    "\n",
    "# Testing the trained model\n",
    "y_pred_scale = linear_classifier.predict(X_test_scale1)\n",
    "\n",
    "print(accuracy_score(y_pred_scale, y_test))"
   ]
  },
  {
   "cell_type": "code",
   "execution_count": null,
   "metadata": {
    "id": "1YI07gso8HWT"
   },
   "outputs": [],
   "source": [
    "print(confusion_matrix(y_pred_scale, y_test))"
   ]
  },
  {
   "cell_type": "code",
   "execution_count": null,
   "metadata": {
    "id": "TUfhoh_R8SAY"
   },
   "outputs": [],
   "source": [
    "print((47+18+34)/100)"
   ]
  },
  {
   "cell_type": "code",
   "execution_count": null,
   "metadata": {
    "id": "qnqrAbKC7ohD"
   },
   "outputs": [],
   "source": [
    "print(X_train_scale1)"
   ]
  },
  {
   "cell_type": "code",
   "execution_count": null,
   "metadata": {
    "id": "hv9jDPkT7a-b"
   },
   "outputs": [],
   "source": [
    "print(linear_classifier.predict([[0.38815646,-0.68859414, 0.41178581, -1.01319331, -1.22511852, -0.99571733]]))"
   ]
  },
  {
   "cell_type": "code",
   "execution_count": null,
   "metadata": {
    "id": "cNM8sefU8Qxb"
   },
   "outputs": [],
   "source": []
  },
  {
   "cell_type": "markdown",
   "metadata": {
    "id": "uG2PIiolflFU"
   },
   "source": [
    "### Please answer the questions below to complete the experiment:"
   ]
  },
  {
   "cell_type": "code",
   "execution_count": null,
   "metadata": {
    "id": "NMzKSbLIgFzQ"
   },
   "outputs": [],
   "source": [
    "#@title How was the experiment? { run: \"auto\", form-width: \"500px\", display-mode: \"form\" }\n",
    "Complexity = \"\" #@param [\"\",\"Too Simple, I am wasting time\", \"Good, But Not Challenging for me\", \"Good and Challenging for me\", \"Was Tough, but I did it\", \"Too Difficult for me\"]\n"
   ]
  },
  {
   "cell_type": "code",
   "execution_count": null,
   "metadata": {
    "id": "Pke4SQ5NgNFX"
   },
   "outputs": [],
   "source": [
    "#@title If it was very easy, what more you would have liked to have been added? If it was very difficult, what would you have liked to have been removed? { run: \"auto\", display-mode: \"form\" }\n",
    "Additional = \"\" #@param {type:\"string\"}\n"
   ]
  },
  {
   "cell_type": "code",
   "execution_count": null,
   "metadata": {
    "id": "_cTetkuegP7d"
   },
   "outputs": [],
   "source": [
    "#@title Can you identify the concepts from the lecture which this experiment covered? { run: \"auto\", vertical-output: true, display-mode: \"form\" }\n",
    "Concepts = \"\" #@param [\"\",\"Yes\", \"No\"]\n"
   ]
  },
  {
   "cell_type": "code",
   "execution_count": null,
   "metadata": {
    "id": "QFQw0ddId_Ej"
   },
   "outputs": [],
   "source": [
    "#@title  Text and image description/explanation and code comments within the experiment: { run: \"auto\", vertical-output: true, display-mode: \"form\" }\n",
    "Comments = \"\" #@param [\"\",\"Very Useful\", \"Somewhat Useful\", \"Not Useful\", \"Didn't use\"]\n"
   ]
  },
  {
   "cell_type": "code",
   "execution_count": null,
   "metadata": {
    "cellView": "form",
    "id": "-CXztFuygSBG"
   },
   "outputs": [],
   "source": [
    "#@title Run this cell to submit your notebook  { vertical-output: true }\n",
    "try:\n",
    "  if submission_id:\n",
    "      return_id = submit_notebook()\n",
    "      if return_id : submission_id =return_id\n",
    "  else:\n",
    "      print(\"Please complete the setup first.\")\n",
    "except NameError:\n",
    "  print (\"Please complete the setup first.\")"
   ]
  }
 ],
 "metadata": {
  "colab": {
   "collapsed_sections": [],
   "name": "Demo_LC_Penguins_data.ipynb",
   "provenance": []
  },
  "kernelspec": {
   "display_name": "Python 3",
   "language": "python",
   "name": "python3"
  },
  "language_info": {
   "codemirror_mode": {
    "name": "ipython",
    "version": 3
   },
   "file_extension": ".py",
   "mimetype": "text/x-python",
   "name": "python",
   "nbconvert_exporter": "python",
   "pygments_lexer": "ipython3",
   "version": "3.8.8"
  }
 },
 "nbformat": 4,
 "nbformat_minor": 1
}
