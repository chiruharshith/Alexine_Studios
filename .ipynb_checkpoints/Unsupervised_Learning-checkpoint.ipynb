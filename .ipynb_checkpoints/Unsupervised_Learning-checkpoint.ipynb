{
 "cells": [
  {
   "cell_type": "markdown",
   "metadata": {
    "id": "Dk_I-E6pl05S"
   },
   "source": [
    "# Alexine Studios"
   ]
  },
  {
   "cell_type": "markdown",
   "metadata": {
    "id": "FhA-4D7SrIpo"
   },
   "source": [
    "## Download Dataset"
   ]
  },
  {
   "cell_type": "code",
   "execution_count": null,
   "metadata": {
    "id": "DrAZGKNorOH8"
   },
   "outputs": [],
   "source": [
    "!mkdir datasets\n",
    "!wget -qq https://raw.githubusercontent.com/chiruharshith/Alexine_Studios/main/datasets/Iris.csv -P datasets\n",
    "!wget -qq https://raw.githubusercontent.com/chiruharshith/Alexine_Studios/main/datasets/datapoints.csv -P datasets"
   ]
  },
  {
   "cell_type": "code",
   "execution_count": null,
   "metadata": {
    "id": "FsRnebx9YKHE"
   },
   "outputs": [],
   "source": [
    "# importing required packages\n",
    "import numpy as np\n",
    "import pandas as pd\n",
    "from matplotlib import pyplot as plt"
   ]
  },
  {
   "cell_type": "markdown",
   "metadata": {
    "id": "vDMoQkJT8ugF"
   },
   "source": [
    "#### Calculate the Euclidean distance for the given two points"
   ]
  },
  {
   "cell_type": "code",
   "execution_count": null,
   "metadata": {
    "id": "cFyumpWAI07m"
   },
   "outputs": [],
   "source": [
    "# [x1, y1], [x2, y2]\n",
    "p1,p2= [1,-5],[2,4]\n",
    "\n",
    "x1 = p1[0]\n",
    "y1 = p1[1]\n",
    "\n",
    "x2 = p2[0]\n",
    "y2 = p2[1]\n",
    "\n",
    "np.sqrt(((x1-x2)**2) + ((y1-y2)**2))"
   ]
  },
  {
   "cell_type": "code",
   "execution_count": null,
   "metadata": {
    "id": "Y_2NYk2kC_mI"
   },
   "outputs": [],
   "source": [
    "# [x1, y1], [x2, y2]\n",
    "p1,p2= [2,3],[5,6]\n",
    "\n",
    "x1 = p1[0]\n",
    "y1 = p1[1]\n",
    "\n",
    "x2 = p2[0]\n",
    "y2 = p2[1]\n",
    "\n",
    "np.sqrt(((x1-x2)**2) + ((y1-y2)**2))"
   ]
  },
  {
   "cell_type": "code",
   "execution_count": null,
   "metadata": {
    "id": "SWVYJJVFU26_"
   },
   "outputs": [],
   "source": [
    "from scipy.spatial import distance\n",
    "distance.euclidean(p1,p2)"
   ]
  },
  {
   "cell_type": "code",
   "execution_count": null,
   "metadata": {
    "id": "f-CwPm58VW1-"
   },
   "outputs": [],
   "source": [
    "p1 = np.array(p1)\n",
    "p2 = np.array(p2)\n",
    "\n",
    "np.linalg.norm(p1-p2)"
   ]
  },
  {
   "cell_type": "code",
   "execution_count": null,
   "metadata": {
    "id": "l9ITZMy0IFa7"
   },
   "outputs": [],
   "source": [
    "dataset = \"datasets/datapoints.csv\"\n",
    "\n",
    "df = pd.read_csv(dataset)\n",
    "df"
   ]
  },
  {
   "cell_type": "code",
   "execution_count": null,
   "metadata": {
    "id": "BOt9CeOIXdnq"
   },
   "outputs": [],
   "source": [
    "plt.scatter(df['V1'], df['V2'], c='red', s=7);"
   ]
  },
  {
   "cell_type": "markdown",
   "metadata": {
    "id": "tIOK94Mk0AJa"
   },
   "source": [
    "#### Randomly choose the k cluster centers from the data loaded above (k is 3)\n",
    "\n",
    "\n",
    "\n",
    "1.   Choose random values within the range of max of V1 by giving size = 3 and consider as X-axis\n",
    "2.   Choose random values within the range of max of V2 by giving size = 3 and consider as Y-axis \n",
    "3.   Combine X and Y, and denote 'C' as cluster centers (datatype should be  float). Combine using zip.\n"
   ]
  },
  {
   "cell_type": "code",
   "execution_count": null,
   "metadata": {
    "id": "t6ZNOuDlYekb"
   },
   "outputs": [],
   "source": [
    "V1 = df['V1'].values\n",
    "V2 = df['V2'].values\n",
    "len(V1), len(V2)"
   ]
  },
  {
   "cell_type": "code",
   "execution_count": null,
   "metadata": {
    "id": "0eOPJm1nYdzl"
   },
   "outputs": [],
   "source": [
    "max(V1), max(V2)"
   ]
  },
  {
   "cell_type": "code",
   "execution_count": null,
   "metadata": {
    "id": "-t8tH1US0AJb"
   },
   "outputs": [],
   "source": [
    "k = 3\n",
    "\n",
    "x = np.random.randint(0, max(V1), size=k)\n",
    "y = np.random.randint(0, max(V2), size=k)\n",
    "centroids = np.array(list(zip(x,y)), dtype=np.float32)\n",
    "centroids"
   ]
  },
  {
   "cell_type": "code",
   "execution_count": null,
   "metadata": {
    "id": "Ov-_Ia0K0AJi"
   },
   "outputs": [],
   "source": [
    "plt.scatter(V1, V2, c='black', marker='.',s=5, alpha=0.3)\n",
    "plt.scatter(x,y, marker='*', c='blue', s=200)\n",
    "plt.show()"
   ]
  },
  {
   "cell_type": "markdown",
   "metadata": {
    "id": "pqQru7cRCkE9"
   },
   "source": [
    "#### Find the nearest cluster for one data point\n",
    "\n",
    "1.   Randomly select initial data point (index) from the above loaded dataset \n",
    "2.   Get the V1 and V2 values of the initial data point (say f1 and f2)\n",
    "3.   Calculate the distance between the chosen point (f1,f2) to all the selected k cluster center point\n",
    "4.   Find which cluster center is nearest to the initial data point (f1,f2)\n",
    "\n",
    "\n",
    "\n"
   ]
  },
  {
   "cell_type": "code",
   "execution_count": null,
   "metadata": {
    "id": "JsIq8sYvkWCP"
   },
   "outputs": [],
   "source": [
    "df.shape[0]"
   ]
  },
  {
   "cell_type": "code",
   "execution_count": null,
   "metadata": {
    "id": "nRAodISVbslR"
   },
   "outputs": [],
   "source": [
    "df.head()"
   ]
  },
  {
   "cell_type": "code",
   "execution_count": null,
   "metadata": {
    "id": "a_HSwgjzb5bH"
   },
   "outputs": [],
   "source": [
    "f1, f2 = df.iloc[np.random.randint(0,3000),:]\n",
    "f1,f2"
   ]
  },
  {
   "cell_type": "code",
   "execution_count": null,
   "metadata": {
    "id": "jo3t7jtVcsyT"
   },
   "outputs": [],
   "source": [
    "centroids"
   ]
  },
  {
   "cell_type": "code",
   "execution_count": null,
   "metadata": {
    "id": "DiNhR12RfI4r"
   },
   "outputs": [],
   "source": [
    "[f1,f2]"
   ]
  },
  {
   "cell_type": "code",
   "execution_count": null,
   "metadata": {
    "id": "nVHNuWLIf_t9"
   },
   "outputs": [],
   "source": [
    "from scipy.spatial import distance\n",
    "\n",
    "def euclidian_distance(p1, p2):\n",
    "    return distance.euclidean(p1,p2)"
   ]
  },
  {
   "cell_type": "code",
   "execution_count": null,
   "metadata": {
    "id": "460P2Cu8cqbi"
   },
   "outputs": [],
   "source": [
    "f1, f2 = df.iloc[np.random.randint(0,3000),:]\n",
    "\n",
    "closest_centroid_index = 0\n",
    "nearest_distance = float(\"inf\")\n",
    "\n",
    "for index, each_point in enumerate(centroids):\n",
    "    actual_distance = euclidian_distance([f1,f2], each_point)\n",
    "    if actual_distance < nearest_distance:\n",
    "        nearest_distance = actual_distance\n",
    "        closest_centroid_index = index\n",
    "\n",
    "print(closest_centroid_index, nearest_distance)\n",
    "\n",
    "colors = ['red','green','blue']\n",
    "plt.scatter(V1, V2, c='black', marker='.',s=5, alpha=0.1)\n",
    "plt.scatter(x,y, marker='*', c=colors, s=200)\n",
    "plt.scatter(f1,f2, c=colors[closest_centroid_index])\n",
    "plt.show()"
   ]
  },
  {
   "cell_type": "markdown",
   "metadata": {
    "id": "y2aO37egJJDv"
   },
   "source": [
    "#### Apply the K-means algorithm"
   ]
  },
  {
   "cell_type": "code",
   "execution_count": null,
   "metadata": {
    "id": "hCLuwo9hntpT"
   },
   "outputs": [],
   "source": [
    "from sklearn.cluster import KMeans\n",
    "\n",
    "clf = KMeans(n_clusters=2)\n",
    "labels = clf.fit_predict(df[['V1','V2']])"
   ]
  },
  {
   "cell_type": "code",
   "execution_count": null,
   "metadata": {
    "id": "LNVyOkA2lc3d"
   },
   "outputs": [],
   "source": [
    "labels"
   ]
  },
  {
   "cell_type": "code",
   "execution_count": null,
   "metadata": {
    "id": "iqYHNUY5lXlT"
   },
   "outputs": [],
   "source": [
    "len(labels)"
   ]
  },
  {
   "cell_type": "code",
   "execution_count": null,
   "metadata": {
    "id": "7KheSlUFlzPn"
   },
   "outputs": [],
   "source": [
    "set(labels)"
   ]
  },
  {
   "cell_type": "markdown",
   "metadata": {
    "id": "fFCIAWODOIez"
   },
   "source": [
    "#### Elbow method\n",
    "\n",
    "\n",
    "1. With k values ranging from 1-10, fit K-means model with the data\n",
    "2. Store the distortions of the K-means model (model.inertia_)\n",
    "3. Plot the distortions and observe elbow point"
   ]
  },
  {
   "cell_type": "code",
   "execution_count": null,
   "metadata": {
    "id": "01Rvu7chS9M0"
   },
   "outputs": [],
   "source": [
    "cluster_variation = []\n",
    "\n",
    "k_range = range(1,11)\n",
    "\n",
    "for k in k_range:\n",
    "    clf = KMeans(n_clusters=k)\n",
    "    clf.fit(df[['V1','V2']])\n",
    "    cluster_variation.append(clf.inertia_)"
   ]
  },
  {
   "cell_type": "code",
   "execution_count": null,
   "metadata": {
    "id": "LaE0wJNjmfFJ"
   },
   "outputs": [],
   "source": [
    "cluster_variation"
   ]
  },
  {
   "cell_type": "code",
   "execution_count": null,
   "metadata": {
    "id": "vsCDH9vHmg8r"
   },
   "outputs": [],
   "source": [
    "plt.plot(k_range, cluster_variation, 'bx-')\n",
    "plt.xlabel('k value')\n",
    "plt.ylabel('Inertia')\n",
    "plt.title('The Elbow method showing the optimal K')\n",
    "plt.show()"
   ]
  },
  {
   "cell_type": "markdown",
   "metadata": {
    "id": "Z8DHtYXCOwm6"
   },
   "source": [
    "#### Perform the K-means algorithm\n",
    "\n",
    "\n",
    "1.   Find the best k value from the above elbow method \n",
    "2.   Fit and predict the features with the K-means algorithm and get the label for each feature"
   ]
  },
  {
   "cell_type": "code",
   "execution_count": null,
   "metadata": {
    "id": "vftHWLyTiJx3"
   },
   "outputs": [],
   "source": [
    "clf = KMeans(n_clusters=3)\n",
    "labels = clf.fit_predict(df[['V1','V2']])"
   ]
  },
  {
   "cell_type": "code",
   "execution_count": null,
   "metadata": {
    "id": "bJx2bFybnkgc"
   },
   "outputs": [],
   "source": [
    "set(labels)"
   ]
  },
  {
   "cell_type": "code",
   "execution_count": null,
   "metadata": {
    "id": "ATghIEinoCMW"
   },
   "outputs": [],
   "source": [
    "centers = clf.cluster_centers_\n",
    "cx = centers[:, 0]\n",
    "cy = centers[:, 1]"
   ]
  },
  {
   "cell_type": "code",
   "execution_count": null,
   "metadata": {
    "id": "Df_m_fg2jlhC"
   },
   "outputs": [],
   "source": [
    "plt.scatter(V1, V2, c=labels, cmap='viridis', marker='.', s=5, alpha=0.5)\n",
    "plt.scatter(cx, cy, marker='*', c='red', s=200,alpha=0.7)\n",
    "plt.show()"
   ]
  },
  {
   "cell_type": "markdown",
   "metadata": {
    "id": "4c8tV-1FCzxz"
   },
   "source": [
    "#### Plot the Dendrogram using V1 and V2 values from the given data"
   ]
  },
  {
   "cell_type": "code",
   "execution_count": null,
   "metadata": {
    "id": "FgeSjVLOg5K-"
   },
   "outputs": [],
   "source": [
    "import scipy.cluster.hierarchy as sch \n",
    "\n",
    "plt.figure(figsize=(20,15))\n",
    "sch.dendrogram(sch.linkage(df[['V1','V2']], method='ward'))\n",
    "plt.show()"
   ]
  },
  {
   "cell_type": "markdown",
   "metadata": {
    "id": "ze7gcqyFC2qs"
   },
   "source": [
    "#### Agglomerative clustering"
   ]
  },
  {
   "cell_type": "code",
   "execution_count": null,
   "metadata": {
    "id": "PsGeXCe1hny6"
   },
   "outputs": [],
   "source": [
    "from sklearn.cluster import AgglomerativeClustering\n",
    "model = AgglomerativeClustering(n_clusters=3, affinity='euclidean', linkage='ward')\n",
    "labels = model.fit_predict(df[['V1','V2']])"
   ]
  },
  {
   "cell_type": "code",
   "execution_count": null,
   "metadata": {
    "id": "GBCpcrwRpxNO"
   },
   "outputs": [],
   "source": [
    "labels"
   ]
  },
  {
   "cell_type": "code",
   "execution_count": null,
   "metadata": {
    "id": "mU6Gfj0UpuUY"
   },
   "outputs": [],
   "source": [
    "model.children_"
   ]
  }
 ],
 "metadata": {
  "colab": {
   "collapsed_sections": [],
   "name": "W6_2_Unsupervised_Learning.ipynb",
   "private_outputs": true,
   "provenance": []
  },
  "kernelspec": {
   "display_name": "Python 3",
   "language": "python",
   "name": "python3"
  },
  "language_info": {
   "codemirror_mode": {
    "name": "ipython",
    "version": 3
   },
   "file_extension": ".py",
   "mimetype": "text/x-python",
   "name": "python",
   "nbconvert_exporter": "python",
   "pygments_lexer": "ipython3",
   "version": "3.8.8"
  }
 },
 "nbformat": 4,
 "nbformat_minor": 1
}
