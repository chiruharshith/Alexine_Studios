{
 "cells": [
  {
   "cell_type": "markdown",
   "metadata": {
    "id": "Dk_I-E6pl05S"
   },
   "source": [
    "# Alexine Studios"
   ]
  },
  {
   "cell_type": "markdown",
   "metadata": {
    "id": "irJjJrpeXu93"
   },
   "source": [
    "## Dataset"
   ]
  },
  {
   "cell_type": "markdown",
   "metadata": {
    "id": "11N105gaX0vI"
   },
   "source": [
    "**Boston Housing dataset**\n",
    "\n",
    "The dataset contains 506 rows and 14 columns. It consists of price of houses in various locations in Boston. Along with price, the dataset also provides information such as :\n",
    "\n",
    "* CRIM - per capita crime rate by town.\n",
    "* ZN - proportion of residential land zoned for lots over 25,000 sq.ft.\n",
    "* INDUS - proportion of non-retail business acres per town.\n",
    "* CHAS- Charles River dummy variable (= 1 if tract bounds river; 0 otherwise).\n",
    "* NOX - nitrogen oxides concentration (parts per 10 million).\n",
    "* RM - average number of rooms per dwelling.\n",
    "* AGE - proportion of owner-occupied units built prior to 1940.\n",
    "* DIS - weighted mean of distances to five Boston employment centres.\n",
    "* RAD - index of accessibility to radial highways.\n",
    "* TAX - full-value property-tax rate per $10,000$.\n",
    "* PTRATIO - pupil-teacher ratio by town.\n",
    "* B - 1000(Bk - 0.63)^2 where Bk is the proportion of blacks by town.\n",
    "* LSTAT - Percentage of lower status of the population\n",
    "* MEDV - Median value of owner-occupied homes in $1000s\n",
    "\n",
    "* Target Value: House Price"
   ]
  },
  {
   "cell_type": "markdown",
   "metadata": {
    "id": "aQafr7q5eYKn"
   },
   "source": [
    "### Importing Required Packages"
   ]
  },
  {
   "cell_type": "code",
   "execution_count": 1,
   "metadata": {
    "id": "pGyxdqS0ecSd"
   },
   "outputs": [],
   "source": [
    "import pandas as pd\n",
    "import matplotlib.pyplot as plt\n",
    "import numpy as np"
   ]
  },
  {
   "cell_type": "markdown",
   "metadata": {
    "id": "w9c98b_mJ0Rl"
   },
   "source": [
    "### Loading the Datasets"
   ]
  },
  {
   "cell_type": "code",
   "execution_count": 2,
   "metadata": {
    "id": "4Azb7vVgfhsV"
   },
   "outputs": [],
   "source": [
    "# Loading the dataset from sklearn datasets package\n",
    "from sklearn.datasets import load_boston\n",
    "boston = load_boston()"
   ]
  },
  {
   "cell_type": "code",
   "execution_count": 3,
   "metadata": {
    "colab": {
     "base_uri": "https://localhost:8080/"
    },
    "executionInfo": {
     "elapsed": 9844,
     "status": "ok",
     "timestamp": 1620448716650,
     "user": {
      "displayName": "Harshith a",
      "photoUrl": "https://lh3.googleusercontent.com/a-/AOh14Gg1ydY-8sWUdly1ac69J0vS3b5r75JtQ5GIvAJc=s64",
      "userId": "11844310727840414540"
     },
     "user_tz": -330
    },
    "id": "3tcVwmDVfqNy",
    "outputId": "32f14f7d-d26e-45dd-ebb3-11c4da8c76e9"
   },
   "outputs": [
    {
     "data": {
      "text/plain": [
       "(506, 1)"
      ]
     },
     "execution_count": 3,
     "metadata": {},
     "output_type": "execute_result"
    }
   ],
   "source": [
    "# Consider only first data feature\n",
    "boston_data = boston.data[:, :1]\n",
    "boston_target = boston.target\n",
    "boston_data.shape"
   ]
  },
  {
   "cell_type": "markdown",
   "metadata": {
    "id": "4cEzyN75bImM"
   },
   "source": [
    "#### Create an object for Linear regression model"
   ]
  },
  {
   "cell_type": "code",
   "execution_count": 4,
   "metadata": {
    "id": "bt8hcbkGbHMU"
   },
   "outputs": [],
   "source": [
    "from sklearn.model_selection import train_test_split\n",
    "from sklearn.linear_model import LinearRegression\n",
    "reg = LinearRegression()"
   ]
  },
  {
   "cell_type": "code",
   "execution_count": 5,
   "metadata": {
    "colab": {
     "base_uri": "https://localhost:8080/"
    },
    "executionInfo": {
     "elapsed": 888,
     "status": "ok",
     "timestamp": 1620448759467,
     "user": {
      "displayName": "Harshith a",
      "photoUrl": "https://lh3.googleusercontent.com/a-/AOh14Gg1ydY-8sWUdly1ac69J0vS3b5r75JtQ5GIvAJc=s64",
      "userId": "11844310727840414540"
     },
     "user_tz": -330
    },
    "id": "pZn3HwAmfXH5",
    "outputId": "c314dba1-481c-457d-d02e-6cf3d3279441"
   },
   "outputs": [
    {
     "name": "stdout",
     "output_type": "stream",
     "text": [
      "(102,)\n"
     ]
    }
   ],
   "source": [
    "# Split the data into train and test sets\n",
    "X_train, X_test, y_train, y_test = train_test_split(boston_data, boston_target, test_size=0.2)\n",
    "\n",
    "# Fit the model\n",
    "reg.fit(X_train, y_train)\n",
    "\n",
    "# Predict the model with test data\n",
    "predictions = reg.predict(X_test)\n",
    "print(predictions.shape)"
   ]
  }
 ],
 "metadata": {
  "colab": {
   "collapsed_sections": [],
   "name": "U1W2_06_Linear_Regression_Multi_Datasets.ipynb",
   "provenance": []
  },
  "kernelspec": {
   "display_name": "Python 3",
   "language": "python",
   "name": "python3"
  },
  "language_info": {
   "codemirror_mode": {
    "name": "ipython",
    "version": 3
   },
   "file_extension": ".py",
   "mimetype": "text/x-python",
   "name": "python",
   "nbconvert_exporter": "python",
   "pygments_lexer": "ipython3",
   "version": "3.8.8"
  }
 },
 "nbformat": 4,
 "nbformat_minor": 1
}
