{
 "cells": [
  {
   "cell_type": "markdown",
   "metadata": {
    "id": "Dk_I-E6pl05S"
   },
   "source": [
    "# Alexine Studios"
   ]
  },
  {
   "cell_type": "markdown",
   "metadata": {
    "id": "FhA-4D7SrIpo"
   },
   "source": [
    "## Download Dataset"
   ]
  },
  {
   "cell_type": "code",
   "execution_count": null,
   "metadata": {
    "id": "DrAZGKNorOH8"
   },
   "outputs": [],
   "source": [
    "!mkdir datasets\n",
    "!wget -qq https://github.com/chiruharshith/Alexine_Studios/blob/main/datasets/five_states.csv -P datasets"
   ]
  },
  {
   "cell_type": "code",
   "execution_count": 1,
   "metadata": {
    "colab": {
     "base_uri": "https://localhost:8080/",
     "height": 35
    },
    "executionInfo": {
     "elapsed": 2153,
     "status": "ok",
     "timestamp": 1618938389630,
     "user": {
      "displayName": "Harshith a",
      "photoUrl": "https://lh3.googleusercontent.com/a-/AOh14Gg1ydY-8sWUdly1ac69J0vS3b5r75JtQ5GIvAJc=s64",
      "userId": "11844310727840414540"
     },
     "user_tz": -330
    },
    "id": "ow3xX_gvXUM0",
    "outputId": "efc82bbc-9d21-4b6d-95dc-7f484504e263"
   },
   "outputs": [
    {
     "data": {
      "text/plain": [
       "'1.2.4'"
      ]
     },
     "execution_count": 1,
     "metadata": {},
     "output_type": "execute_result"
    }
   ],
   "source": [
    "# Import pandas and check for the version\n",
    "import pandas as pd\n",
    "pd.__version__"
   ]
  },
  {
   "cell_type": "code",
   "execution_count": 32,
   "metadata": {
    "colab": {
     "base_uri": "https://localhost:8080/",
     "height": 198
    },
    "executionInfo": {
     "elapsed": 1352,
     "status": "ok",
     "timestamp": 1618745705569,
     "user": {
      "displayName": "Bindu Narne",
      "photoUrl": "",
      "userId": "18023964240583646870"
     },
     "user_tz": -330
    },
    "id": "EIzO1BS2cTBO",
    "outputId": "85107069-7b3a-42cf-8dad-4ae63758c1ad"
   },
   "outputs": [
    {
     "data": {
      "text/html": [
       "<div>\n",
       "<style scoped>\n",
       "    .dataframe tbody tr th:only-of-type {\n",
       "        vertical-align: middle;\n",
       "    }\n",
       "\n",
       "    .dataframe tbody tr th {\n",
       "        vertical-align: top;\n",
       "    }\n",
       "\n",
       "    .dataframe thead th {\n",
       "        text-align: right;\n",
       "    }\n",
       "</style>\n",
       "<table border=\"1\" class=\"dataframe\">\n",
       "  <thead>\n",
       "    <tr style=\"text-align: right;\">\n",
       "      <th></th>\n",
       "      <th>State Name</th>\n",
       "      <th>Capital</th>\n",
       "      <th>Area</th>\n",
       "      <th>Population</th>\n",
       "      <th>Largest City</th>\n",
       "    </tr>\n",
       "  </thead>\n",
       "  <tbody>\n",
       "    <tr>\n",
       "      <th>0</th>\n",
       "      <td>Karnataka</td>\n",
       "      <td>Bangalore</td>\n",
       "      <td>1,91,791 sq. km</td>\n",
       "      <td>6,11,30,704</td>\n",
       "      <td>Bengaluru</td>\n",
       "    </tr>\n",
       "    <tr>\n",
       "      <th>1</th>\n",
       "      <td>Tamil Nadu</td>\n",
       "      <td>Chennai</td>\n",
       "      <td>1,30,058 sq. km</td>\n",
       "      <td>7,21,38,958</td>\n",
       "      <td>Tamil</td>\n",
       "    </tr>\n",
       "    <tr>\n",
       "      <th>2</th>\n",
       "      <td>Telangana</td>\n",
       "      <td>Hyderabad</td>\n",
       "      <td>112,077 Sq. Kms</td>\n",
       "      <td>350.04 Lakhs</td>\n",
       "      <td>Hyderabad</td>\n",
       "    </tr>\n",
       "    <tr>\n",
       "      <th>3</th>\n",
       "      <td>Maharashtra</td>\n",
       "      <td>Mumbai</td>\n",
       "      <td>3,07,713 sq. km</td>\n",
       "      <td>11,23,72,972</td>\n",
       "      <td>Mumbai</td>\n",
       "    </tr>\n",
       "    <tr>\n",
       "      <th>4</th>\n",
       "      <td>Kerala</td>\n",
       "      <td>Thiruvananthapuram</td>\n",
       "      <td>38,863 sq. km</td>\n",
       "      <td>3,33,87,677</td>\n",
       "      <td>Malappuram</td>\n",
       "    </tr>\n",
       "  </tbody>\n",
       "</table>\n",
       "</div>"
      ],
      "text/plain": [
       "   State Name             Capital             Area     Population  \\\n",
       "0    Karnataka           Bangalore  1,91,791 sq. km   6,11,30,704   \n",
       "1   Tamil Nadu             Chennai  1,30,058 sq. km   7,21,38,958   \n",
       "2   Telangana            Hyderabad  112,077 Sq. Kms  350.04 Lakhs   \n",
       "3  Maharashtra             Mumbai   3,07,713 sq. km  11,23,72,972   \n",
       "4       Kerala  Thiruvananthapuram    38,863 sq. km   3,33,87,677   \n",
       "\n",
       "  Largest City   \n",
       "0     Bengaluru  \n",
       "1         Tamil  \n",
       "2     Hyderabad  \n",
       "3       Mumbai   \n",
       "4    Malappuram  "
      ]
     },
     "execution_count": 32,
     "metadata": {},
     "output_type": "execute_result"
    }
   ],
   "source": [
    "df = pd.read_csv(\"datasets/five_states.csv\")\n",
    "df"
   ]
  },
  {
   "cell_type": "code",
   "execution_count": 7,
   "metadata": {
    "colab": {
     "base_uri": "https://localhost:8080/",
     "height": 198
    },
    "executionInfo": {
     "elapsed": 1520,
     "status": "ok",
     "timestamp": 1618745710771,
     "user": {
      "displayName": "Bindu Narne",
      "photoUrl": "",
      "userId": "18023964240583646870"
     },
     "user_tz": -330
    },
    "id": "0MKc_I8yd1y_",
    "outputId": "a662c319-a7f0-4fab-b049-8eae99c8e393"
   },
   "outputs": [
    {
     "data": {
      "text/html": [
       "<div>\n",
       "<style scoped>\n",
       "    .dataframe tbody tr th:only-of-type {\n",
       "        vertical-align: middle;\n",
       "    }\n",
       "\n",
       "    .dataframe tbody tr th {\n",
       "        vertical-align: top;\n",
       "    }\n",
       "\n",
       "    .dataframe thead th {\n",
       "        text-align: right;\n",
       "    }\n",
       "</style>\n",
       "<table border=\"1\" class=\"dataframe\">\n",
       "  <thead>\n",
       "    <tr style=\"text-align: right;\">\n",
       "      <th></th>\n",
       "      <th>Capital</th>\n",
       "      <th>State Name</th>\n",
       "    </tr>\n",
       "  </thead>\n",
       "  <tbody>\n",
       "    <tr>\n",
       "      <th>0</th>\n",
       "      <td>Bangalore</td>\n",
       "      <td>Karnataka</td>\n",
       "    </tr>\n",
       "    <tr>\n",
       "      <th>1</th>\n",
       "      <td>Chennai</td>\n",
       "      <td>Tamil Nadu</td>\n",
       "    </tr>\n",
       "    <tr>\n",
       "      <th>2</th>\n",
       "      <td>Hyderabad</td>\n",
       "      <td>Telangana</td>\n",
       "    </tr>\n",
       "    <tr>\n",
       "      <th>3</th>\n",
       "      <td>Mumbai</td>\n",
       "      <td>Maharashtra</td>\n",
       "    </tr>\n",
       "    <tr>\n",
       "      <th>4</th>\n",
       "      <td>Thiruvananthapuram</td>\n",
       "      <td>Kerala</td>\n",
       "    </tr>\n",
       "  </tbody>\n",
       "</table>\n",
       "</div>"
      ],
      "text/plain": [
       "             Capital   State Name \n",
       "0           Bangalore    Karnataka\n",
       "1             Chennai   Tamil Nadu\n",
       "2           Hyderabad   Telangana \n",
       "3             Mumbai   Maharashtra\n",
       "4  Thiruvananthapuram       Kerala"
      ]
     },
     "execution_count": 7,
     "metadata": {},
     "output_type": "execute_result"
    }
   ],
   "source": [
    "# Display only Capitals and States columns from the dataframe\n",
    "df[['Capital ','State Name ']]"
   ]
  },
  {
   "cell_type": "code",
   "execution_count": 33,
   "metadata": {},
   "outputs": [
    {
     "data": {
      "text/html": [
       "<div>\n",
       "<style scoped>\n",
       "    .dataframe tbody tr th:only-of-type {\n",
       "        vertical-align: middle;\n",
       "    }\n",
       "\n",
       "    .dataframe tbody tr th {\n",
       "        vertical-align: top;\n",
       "    }\n",
       "\n",
       "    .dataframe thead th {\n",
       "        text-align: right;\n",
       "    }\n",
       "</style>\n",
       "<table border=\"1\" class=\"dataframe\">\n",
       "  <thead>\n",
       "    <tr style=\"text-align: right;\">\n",
       "      <th></th>\n",
       "      <th>State Name</th>\n",
       "      <th>Capital</th>\n",
       "      <th>Area</th>\n",
       "      <th>Population</th>\n",
       "      <th>Largest City</th>\n",
       "    </tr>\n",
       "  </thead>\n",
       "  <tbody>\n",
       "    <tr>\n",
       "      <th>0</th>\n",
       "      <td>Karnataka</td>\n",
       "      <td>Bangalore</td>\n",
       "      <td>191791</td>\n",
       "      <td>61130704</td>\n",
       "      <td>Bengaluru</td>\n",
       "    </tr>\n",
       "    <tr>\n",
       "      <th>1</th>\n",
       "      <td>Tamil Nadu</td>\n",
       "      <td>Chennai</td>\n",
       "      <td>130058</td>\n",
       "      <td>72138958</td>\n",
       "      <td>Tamil</td>\n",
       "    </tr>\n",
       "    <tr>\n",
       "      <th>2</th>\n",
       "      <td>Telangana</td>\n",
       "      <td>Hyderabad</td>\n",
       "      <td>112077</td>\n",
       "      <td>35004</td>\n",
       "      <td>Hyderabad</td>\n",
       "    </tr>\n",
       "    <tr>\n",
       "      <th>3</th>\n",
       "      <td>Maharashtra</td>\n",
       "      <td>Mumbai</td>\n",
       "      <td>307713</td>\n",
       "      <td>112372972</td>\n",
       "      <td>Mumbai</td>\n",
       "    </tr>\n",
       "    <tr>\n",
       "      <th>4</th>\n",
       "      <td>Kerala</td>\n",
       "      <td>Thiruvananthapuram</td>\n",
       "      <td>38863</td>\n",
       "      <td>33387677</td>\n",
       "      <td>Malappuram</td>\n",
       "    </tr>\n",
       "  </tbody>\n",
       "</table>\n",
       "</div>"
      ],
      "text/plain": [
       "   State Name             Capital    Area  Population Largest City \n",
       "0    Karnataka           Bangalore  191791   61130704     Bengaluru\n",
       "1   Tamil Nadu             Chennai  130058   72138958         Tamil\n",
       "2   Telangana            Hyderabad  112077      35004     Hyderabad\n",
       "3  Maharashtra             Mumbai   307713  112372972       Mumbai \n",
       "4       Kerala  Thiruvananthapuram   38863   33387677    Malappuram"
      ]
     },
     "execution_count": 33,
     "metadata": {},
     "output_type": "execute_result"
    }
   ],
   "source": [
    "def removeAlpha(X):\n",
    "    return ''.join(filter(str.isdigit, X))\n",
    "\n",
    "df.Population = df.Population.apply(removeAlpha)\n",
    "df['Area '] = df['Area '].apply(removeAlpha)\n",
    "df"
   ]
  },
  {
   "cell_type": "markdown",
   "metadata": {
    "id": "ChcFlev1fvpa"
   },
   "source": [
    "### e) Change the count of visitors to 5500 for the row with the index value \"44,212\" in the dataframe"
   ]
  },
  {
   "cell_type": "code",
   "execution_count": 34,
   "metadata": {},
   "outputs": [
    {
     "data": {
      "text/plain": [
       "['191791', '130058', '112077', '307713', '38863']"
      ]
     },
     "execution_count": 34,
     "metadata": {},
     "output_type": "execute_result"
    }
   ],
   "source": [
    "list(df['Area '])"
   ]
  },
  {
   "cell_type": "code",
   "execution_count": 35,
   "metadata": {
    "colab": {
     "base_uri": "https://localhost:8080/",
     "height": 198
    },
    "executionInfo": {
     "elapsed": 1640,
     "status": "ok",
     "timestamp": 1618745731104,
     "user": {
      "displayName": "Bindu Narne",
      "photoUrl": "",
      "userId": "18023964240583646870"
     },
     "user_tz": -330
    },
    "id": "i_vSkiNc1CtL",
    "outputId": "db38733c-2a6b-4045-9d36-355be43deb3b"
   },
   "outputs": [
    {
     "data": {
      "text/html": [
       "<div>\n",
       "<style scoped>\n",
       "    .dataframe tbody tr th:only-of-type {\n",
       "        vertical-align: middle;\n",
       "    }\n",
       "\n",
       "    .dataframe tbody tr th {\n",
       "        vertical-align: top;\n",
       "    }\n",
       "\n",
       "    .dataframe thead th {\n",
       "        text-align: right;\n",
       "    }\n",
       "</style>\n",
       "<table border=\"1\" class=\"dataframe\">\n",
       "  <thead>\n",
       "    <tr style=\"text-align: right;\">\n",
       "      <th></th>\n",
       "      <th>State Name</th>\n",
       "      <th>Capital</th>\n",
       "      <th>Area</th>\n",
       "      <th>Population</th>\n",
       "      <th>Largest City</th>\n",
       "    </tr>\n",
       "  </thead>\n",
       "  <tbody>\n",
       "    <tr>\n",
       "      <th>0</th>\n",
       "      <td>Karnataka</td>\n",
       "      <td>Bangalore</td>\n",
       "      <td>191791</td>\n",
       "      <td>61130704</td>\n",
       "      <td>Bengaluru</td>\n",
       "    </tr>\n",
       "    <tr>\n",
       "      <th>1</th>\n",
       "      <td>Tamil Nadu</td>\n",
       "      <td>Chennai</td>\n",
       "      <td>130058</td>\n",
       "      <td>72138958</td>\n",
       "      <td>Tamil</td>\n",
       "    </tr>\n",
       "    <tr>\n",
       "      <th>2</th>\n",
       "      <td>Telangana</td>\n",
       "      <td>Hyderabad</td>\n",
       "      <td>112077</td>\n",
       "      <td>35004</td>\n",
       "      <td>Hyderabad</td>\n",
       "    </tr>\n",
       "    <tr>\n",
       "      <th>3</th>\n",
       "      <td>Maharashtra</td>\n",
       "      <td>Mumbai</td>\n",
       "      <td>307713</td>\n",
       "      <td>112372972</td>\n",
       "      <td>Mumbai</td>\n",
       "    </tr>\n",
       "    <tr>\n",
       "      <th>4</th>\n",
       "      <td>Kerala</td>\n",
       "      <td>Thiruvananthapuram</td>\n",
       "      <td>10000</td>\n",
       "      <td>33387677</td>\n",
       "      <td>Malappuram</td>\n",
       "    </tr>\n",
       "  </tbody>\n",
       "</table>\n",
       "</div>"
      ],
      "text/plain": [
       "   State Name             Capital    Area  Population Largest City \n",
       "0    Karnataka           Bangalore  191791   61130704     Bengaluru\n",
       "1   Tamil Nadu             Chennai  130058   72138958         Tamil\n",
       "2   Telangana            Hyderabad  112077      35004     Hyderabad\n",
       "3  Maharashtra             Mumbai   307713  112372972       Mumbai \n",
       "4       Kerala  Thiruvananthapuram   10000   33387677    Malappuram"
      ]
     },
     "execution_count": 35,
     "metadata": {},
     "output_type": "execute_result"
    }
   ],
   "source": [
    "df.at[4,'Area '] = 10000\n",
    "df"
   ]
  },
  {
   "cell_type": "code",
   "execution_count": 40,
   "metadata": {},
   "outputs": [],
   "source": [
    "df = df.set_index('State Name ')"
   ]
  },
  {
   "cell_type": "code",
   "execution_count": 50,
   "metadata": {
    "colab": {
     "base_uri": "https://localhost:8080/"
    },
    "executionInfo": {
     "elapsed": 1759,
     "status": "ok",
     "timestamp": 1618745794365,
     "user": {
      "displayName": "Bindu Narne",
      "photoUrl": "",
      "userId": "18023964240583646870"
     },
     "user_tz": -330
    },
    "id": "Vdsg6g5BaeOK",
    "outputId": "faf0c22d-341e-4313-ec42-6bd4bd720baf"
   },
   "outputs": [
    {
     "data": {
      "text/plain": [
       "'Malappuram'"
      ]
     },
     "execution_count": 50,
     "metadata": {},
     "output_type": "execute_result"
    }
   ],
   "source": [
    "df['Largest City ']['Kerala']"
   ]
  }
 ],
 "metadata": {
  "colab": {
   "collapsed_sections": [],
   "name": "Solution_U1W1_04_Introduction_to_Pandas_2.ipynb",
   "provenance": []
  },
  "kernelspec": {
   "display_name": "Python 3",
   "language": "python",
   "name": "python3"
  },
  "language_info": {
   "codemirror_mode": {
    "name": "ipython",
    "version": 3
   },
   "file_extension": ".py",
   "mimetype": "text/x-python",
   "name": "python",
   "nbconvert_exporter": "python",
   "pygments_lexer": "ipython3",
   "version": "3.8.8"
  }
 },
 "nbformat": 4,
 "nbformat_minor": 1
}
