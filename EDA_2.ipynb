{
 "cells": [
  {
   "cell_type": "markdown",
   "metadata": {
    "id": "Dk_I-E6pl05S"
   },
   "source": [
    "# Alexine Studios"
   ]
  },
  {
   "cell_type": "code",
   "execution_count": null,
   "metadata": {},
   "outputs": [],
   "source": [
    "!wget -qq https://raw.githubusercontent.com/chiruharshith/Alexine_Studios/main/datasets/cruise_ship_info.csv"
   ]
  },
  {
   "cell_type": "code",
   "execution_count": 1,
   "metadata": {
    "colab": {},
    "colab_type": "code",
    "id": "vwvcqRIHX8Ke"
   },
   "outputs": [],
   "source": [
    "# Importing all the required packages\n",
    "\n",
    "import numpy as np\n",
    "import pandas as pd\n",
    "import seaborn as sns\n",
    "import matplotlib.pyplot as plt"
   ]
  },
  {
   "cell_type": "markdown",
   "metadata": {
    "colab_type": "text",
    "id": "d2F3Y1_FYHIk"
   },
   "source": [
    "### Read the data using pandas dataframe\n"
   ]
  },
  {
   "cell_type": "code",
   "execution_count": 2,
   "metadata": {
    "colab": {},
    "colab_type": "code",
    "id": "9Ir3j-V5X88m"
   },
   "outputs": [],
   "source": [
    "data = pd.read_csv('datasets/cruise_ship_info.csv')"
   ]
  },
  {
   "cell_type": "markdown",
   "metadata": {
    "colab_type": "text",
    "id": "SmsKw77BbNl1"
   },
   "source": [
    "### Exercise 01: For the given dataset, perform the following:\n",
    "1. Display first 5 and last 5 entries from the dataset\n",
    "2. Check for null values in the dataset"
   ]
  },
  {
   "cell_type": "code",
   "execution_count": 3,
   "metadata": {
    "colab": {},
    "colab_type": "code",
    "id": "XpxqfsfAsJ6U"
   },
   "outputs": [
    {
     "data": {
      "text/html": [
       "<div>\n",
       "<style scoped>\n",
       "    .dataframe tbody tr th:only-of-type {\n",
       "        vertical-align: middle;\n",
       "    }\n",
       "\n",
       "    .dataframe tbody tr th {\n",
       "        vertical-align: top;\n",
       "    }\n",
       "\n",
       "    .dataframe thead th {\n",
       "        text-align: right;\n",
       "    }\n",
       "</style>\n",
       "<table border=\"1\" class=\"dataframe\">\n",
       "  <thead>\n",
       "    <tr style=\"text-align: right;\">\n",
       "      <th></th>\n",
       "      <th>Ship_name</th>\n",
       "      <th>Cruise_line</th>\n",
       "      <th>Age</th>\n",
       "      <th>Tonnage</th>\n",
       "      <th>passengers</th>\n",
       "      <th>length</th>\n",
       "      <th>cabins</th>\n",
       "      <th>passenger_density</th>\n",
       "      <th>crew</th>\n",
       "    </tr>\n",
       "  </thead>\n",
       "  <tbody>\n",
       "    <tr>\n",
       "      <th>0</th>\n",
       "      <td>Journey</td>\n",
       "      <td>Azamara</td>\n",
       "      <td>6</td>\n",
       "      <td>30.277</td>\n",
       "      <td>6.94</td>\n",
       "      <td>5.94</td>\n",
       "      <td>3.55</td>\n",
       "      <td>42.64</td>\n",
       "      <td>3.55</td>\n",
       "    </tr>\n",
       "    <tr>\n",
       "      <th>1</th>\n",
       "      <td>Quest</td>\n",
       "      <td>Azamara</td>\n",
       "      <td>6</td>\n",
       "      <td>30.277</td>\n",
       "      <td>6.94</td>\n",
       "      <td>5.94</td>\n",
       "      <td>3.55</td>\n",
       "      <td>42.64</td>\n",
       "      <td>3.55</td>\n",
       "    </tr>\n",
       "    <tr>\n",
       "      <th>2</th>\n",
       "      <td>Celebration</td>\n",
       "      <td>Carnival</td>\n",
       "      <td>26</td>\n",
       "      <td>47.262</td>\n",
       "      <td>14.86</td>\n",
       "      <td>7.22</td>\n",
       "      <td>7.43</td>\n",
       "      <td>31.80</td>\n",
       "      <td>6.70</td>\n",
       "    </tr>\n",
       "    <tr>\n",
       "      <th>3</th>\n",
       "      <td>Conquest</td>\n",
       "      <td>Carnival</td>\n",
       "      <td>11</td>\n",
       "      <td>110.000</td>\n",
       "      <td>29.74</td>\n",
       "      <td>9.53</td>\n",
       "      <td>14.88</td>\n",
       "      <td>36.99</td>\n",
       "      <td>19.10</td>\n",
       "    </tr>\n",
       "    <tr>\n",
       "      <th>4</th>\n",
       "      <td>Destiny</td>\n",
       "      <td>Carnival</td>\n",
       "      <td>17</td>\n",
       "      <td>101.353</td>\n",
       "      <td>26.42</td>\n",
       "      <td>8.92</td>\n",
       "      <td>13.21</td>\n",
       "      <td>38.36</td>\n",
       "      <td>10.00</td>\n",
       "    </tr>\n",
       "  </tbody>\n",
       "</table>\n",
       "</div>"
      ],
      "text/plain": [
       "     Ship_name Cruise_line  Age  Tonnage  passengers  length  cabins  \\\n",
       "0      Journey     Azamara    6   30.277        6.94    5.94    3.55   \n",
       "1        Quest     Azamara    6   30.277        6.94    5.94    3.55   \n",
       "2  Celebration    Carnival   26   47.262       14.86    7.22    7.43   \n",
       "3     Conquest    Carnival   11  110.000       29.74    9.53   14.88   \n",
       "4      Destiny    Carnival   17  101.353       26.42    8.92   13.21   \n",
       "\n",
       "   passenger_density   crew  \n",
       "0              42.64   3.55  \n",
       "1              42.64   3.55  \n",
       "2              31.80   6.70  \n",
       "3              36.99  19.10  \n",
       "4              38.36  10.00  "
      ]
     },
     "execution_count": 3,
     "metadata": {},
     "output_type": "execute_result"
    }
   ],
   "source": [
    "data.head()"
   ]
  },
  {
   "cell_type": "code",
   "execution_count": 4,
   "metadata": {
    "colab": {},
    "colab_type": "code",
    "id": "pN4HoXEiYWT9"
   },
   "outputs": [
    {
     "data": {
      "text/html": [
       "<div>\n",
       "<style scoped>\n",
       "    .dataframe tbody tr th:only-of-type {\n",
       "        vertical-align: middle;\n",
       "    }\n",
       "\n",
       "    .dataframe tbody tr th {\n",
       "        vertical-align: top;\n",
       "    }\n",
       "\n",
       "    .dataframe thead th {\n",
       "        text-align: right;\n",
       "    }\n",
       "</style>\n",
       "<table border=\"1\" class=\"dataframe\">\n",
       "  <thead>\n",
       "    <tr style=\"text-align: right;\">\n",
       "      <th></th>\n",
       "      <th>Ship_name</th>\n",
       "      <th>Cruise_line</th>\n",
       "      <th>Age</th>\n",
       "      <th>Tonnage</th>\n",
       "      <th>passengers</th>\n",
       "      <th>length</th>\n",
       "      <th>cabins</th>\n",
       "      <th>passenger_density</th>\n",
       "      <th>crew</th>\n",
       "    </tr>\n",
       "  </thead>\n",
       "  <tbody>\n",
       "    <tr>\n",
       "      <th>153</th>\n",
       "      <td>Taurus</td>\n",
       "      <td>Star</td>\n",
       "      <td>22</td>\n",
       "      <td>3.341</td>\n",
       "      <td>0.66</td>\n",
       "      <td>2.79</td>\n",
       "      <td>0.33</td>\n",
       "      <td>50.62</td>\n",
       "      <td>0.59</td>\n",
       "    </tr>\n",
       "    <tr>\n",
       "      <th>154</th>\n",
       "      <td>Virgo</td>\n",
       "      <td>Star</td>\n",
       "      <td>14</td>\n",
       "      <td>76.800</td>\n",
       "      <td>19.60</td>\n",
       "      <td>8.79</td>\n",
       "      <td>9.67</td>\n",
       "      <td>39.18</td>\n",
       "      <td>12.00</td>\n",
       "    </tr>\n",
       "    <tr>\n",
       "      <th>155</th>\n",
       "      <td>Spirit</td>\n",
       "      <td>Windstar</td>\n",
       "      <td>25</td>\n",
       "      <td>5.350</td>\n",
       "      <td>1.58</td>\n",
       "      <td>4.40</td>\n",
       "      <td>0.74</td>\n",
       "      <td>33.86</td>\n",
       "      <td>0.88</td>\n",
       "    </tr>\n",
       "    <tr>\n",
       "      <th>156</th>\n",
       "      <td>Star</td>\n",
       "      <td>Windstar</td>\n",
       "      <td>27</td>\n",
       "      <td>5.350</td>\n",
       "      <td>1.67</td>\n",
       "      <td>4.40</td>\n",
       "      <td>0.74</td>\n",
       "      <td>32.04</td>\n",
       "      <td>0.88</td>\n",
       "    </tr>\n",
       "    <tr>\n",
       "      <th>157</th>\n",
       "      <td>Surf</td>\n",
       "      <td>Windstar</td>\n",
       "      <td>23</td>\n",
       "      <td>14.745</td>\n",
       "      <td>3.08</td>\n",
       "      <td>6.17</td>\n",
       "      <td>1.56</td>\n",
       "      <td>47.87</td>\n",
       "      <td>1.80</td>\n",
       "    </tr>\n",
       "  </tbody>\n",
       "</table>\n",
       "</div>"
      ],
      "text/plain": [
       "    Ship_name Cruise_line  Age  Tonnage  passengers  length  cabins  \\\n",
       "153    Taurus        Star   22    3.341        0.66    2.79    0.33   \n",
       "154     Virgo        Star   14   76.800       19.60    8.79    9.67   \n",
       "155    Spirit    Windstar   25    5.350        1.58    4.40    0.74   \n",
       "156      Star    Windstar   27    5.350        1.67    4.40    0.74   \n",
       "157      Surf    Windstar   23   14.745        3.08    6.17    1.56   \n",
       "\n",
       "     passenger_density   crew  \n",
       "153              50.62   0.59  \n",
       "154              39.18  12.00  \n",
       "155              33.86   0.88  \n",
       "156              32.04   0.88  \n",
       "157              47.87   1.80  "
      ]
     },
     "execution_count": 4,
     "metadata": {},
     "output_type": "execute_result"
    }
   ],
   "source": [
    "# YOUR CODE HERE\n",
    "data.tail()"
   ]
  },
  {
   "cell_type": "code",
   "execution_count": 5,
   "metadata": {
    "colab": {},
    "colab_type": "code",
    "id": "Jo-CxRWibnjS"
   },
   "outputs": [
    {
     "data": {
      "text/plain": [
       "Ship_name            0\n",
       "Cruise_line          0\n",
       "Age                  0\n",
       "Tonnage              0\n",
       "passengers           0\n",
       "length               0\n",
       "cabins               0\n",
       "passenger_density    0\n",
       "crew                 0\n",
       "dtype: int64"
      ]
     },
     "execution_count": 5,
     "metadata": {},
     "output_type": "execute_result"
    }
   ],
   "source": [
    "data.isna().sum()\n",
    "#data doesn't have any NULL"
   ]
  },
  {
   "cell_type": "markdown",
   "metadata": {
    "colab_type": "text",
    "id": "0K3TsejSf-96"
   },
   "source": [
    "### Exercise 02: For the given data, perform the following\n",
    "* Take 'Cruise_line' as target variable \n",
    "* Groupby 'Cruise_line' column and find mean \n",
    "* Transpose the mean of grouped dataframe and assign to new dataframe\n",
    "* Consider only four classes 'Azamara', 'Carnival', 'Celebrity', 'Costa' from the 'Curise_line' column using iloc and drop the remaining classes \n",
    "* After dropping the classes from the 'Cruise_line' perform the stack bar plot\n"
   ]
  },
  {
   "cell_type": "code",
   "execution_count": 6,
   "metadata": {
    "colab": {},
    "colab_type": "code",
    "id": "EXOt_WcK5XoG"
   },
   "outputs": [
    {
     "data": {
      "text/html": [
       "<div>\n",
       "<style scoped>\n",
       "    .dataframe tbody tr th:only-of-type {\n",
       "        vertical-align: middle;\n",
       "    }\n",
       "\n",
       "    .dataframe tbody tr th {\n",
       "        vertical-align: top;\n",
       "    }\n",
       "\n",
       "    .dataframe thead th {\n",
       "        text-align: right;\n",
       "    }\n",
       "</style>\n",
       "<table border=\"1\" class=\"dataframe\">\n",
       "  <thead>\n",
       "    <tr style=\"text-align: right;\">\n",
       "      <th>Cruise_line</th>\n",
       "      <th>Azamara</th>\n",
       "      <th>Carnival</th>\n",
       "      <th>Celebrity</th>\n",
       "      <th>Costa</th>\n",
       "      <th>Crystal</th>\n",
       "      <th>Cunard</th>\n",
       "      <th>Disney</th>\n",
       "      <th>Holland_American</th>\n",
       "      <th>MSC</th>\n",
       "      <th>Norwegian</th>\n",
       "      <th>Oceania</th>\n",
       "      <th>Orient</th>\n",
       "      <th>P&amp;O</th>\n",
       "      <th>Princess</th>\n",
       "      <th>Regent_Seven_Seas</th>\n",
       "      <th>Royal_Caribbean</th>\n",
       "      <th>Seabourn</th>\n",
       "      <th>Silversea</th>\n",
       "      <th>Star</th>\n",
       "      <th>Windstar</th>\n",
       "    </tr>\n",
       "  </thead>\n",
       "  <tbody>\n",
       "    <tr>\n",
       "      <th>Age</th>\n",
       "      <td>6.000</td>\n",
       "      <td>15.227273</td>\n",
       "      <td>13.7000</td>\n",
       "      <td>16.181818</td>\n",
       "      <td>14.000</td>\n",
       "      <td>20.000000</td>\n",
       "      <td>14.500</td>\n",
       "      <td>17.071429</td>\n",
       "      <td>15.12500</td>\n",
       "      <td>17.461538</td>\n",
       "      <td>14.333333</td>\n",
       "      <td>48.00</td>\n",
       "      <td>14.000000</td>\n",
       "      <td>12.941176</td>\n",
       "      <td>15.800</td>\n",
       "      <td>13.652174</td>\n",
       "      <td>24.00</td>\n",
       "      <td>15.750</td>\n",
       "      <td>19.166667</td>\n",
       "      <td>25.000000</td>\n",
       "    </tr>\n",
       "    <tr>\n",
       "      <th>Tonnage</th>\n",
       "      <td>30.277</td>\n",
       "      <td>84.652727</td>\n",
       "      <td>76.1586</td>\n",
       "      <td>71.096545</td>\n",
       "      <td>59.502</td>\n",
       "      <td>103.909000</td>\n",
       "      <td>83.169</td>\n",
       "      <td>60.501214</td>\n",
       "      <td>63.77225</td>\n",
       "      <td>63.716615</td>\n",
       "      <td>30.277000</td>\n",
       "      <td>22.08</td>\n",
       "      <td>77.858833</td>\n",
       "      <td>87.538000</td>\n",
       "      <td>32.140</td>\n",
       "      <td>107.011000</td>\n",
       "      <td>10.00</td>\n",
       "      <td>20.900</td>\n",
       "      <td>30.771333</td>\n",
       "      <td>8.481667</td>\n",
       "    </tr>\n",
       "    <tr>\n",
       "      <th>passengers</th>\n",
       "      <td>6.940</td>\n",
       "      <td>23.458182</td>\n",
       "      <td>17.9800</td>\n",
       "      <td>19.200000</td>\n",
       "      <td>10.100</td>\n",
       "      <td>21.370000</td>\n",
       "      <td>17.500</td>\n",
       "      <td>14.213571</td>\n",
       "      <td>18.87875</td>\n",
       "      <td>17.876923</td>\n",
       "      <td>6.840000</td>\n",
       "      <td>8.26</td>\n",
       "      <td>20.820000</td>\n",
       "      <td>21.618824</td>\n",
       "      <td>5.208</td>\n",
       "      <td>28.849565</td>\n",
       "      <td>2.08</td>\n",
       "      <td>3.405</td>\n",
       "      <td>9.431667</td>\n",
       "      <td>2.110000</td>\n",
       "    </tr>\n",
       "    <tr>\n",
       "      <th>length</th>\n",
       "      <td>5.940</td>\n",
       "      <td>8.898636</td>\n",
       "      <td>8.4180</td>\n",
       "      <td>8.138182</td>\n",
       "      <td>7.855</td>\n",
       "      <td>10.196667</td>\n",
       "      <td>9.640</td>\n",
       "      <td>7.863571</td>\n",
       "      <td>8.12125</td>\n",
       "      <td>8.056154</td>\n",
       "      <td>5.940000</td>\n",
       "      <td>5.78</td>\n",
       "      <td>8.640000</td>\n",
       "      <td>8.733529</td>\n",
       "      <td>5.776</td>\n",
       "      <td>9.655217</td>\n",
       "      <td>4.40</td>\n",
       "      <td>5.555</td>\n",
       "      <td>5.445000</td>\n",
       "      <td>4.990000</td>\n",
       "    </tr>\n",
       "    <tr>\n",
       "      <th>cabins</th>\n",
       "      <td>3.550</td>\n",
       "      <td>11.559091</td>\n",
       "      <td>8.0640</td>\n",
       "      <td>9.257273</td>\n",
       "      <td>5.150</td>\n",
       "      <td>10.376667</td>\n",
       "      <td>8.750</td>\n",
       "      <td>7.099286</td>\n",
       "      <td>8.76000</td>\n",
       "      <td>8.807692</td>\n",
       "      <td>3.420000</td>\n",
       "      <td>4.25</td>\n",
       "      <td>9.790000</td>\n",
       "      <td>10.615294</td>\n",
       "      <td>2.058</td>\n",
       "      <td>13.125217</td>\n",
       "      <td>1.04</td>\n",
       "      <td>1.710</td>\n",
       "      <td>4.915000</td>\n",
       "      <td>1.013333</td>\n",
       "    </tr>\n",
       "  </tbody>\n",
       "</table>\n",
       "</div>"
      ],
      "text/plain": [
       "Cruise_line  Azamara   Carnival  Celebrity      Costa  Crystal      Cunard  \\\n",
       "Age            6.000  15.227273    13.7000  16.181818   14.000   20.000000   \n",
       "Tonnage       30.277  84.652727    76.1586  71.096545   59.502  103.909000   \n",
       "passengers     6.940  23.458182    17.9800  19.200000   10.100   21.370000   \n",
       "length         5.940   8.898636     8.4180   8.138182    7.855   10.196667   \n",
       "cabins         3.550  11.559091     8.0640   9.257273    5.150   10.376667   \n",
       "\n",
       "Cruise_line  Disney  Holland_American       MSC  Norwegian    Oceania  Orient  \\\n",
       "Age          14.500         17.071429  15.12500  17.461538  14.333333   48.00   \n",
       "Tonnage      83.169         60.501214  63.77225  63.716615  30.277000   22.08   \n",
       "passengers   17.500         14.213571  18.87875  17.876923   6.840000    8.26   \n",
       "length        9.640          7.863571   8.12125   8.056154   5.940000    5.78   \n",
       "cabins        8.750          7.099286   8.76000   8.807692   3.420000    4.25   \n",
       "\n",
       "Cruise_line        P&O   Princess  Regent_Seven_Seas  Royal_Caribbean  \\\n",
       "Age          14.000000  12.941176             15.800        13.652174   \n",
       "Tonnage      77.858833  87.538000             32.140       107.011000   \n",
       "passengers   20.820000  21.618824              5.208        28.849565   \n",
       "length        8.640000   8.733529              5.776         9.655217   \n",
       "cabins        9.790000  10.615294              2.058        13.125217   \n",
       "\n",
       "Cruise_line  Seabourn  Silversea       Star   Windstar  \n",
       "Age             24.00     15.750  19.166667  25.000000  \n",
       "Tonnage         10.00     20.900  30.771333   8.481667  \n",
       "passengers       2.08      3.405   9.431667   2.110000  \n",
       "length           4.40      5.555   5.445000   4.990000  \n",
       "cabins           1.04      1.710   4.915000   1.013333  "
      ]
     },
     "execution_count": 6,
     "metadata": {},
     "output_type": "execute_result"
    }
   ],
   "source": [
    "mean = data.groupby('Cruise_line').mean()\n",
    "newdf = mean.T\n",
    "newdf.head()"
   ]
  },
  {
   "cell_type": "code",
   "execution_count": 7,
   "metadata": {
    "colab": {},
    "colab_type": "code",
    "id": "aN_PkwWOZMzK"
   },
   "outputs": [
    {
     "data": {
      "text/html": [
       "<div>\n",
       "<style scoped>\n",
       "    .dataframe tbody tr th:only-of-type {\n",
       "        vertical-align: middle;\n",
       "    }\n",
       "\n",
       "    .dataframe tbody tr th {\n",
       "        vertical-align: top;\n",
       "    }\n",
       "\n",
       "    .dataframe thead th {\n",
       "        text-align: right;\n",
       "    }\n",
       "</style>\n",
       "<table border=\"1\" class=\"dataframe\">\n",
       "  <thead>\n",
       "    <tr style=\"text-align: right;\">\n",
       "      <th>Cruise_line</th>\n",
       "      <th>Azamara</th>\n",
       "      <th>Carnival</th>\n",
       "      <th>Celebrity</th>\n",
       "      <th>Costa</th>\n",
       "      <th>Star</th>\n",
       "      <th>Windstar</th>\n",
       "    </tr>\n",
       "  </thead>\n",
       "  <tbody>\n",
       "    <tr>\n",
       "      <th>Age</th>\n",
       "      <td>6.000</td>\n",
       "      <td>15.227273</td>\n",
       "      <td>13.7000</td>\n",
       "      <td>16.181818</td>\n",
       "      <td>19.166667</td>\n",
       "      <td>25.000000</td>\n",
       "    </tr>\n",
       "    <tr>\n",
       "      <th>Tonnage</th>\n",
       "      <td>30.277</td>\n",
       "      <td>84.652727</td>\n",
       "      <td>76.1586</td>\n",
       "      <td>71.096545</td>\n",
       "      <td>30.771333</td>\n",
       "      <td>8.481667</td>\n",
       "    </tr>\n",
       "    <tr>\n",
       "      <th>passengers</th>\n",
       "      <td>6.940</td>\n",
       "      <td>23.458182</td>\n",
       "      <td>17.9800</td>\n",
       "      <td>19.200000</td>\n",
       "      <td>9.431667</td>\n",
       "      <td>2.110000</td>\n",
       "    </tr>\n",
       "    <tr>\n",
       "      <th>length</th>\n",
       "      <td>5.940</td>\n",
       "      <td>8.898636</td>\n",
       "      <td>8.4180</td>\n",
       "      <td>8.138182</td>\n",
       "      <td>5.445000</td>\n",
       "      <td>4.990000</td>\n",
       "    </tr>\n",
       "    <tr>\n",
       "      <th>cabins</th>\n",
       "      <td>3.550</td>\n",
       "      <td>11.559091</td>\n",
       "      <td>8.0640</td>\n",
       "      <td>9.257273</td>\n",
       "      <td>4.915000</td>\n",
       "      <td>1.013333</td>\n",
       "    </tr>\n",
       "  </tbody>\n",
       "</table>\n",
       "</div>"
      ],
      "text/plain": [
       "Cruise_line  Azamara   Carnival  Celebrity      Costa       Star   Windstar\n",
       "Age            6.000  15.227273    13.7000  16.181818  19.166667  25.000000\n",
       "Tonnage       30.277  84.652727    76.1586  71.096545  30.771333   8.481667\n",
       "passengers     6.940  23.458182    17.9800  19.200000   9.431667   2.110000\n",
       "length         5.940   8.898636     8.4180   8.138182   5.445000   4.990000\n",
       "cabins         3.550  11.559091     8.0640   9.257273   4.915000   1.013333"
      ]
     },
     "execution_count": 7,
     "metadata": {},
     "output_type": "execute_result"
    }
   ],
   "source": [
    "newdf.drop(newdf.iloc[:, 4:18], inplace = True, axis = 1) \n",
    "newdf.head()"
   ]
  },
  {
   "cell_type": "code",
   "execution_count": 8,
   "metadata": {
    "colab": {},
    "colab_type": "code",
    "id": "7y3Yh37MmECD"
   },
   "outputs": [
    {
     "data": {
      "image/png": "[encoded data removed]",
      "text/plain": [
       "<Figure size 432x288 with 1 Axes>"
      ]
     },
     "metadata": {
      "needs_background": "light"
     },
     "output_type": "display_data"
    }
   ],
   "source": [
    "newdf.plot(kind=\"bar\", stacked=True)\n",
    "plt.show()"
   ]
  },
  {
   "cell_type": "markdown",
   "metadata": {
    "colab_type": "text",
    "id": "qDDbR16zSfTD"
   },
   "source": [
    "### Exercise 03: Plot the Histogram with the following measures:\n",
    "\n",
    "Consider only two columns Cabin and Crew from dataframe to compare\n",
    "\n",
    "color: 'orange' for Cabin and 'green' for Crew\n"
   ]
  },
  {
   "cell_type": "code",
   "execution_count": 9,
   "metadata": {
    "colab": {},
    "colab_type": "code",
    "id": "0JDcNG2jxt9o"
   },
   "outputs": [
    {
     "data": {
      "image/png": "[encoded data removed]",
      "text/plain": [
       "<Figure size 432x288 with 1 Axes>"
      ]
     },
     "metadata": {
      "needs_background": "light"
     },
     "output_type": "display_data"
    }
   ],
   "source": [
    "legend = ['Cabin', 'Crew']\n",
    "plt.hist([data.cabins, data.crew], color=['orange', 'green'])\n",
    "plt.xlabel(\"Cabin\")\n",
    "plt.ylabel(\"Crew\")\n",
    "plt.legend(legend)\n",
    "plt.show()"
   ]
  },
  {
   "cell_type": "markdown",
   "metadata": {
    "colab_type": "text",
    "id": "Me1SSS1tSn24"
   },
   "source": [
    "\n",
    "### Exercise 04: Normalize the Data\n",
    "\n",
    "* Remove the 'Ship_name' and 'Cruise_lines' columns from the data as they contain categorical values\n",
    "\n",
    "* Normalize the data within a particular range, use StandardScaler() from sklearn\n",
    "\n",
    "\n",
    "\n",
    "**Hint:**  [Sklearn StandardScaler](https://scikit-learn.org/stable/modules/generated/sklearn.preprocessing.StandardScaler.html)"
   ]
  },
  {
   "cell_type": "code",
   "execution_count": 10,
   "metadata": {
    "colab": {},
    "colab_type": "code",
    "id": "3_LQpoi1w7R8"
   },
   "outputs": [
    {
     "data": {
      "text/plain": [
       "Index(['Ship_name', 'Cruise_line', 'Age', 'Tonnage', 'passengers', 'length',\n",
       "       'cabins', 'passenger_density', 'crew'],\n",
       "      dtype='object')"
      ]
     },
     "execution_count": 10,
     "metadata": {},
     "output_type": "execute_result"
    }
   ],
   "source": [
    "data.columns"
   ]
  },
  {
   "cell_type": "code",
   "execution_count": 11,
   "metadata": {
    "colab": {},
    "colab_type": "code",
    "id": "xCDlFdHixBv-"
   },
   "outputs": [],
   "source": [
    "data.drop(['Ship_name', 'Cruise_line'],axis=1,inplace=True)"
   ]
  },
  {
   "cell_type": "code",
   "execution_count": 12,
   "metadata": {
    "colab": {},
    "colab_type": "code",
    "id": "teCX9jLvbWcv"
   },
   "outputs": [
    {
     "data": {
      "text/html": [
       "<div>\n",
       "<style scoped>\n",
       "    .dataframe tbody tr th:only-of-type {\n",
       "        vertical-align: middle;\n",
       "    }\n",
       "\n",
       "    .dataframe tbody tr th {\n",
       "        vertical-align: top;\n",
       "    }\n",
       "\n",
       "    .dataframe thead th {\n",
       "        text-align: right;\n",
       "    }\n",
       "</style>\n",
       "<table border=\"1\" class=\"dataframe\">\n",
       "  <thead>\n",
       "    <tr style=\"text-align: right;\">\n",
       "      <th></th>\n",
       "      <th>Age</th>\n",
       "      <th>Tonnage</th>\n",
       "      <th>passengers</th>\n",
       "      <th>length</th>\n",
       "      <th>cabins</th>\n",
       "      <th>passenger_density</th>\n",
       "      <th>crew</th>\n",
       "    </tr>\n",
       "  </thead>\n",
       "  <tbody>\n",
       "    <tr>\n",
       "      <th>0</th>\n",
       "      <td>6</td>\n",
       "      <td>30.277</td>\n",
       "      <td>6.94</td>\n",
       "      <td>5.94</td>\n",
       "      <td>3.55</td>\n",
       "      <td>42.64</td>\n",
       "      <td>3.55</td>\n",
       "    </tr>\n",
       "    <tr>\n",
       "      <th>1</th>\n",
       "      <td>6</td>\n",
       "      <td>30.277</td>\n",
       "      <td>6.94</td>\n",
       "      <td>5.94</td>\n",
       "      <td>3.55</td>\n",
       "      <td>42.64</td>\n",
       "      <td>3.55</td>\n",
       "    </tr>\n",
       "    <tr>\n",
       "      <th>2</th>\n",
       "      <td>26</td>\n",
       "      <td>47.262</td>\n",
       "      <td>14.86</td>\n",
       "      <td>7.22</td>\n",
       "      <td>7.43</td>\n",
       "      <td>31.80</td>\n",
       "      <td>6.70</td>\n",
       "    </tr>\n",
       "    <tr>\n",
       "      <th>3</th>\n",
       "      <td>11</td>\n",
       "      <td>110.000</td>\n",
       "      <td>29.74</td>\n",
       "      <td>9.53</td>\n",
       "      <td>14.88</td>\n",
       "      <td>36.99</td>\n",
       "      <td>19.10</td>\n",
       "    </tr>\n",
       "    <tr>\n",
       "      <th>4</th>\n",
       "      <td>17</td>\n",
       "      <td>101.353</td>\n",
       "      <td>26.42</td>\n",
       "      <td>8.92</td>\n",
       "      <td>13.21</td>\n",
       "      <td>38.36</td>\n",
       "      <td>10.00</td>\n",
       "    </tr>\n",
       "  </tbody>\n",
       "</table>\n",
       "</div>"
      ],
      "text/plain": [
       "   Age  Tonnage  passengers  length  cabins  passenger_density   crew\n",
       "0    6   30.277        6.94    5.94    3.55              42.64   3.55\n",
       "1    6   30.277        6.94    5.94    3.55              42.64   3.55\n",
       "2   26   47.262       14.86    7.22    7.43              31.80   6.70\n",
       "3   11  110.000       29.74    9.53   14.88              36.99  19.10\n",
       "4   17  101.353       26.42    8.92   13.21              38.36  10.00"
      ]
     },
     "execution_count": 12,
     "metadata": {},
     "output_type": "execute_result"
    }
   ],
   "source": [
    "data.head()"
   ]
  },
  {
   "cell_type": "code",
   "execution_count": 13,
   "metadata": {
    "colab": {},
    "colab_type": "code",
    "id": "2ZhgXpYI0BBt"
   },
   "outputs": [],
   "source": [
    "from sklearn.preprocessing import StandardScaler\n",
    "stdsc = StandardScaler()\n",
    "X_std = stdsc.fit_transform(data.values)"
   ]
  },
  {
   "cell_type": "code",
   "execution_count": 14,
   "metadata": {
    "colab": {},
    "colab_type": "code",
    "id": "TK5v1JLMshsg"
   },
   "outputs": [
    {
     "data": {
      "text/html": [
       "<div>\n",
       "<style scoped>\n",
       "    .dataframe tbody tr th:only-of-type {\n",
       "        vertical-align: middle;\n",
       "    }\n",
       "\n",
       "    .dataframe tbody tr th {\n",
       "        vertical-align: top;\n",
       "    }\n",
       "\n",
       "    .dataframe thead th {\n",
       "        text-align: right;\n",
       "    }\n",
       "</style>\n",
       "<table border=\"1\" class=\"dataframe\">\n",
       "  <thead>\n",
       "    <tr style=\"text-align: right;\">\n",
       "      <th>Cruise_line</th>\n",
       "      <th>Azamara</th>\n",
       "      <th>Carnival</th>\n",
       "      <th>Celebrity</th>\n",
       "      <th>Costa</th>\n",
       "      <th>Star</th>\n",
       "      <th>Windstar</th>\n",
       "    </tr>\n",
       "  </thead>\n",
       "  <tbody>\n",
       "    <tr>\n",
       "      <th>Age</th>\n",
       "      <td>6.000</td>\n",
       "      <td>15.227273</td>\n",
       "      <td>13.7000</td>\n",
       "      <td>16.181818</td>\n",
       "      <td>19.166667</td>\n",
       "      <td>25.000000</td>\n",
       "    </tr>\n",
       "    <tr>\n",
       "      <th>Tonnage</th>\n",
       "      <td>30.277</td>\n",
       "      <td>84.652727</td>\n",
       "      <td>76.1586</td>\n",
       "      <td>71.096545</td>\n",
       "      <td>30.771333</td>\n",
       "      <td>8.481667</td>\n",
       "    </tr>\n",
       "    <tr>\n",
       "      <th>passengers</th>\n",
       "      <td>6.940</td>\n",
       "      <td>23.458182</td>\n",
       "      <td>17.9800</td>\n",
       "      <td>19.200000</td>\n",
       "      <td>9.431667</td>\n",
       "      <td>2.110000</td>\n",
       "    </tr>\n",
       "    <tr>\n",
       "      <th>length</th>\n",
       "      <td>5.940</td>\n",
       "      <td>8.898636</td>\n",
       "      <td>8.4180</td>\n",
       "      <td>8.138182</td>\n",
       "      <td>5.445000</td>\n",
       "      <td>4.990000</td>\n",
       "    </tr>\n",
       "    <tr>\n",
       "      <th>cabins</th>\n",
       "      <td>3.550</td>\n",
       "      <td>11.559091</td>\n",
       "      <td>8.0640</td>\n",
       "      <td>9.257273</td>\n",
       "      <td>4.915000</td>\n",
       "      <td>1.013333</td>\n",
       "    </tr>\n",
       "  </tbody>\n",
       "</table>\n",
       "</div>"
      ],
      "text/plain": [
       "Cruise_line  Azamara   Carnival  Celebrity      Costa       Star   Windstar\n",
       "Age            6.000  15.227273    13.7000  16.181818  19.166667  25.000000\n",
       "Tonnage       30.277  84.652727    76.1586  71.096545  30.771333   8.481667\n",
       "passengers     6.940  23.458182    17.9800  19.200000   9.431667   2.110000\n",
       "length         5.940   8.898636     8.4180   8.138182   5.445000   4.990000\n",
       "cabins         3.550  11.559091     8.0640   9.257273   4.915000   1.013333"
      ]
     },
     "execution_count": 14,
     "metadata": {},
     "output_type": "execute_result"
    }
   ],
   "source": [
    "newdf.head()"
   ]
  },
  {
   "cell_type": "markdown",
   "metadata": {
    "colab_type": "text",
    "id": "nXL1S-xJTlGO"
   },
   "source": [
    "### Exercise 05: Plot the distribution of data using boxplot\n",
    "\n",
    "From the above dataset take the columns 'Age', 'length', 'crew' and 'passenger_density' and plot the boxplot\n",
    "\n",
    "\n"
   ]
  },
  {
   "cell_type": "code",
   "execution_count": 16,
   "metadata": {
    "colab": {},
    "colab_type": "code",
    "id": "LMQeG-F77XFJ"
   },
   "outputs": [
    {
     "data": {
      "image/png": "[encoded data removed]",
      "text/plain": [
       "<Figure size 432x288 with 1 Axes>"
      ]
     },
     "metadata": {
      "needs_background": "light"
     },
     "output_type": "display_data"
    }
   ],
   "source": [
    "data.boxplot(column=['Age', 'length', 'crew', 'passenger_density']);"
   ]
  },
  {
   "cell_type": "markdown",
   "metadata": {
    "colab_type": "text",
    "id": "CJQlNZbvtlrj"
   },
   "source": [
    "### Exercise 06: From the above dataset take X-label = 'length' and Y-label = 'cabins' and plot the bubble chart"
   ]
  },
  {
   "cell_type": "code",
   "execution_count": 17,
   "metadata": {
    "colab": {},
    "colab_type": "code",
    "id": "gTo4in1kxK5g"
   },
   "outputs": [
    {
     "data": {
      "image/png": "[encoded data removed]",
      "text/plain": [
       "<Figure size 432x288 with 1 Axes>"
      ]
     },
     "metadata": {
      "needs_background": "light"
     },
     "output_type": "display_data"
    }
   ],
   "source": [
    "# YOUR CODE HERE\n",
    "plt.scatter(x=\"length\", y=\"cabins\", s=1000, alpha=0.5, data=data)\n",
    "plt.xlabel(\"length\", size=16)\n",
    "plt.ylabel(\"cabins\", size=16)\n",
    "plt.title(\"Bubble Plot\")\n",
    "plt.show()"
   ]
  },
  {
   "cell_type": "markdown",
   "metadata": {
    "colab_type": "text",
    "id": "Gi1GZoOI2WD7"
   },
   "source": [
    "### Exercise 07: Check the highly Correlated features\n",
    "\n",
    "* Print the correlated feature\n",
    "* Print the non-correlated features\n",
    "* Find the correlation matrix of data \n",
    "* Plot the heatmap to check for the highly Correlated features\n",
    "* Remove the correlated features\n"
   ]
  },
  {
   "cell_type": "code",
   "execution_count": 18,
   "metadata": {
    "colab": {},
    "colab_type": "code",
    "id": "vngfmOSZ15OK"
   },
   "outputs": [
    {
     "data": {
      "text/html": [
       "<div>\n",
       "<style scoped>\n",
       "    .dataframe tbody tr th:only-of-type {\n",
       "        vertical-align: middle;\n",
       "    }\n",
       "\n",
       "    .dataframe tbody tr th {\n",
       "        vertical-align: top;\n",
       "    }\n",
       "\n",
       "    .dataframe thead th {\n",
       "        text-align: right;\n",
       "    }\n",
       "</style>\n",
       "<table border=\"1\" class=\"dataframe\">\n",
       "  <thead>\n",
       "    <tr style=\"text-align: right;\">\n",
       "      <th></th>\n",
       "      <th>Age</th>\n",
       "      <th>Tonnage</th>\n",
       "      <th>passengers</th>\n",
       "      <th>length</th>\n",
       "      <th>cabins</th>\n",
       "      <th>passenger_density</th>\n",
       "      <th>crew</th>\n",
       "    </tr>\n",
       "  </thead>\n",
       "  <tbody>\n",
       "    <tr>\n",
       "      <th>Age</th>\n",
       "      <td>1.000000</td>\n",
       "      <td>-0.606646</td>\n",
       "      <td>-0.515542</td>\n",
       "      <td>-0.532286</td>\n",
       "      <td>-0.510019</td>\n",
       "      <td>-0.278830</td>\n",
       "      <td>-0.530657</td>\n",
       "    </tr>\n",
       "    <tr>\n",
       "      <th>Tonnage</th>\n",
       "      <td>-0.606646</td>\n",
       "      <td>1.000000</td>\n",
       "      <td>0.945061</td>\n",
       "      <td>0.922368</td>\n",
       "      <td>0.948764</td>\n",
       "      <td>-0.040846</td>\n",
       "      <td>0.927569</td>\n",
       "    </tr>\n",
       "    <tr>\n",
       "      <th>passengers</th>\n",
       "      <td>-0.515542</td>\n",
       "      <td>0.945061</td>\n",
       "      <td>1.000000</td>\n",
       "      <td>0.883535</td>\n",
       "      <td>0.976341</td>\n",
       "      <td>-0.294867</td>\n",
       "      <td>0.915234</td>\n",
       "    </tr>\n",
       "    <tr>\n",
       "      <th>length</th>\n",
       "      <td>-0.532286</td>\n",
       "      <td>0.922368</td>\n",
       "      <td>0.883535</td>\n",
       "      <td>1.000000</td>\n",
       "      <td>0.889798</td>\n",
       "      <td>-0.090488</td>\n",
       "      <td>0.895857</td>\n",
       "    </tr>\n",
       "    <tr>\n",
       "      <th>cabins</th>\n",
       "      <td>-0.510019</td>\n",
       "      <td>0.948764</td>\n",
       "      <td>0.976341</td>\n",
       "      <td>0.889798</td>\n",
       "      <td>1.000000</td>\n",
       "      <td>-0.253181</td>\n",
       "      <td>0.950823</td>\n",
       "    </tr>\n",
       "    <tr>\n",
       "      <th>passenger_density</th>\n",
       "      <td>-0.278830</td>\n",
       "      <td>-0.040846</td>\n",
       "      <td>-0.294867</td>\n",
       "      <td>-0.090488</td>\n",
       "      <td>-0.253181</td>\n",
       "      <td>1.000000</td>\n",
       "      <td>-0.155509</td>\n",
       "    </tr>\n",
       "    <tr>\n",
       "      <th>crew</th>\n",
       "      <td>-0.530657</td>\n",
       "      <td>0.927569</td>\n",
       "      <td>0.915234</td>\n",
       "      <td>0.895857</td>\n",
       "      <td>0.950823</td>\n",
       "      <td>-0.155509</td>\n",
       "      <td>1.000000</td>\n",
       "    </tr>\n",
       "  </tbody>\n",
       "</table>\n",
       "</div>"
      ],
      "text/plain": [
       "                        Age   Tonnage  passengers    length    cabins  \\\n",
       "Age                1.000000 -0.606646   -0.515542 -0.532286 -0.510019   \n",
       "Tonnage           -0.606646  1.000000    0.945061  0.922368  0.948764   \n",
       "passengers        -0.515542  0.945061    1.000000  0.883535  0.976341   \n",
       "length            -0.532286  0.922368    0.883535  1.000000  0.889798   \n",
       "cabins            -0.510019  0.948764    0.976341  0.889798  1.000000   \n",
       "passenger_density -0.278830 -0.040846   -0.294867 -0.090488 -0.253181   \n",
       "crew              -0.530657  0.927569    0.915234  0.895857  0.950823   \n",
       "\n",
       "                   passenger_density      crew  \n",
       "Age                        -0.278830 -0.530657  \n",
       "Tonnage                    -0.040846  0.927569  \n",
       "passengers                 -0.294867  0.915234  \n",
       "length                     -0.090488  0.895857  \n",
       "cabins                     -0.253181  0.950823  \n",
       "passenger_density           1.000000 -0.155509  \n",
       "crew                       -0.155509  1.000000  "
      ]
     },
     "execution_count": 18,
     "metadata": {},
     "output_type": "execute_result"
    }
   ],
   "source": [
    "corr = data.corr()\n",
    "corr"
   ]
  },
  {
   "cell_type": "code",
   "execution_count": 19,
   "metadata": {
    "colab": {},
    "colab_type": "code",
    "id": "R_f5BmVJbdjV"
   },
   "outputs": [
    {
     "data": {
      "text/html": [
       "<div>\n",
       "<style scoped>\n",
       "    .dataframe tbody tr th:only-of-type {\n",
       "        vertical-align: middle;\n",
       "    }\n",
       "\n",
       "    .dataframe tbody tr th {\n",
       "        vertical-align: top;\n",
       "    }\n",
       "\n",
       "    .dataframe thead th {\n",
       "        text-align: right;\n",
       "    }\n",
       "</style>\n",
       "<table border=\"1\" class=\"dataframe\">\n",
       "  <thead>\n",
       "    <tr style=\"text-align: right;\">\n",
       "      <th></th>\n",
       "      <th>Age</th>\n",
       "      <th>Tonnage</th>\n",
       "      <th>passengers</th>\n",
       "      <th>length</th>\n",
       "      <th>cabins</th>\n",
       "      <th>passenger_density</th>\n",
       "      <th>crew</th>\n",
       "    </tr>\n",
       "  </thead>\n",
       "  <tbody>\n",
       "    <tr>\n",
       "      <th>0</th>\n",
       "      <td>6</td>\n",
       "      <td>30.277</td>\n",
       "      <td>6.94</td>\n",
       "      <td>5.94</td>\n",
       "      <td>3.55</td>\n",
       "      <td>42.64</td>\n",
       "      <td>3.55</td>\n",
       "    </tr>\n",
       "    <tr>\n",
       "      <th>1</th>\n",
       "      <td>6</td>\n",
       "      <td>30.277</td>\n",
       "      <td>6.94</td>\n",
       "      <td>5.94</td>\n",
       "      <td>3.55</td>\n",
       "      <td>42.64</td>\n",
       "      <td>3.55</td>\n",
       "    </tr>\n",
       "    <tr>\n",
       "      <th>2</th>\n",
       "      <td>26</td>\n",
       "      <td>47.262</td>\n",
       "      <td>14.86</td>\n",
       "      <td>7.22</td>\n",
       "      <td>7.43</td>\n",
       "      <td>31.80</td>\n",
       "      <td>6.70</td>\n",
       "    </tr>\n",
       "    <tr>\n",
       "      <th>3</th>\n",
       "      <td>11</td>\n",
       "      <td>110.000</td>\n",
       "      <td>29.74</td>\n",
       "      <td>9.53</td>\n",
       "      <td>14.88</td>\n",
       "      <td>36.99</td>\n",
       "      <td>19.10</td>\n",
       "    </tr>\n",
       "    <tr>\n",
       "      <th>4</th>\n",
       "      <td>17</td>\n",
       "      <td>101.353</td>\n",
       "      <td>26.42</td>\n",
       "      <td>8.92</td>\n",
       "      <td>13.21</td>\n",
       "      <td>38.36</td>\n",
       "      <td>10.00</td>\n",
       "    </tr>\n",
       "  </tbody>\n",
       "</table>\n",
       "</div>"
      ],
      "text/plain": [
       "   Age  Tonnage  passengers  length  cabins  passenger_density   crew\n",
       "0    6   30.277        6.94    5.94    3.55              42.64   3.55\n",
       "1    6   30.277        6.94    5.94    3.55              42.64   3.55\n",
       "2   26   47.262       14.86    7.22    7.43              31.80   6.70\n",
       "3   11  110.000       29.74    9.53   14.88              36.99  19.10\n",
       "4   17  101.353       26.42    8.92   13.21              38.36  10.00"
      ]
     },
     "execution_count": 19,
     "metadata": {},
     "output_type": "execute_result"
    }
   ],
   "source": [
    "data.head()"
   ]
  },
  {
   "cell_type": "code",
   "execution_count": 20,
   "metadata": {
    "colab": {},
    "colab_type": "code",
    "id": "NNyuZljW6jJE"
   },
   "outputs": [
    {
     "data": {
      "image/png": "[encoded data removed]",
      "text/plain": [
       "<Figure size 432x288 with 2 Axes>"
      ]
     },
     "metadata": {
      "needs_background": "light"
     },
     "output_type": "display_data"
    }
   ],
   "source": [
    "#Set Up Mask To Hide Upper Triangle and perform a Heatmap\n",
    "mask = np.triu(np.ones_like(corr, dtype=bool))\n",
    "tri_df = corr.mask(mask)\n",
    "\n",
    "sns.heatmap(tri_df,annot=True,cmap='summer');"
   ]
  },
  {
   "cell_type": "code",
   "execution_count": 21,
   "metadata": {
    "colab": {},
    "colab_type": "code",
    "id": "mYZcY67Go36B"
   },
   "outputs": [
    {
     "data": {
      "text/html": [
       "<style  type=\"text/css\" >\n",
       "#T_c4ebb_row0_col0,#T_c4ebb_row0_col1,#T_c4ebb_row0_col2,#T_c4ebb_row0_col3,#T_c4ebb_row0_col4,#T_c4ebb_row0_col5,#T_c4ebb_row0_col6,#T_c4ebb_row1_col1,#T_c4ebb_row1_col2,#T_c4ebb_row1_col3,#T_c4ebb_row1_col4,#T_c4ebb_row1_col5,#T_c4ebb_row1_col6,#T_c4ebb_row2_col2,#T_c4ebb_row2_col3,#T_c4ebb_row2_col4,#T_c4ebb_row2_col5,#T_c4ebb_row2_col6,#T_c4ebb_row3_col3,#T_c4ebb_row3_col4,#T_c4ebb_row3_col5,#T_c4ebb_row3_col6,#T_c4ebb_row4_col4,#T_c4ebb_row4_col5,#T_c4ebb_row4_col6,#T_c4ebb_row5_col5,#T_c4ebb_row5_col6,#T_c4ebb_row6_col6{\n",
       "            color: white;\n",
       "        }#T_c4ebb_row1_col0,#T_c4ebb_row2_col0,#T_c4ebb_row3_col0,#T_c4ebb_row3_col2,#T_c4ebb_row4_col0,#T_c4ebb_row4_col3,#T_c4ebb_row5_col0,#T_c4ebb_row5_col1,#T_c4ebb_row5_col2,#T_c4ebb_row5_col3,#T_c4ebb_row5_col4,#T_c4ebb_row6_col0,#T_c4ebb_row6_col3,#T_c4ebb_row6_col5{\n",
       "            background-color:  white;\n",
       "             color: black;\n",
       "        }#T_c4ebb_row2_col1,#T_c4ebb_row3_col1,#T_c4ebb_row4_col1,#T_c4ebb_row4_col2,#T_c4ebb_row6_col1,#T_c4ebb_row6_col2,#T_c4ebb_row6_col4{\n",
       "            background-color:  blue;\n",
       "             color: white;\n",
       "        }</style><table id=\"T_c4ebb_\" ><thead>    <tr>        <th class=\"blank level0\" ></th>        <th class=\"col_heading level0 col0\" >Age</th>        <th class=\"col_heading level0 col1\" >Tonnage</th>        <th class=\"col_heading level0 col2\" >passengers</th>        <th class=\"col_heading level0 col3\" >length</th>        <th class=\"col_heading level0 col4\" >cabins</th>        <th class=\"col_heading level0 col5\" >passenger_density</th>        <th class=\"col_heading level0 col6\" >crew</th>    </tr></thead><tbody>\n",
       "                <tr>\n",
       "                        <th id=\"T_c4ebb_level0_row0\" class=\"row_heading level0 row0\" >Age</th>\n",
       "                        <td id=\"T_c4ebb_row0_col0\" class=\"data row0 col0\" >nan</td>\n",
       "                        <td id=\"T_c4ebb_row0_col1\" class=\"data row0 col1\" >nan</td>\n",
       "                        <td id=\"T_c4ebb_row0_col2\" class=\"data row0 col2\" >nan</td>\n",
       "                        <td id=\"T_c4ebb_row0_col3\" class=\"data row0 col3\" >nan</td>\n",
       "                        <td id=\"T_c4ebb_row0_col4\" class=\"data row0 col4\" >nan</td>\n",
       "                        <td id=\"T_c4ebb_row0_col5\" class=\"data row0 col5\" >nan</td>\n",
       "                        <td id=\"T_c4ebb_row0_col6\" class=\"data row0 col6\" >nan</td>\n",
       "            </tr>\n",
       "            <tr>\n",
       "                        <th id=\"T_c4ebb_level0_row1\" class=\"row_heading level0 row1\" >Tonnage</th>\n",
       "                        <td id=\"T_c4ebb_row1_col0\" class=\"data row1 col0\" >-0.606646</td>\n",
       "                        <td id=\"T_c4ebb_row1_col1\" class=\"data row1 col1\" >nan</td>\n",
       "                        <td id=\"T_c4ebb_row1_col2\" class=\"data row1 col2\" >nan</td>\n",
       "                        <td id=\"T_c4ebb_row1_col3\" class=\"data row1 col3\" >nan</td>\n",
       "                        <td id=\"T_c4ebb_row1_col4\" class=\"data row1 col4\" >nan</td>\n",
       "                        <td id=\"T_c4ebb_row1_col5\" class=\"data row1 col5\" >nan</td>\n",
       "                        <td id=\"T_c4ebb_row1_col6\" class=\"data row1 col6\" >nan</td>\n",
       "            </tr>\n",
       "            <tr>\n",
       "                        <th id=\"T_c4ebb_level0_row2\" class=\"row_heading level0 row2\" >passengers</th>\n",
       "                        <td id=\"T_c4ebb_row2_col0\" class=\"data row2 col0\" >-0.515542</td>\n",
       "                        <td id=\"T_c4ebb_row2_col1\" class=\"data row2 col1\" >0.945061</td>\n",
       "                        <td id=\"T_c4ebb_row2_col2\" class=\"data row2 col2\" >nan</td>\n",
       "                        <td id=\"T_c4ebb_row2_col3\" class=\"data row2 col3\" >nan</td>\n",
       "                        <td id=\"T_c4ebb_row2_col4\" class=\"data row2 col4\" >nan</td>\n",
       "                        <td id=\"T_c4ebb_row2_col5\" class=\"data row2 col5\" >nan</td>\n",
       "                        <td id=\"T_c4ebb_row2_col6\" class=\"data row2 col6\" >nan</td>\n",
       "            </tr>\n",
       "            <tr>\n",
       "                        <th id=\"T_c4ebb_level0_row3\" class=\"row_heading level0 row3\" >length</th>\n",
       "                        <td id=\"T_c4ebb_row3_col0\" class=\"data row3 col0\" >-0.532286</td>\n",
       "                        <td id=\"T_c4ebb_row3_col1\" class=\"data row3 col1\" >0.922368</td>\n",
       "                        <td id=\"T_c4ebb_row3_col2\" class=\"data row3 col2\" >0.883535</td>\n",
       "                        <td id=\"T_c4ebb_row3_col3\" class=\"data row3 col3\" >nan</td>\n",
       "                        <td id=\"T_c4ebb_row3_col4\" class=\"data row3 col4\" >nan</td>\n",
       "                        <td id=\"T_c4ebb_row3_col5\" class=\"data row3 col5\" >nan</td>\n",
       "                        <td id=\"T_c4ebb_row3_col6\" class=\"data row3 col6\" >nan</td>\n",
       "            </tr>\n",
       "            <tr>\n",
       "                        <th id=\"T_c4ebb_level0_row4\" class=\"row_heading level0 row4\" >cabins</th>\n",
       "                        <td id=\"T_c4ebb_row4_col0\" class=\"data row4 col0\" >-0.510019</td>\n",
       "                        <td id=\"T_c4ebb_row4_col1\" class=\"data row4 col1\" >0.948764</td>\n",
       "                        <td id=\"T_c4ebb_row4_col2\" class=\"data row4 col2\" >0.976341</td>\n",
       "                        <td id=\"T_c4ebb_row4_col3\" class=\"data row4 col3\" >0.889798</td>\n",
       "                        <td id=\"T_c4ebb_row4_col4\" class=\"data row4 col4\" >nan</td>\n",
       "                        <td id=\"T_c4ebb_row4_col5\" class=\"data row4 col5\" >nan</td>\n",
       "                        <td id=\"T_c4ebb_row4_col6\" class=\"data row4 col6\" >nan</td>\n",
       "            </tr>\n",
       "            <tr>\n",
       "                        <th id=\"T_c4ebb_level0_row5\" class=\"row_heading level0 row5\" >passenger_density</th>\n",
       "                        <td id=\"T_c4ebb_row5_col0\" class=\"data row5 col0\" >-0.278830</td>\n",
       "                        <td id=\"T_c4ebb_row5_col1\" class=\"data row5 col1\" >-0.040846</td>\n",
       "                        <td id=\"T_c4ebb_row5_col2\" class=\"data row5 col2\" >-0.294867</td>\n",
       "                        <td id=\"T_c4ebb_row5_col3\" class=\"data row5 col3\" >-0.090488</td>\n",
       "                        <td id=\"T_c4ebb_row5_col4\" class=\"data row5 col4\" >-0.253181</td>\n",
       "                        <td id=\"T_c4ebb_row5_col5\" class=\"data row5 col5\" >nan</td>\n",
       "                        <td id=\"T_c4ebb_row5_col6\" class=\"data row5 col6\" >nan</td>\n",
       "            </tr>\n",
       "            <tr>\n",
       "                        <th id=\"T_c4ebb_level0_row6\" class=\"row_heading level0 row6\" >crew</th>\n",
       "                        <td id=\"T_c4ebb_row6_col0\" class=\"data row6 col0\" >-0.530657</td>\n",
       "                        <td id=\"T_c4ebb_row6_col1\" class=\"data row6 col1\" >0.927569</td>\n",
       "                        <td id=\"T_c4ebb_row6_col2\" class=\"data row6 col2\" >0.915234</td>\n",
       "                        <td id=\"T_c4ebb_row6_col3\" class=\"data row6 col3\" >0.895857</td>\n",
       "                        <td id=\"T_c4ebb_row6_col4\" class=\"data row6 col4\" >0.950823</td>\n",
       "                        <td id=\"T_c4ebb_row6_col5\" class=\"data row6 col5\" >-0.155509</td>\n",
       "                        <td id=\"T_c4ebb_row6_col6\" class=\"data row6 col6\" >nan</td>\n",
       "            </tr>\n",
       "    </tbody></table>"
      ],
      "text/plain": [
       "<pandas.io.formats.style.Styler at 0x1a9be7482b0>"
      ]
     },
     "execution_count": 21,
     "metadata": {},
     "output_type": "execute_result"
    }
   ],
   "source": [
    "## Another Approach to highlight particular Highly-correlated Columns\n",
    "\n",
    "def color_fill(val):\n",
    "    import math\n",
    "    return 'background-color: blue; color:white;' if val>=0.9 else 'color:white;' if math.isnan(val) else 'background-color: white; color:black;' \n",
    "\n",
    "tri_df.style.applymap(color_fill) # Apply the css to each cell"
   ]
  },
  {
   "cell_type": "code",
   "execution_count": 22,
   "metadata": {
    "colab": {},
    "colab_type": "code",
    "id": "r0J3AIALpJIV"
   },
   "outputs": [
    {
     "name": "stdout",
     "output_type": "stream",
     "text": [
      "['Tonnage', 'passengers', 'cabins']\n"
     ]
    }
   ],
   "source": [
    "## Print highly correlated feature\n",
    "to_drop = [col for col in tri_df.columns if any(tri_df[col] > 0.9)]\n",
    "print(to_drop)"
   ]
  },
  {
   "cell_type": "code",
   "execution_count": null,
   "metadata": {
    "colab": {},
    "colab_type": "code",
    "id": "53ZPRfNbq0zg"
   },
   "outputs": [],
   "source": [
    "data.head()"
   ]
  },
  {
   "cell_type": "code",
   "execution_count": null,
   "metadata": {
    "colab": {},
    "colab_type": "code",
    "id": "CCSBF3dvq0Qf"
   },
   "outputs": [],
   "source": [
    "#Dropping highly correlated columns\n",
    "reduced_df = data.drop(to_drop, axis = 1)\n",
    "reduced_df.head()"
   ]
  },
  {
   "cell_type": "code",
   "execution_count": null,
   "metadata": {
    "colab": {},
    "colab_type": "code",
    "id": "BwRN4OMtrZ_H"
   },
   "outputs": [],
   "source": [
    "## Another Approach to highlight particular Highly-correlated Columns\n",
    "corr = reduced_df.corr()\n",
    "mask = np.triu(np.ones_like(corr, dtype=bool))\n",
    "tri_df = corr.mask(mask)\n",
    "\n",
    "def color_fill(val):\n",
    "    import math\n",
    "    return 'background-color: blue; color:white;' if val>=0.9 else 'color:white;' if math.isnan(val) else 'background-color: white; color:black;' \n",
    "\n",
    "tri_df.style.applymap(color_fill) # Apply the css to each cell"
   ]
  }
 ],
 "metadata": {
  "colab": {
   "collapsed_sections": [],
   "name": "Solution_W8_Data_Visualization_Review.ipynb",
   "private_outputs": true,
   "provenance": []
  },
  "kernelspec": {
   "display_name": "Python 3",
   "language": "python",
   "name": "python3"
  },
  "language_info": {
   "codemirror_mode": {
    "name": "ipython",
    "version": 3
   },
   "file_extension": ".py",
   "mimetype": "text/x-python",
   "name": "python",
   "nbconvert_exporter": "python",
   "pygments_lexer": "ipython3",
   "version": "3.8.8"
  }
 },
 "nbformat": 4,
 "nbformat_minor": 1
}
