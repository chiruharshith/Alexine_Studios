{
 "cells": [
  {
   "cell_type": "markdown",
   "metadata": {
    "id": "Dk_I-E6pl05S"
   },
   "source": [
    "# Alexine Studios"
   ]
  },
  {
   "cell_type": "markdown",
   "metadata": {
    "id": "FhA-4D7SrIpo"
   },
   "source": [
    "## Download Dataset"
   ]
  },
  {
   "cell_type": "code",
   "execution_count": null,
   "metadata": {
    "id": "DrAZGKNorOH8"
   },
   "outputs": [],
   "source": [
    "!mkdir datasets\n",
    "!wget -qq https://github.com/chiruharshith/Alexine_Studios/blob/main/datasets/employee.csv -P datasets"
   ]
  },
  {
   "cell_type": "code",
   "execution_count": null,
   "metadata": {
    "id": "sW9DMblWkhj_"
   },
   "outputs": [],
   "source": [
    "import pandas as pd\n",
    "df = pd.read_csv(\"datasets/employee.csv\")\n",
    "df.head()"
   ]
  },
  {
   "cell_type": "code",
   "execution_count": null,
   "metadata": {
    "id": "mv3l8T2LsubX"
   },
   "outputs": [],
   "source": [
    "df.shape"
   ]
  },
  {
   "cell_type": "code",
   "execution_count": null,
   "metadata": {
    "id": "op4jEbTrL5nk"
   },
   "outputs": [],
   "source": [
    "df.columns"
   ]
  },
  {
   "cell_type": "code",
   "execution_count": null,
   "metadata": {
    "id": "E81VaGiDt8k9"
   },
   "outputs": [],
   "source": [
    "# Display the columns 4 to 9 for rows 7 to 13\n",
    "df.iloc[7:14, 4:10]"
   ]
  },
  {
   "cell_type": "code",
   "execution_count": null,
   "metadata": {
    "id": "JFHedOvkvBIj"
   },
   "outputs": [],
   "source": [
    "# Display the information of the employees who have joined in Quarter 1 and 4\n",
    "df[(df['Quarter of Joining']=='Q1') | (df['Quarter of Joining']=='Q4')]"
   ]
  },
  {
   "cell_type": "code",
   "execution_count": null,
   "metadata": {
    "id": "khO9zwWZvV5d"
   },
   "outputs": [],
   "source": [
    "# How many people from the Southern region joined on Monday?\n",
    "df[(df['Region'] == 'South') & (df['DOW of Joining'] == 'Monday')]"
   ]
  },
  {
   "cell_type": "code",
   "execution_count": null,
   "metadata": {
    "id": "5oUp0VrkyGRy"
   },
   "outputs": [],
   "source": [
    "df.dtypes"
   ]
  },
  {
   "cell_type": "code",
   "execution_count": null,
   "metadata": {
    "id": "DywB0dFEFzlv"
   },
   "outputs": [],
   "source": [
    "# Display the information of the employees who have more than 13 years experience in the company\n",
    "df[df['Age in Company (Years)']>13]"
   ]
  },
  {
   "cell_type": "code",
   "execution_count": null,
   "metadata": {
    "id": "ggICafVJGhtI"
   },
   "outputs": [],
   "source": [
    "df['Last % Hike']"
   ]
  },
  {
   "cell_type": "code",
   "execution_count": null,
   "metadata": {
    "id": "CKVdg8TKffYe"
   },
   "outputs": [],
   "source": [
    "# Removing \"%\" sign from the \"Last % Hike\" column values\n",
    "df['Last % Hike'] = df['Last % Hike'].str.strip().str[:-1].astype(int) / 100\n",
    "df.head()"
   ]
  },
  {
   "cell_type": "code",
   "execution_count": null,
   "metadata": {
    "id": "aVnP_hC6yjJO"
   },
   "outputs": [],
   "source": [
    "# How many Female employees got more than 20% hike?\n",
    "df[(df['Gender'] == 'F') & (df['Last % Hike'] > 0.2)]"
   ]
  },
  {
   "cell_type": "code",
   "execution_count": null,
   "metadata": {},
   "outputs": [],
   "source": [
    "# Redundant data"
   ]
  }
 ],
 "metadata": {
  "colab": {
   "collapsed_sections": [],
   "name": "W3_1_Pandas.ipynb",
   "private_outputs": true,
   "provenance": []
  },
  "kernelspec": {
   "display_name": "Python 3",
   "language": "python",
   "name": "python3"
  },
  "language_info": {
   "codemirror_mode": {
    "name": "ipython",
    "version": 3
   },
   "file_extension": ".py",
   "mimetype": "text/x-python",
   "name": "python",
   "nbconvert_exporter": "python",
   "pygments_lexer": "ipython3",
   "version": "3.8.8"
  }
 },
 "nbformat": 4,
 "nbformat_minor": 1
}
