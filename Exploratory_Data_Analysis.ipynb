{
 "cells": [
  {
   "cell_type": "markdown",
   "metadata": {
    "id": "Dk_I-E6pl05S"
   },
   "source": [
    "# Alexine Studios"
   ]
  },
  {
   "cell_type": "markdown",
   "metadata": {
    "id": "FhA-4D7SrIpo"
   },
   "source": [
    "## Download Dataset"
   ]
  },
  {
   "cell_type": "code",
   "execution_count": null,
   "metadata": {
    "id": "DrAZGKNorOH8"
   },
   "outputs": [],
   "source": [
    "!mkdir datasets\n",
    "!wget -qq https://github.com/chiruharshith/Alexine_Studios/blob/main/datasets/weather_data.zip\n",
    "!unzip weather_data.zip"
   ]
  },
  {
   "cell_type": "code",
   "execution_count": null,
   "metadata": {
    "id": "UwFFFhkzBHhv"
   },
   "outputs": [],
   "source": [
    "# Importing all the required packages\n",
    "import os\n",
    "import pandas as pd\n",
    "import numpy as np\n",
    "from matplotlib import pyplot as plt"
   ]
  },
  {
   "cell_type": "markdown",
   "metadata": {
    "id": "gRs6bMS-YUgN"
   },
   "source": [
    "#### Exercise 01: Read the Weather data of all the years provided"
   ]
  },
  {
   "cell_type": "code",
   "execution_count": null,
   "metadata": {
    "id": "AxP-6nAfC2ID"
   },
   "outputs": [],
   "source": [
    "w_2009 = pd.read_csv('weather_data/weather_data_2009.csv')\n",
    "w_2010 = pd.read_csv('weather_data/weather_data_2010.csv')\n",
    "w_2011 = pd.read_csv('weather_data/weather_data_2011.csv')\n",
    "w_2012 = pd.read_csv('weather_data/weather_data_2012.csv')\n",
    "w_2013 = pd.read_csv('weather_data/weather_data_2013.csv')\n",
    "w_2014 = pd.read_csv('weather_data/weather_data_2014.csv')\n",
    "w_2015 = pd.read_csv('weather_data/weather_data_2015.csv')\n",
    "w_2016 = pd.read_csv('weather_data/weather_data_2016.csv')"
   ]
  },
  {
   "cell_type": "code",
   "execution_count": null,
   "metadata": {
    "colab": {
     "base_uri": "https://localhost:8080/",
     "height": 157
    },
    "executionInfo": {
     "elapsed": 2432,
     "status": "ok",
     "timestamp": 1604664291616,
     "user": {
      "displayName": "Harshith a",
      "photoUrl": "https://lh3.googleusercontent.com/a-/AOh14Gg1ydY-8sWUdly1ac69J0vS3b5r75JtQ5GIvAJc=s64",
      "userId": "11844310727840414540"
     },
     "user_tz": -330
    },
    "id": "KyqjBFjCOj_e",
    "outputId": "8f697278-0647-492a-a509-12ee1380ef29",
    "scrolled": true
   },
   "outputs": [
    {
     "data": {
      "text/html": [
       "<div>\n",
       "<style scoped>\n",
       "    .dataframe tbody tr th:only-of-type {\n",
       "        vertical-align: middle;\n",
       "    }\n",
       "\n",
       "    .dataframe tbody tr th {\n",
       "        vertical-align: top;\n",
       "    }\n",
       "\n",
       "    .dataframe thead th {\n",
       "        text-align: right;\n",
       "    }\n",
       "</style>\n",
       "<table border=\"1\" class=\"dataframe\">\n",
       "  <thead>\n",
       "    <tr style=\"text-align: right;\">\n",
       "      <th></th>\n",
       "      <th>Year</th>\n",
       "      <th>Month</th>\n",
       "      <th>Day</th>\n",
       "      <th>Temp high (°C)</th>\n",
       "      <th>Temp low (°C)</th>\n",
       "      <th>Dew Point high (°C)</th>\n",
       "      <th>Dew Point low (°C)</th>\n",
       "      <th>Humidity (%) high</th>\n",
       "      <th>Humidity (%) low</th>\n",
       "      <th>Sea Level Press. (hPa) high</th>\n",
       "      <th>Sea Level Press. (hPa) low</th>\n",
       "      <th>Visibility (km) high</th>\n",
       "      <th>Visibility (km) low</th>\n",
       "      <th>Wind (km/h) low</th>\n",
       "      <th>Wind (km/h) high</th>\n",
       "      <th>Precip. (mm) sum</th>\n",
       "      <th>WeatherEvent</th>\n",
       "    </tr>\n",
       "  </thead>\n",
       "  <tbody>\n",
       "    <tr>\n",
       "      <th>0</th>\n",
       "      <td>2009</td>\n",
       "      <td>Jan</td>\n",
       "      <td>1</td>\n",
       "      <td>-3</td>\n",
       "      <td>-9</td>\n",
       "      <td>-16</td>\n",
       "      <td>-19</td>\n",
       "      <td>54</td>\n",
       "      <td>32</td>\n",
       "      <td>1025</td>\n",
       "      <td>1015</td>\n",
       "      <td>16</td>\n",
       "      <td>16</td>\n",
       "      <td>37</td>\n",
       "      <td>60</td>\n",
       "      <td>0</td>\n",
       "      <td>NaN</td>\n",
       "    </tr>\n",
       "    <tr>\n",
       "      <th>1</th>\n",
       "      <td>2009</td>\n",
       "      <td>Jan</td>\n",
       "      <td>2</td>\n",
       "      <td>1</td>\n",
       "      <td>-5</td>\n",
       "      <td>-3</td>\n",
       "      <td>-17</td>\n",
       "      <td>78</td>\n",
       "      <td>36</td>\n",
       "      <td>1022</td>\n",
       "      <td>1007</td>\n",
       "      <td>16</td>\n",
       "      <td>2</td>\n",
       "      <td>27</td>\n",
       "      <td>48</td>\n",
       "      <td>T</td>\n",
       "      <td>Snow</td>\n",
       "    </tr>\n",
       "  </tbody>\n",
       "</table>\n",
       "</div>"
      ],
      "text/plain": [
       "   Year Month  Day  ...  Wind (km/h) high  Precip. (mm) sum  WeatherEvent\n",
       "0  2009   Jan    1  ...                60                 0           NaN\n",
       "1  2009   Jan    2  ...                48                 T          Snow\n",
       "\n",
       "[2 rows x 17 columns]"
      ]
     },
     "execution_count": 7,
     "metadata": {
      "tags": []
     },
     "output_type": "execute_result"
    }
   ],
   "source": [
    "w_2009.head(2)"
   ]
  },
  {
   "cell_type": "code",
   "execution_count": null,
   "metadata": {
    "colab": {
     "base_uri": "https://localhost:8080/",
     "height": 157
    },
    "executionInfo": {
     "elapsed": 1806,
     "status": "ok",
     "timestamp": 1604664291618,
     "user": {
      "displayName": "Harshith a",
      "photoUrl": "https://lh3.googleusercontent.com/a-/AOh14Gg1ydY-8sWUdly1ac69J0vS3b5r75JtQ5GIvAJc=s64",
      "userId": "11844310727840414540"
     },
     "user_tz": -330
    },
    "id": "xIJegJ6IOvLM",
    "outputId": "8c4fafc4-8b5d-4414-a442-654dd599edca"
   },
   "outputs": [
    {
     "data": {
      "text/html": [
       "<div>\n",
       "<style scoped>\n",
       "    .dataframe tbody tr th:only-of-type {\n",
       "        vertical-align: middle;\n",
       "    }\n",
       "\n",
       "    .dataframe tbody tr th {\n",
       "        vertical-align: top;\n",
       "    }\n",
       "\n",
       "    .dataframe thead th {\n",
       "        text-align: right;\n",
       "    }\n",
       "</style>\n",
       "<table border=\"1\" class=\"dataframe\">\n",
       "  <thead>\n",
       "    <tr style=\"text-align: right;\">\n",
       "      <th></th>\n",
       "      <th>Year</th>\n",
       "      <th>Month</th>\n",
       "      <th>Day</th>\n",
       "      <th>Temp high (°C)</th>\n",
       "      <th>Temp low (°C)</th>\n",
       "      <th>Dew Point high (°C)</th>\n",
       "      <th>Dew Point low (°C)</th>\n",
       "      <th>Humidity (%) high</th>\n",
       "      <th>Humidity (%) low</th>\n",
       "      <th>Sea Level Press. (hPa) high</th>\n",
       "      <th>Sea Level Press. (hPa) low</th>\n",
       "      <th>Visibility (km) high</th>\n",
       "      <th>Visibility (km) low</th>\n",
       "      <th>Wind (km/h) low</th>\n",
       "      <th>Wind (km/h) high</th>\n",
       "      <th>Precip. (mm) sum</th>\n",
       "      <th>WeatherEvent</th>\n",
       "    </tr>\n",
       "  </thead>\n",
       "  <tbody>\n",
       "    <tr>\n",
       "      <th>0</th>\n",
       "      <td>2010</td>\n",
       "      <td>Jan</td>\n",
       "      <td>1</td>\n",
       "      <td>4</td>\n",
       "      <td>1</td>\n",
       "      <td>1</td>\n",
       "      <td>-3</td>\n",
       "      <td>100</td>\n",
       "      <td>70</td>\n",
       "      <td>1016</td>\n",
       "      <td>1006</td>\n",
       "      <td>16</td>\n",
       "      <td>3</td>\n",
       "      <td>26</td>\n",
       "      <td>35</td>\n",
       "      <td>0.76</td>\n",
       "      <td>Snow</td>\n",
       "    </tr>\n",
       "    <tr>\n",
       "      <th>1</th>\n",
       "      <td>2010</td>\n",
       "      <td>Jan</td>\n",
       "      <td>2</td>\n",
       "      <td>1</td>\n",
       "      <td>-8</td>\n",
       "      <td>-4</td>\n",
       "      <td>-16</td>\n",
       "      <td>85</td>\n",
       "      <td>50</td>\n",
       "      <td>1006</td>\n",
       "      <td>1003</td>\n",
       "      <td>16</td>\n",
       "      <td>2</td>\n",
       "      <td>35</td>\n",
       "      <td>56</td>\n",
       "      <td>0.51</td>\n",
       "      <td>Snow</td>\n",
       "    </tr>\n",
       "  </tbody>\n",
       "</table>\n",
       "</div>"
      ],
      "text/plain": [
       "   Year Month  Day  ...  Wind (km/h) high  Precip. (mm) sum  WeatherEvent\n",
       "0  2010   Jan    1  ...                35              0.76          Snow\n",
       "1  2010   Jan    2  ...                56              0.51          Snow\n",
       "\n",
       "[2 rows x 17 columns]"
      ]
     },
     "execution_count": 8,
     "metadata": {
      "tags": []
     },
     "output_type": "execute_result"
    }
   ],
   "source": [
    "w_2010.head(2)"
   ]
  },
  {
   "cell_type": "code",
   "execution_count": null,
   "metadata": {
    "colab": {
     "base_uri": "https://localhost:8080/",
     "height": 157
    },
    "executionInfo": {
     "elapsed": 3224,
     "status": "ok",
     "timestamp": 1604664293471,
     "user": {
      "displayName": "Harshith a",
      "photoUrl": "https://lh3.googleusercontent.com/a-/AOh14Gg1ydY-8sWUdly1ac69J0vS3b5r75JtQ5GIvAJc=s64",
      "userId": "11844310727840414540"
     },
     "user_tz": -330
    },
    "id": "hu9LLWQvO1TY",
    "outputId": "e0956e34-e243-4105-8246-1ac69f4e9291"
   },
   "outputs": [
    {
     "data": {
      "text/html": [
       "<div>\n",
       "<style scoped>\n",
       "    .dataframe tbody tr th:only-of-type {\n",
       "        vertical-align: middle;\n",
       "    }\n",
       "\n",
       "    .dataframe tbody tr th {\n",
       "        vertical-align: top;\n",
       "    }\n",
       "\n",
       "    .dataframe thead th {\n",
       "        text-align: right;\n",
       "    }\n",
       "</style>\n",
       "<table border=\"1\" class=\"dataframe\">\n",
       "  <thead>\n",
       "    <tr style=\"text-align: right;\">\n",
       "      <th></th>\n",
       "      <th>Year</th>\n",
       "      <th>Month</th>\n",
       "      <th>Day</th>\n",
       "      <th>Temp high (°C)</th>\n",
       "      <th>Temp low (°C)</th>\n",
       "      <th>Dew Point high (°C)</th>\n",
       "      <th>Dew Point low (°C)</th>\n",
       "      <th>Humidity (%) high</th>\n",
       "      <th>Humidity (%) low</th>\n",
       "      <th>Sea Level Press. (hPa) high</th>\n",
       "      <th>Sea Level Press. (hPa) low</th>\n",
       "      <th>Visibility (km) high</th>\n",
       "      <th>Visibility (km) low</th>\n",
       "      <th>Wind (km/h) low</th>\n",
       "      <th>Wind (km/h) high</th>\n",
       "      <th>Precip. (mm) sum</th>\n",
       "      <th>WeatherEvent</th>\n",
       "    </tr>\n",
       "  </thead>\n",
       "  <tbody>\n",
       "    <tr>\n",
       "      <th>0</th>\n",
       "      <td>2011</td>\n",
       "      <td>Jan</td>\n",
       "      <td>1</td>\n",
       "      <td>12</td>\n",
       "      <td>4</td>\n",
       "      <td>8</td>\n",
       "      <td>-2</td>\n",
       "      <td>83</td>\n",
       "      <td>50</td>\n",
       "      <td>1021</td>\n",
       "      <td>1015</td>\n",
       "      <td>11</td>\n",
       "      <td>8</td>\n",
       "      <td>19</td>\n",
       "      <td>26</td>\n",
       "      <td>0</td>\n",
       "      <td>NaN</td>\n",
       "    </tr>\n",
       "    <tr>\n",
       "      <th>1</th>\n",
       "      <td>2011</td>\n",
       "      <td>Jan</td>\n",
       "      <td>2</td>\n",
       "      <td>11</td>\n",
       "      <td>2</td>\n",
       "      <td>9</td>\n",
       "      <td>-7</td>\n",
       "      <td>100</td>\n",
       "      <td>45</td>\n",
       "      <td>1015</td>\n",
       "      <td>1011</td>\n",
       "      <td>16</td>\n",
       "      <td>1</td>\n",
       "      <td>32</td>\n",
       "      <td>45</td>\n",
       "      <td>0.25</td>\n",
       "      <td>Fog , Rain</td>\n",
       "    </tr>\n",
       "  </tbody>\n",
       "</table>\n",
       "</div>"
      ],
      "text/plain": [
       "   Year Month  Day  ...  Wind (km/h) high  Precip. (mm) sum  WeatherEvent\n",
       "0  2011   Jan    1  ...                26                 0           NaN\n",
       "1  2011   Jan    2  ...                45              0.25    Fog , Rain\n",
       "\n",
       "[2 rows x 17 columns]"
      ]
     },
     "execution_count": 9,
     "metadata": {
      "tags": []
     },
     "output_type": "execute_result"
    }
   ],
   "source": [
    "w_2011.head(2)"
   ]
  },
  {
   "cell_type": "code",
   "execution_count": null,
   "metadata": {
    "colab": {
     "base_uri": "https://localhost:8080/",
     "height": 157
    },
    "executionInfo": {
     "elapsed": 4661,
     "status": "ok",
     "timestamp": 1604664297158,
     "user": {
      "displayName": "Harshith a",
      "photoUrl": "https://lh3.googleusercontent.com/a-/AOh14Gg1ydY-8sWUdly1ac69J0vS3b5r75JtQ5GIvAJc=s64",
      "userId": "11844310727840414540"
     },
     "user_tz": -330
    },
    "id": "p3UP5SO-O3NR",
    "outputId": "7a083dbc-260a-4956-e0b3-9df1c62d815f"
   },
   "outputs": [
    {
     "data": {
      "text/html": [
       "<div>\n",
       "<style scoped>\n",
       "    .dataframe tbody tr th:only-of-type {\n",
       "        vertical-align: middle;\n",
       "    }\n",
       "\n",
       "    .dataframe tbody tr th {\n",
       "        vertical-align: top;\n",
       "    }\n",
       "\n",
       "    .dataframe thead th {\n",
       "        text-align: right;\n",
       "    }\n",
       "</style>\n",
       "<table border=\"1\" class=\"dataframe\">\n",
       "  <thead>\n",
       "    <tr style=\"text-align: right;\">\n",
       "      <th></th>\n",
       "      <th>Year</th>\n",
       "      <th>Month</th>\n",
       "      <th>Day</th>\n",
       "      <th>Temp high (°C)</th>\n",
       "      <th>Temp low (°C)</th>\n",
       "      <th>Dew Point high (°C)</th>\n",
       "      <th>Dew Point low (°C)</th>\n",
       "      <th>Humidity (%) high</th>\n",
       "      <th>Humidity (%) low</th>\n",
       "      <th>Sea Level Press. (hPa) high</th>\n",
       "      <th>Sea Level Press. (hPa) low</th>\n",
       "      <th>Visibility (km) high</th>\n",
       "      <th>Visibility (km) low</th>\n",
       "      <th>Wind (km/h) low</th>\n",
       "      <th>Wind (km/h) high</th>\n",
       "      <th>Precip. (mm) sum</th>\n",
       "      <th>WeatherEvent</th>\n",
       "    </tr>\n",
       "  </thead>\n",
       "  <tbody>\n",
       "    <tr>\n",
       "      <th>0</th>\n",
       "      <td>2012</td>\n",
       "      <td>Jan</td>\n",
       "      <td>1</td>\n",
       "      <td>11</td>\n",
       "      <td>5</td>\n",
       "      <td>8</td>\n",
       "      <td>3</td>\n",
       "      <td>82</td>\n",
       "      <td>59</td>\n",
       "      <td>1020</td>\n",
       "      <td>1005</td>\n",
       "      <td>16</td>\n",
       "      <td>10</td>\n",
       "      <td>24</td>\n",
       "      <td>35</td>\n",
       "      <td>1.27</td>\n",
       "      <td>Rain</td>\n",
       "    </tr>\n",
       "    <tr>\n",
       "      <th>1</th>\n",
       "      <td>2012</td>\n",
       "      <td>Jan</td>\n",
       "      <td>2</td>\n",
       "      <td>10</td>\n",
       "      <td>1</td>\n",
       "      <td>4</td>\n",
       "      <td>-9</td>\n",
       "      <td>74</td>\n",
       "      <td>37</td>\n",
       "      <td>1010</td>\n",
       "      <td>1005</td>\n",
       "      <td>16</td>\n",
       "      <td>16</td>\n",
       "      <td>40</td>\n",
       "      <td>52</td>\n",
       "      <td>0</td>\n",
       "      <td>NaN</td>\n",
       "    </tr>\n",
       "  </tbody>\n",
       "</table>\n",
       "</div>"
      ],
      "text/plain": [
       "   Year Month  Day  ... Wind (km/h) high Precip. (mm) sum WeatherEvent\n",
       "0  2012   Jan    1  ...               35             1.27         Rain\n",
       "1  2012   Jan    2  ...               52                0          NaN\n",
       "\n",
       "[2 rows x 17 columns]"
      ]
     },
     "execution_count": 10,
     "metadata": {
      "tags": []
     },
     "output_type": "execute_result"
    }
   ],
   "source": [
    "w_2012.head(2)"
   ]
  },
  {
   "cell_type": "code",
   "execution_count": null,
   "metadata": {
    "colab": {
     "base_uri": "https://localhost:8080/",
     "height": 157
    },
    "executionInfo": {
     "elapsed": 3405,
     "status": "ok",
     "timestamp": 1604664297161,
     "user": {
      "displayName": "Harshith a",
      "photoUrl": "https://lh3.googleusercontent.com/a-/AOh14Gg1ydY-8sWUdly1ac69J0vS3b5r75JtQ5GIvAJc=s64",
      "userId": "11844310727840414540"
     },
     "user_tz": -330
    },
    "id": "9u1BFbZ9O_BM",
    "outputId": "b47ee612-7c9b-449c-a372-243dab0629ba"
   },
   "outputs": [
    {
     "data": {
      "text/html": [
       "<div>\n",
       "<style scoped>\n",
       "    .dataframe tbody tr th:only-of-type {\n",
       "        vertical-align: middle;\n",
       "    }\n",
       "\n",
       "    .dataframe tbody tr th {\n",
       "        vertical-align: top;\n",
       "    }\n",
       "\n",
       "    .dataframe thead th {\n",
       "        text-align: right;\n",
       "    }\n",
       "</style>\n",
       "<table border=\"1\" class=\"dataframe\">\n",
       "  <thead>\n",
       "    <tr style=\"text-align: right;\">\n",
       "      <th></th>\n",
       "      <th>Year</th>\n",
       "      <th>Month</th>\n",
       "      <th>Day</th>\n",
       "      <th>Temp high (°C)</th>\n",
       "      <th>Temp low (°C)</th>\n",
       "      <th>Dew Point high (°C)</th>\n",
       "      <th>Dew Point low (°C)</th>\n",
       "      <th>Humidity (%) high</th>\n",
       "      <th>Humidity (%) low</th>\n",
       "      <th>Sea Level Press. (hPa) high</th>\n",
       "      <th>Sea Level Press. (hPa) low</th>\n",
       "      <th>Visibility (km) high</th>\n",
       "      <th>Visibility (km) low</th>\n",
       "      <th>Wind (km/h) low</th>\n",
       "      <th>Wind (km/h) high</th>\n",
       "      <th>Precip. (mm) sum</th>\n",
       "      <th>WeatherEvent</th>\n",
       "    </tr>\n",
       "  </thead>\n",
       "  <tbody>\n",
       "    <tr>\n",
       "      <th>0</th>\n",
       "      <td>2013</td>\n",
       "      <td>Jan</td>\n",
       "      <td>1</td>\n",
       "      <td>4</td>\n",
       "      <td>-3</td>\n",
       "      <td>-3</td>\n",
       "      <td>-13</td>\n",
       "      <td>64</td>\n",
       "      <td>44</td>\n",
       "      <td>1016</td>\n",
       "      <td>1010</td>\n",
       "      <td>16</td>\n",
       "      <td>16</td>\n",
       "      <td>24</td>\n",
       "      <td>42</td>\n",
       "      <td>0</td>\n",
       "      <td>NaN</td>\n",
       "    </tr>\n",
       "    <tr>\n",
       "      <th>1</th>\n",
       "      <td>2013</td>\n",
       "      <td>Jan</td>\n",
       "      <td>2</td>\n",
       "      <td>1</td>\n",
       "      <td>-6</td>\n",
       "      <td>-9</td>\n",
       "      <td>-13</td>\n",
       "      <td>57</td>\n",
       "      <td>39</td>\n",
       "      <td>1022</td>\n",
       "      <td>1016</td>\n",
       "      <td>16</td>\n",
       "      <td>16</td>\n",
       "      <td>24</td>\n",
       "      <td>35</td>\n",
       "      <td>0</td>\n",
       "      <td>NaN</td>\n",
       "    </tr>\n",
       "  </tbody>\n",
       "</table>\n",
       "</div>"
      ],
      "text/plain": [
       "   Year Month  Day  ...  Wind (km/h) high  Precip. (mm) sum  WeatherEvent\n",
       "0  2013   Jan    1  ...                42                 0           NaN\n",
       "1  2013   Jan    2  ...                35                 0           NaN\n",
       "\n",
       "[2 rows x 17 columns]"
      ]
     },
     "execution_count": 11,
     "metadata": {
      "tags": []
     },
     "output_type": "execute_result"
    }
   ],
   "source": [
    "w_2013.head(2)"
   ]
  },
  {
   "cell_type": "code",
   "execution_count": null,
   "metadata": {
    "colab": {
     "base_uri": "https://localhost:8080/",
     "height": 157
    },
    "executionInfo": {
     "elapsed": 2817,
     "status": "ok",
     "timestamp": 1604664297163,
     "user": {
      "displayName": "Harshith a",
      "photoUrl": "https://lh3.googleusercontent.com/a-/AOh14Gg1ydY-8sWUdly1ac69J0vS3b5r75JtQ5GIvAJc=s64",
      "userId": "11844310727840414540"
     },
     "user_tz": -330
    },
    "id": "gx_TCc0oPBDQ",
    "outputId": "ad041eab-859c-46ca-bf5c-3257d2002a31"
   },
   "outputs": [
    {
     "data": {
      "text/html": [
       "<div>\n",
       "<style scoped>\n",
       "    .dataframe tbody tr th:only-of-type {\n",
       "        vertical-align: middle;\n",
       "    }\n",
       "\n",
       "    .dataframe tbody tr th {\n",
       "        vertical-align: top;\n",
       "    }\n",
       "\n",
       "    .dataframe thead th {\n",
       "        text-align: right;\n",
       "    }\n",
       "</style>\n",
       "<table border=\"1\" class=\"dataframe\">\n",
       "  <thead>\n",
       "    <tr style=\"text-align: right;\">\n",
       "      <th></th>\n",
       "      <th>Year</th>\n",
       "      <th>Month</th>\n",
       "      <th>Day</th>\n",
       "      <th>Temp high (°C)</th>\n",
       "      <th>Temp low (°C)</th>\n",
       "      <th>Dew Point high (°C)</th>\n",
       "      <th>Dew Point low (°C)</th>\n",
       "      <th>Humidity (%) high</th>\n",
       "      <th>Humidity (%) low</th>\n",
       "      <th>Sea Level Press. (hPa) high</th>\n",
       "      <th>Sea Level Press. (hPa) low</th>\n",
       "      <th>Visibility (km) high</th>\n",
       "      <th>Visibility (km) low</th>\n",
       "      <th>Wind (km/h) low</th>\n",
       "      <th>Wind (km/h) high</th>\n",
       "      <th>Precip. (mm) sum</th>\n",
       "      <th>WeatherEvent</th>\n",
       "    </tr>\n",
       "  </thead>\n",
       "  <tbody>\n",
       "    <tr>\n",
       "      <th>363</th>\n",
       "      <td>2013</td>\n",
       "      <td>Dec</td>\n",
       "      <td>30</td>\n",
       "      <td>7</td>\n",
       "      <td>-5</td>\n",
       "      <td>2</td>\n",
       "      <td>-14</td>\n",
       "      <td>76</td>\n",
       "      <td>43</td>\n",
       "      <td>1023</td>\n",
       "      <td>1006</td>\n",
       "      <td>16</td>\n",
       "      <td>16</td>\n",
       "      <td>24</td>\n",
       "      <td>40</td>\n",
       "      <td>0</td>\n",
       "      <td>NaN</td>\n",
       "    </tr>\n",
       "    <tr>\n",
       "      <th>364</th>\n",
       "      <td>2013</td>\n",
       "      <td>Dec</td>\n",
       "      <td>31</td>\n",
       "      <td>0</td>\n",
       "      <td>-6</td>\n",
       "      <td>-7</td>\n",
       "      <td>-15</td>\n",
       "      <td>63</td>\n",
       "      <td>38</td>\n",
       "      <td>1025</td>\n",
       "      <td>1018</td>\n",
       "      <td>16</td>\n",
       "      <td>13</td>\n",
       "      <td>27</td>\n",
       "      <td>45</td>\n",
       "      <td>T</td>\n",
       "      <td>NaN</td>\n",
       "    </tr>\n",
       "  </tbody>\n",
       "</table>\n",
       "</div>"
      ],
      "text/plain": [
       "     Year Month  Day  ...  Wind (km/h) high  Precip. (mm) sum  WeatherEvent\n",
       "363  2013   Dec   30  ...                40                 0           NaN\n",
       "364  2013   Dec   31  ...                45                 T           NaN\n",
       "\n",
       "[2 rows x 17 columns]"
      ]
     },
     "execution_count": 12,
     "metadata": {
      "tags": []
     },
     "output_type": "execute_result"
    }
   ],
   "source": [
    "w_2013.tail(2)"
   ]
  },
  {
   "cell_type": "code",
   "execution_count": null,
   "metadata": {
    "colab": {
     "base_uri": "https://localhost:8080/",
     "height": 157
    },
    "executionInfo": {
     "elapsed": 2172,
     "status": "ok",
     "timestamp": 1604664297164,
     "user": {
      "displayName": "Harshith a",
      "photoUrl": "https://lh3.googleusercontent.com/a-/AOh14Gg1ydY-8sWUdly1ac69J0vS3b5r75JtQ5GIvAJc=s64",
      "userId": "11844310727840414540"
     },
     "user_tz": -330
    },
    "id": "XYM6m-PXPGyE",
    "outputId": "5af768f9-f1c7-4937-bfe7-79b7fda9b509"
   },
   "outputs": [
    {
     "data": {
      "text/html": [
       "<div>\n",
       "<style scoped>\n",
       "    .dataframe tbody tr th:only-of-type {\n",
       "        vertical-align: middle;\n",
       "    }\n",
       "\n",
       "    .dataframe tbody tr th {\n",
       "        vertical-align: top;\n",
       "    }\n",
       "\n",
       "    .dataframe thead th {\n",
       "        text-align: right;\n",
       "    }\n",
       "</style>\n",
       "<table border=\"1\" class=\"dataframe\">\n",
       "  <thead>\n",
       "    <tr style=\"text-align: right;\">\n",
       "      <th></th>\n",
       "      <th>Year</th>\n",
       "      <th>Month</th>\n",
       "      <th>Day</th>\n",
       "      <th>Temp high (°C)</th>\n",
       "      <th>Temp low (°C)</th>\n",
       "      <th>Dew Point high (°C)</th>\n",
       "      <th>Dew Point low (°C)</th>\n",
       "      <th>Humidity (%) high</th>\n",
       "      <th>Humidity (%) low</th>\n",
       "      <th>Sea Level Press. (hPa) high</th>\n",
       "      <th>Sea Level Press. (hPa) low</th>\n",
       "      <th>Visibility (km) high</th>\n",
       "      <th>Visibility (km) low</th>\n",
       "      <th>Wind (km/h) low</th>\n",
       "      <th>Wind (km/h) high</th>\n",
       "      <th>Precip. (mm) sum</th>\n",
       "      <th>WeatherEvent</th>\n",
       "    </tr>\n",
       "  </thead>\n",
       "  <tbody>\n",
       "    <tr>\n",
       "      <th>0</th>\n",
       "      <td>2014.0</td>\n",
       "      <td>Jan</td>\n",
       "      <td>1.0</td>\n",
       "      <td>high</td>\n",
       "      <td>low</td>\n",
       "      <td>high</td>\n",
       "      <td>low</td>\n",
       "      <td>high</td>\n",
       "      <td>low</td>\n",
       "      <td>high</td>\n",
       "      <td>low</td>\n",
       "      <td>high</td>\n",
       "      <td>low</td>\n",
       "      <td>low</td>\n",
       "      <td>high</td>\n",
       "      <td>sum</td>\n",
       "      <td>NaN</td>\n",
       "    </tr>\n",
       "    <tr>\n",
       "      <th>1</th>\n",
       "      <td>2014.0</td>\n",
       "      <td>Jan</td>\n",
       "      <td>2.0</td>\n",
       "      <td>1</td>\n",
       "      <td>-4</td>\n",
       "      <td>-7</td>\n",
       "      <td>-15</td>\n",
       "      <td>59</td>\n",
       "      <td>38</td>\n",
       "      <td>1029</td>\n",
       "      <td>1025</td>\n",
       "      <td>16</td>\n",
       "      <td>16</td>\n",
       "      <td>23</td>\n",
       "      <td>37</td>\n",
       "      <td>0</td>\n",
       "      <td>NaN</td>\n",
       "    </tr>\n",
       "  </tbody>\n",
       "</table>\n",
       "</div>"
      ],
      "text/plain": [
       "     Year Month  Day  ... Wind (km/h) high Precip. (mm) sum WeatherEvent\n",
       "0  2014.0   Jan  1.0  ...             high              sum          NaN\n",
       "1  2014.0   Jan  2.0  ...               37                0          NaN\n",
       "\n",
       "[2 rows x 17 columns]"
      ]
     },
     "execution_count": 13,
     "metadata": {
      "tags": []
     },
     "output_type": "execute_result"
    }
   ],
   "source": [
    "w_2014.head(2)"
   ]
  },
  {
   "cell_type": "code",
   "execution_count": null,
   "metadata": {
    "colab": {
     "base_uri": "https://localhost:8080/",
     "height": 177
    },
    "executionInfo": {
     "elapsed": 1732,
     "status": "ok",
     "timestamp": 1604664297746,
     "user": {
      "displayName": "Harshith a",
      "photoUrl": "https://lh3.googleusercontent.com/a-/AOh14Gg1ydY-8sWUdly1ac69J0vS3b5r75JtQ5GIvAJc=s64",
      "userId": "11844310727840414540"
     },
     "user_tz": -330
    },
    "id": "kyLpcPIjPOXJ",
    "outputId": "abb3029b-8444-4693-d031-bd94bae064b5"
   },
   "outputs": [
    {
     "data": {
      "text/html": [
       "<div>\n",
       "<style scoped>\n",
       "    .dataframe tbody tr th:only-of-type {\n",
       "        vertical-align: middle;\n",
       "    }\n",
       "\n",
       "    .dataframe tbody tr th {\n",
       "        vertical-align: top;\n",
       "    }\n",
       "\n",
       "    .dataframe thead th {\n",
       "        text-align: right;\n",
       "    }\n",
       "</style>\n",
       "<table border=\"1\" class=\"dataframe\">\n",
       "  <thead>\n",
       "    <tr style=\"text-align: right;\">\n",
       "      <th></th>\n",
       "      <th>Year</th>\n",
       "      <th>Month</th>\n",
       "      <th>Day</th>\n",
       "      <th>Temp high (°C)</th>\n",
       "      <th>Temp low (°C)</th>\n",
       "      <th>Dew Point high (°C)</th>\n",
       "      <th>Dew Point low (°C)</th>\n",
       "      <th>Humidity (%) high</th>\n",
       "      <th>Humidity (%) low</th>\n",
       "      <th>Sea Level Press. (hPa) high</th>\n",
       "      <th>Sea Level Press. (hPa) low</th>\n",
       "      <th>Visibility (km) high</th>\n",
       "      <th>Visibility (km) low</th>\n",
       "      <th>Wind (km/h) low</th>\n",
       "      <th>Wind (km/h) high</th>\n",
       "      <th>Precip. (mm) sum</th>\n",
       "      <th>WeatherEvent</th>\n",
       "    </tr>\n",
       "  </thead>\n",
       "  <tbody>\n",
       "    <tr>\n",
       "      <th>364</th>\n",
       "      <td>2014.0</td>\n",
       "      <td>Dec</td>\n",
       "      <td>31.0</td>\n",
       "      <td>1</td>\n",
       "      <td>-2</td>\n",
       "      <td>-8</td>\n",
       "      <td>-13</td>\n",
       "      <td>58</td>\n",
       "      <td>36</td>\n",
       "      <td>1029</td>\n",
       "      <td>1025</td>\n",
       "      <td>16</td>\n",
       "      <td>16</td>\n",
       "      <td>16</td>\n",
       "      <td>27</td>\n",
       "      <td>0</td>\n",
       "      <td>NaN</td>\n",
       "    </tr>\n",
       "    <tr>\n",
       "      <th>365</th>\n",
       "      <td>NaN</td>\n",
       "      <td>NaN</td>\n",
       "      <td>NaN</td>\n",
       "      <td>0</td>\n",
       "      <td>-3</td>\n",
       "      <td>-11</td>\n",
       "      <td>-15</td>\n",
       "      <td>55</td>\n",
       "      <td>30</td>\n",
       "      <td>1028</td>\n",
       "      <td>1022</td>\n",
       "      <td>16</td>\n",
       "      <td>16</td>\n",
       "      <td>23</td>\n",
       "      <td>34</td>\n",
       "      <td>0</td>\n",
       "      <td>NaN</td>\n",
       "    </tr>\n",
       "  </tbody>\n",
       "</table>\n",
       "</div>"
      ],
      "text/plain": [
       "       Year Month   Day  ... Wind (km/h) high Precip. (mm) sum WeatherEvent\n",
       "364  2014.0   Dec  31.0  ...               27                0          NaN\n",
       "365     NaN   NaN   NaN  ...               34                0          NaN\n",
       "\n",
       "[2 rows x 17 columns]"
      ]
     },
     "execution_count": 14,
     "metadata": {
      "tags": []
     },
     "output_type": "execute_result"
    }
   ],
   "source": [
    "w_2014.tail(2)"
   ]
  },
  {
   "cell_type": "code",
   "execution_count": null,
   "metadata": {
    "colab": {
     "base_uri": "https://localhost:8080/",
     "height": 247
    },
    "executionInfo": {
     "elapsed": 2263,
     "status": "ok",
     "timestamp": 1604664299190,
     "user": {
      "displayName": "Harshith a",
      "photoUrl": "https://lh3.googleusercontent.com/a-/AOh14Gg1ydY-8sWUdly1ac69J0vS3b5r75JtQ5GIvAJc=s64",
      "userId": "11844310727840414540"
     },
     "user_tz": -330
    },
    "id": "9lRUlTkCRQhq",
    "outputId": "395d1949-6bd3-49fc-bc43-6e84e8edbe8d"
   },
   "outputs": [
    {
     "data": {
      "text/html": [
       "<div>\n",
       "<style scoped>\n",
       "    .dataframe tbody tr th:only-of-type {\n",
       "        vertical-align: middle;\n",
       "    }\n",
       "\n",
       "    .dataframe tbody tr th {\n",
       "        vertical-align: top;\n",
       "    }\n",
       "\n",
       "    .dataframe thead th {\n",
       "        text-align: right;\n",
       "    }\n",
       "</style>\n",
       "<table border=\"1\" class=\"dataframe\">\n",
       "  <thead>\n",
       "    <tr style=\"text-align: right;\">\n",
       "      <th></th>\n",
       "      <th>Year</th>\n",
       "      <th>Month</th>\n",
       "      <th>Day</th>\n",
       "      <th>Temp high (°C)</th>\n",
       "      <th>Temp low (°C)</th>\n",
       "      <th>Dew Point high (°C)</th>\n",
       "      <th>Dew Point low (°C)</th>\n",
       "      <th>Humidity (%) high</th>\n",
       "      <th>Humidity (%) low</th>\n",
       "      <th>Sea Level Press. (hPa) high</th>\n",
       "      <th>Sea Level Press. (hPa) low</th>\n",
       "      <th>Visibility (km) high</th>\n",
       "      <th>Visibility (km) low</th>\n",
       "      <th>Wind (km/h) low</th>\n",
       "      <th>Wind (km/h) high</th>\n",
       "      <th>Precip. (mm) sum</th>\n",
       "      <th>WeatherEvent</th>\n",
       "    </tr>\n",
       "  </thead>\n",
       "  <tbody>\n",
       "    <tr>\n",
       "      <th>0</th>\n",
       "      <td>2015</td>\n",
       "      <td>Jan</td>\n",
       "      <td>1</td>\n",
       "      <td>4</td>\n",
       "      <td>-3</td>\n",
       "      <td>-8</td>\n",
       "      <td>-14</td>\n",
       "      <td>46</td>\n",
       "      <td>27</td>\n",
       "      <td>1022</td>\n",
       "      <td>1015</td>\n",
       "      <td>16</td>\n",
       "      <td>16</td>\n",
       "      <td>27</td>\n",
       "      <td>50</td>\n",
       "      <td>0</td>\n",
       "      <td>NaN</td>\n",
       "    </tr>\n",
       "    <tr>\n",
       "      <th>1</th>\n",
       "      <td>2015</td>\n",
       "      <td>Jan</td>\n",
       "      <td>2</td>\n",
       "      <td>6</td>\n",
       "      <td>2</td>\n",
       "      <td>-7</td>\n",
       "      <td>-9</td>\n",
       "      <td>52</td>\n",
       "      <td>33</td>\n",
       "      <td>1031</td>\n",
       "      <td>1016</td>\n",
       "      <td>16</td>\n",
       "      <td>16</td>\n",
       "      <td>24</td>\n",
       "      <td>40</td>\n",
       "      <td>0</td>\n",
       "      <td>NaN</td>\n",
       "    </tr>\n",
       "    <tr>\n",
       "      <th>2</th>\n",
       "      <td>2015</td>\n",
       "      <td>Jan</td>\n",
       "      <td>3</td>\n",
       "      <td>6</td>\n",
       "      <td>1</td>\n",
       "      <td>4</td>\n",
       "      <td>-9</td>\n",
       "      <td>92</td>\n",
       "      <td>44</td>\n",
       "      <td>1036</td>\n",
       "      <td>1019</td>\n",
       "      <td>16</td>\n",
       "      <td>1</td>\n",
       "      <td>19</td>\n",
       "      <td>29</td>\n",
       "      <td>18.03</td>\n",
       "      <td>Rain , Snow</td>\n",
       "    </tr>\n",
       "    <tr>\n",
       "      <th>3</th>\n",
       "      <td>2015</td>\n",
       "      <td>Jan</td>\n",
       "      <td>4</td>\n",
       "      <td>13</td>\n",
       "      <td>5</td>\n",
       "      <td>10</td>\n",
       "      <td>-3</td>\n",
       "      <td>93</td>\n",
       "      <td>83</td>\n",
       "      <td>1019</td>\n",
       "      <td>1004</td>\n",
       "      <td>16</td>\n",
       "      <td>1</td>\n",
       "      <td>47</td>\n",
       "      <td>74</td>\n",
       "      <td>7.62</td>\n",
       "      <td>Rain</td>\n",
       "    </tr>\n",
       "    <tr>\n",
       "      <th>4</th>\n",
       "      <td>2015</td>\n",
       "      <td>Jan</td>\n",
       "      <td>5</td>\n",
       "      <td>9</td>\n",
       "      <td>-6</td>\n",
       "      <td>-3</td>\n",
       "      <td>-19</td>\n",
       "      <td>49</td>\n",
       "      <td>26</td>\n",
       "      <td>1030</td>\n",
       "      <td>1009</td>\n",
       "      <td>16</td>\n",
       "      <td>16</td>\n",
       "      <td>39</td>\n",
       "      <td>61</td>\n",
       "      <td>0</td>\n",
       "      <td>NaN</td>\n",
       "    </tr>\n",
       "  </tbody>\n",
       "</table>\n",
       "</div>"
      ],
      "text/plain": [
       "   Year Month  Day  ...  Wind (km/h) high  Precip. (mm) sum  WeatherEvent\n",
       "0  2015   Jan    1  ...                50                 0           NaN\n",
       "1  2015   Jan    2  ...                40                 0           NaN\n",
       "2  2015   Jan    3  ...                29             18.03   Rain , Snow\n",
       "3  2015   Jan    4  ...                74              7.62          Rain\n",
       "4  2015   Jan    5  ...                61                 0           NaN\n",
       "\n",
       "[5 rows x 17 columns]"
      ]
     },
     "execution_count": 15,
     "metadata": {
      "tags": []
     },
     "output_type": "execute_result"
    }
   ],
   "source": [
    "w_2015.head()"
   ]
  },
  {
   "cell_type": "code",
   "execution_count": null,
   "metadata": {
    "colab": {
     "base_uri": "https://localhost:8080/",
     "height": 247
    },
    "executionInfo": {
     "elapsed": 1878,
     "status": "ok",
     "timestamp": 1604664365907,
     "user": {
      "displayName": "Harshith a",
      "photoUrl": "https://lh3.googleusercontent.com/a-/AOh14Gg1ydY-8sWUdly1ac69J0vS3b5r75JtQ5GIvAJc=s64",
      "userId": "11844310727840414540"
     },
     "user_tz": -330
    },
    "id": "reSDpzVZRXZb",
    "outputId": "e96409a2-36e6-47d2-8cb4-2a5322eb6bcd"
   },
   "outputs": [
    {
     "data": {
      "text/html": [
       "<div>\n",
       "<style scoped>\n",
       "    .dataframe tbody tr th:only-of-type {\n",
       "        vertical-align: middle;\n",
       "    }\n",
       "\n",
       "    .dataframe tbody tr th {\n",
       "        vertical-align: top;\n",
       "    }\n",
       "\n",
       "    .dataframe thead th {\n",
       "        text-align: right;\n",
       "    }\n",
       "</style>\n",
       "<table border=\"1\" class=\"dataframe\">\n",
       "  <thead>\n",
       "    <tr style=\"text-align: right;\">\n",
       "      <th></th>\n",
       "      <th>Year</th>\n",
       "      <th>Month</th>\n",
       "      <th>Day</th>\n",
       "      <th>Temp high (°C)</th>\n",
       "      <th>Temp low (°C)</th>\n",
       "      <th>Dew Point high (°C)</th>\n",
       "      <th>Dew Point low (°C)</th>\n",
       "      <th>Humidity (%) high</th>\n",
       "      <th>Humidity (%) low</th>\n",
       "      <th>Sea Level Press. (hPa) high</th>\n",
       "      <th>Sea Level Press. (hPa) low</th>\n",
       "      <th>Visibility (km) high</th>\n",
       "      <th>Visibility (km) low</th>\n",
       "      <th>Wind (km/h) low</th>\n",
       "      <th>Wind (km/h) high</th>\n",
       "      <th>Precip. (mm) sum</th>\n",
       "      <th>WeatherEvent</th>\n",
       "    </tr>\n",
       "  </thead>\n",
       "  <tbody>\n",
       "    <tr>\n",
       "      <th>0</th>\n",
       "      <td>2016</td>\n",
       "      <td>Jan</td>\n",
       "      <td>1</td>\n",
       "      <td>6</td>\n",
       "      <td>1</td>\n",
       "      <td>-3</td>\n",
       "      <td>-9</td>\n",
       "      <td>59</td>\n",
       "      <td>44</td>\n",
       "      <td>1018</td>\n",
       "      <td>1015</td>\n",
       "      <td>16</td>\n",
       "      <td>16</td>\n",
       "      <td>27</td>\n",
       "      <td>42</td>\n",
       "      <td>0</td>\n",
       "      <td>NaN</td>\n",
       "    </tr>\n",
       "    <tr>\n",
       "      <th>1</th>\n",
       "      <td>2016</td>\n",
       "      <td>Jan</td>\n",
       "      <td>2</td>\n",
       "      <td>4</td>\n",
       "      <td>0</td>\n",
       "      <td>-7</td>\n",
       "      <td>-9</td>\n",
       "      <td>52</td>\n",
       "      <td>40</td>\n",
       "      <td>1019</td>\n",
       "      <td>1014</td>\n",
       "      <td>16</td>\n",
       "      <td>16</td>\n",
       "      <td>24</td>\n",
       "      <td>37</td>\n",
       "      <td>0</td>\n",
       "      <td>NaN</td>\n",
       "    </tr>\n",
       "    <tr>\n",
       "      <th>2</th>\n",
       "      <td>2016</td>\n",
       "      <td>Jan</td>\n",
       "      <td>3</td>\n",
       "      <td>7</td>\n",
       "      <td>2</td>\n",
       "      <td>-5</td>\n",
       "      <td>-7</td>\n",
       "      <td>56</td>\n",
       "      <td>37</td>\n",
       "      <td>1014</td>\n",
       "      <td>1009</td>\n",
       "      <td>16</td>\n",
       "      <td>16</td>\n",
       "      <td>27</td>\n",
       "      <td>42</td>\n",
       "      <td>0</td>\n",
       "      <td>NaN</td>\n",
       "    </tr>\n",
       "    <tr>\n",
       "      <th>3</th>\n",
       "      <td>2016</td>\n",
       "      <td>Jan</td>\n",
       "      <td>4</td>\n",
       "      <td>2</td>\n",
       "      <td>-10</td>\n",
       "      <td>-5</td>\n",
       "      <td>-18</td>\n",
       "      <td>59</td>\n",
       "      <td>28</td>\n",
       "      <td>1027</td>\n",
       "      <td>1011</td>\n",
       "      <td>16</td>\n",
       "      <td>16</td>\n",
       "      <td>34</td>\n",
       "      <td>50</td>\n",
       "      <td>0</td>\n",
       "      <td>NaN</td>\n",
       "    </tr>\n",
       "    <tr>\n",
       "      <th>4</th>\n",
       "      <td>2016</td>\n",
       "      <td>Jan</td>\n",
       "      <td>5</td>\n",
       "      <td>-2</td>\n",
       "      <td>-12</td>\n",
       "      <td>-17</td>\n",
       "      <td>-21</td>\n",
       "      <td>58</td>\n",
       "      <td>24</td>\n",
       "      <td>1037</td>\n",
       "      <td>1031</td>\n",
       "      <td>16</td>\n",
       "      <td>16</td>\n",
       "      <td>32</td>\n",
       "      <td>48</td>\n",
       "      <td>0</td>\n",
       "      <td>NaN</td>\n",
       "    </tr>\n",
       "  </tbody>\n",
       "</table>\n",
       "</div>"
      ],
      "text/plain": [
       "   Year Month  Day  ...  Wind (km/h) high  Precip. (mm) sum  WeatherEvent\n",
       "0  2016   Jan    1  ...                42                 0           NaN\n",
       "1  2016   Jan    2  ...                37                 0           NaN\n",
       "2  2016   Jan    3  ...                42                 0           NaN\n",
       "3  2016   Jan    4  ...                50                 0           NaN\n",
       "4  2016   Jan    5  ...                48                 0           NaN\n",
       "\n",
       "[5 rows x 17 columns]"
      ]
     },
     "execution_count": 16,
     "metadata": {
      "tags": []
     },
     "output_type": "execute_result"
    }
   ],
   "source": [
    "w_2016.head()"
   ]
  },
  {
   "cell_type": "markdown",
   "metadata": {
    "id": "lKddeuzdMhE2"
   },
   "source": [
    "#### Exercise 02: Verify the size of every column of all sheets and ensure no discrepancy in the data size\n",
    "\n",
    "Hint: The 2014 weather data header has been extended to the 0th row for some of the columns, while values in columns such as Year, Month, and Day were added to the 0th row, leaving empty values in the last row. \n",
    "Shift the cells by 1 in these columns.\n",
    "\n",
    "Hint: pd['column_name'] = pd['column_name'].shift()"
   ]
  },
  {
   "cell_type": "code",
   "execution_count": null,
   "metadata": {
    "id": "ZtyRNuJ67tto"
   },
   "outputs": [],
   "source": [
    "w_2014['Year'] = w_2014['Year'].shift(1)"
   ]
  },
  {
   "cell_type": "code",
   "execution_count": null,
   "metadata": {
    "colab": {
     "base_uri": "https://localhost:8080/",
     "height": 247
    },
    "executionInfo": {
     "elapsed": 773,
     "status": "ok",
     "timestamp": 1604664369415,
     "user": {
      "displayName": "Harshith a",
      "photoUrl": "https://lh3.googleusercontent.com/a-/AOh14Gg1ydY-8sWUdly1ac69J0vS3b5r75JtQ5GIvAJc=s64",
      "userId": "11844310727840414540"
     },
     "user_tz": -330
    },
    "id": "RrQ-ajMaR_GV",
    "outputId": "21325e4a-de65-4c64-9538-b861b3d837e3"
   },
   "outputs": [
    {
     "data": {
      "text/html": [
       "<div>\n",
       "<style scoped>\n",
       "    .dataframe tbody tr th:only-of-type {\n",
       "        vertical-align: middle;\n",
       "    }\n",
       "\n",
       "    .dataframe tbody tr th {\n",
       "        vertical-align: top;\n",
       "    }\n",
       "\n",
       "    .dataframe thead th {\n",
       "        text-align: right;\n",
       "    }\n",
       "</style>\n",
       "<table border=\"1\" class=\"dataframe\">\n",
       "  <thead>\n",
       "    <tr style=\"text-align: right;\">\n",
       "      <th></th>\n",
       "      <th>Year</th>\n",
       "      <th>Month</th>\n",
       "      <th>Day</th>\n",
       "      <th>Temp high (°C)</th>\n",
       "      <th>Temp low (°C)</th>\n",
       "      <th>Dew Point high (°C)</th>\n",
       "      <th>Dew Point low (°C)</th>\n",
       "      <th>Humidity (%) high</th>\n",
       "      <th>Humidity (%) low</th>\n",
       "      <th>Sea Level Press. (hPa) high</th>\n",
       "      <th>Sea Level Press. (hPa) low</th>\n",
       "      <th>Visibility (km) high</th>\n",
       "      <th>Visibility (km) low</th>\n",
       "      <th>Wind (km/h) low</th>\n",
       "      <th>Wind (km/h) high</th>\n",
       "      <th>Precip. (mm) sum</th>\n",
       "      <th>WeatherEvent</th>\n",
       "    </tr>\n",
       "  </thead>\n",
       "  <tbody>\n",
       "    <tr>\n",
       "      <th>0</th>\n",
       "      <td>NaN</td>\n",
       "      <td>Jan</td>\n",
       "      <td>1.0</td>\n",
       "      <td>high</td>\n",
       "      <td>low</td>\n",
       "      <td>high</td>\n",
       "      <td>low</td>\n",
       "      <td>high</td>\n",
       "      <td>low</td>\n",
       "      <td>high</td>\n",
       "      <td>low</td>\n",
       "      <td>high</td>\n",
       "      <td>low</td>\n",
       "      <td>low</td>\n",
       "      <td>high</td>\n",
       "      <td>sum</td>\n",
       "      <td>NaN</td>\n",
       "    </tr>\n",
       "    <tr>\n",
       "      <th>1</th>\n",
       "      <td>2014.0</td>\n",
       "      <td>Jan</td>\n",
       "      <td>2.0</td>\n",
       "      <td>1</td>\n",
       "      <td>-4</td>\n",
       "      <td>-7</td>\n",
       "      <td>-15</td>\n",
       "      <td>59</td>\n",
       "      <td>38</td>\n",
       "      <td>1029</td>\n",
       "      <td>1025</td>\n",
       "      <td>16</td>\n",
       "      <td>16</td>\n",
       "      <td>23</td>\n",
       "      <td>37</td>\n",
       "      <td>0</td>\n",
       "      <td>NaN</td>\n",
       "    </tr>\n",
       "    <tr>\n",
       "      <th>2</th>\n",
       "      <td>2014.0</td>\n",
       "      <td>Jan</td>\n",
       "      <td>3.0</td>\n",
       "      <td>1</td>\n",
       "      <td>-8</td>\n",
       "      <td>-5</td>\n",
       "      <td>-10</td>\n",
       "      <td>84</td>\n",
       "      <td>56</td>\n",
       "      <td>1023</td>\n",
       "      <td>1005</td>\n",
       "      <td>16</td>\n",
       "      <td>1</td>\n",
       "      <td>34</td>\n",
       "      <td>45</td>\n",
       "      <td>8.38</td>\n",
       "      <td>Fog , Snow</td>\n",
       "    </tr>\n",
       "    <tr>\n",
       "      <th>3</th>\n",
       "      <td>2014.0</td>\n",
       "      <td>Jan</td>\n",
       "      <td>4.0</td>\n",
       "      <td>-8</td>\n",
       "      <td>-13</td>\n",
       "      <td>-11</td>\n",
       "      <td>-22</td>\n",
       "      <td>84</td>\n",
       "      <td>42</td>\n",
       "      <td>1032</td>\n",
       "      <td>1004</td>\n",
       "      <td>16</td>\n",
       "      <td>0</td>\n",
       "      <td>34</td>\n",
       "      <td>47</td>\n",
       "      <td>7.37</td>\n",
       "      <td>Snow</td>\n",
       "    </tr>\n",
       "    <tr>\n",
       "      <th>4</th>\n",
       "      <td>2014.0</td>\n",
       "      <td>Jan</td>\n",
       "      <td>5.0</td>\n",
       "      <td>-2</td>\n",
       "      <td>-13</td>\n",
       "      <td>-9</td>\n",
       "      <td>-21</td>\n",
       "      <td>66</td>\n",
       "      <td>35</td>\n",
       "      <td>1034</td>\n",
       "      <td>1026</td>\n",
       "      <td>16</td>\n",
       "      <td>16</td>\n",
       "      <td>14</td>\n",
       "      <td>32</td>\n",
       "      <td>0</td>\n",
       "      <td>NaN</td>\n",
       "    </tr>\n",
       "  </tbody>\n",
       "</table>\n",
       "</div>"
      ],
      "text/plain": [
       "     Year Month  Day  ... Wind (km/h) high Precip. (mm) sum WeatherEvent\n",
       "0     NaN   Jan  1.0  ...             high              sum          NaN\n",
       "1  2014.0   Jan  2.0  ...               37                0          NaN\n",
       "2  2014.0   Jan  3.0  ...               45             8.38   Fog , Snow\n",
       "3  2014.0   Jan  4.0  ...               47             7.37         Snow\n",
       "4  2014.0   Jan  5.0  ...               32                0          NaN\n",
       "\n",
       "[5 rows x 17 columns]"
      ]
     },
     "execution_count": 18,
     "metadata": {
      "tags": []
     },
     "output_type": "execute_result"
    }
   ],
   "source": [
    "w_2014.head()"
   ]
  },
  {
   "cell_type": "code",
   "execution_count": null,
   "metadata": {
    "id": "EDARL8iASEWb"
   },
   "outputs": [],
   "source": [
    "w_2014['Day'] = w_2014['Day'].shift(1)\n",
    "w_2014['Month'] = w_2014['Month'].shift(1)"
   ]
  },
  {
   "cell_type": "code",
   "execution_count": null,
   "metadata": {
    "id": "eyFrWkfmSLrv"
   },
   "outputs": [],
   "source": [
    "w_2014['Day'].shift(-1)"
   ]
  },
  {
   "cell_type": "code",
   "execution_count": null,
   "metadata": {
    "colab": {
     "base_uri": "https://localhost:8080/",
     "height": 247
    },
    "executionInfo": {
     "elapsed": 1096,
     "status": "ok",
     "timestamp": 1604664423449,
     "user": {
      "displayName": "Harshith a",
      "photoUrl": "https://lh3.googleusercontent.com/a-/AOh14Gg1ydY-8sWUdly1ac69J0vS3b5r75JtQ5GIvAJc=s64",
      "userId": "11844310727840414540"
     },
     "user_tz": -330
    },
    "id": "NEVkbhU2Tjue",
    "outputId": "cf1a1c9a-4a39-4187-9c23-faa22768d173"
   },
   "outputs": [
    {
     "data": {
      "text/html": [
       "<div>\n",
       "<style scoped>\n",
       "    .dataframe tbody tr th:only-of-type {\n",
       "        vertical-align: middle;\n",
       "    }\n",
       "\n",
       "    .dataframe tbody tr th {\n",
       "        vertical-align: top;\n",
       "    }\n",
       "\n",
       "    .dataframe thead th {\n",
       "        text-align: right;\n",
       "    }\n",
       "</style>\n",
       "<table border=\"1\" class=\"dataframe\">\n",
       "  <thead>\n",
       "    <tr style=\"text-align: right;\">\n",
       "      <th></th>\n",
       "      <th>Year</th>\n",
       "      <th>Month</th>\n",
       "      <th>Day</th>\n",
       "      <th>Temp high (°C)</th>\n",
       "      <th>Temp low (°C)</th>\n",
       "      <th>Dew Point high (°C)</th>\n",
       "      <th>Dew Point low (°C)</th>\n",
       "      <th>Humidity (%) high</th>\n",
       "      <th>Humidity (%) low</th>\n",
       "      <th>Sea Level Press. (hPa) high</th>\n",
       "      <th>Sea Level Press. (hPa) low</th>\n",
       "      <th>Visibility (km) high</th>\n",
       "      <th>Visibility (km) low</th>\n",
       "      <th>Wind (km/h) low</th>\n",
       "      <th>Wind (km/h) high</th>\n",
       "      <th>Precip. (mm) sum</th>\n",
       "      <th>WeatherEvent</th>\n",
       "    </tr>\n",
       "  </thead>\n",
       "  <tbody>\n",
       "    <tr>\n",
       "      <th>0</th>\n",
       "      <td>NaN</td>\n",
       "      <td>NaN</td>\n",
       "      <td>NaN</td>\n",
       "      <td>high</td>\n",
       "      <td>low</td>\n",
       "      <td>high</td>\n",
       "      <td>low</td>\n",
       "      <td>high</td>\n",
       "      <td>low</td>\n",
       "      <td>high</td>\n",
       "      <td>low</td>\n",
       "      <td>high</td>\n",
       "      <td>low</td>\n",
       "      <td>low</td>\n",
       "      <td>high</td>\n",
       "      <td>sum</td>\n",
       "      <td>NaN</td>\n",
       "    </tr>\n",
       "    <tr>\n",
       "      <th>1</th>\n",
       "      <td>2014.0</td>\n",
       "      <td>Jan</td>\n",
       "      <td>1.0</td>\n",
       "      <td>1</td>\n",
       "      <td>-4</td>\n",
       "      <td>-7</td>\n",
       "      <td>-15</td>\n",
       "      <td>59</td>\n",
       "      <td>38</td>\n",
       "      <td>1029</td>\n",
       "      <td>1025</td>\n",
       "      <td>16</td>\n",
       "      <td>16</td>\n",
       "      <td>23</td>\n",
       "      <td>37</td>\n",
       "      <td>0</td>\n",
       "      <td>NaN</td>\n",
       "    </tr>\n",
       "    <tr>\n",
       "      <th>2</th>\n",
       "      <td>2014.0</td>\n",
       "      <td>Jan</td>\n",
       "      <td>2.0</td>\n",
       "      <td>1</td>\n",
       "      <td>-8</td>\n",
       "      <td>-5</td>\n",
       "      <td>-10</td>\n",
       "      <td>84</td>\n",
       "      <td>56</td>\n",
       "      <td>1023</td>\n",
       "      <td>1005</td>\n",
       "      <td>16</td>\n",
       "      <td>1</td>\n",
       "      <td>34</td>\n",
       "      <td>45</td>\n",
       "      <td>8.38</td>\n",
       "      <td>Fog , Snow</td>\n",
       "    </tr>\n",
       "    <tr>\n",
       "      <th>3</th>\n",
       "      <td>2014.0</td>\n",
       "      <td>Jan</td>\n",
       "      <td>3.0</td>\n",
       "      <td>-8</td>\n",
       "      <td>-13</td>\n",
       "      <td>-11</td>\n",
       "      <td>-22</td>\n",
       "      <td>84</td>\n",
       "      <td>42</td>\n",
       "      <td>1032</td>\n",
       "      <td>1004</td>\n",
       "      <td>16</td>\n",
       "      <td>0</td>\n",
       "      <td>34</td>\n",
       "      <td>47</td>\n",
       "      <td>7.37</td>\n",
       "      <td>Snow</td>\n",
       "    </tr>\n",
       "    <tr>\n",
       "      <th>4</th>\n",
       "      <td>2014.0</td>\n",
       "      <td>Jan</td>\n",
       "      <td>4.0</td>\n",
       "      <td>-2</td>\n",
       "      <td>-13</td>\n",
       "      <td>-9</td>\n",
       "      <td>-21</td>\n",
       "      <td>66</td>\n",
       "      <td>35</td>\n",
       "      <td>1034</td>\n",
       "      <td>1026</td>\n",
       "      <td>16</td>\n",
       "      <td>16</td>\n",
       "      <td>14</td>\n",
       "      <td>32</td>\n",
       "      <td>0</td>\n",
       "      <td>NaN</td>\n",
       "    </tr>\n",
       "  </tbody>\n",
       "</table>\n",
       "</div>"
      ],
      "text/plain": [
       "     Year Month  Day  ... Wind (km/h) high Precip. (mm) sum WeatherEvent\n",
       "0     NaN   NaN  NaN  ...             high              sum          NaN\n",
       "1  2014.0   Jan  1.0  ...               37                0          NaN\n",
       "2  2014.0   Jan  2.0  ...               45             8.38   Fog , Snow\n",
       "3  2014.0   Jan  3.0  ...               47             7.37         Snow\n",
       "4  2014.0   Jan  4.0  ...               32                0          NaN\n",
       "\n",
       "[5 rows x 17 columns]"
      ]
     },
     "execution_count": 20,
     "metadata": {
      "tags": []
     },
     "output_type": "execute_result"
    }
   ],
   "source": [
    "w_2014.head()"
   ]
  },
  {
   "cell_type": "code",
   "execution_count": null,
   "metadata": {
    "id": "AG8SEvEhToRK"
   },
   "outputs": [],
   "source": [
    "# w_2014 = w_2014.drop(w_2014.index[0])"
   ]
  },
  {
   "cell_type": "code",
   "execution_count": null,
   "metadata": {
    "id": "x9lGb378TAyY"
   },
   "outputs": [],
   "source": [
    "w_2014.drop(w_2014.index[0], inplace=True)"
   ]
  },
  {
   "cell_type": "code",
   "execution_count": null,
   "metadata": {
    "colab": {
     "base_uri": "https://localhost:8080/",
     "height": 477
    },
    "executionInfo": {
     "elapsed": 791,
     "status": "ok",
     "timestamp": 1604664608642,
     "user": {
      "displayName": "Harshith a",
      "photoUrl": "https://lh3.googleusercontent.com/a-/AOh14Gg1ydY-8sWUdly1ac69J0vS3b5r75JtQ5GIvAJc=s64",
      "userId": "11844310727840414540"
     },
     "user_tz": -330
    },
    "id": "zstUtBY9TtEi",
    "outputId": "049dbf38-b200-4697-e2fe-a016934fa406"
   },
   "outputs": [
    {
     "data": {
      "text/html": [
       "<div>\n",
       "<style scoped>\n",
       "    .dataframe tbody tr th:only-of-type {\n",
       "        vertical-align: middle;\n",
       "    }\n",
       "\n",
       "    .dataframe tbody tr th {\n",
       "        vertical-align: top;\n",
       "    }\n",
       "\n",
       "    .dataframe thead th {\n",
       "        text-align: right;\n",
       "    }\n",
       "</style>\n",
       "<table border=\"1\" class=\"dataframe\">\n",
       "  <thead>\n",
       "    <tr style=\"text-align: right;\">\n",
       "      <th></th>\n",
       "      <th>Year</th>\n",
       "      <th>Month</th>\n",
       "      <th>Day</th>\n",
       "      <th>Temp high (°C)</th>\n",
       "      <th>Temp low (°C)</th>\n",
       "      <th>Dew Point high (°C)</th>\n",
       "      <th>Dew Point low (°C)</th>\n",
       "      <th>Humidity (%) high</th>\n",
       "      <th>Humidity (%) low</th>\n",
       "      <th>Sea Level Press. (hPa) high</th>\n",
       "      <th>Sea Level Press. (hPa) low</th>\n",
       "      <th>Visibility (km) high</th>\n",
       "      <th>Visibility (km) low</th>\n",
       "      <th>Wind (km/h) low</th>\n",
       "      <th>Wind (km/h) high</th>\n",
       "      <th>Precip. (mm) sum</th>\n",
       "      <th>WeatherEvent</th>\n",
       "    </tr>\n",
       "  </thead>\n",
       "  <tbody>\n",
       "    <tr>\n",
       "      <th>1</th>\n",
       "      <td>2014.0</td>\n",
       "      <td>Jan</td>\n",
       "      <td>1.0</td>\n",
       "      <td>1</td>\n",
       "      <td>-4</td>\n",
       "      <td>-7</td>\n",
       "      <td>-15</td>\n",
       "      <td>59</td>\n",
       "      <td>38</td>\n",
       "      <td>1029</td>\n",
       "      <td>1025</td>\n",
       "      <td>16</td>\n",
       "      <td>16</td>\n",
       "      <td>23</td>\n",
       "      <td>37</td>\n",
       "      <td>0</td>\n",
       "      <td>NaN</td>\n",
       "    </tr>\n",
       "    <tr>\n",
       "      <th>2</th>\n",
       "      <td>2014.0</td>\n",
       "      <td>Jan</td>\n",
       "      <td>2.0</td>\n",
       "      <td>1</td>\n",
       "      <td>-8</td>\n",
       "      <td>-5</td>\n",
       "      <td>-10</td>\n",
       "      <td>84</td>\n",
       "      <td>56</td>\n",
       "      <td>1023</td>\n",
       "      <td>1005</td>\n",
       "      <td>16</td>\n",
       "      <td>1</td>\n",
       "      <td>34</td>\n",
       "      <td>45</td>\n",
       "      <td>8.38</td>\n",
       "      <td>Fog , Snow</td>\n",
       "    </tr>\n",
       "    <tr>\n",
       "      <th>3</th>\n",
       "      <td>2014.0</td>\n",
       "      <td>Jan</td>\n",
       "      <td>3.0</td>\n",
       "      <td>-8</td>\n",
       "      <td>-13</td>\n",
       "      <td>-11</td>\n",
       "      <td>-22</td>\n",
       "      <td>84</td>\n",
       "      <td>42</td>\n",
       "      <td>1032</td>\n",
       "      <td>1004</td>\n",
       "      <td>16</td>\n",
       "      <td>0</td>\n",
       "      <td>34</td>\n",
       "      <td>47</td>\n",
       "      <td>7.37</td>\n",
       "      <td>Snow</td>\n",
       "    </tr>\n",
       "    <tr>\n",
       "      <th>4</th>\n",
       "      <td>2014.0</td>\n",
       "      <td>Jan</td>\n",
       "      <td>4.0</td>\n",
       "      <td>-2</td>\n",
       "      <td>-13</td>\n",
       "      <td>-9</td>\n",
       "      <td>-21</td>\n",
       "      <td>66</td>\n",
       "      <td>35</td>\n",
       "      <td>1034</td>\n",
       "      <td>1026</td>\n",
       "      <td>16</td>\n",
       "      <td>16</td>\n",
       "      <td>14</td>\n",
       "      <td>32</td>\n",
       "      <td>0</td>\n",
       "      <td>NaN</td>\n",
       "    </tr>\n",
       "    <tr>\n",
       "      <th>5</th>\n",
       "      <td>2014.0</td>\n",
       "      <td>Jan</td>\n",
       "      <td>5.0</td>\n",
       "      <td>4</td>\n",
       "      <td>-3</td>\n",
       "      <td>3</td>\n",
       "      <td>-8</td>\n",
       "      <td>92</td>\n",
       "      <td>58</td>\n",
       "      <td>1027</td>\n",
       "      <td>1010</td>\n",
       "      <td>16</td>\n",
       "      <td>0</td>\n",
       "      <td>11</td>\n",
       "      <td>27</td>\n",
       "      <td>3.56</td>\n",
       "      <td>Fog , Rain</td>\n",
       "    </tr>\n",
       "    <tr>\n",
       "      <th>...</th>\n",
       "      <td>...</td>\n",
       "      <td>...</td>\n",
       "      <td>...</td>\n",
       "      <td>...</td>\n",
       "      <td>...</td>\n",
       "      <td>...</td>\n",
       "      <td>...</td>\n",
       "      <td>...</td>\n",
       "      <td>...</td>\n",
       "      <td>...</td>\n",
       "      <td>...</td>\n",
       "      <td>...</td>\n",
       "      <td>...</td>\n",
       "      <td>...</td>\n",
       "      <td>...</td>\n",
       "      <td>...</td>\n",
       "      <td>...</td>\n",
       "    </tr>\n",
       "    <tr>\n",
       "      <th>361</th>\n",
       "      <td>2014.0</td>\n",
       "      <td>Dec</td>\n",
       "      <td>27.0</td>\n",
       "      <td>13</td>\n",
       "      <td>7</td>\n",
       "      <td>2</td>\n",
       "      <td>-2</td>\n",
       "      <td>53</td>\n",
       "      <td>41</td>\n",
       "      <td>1025</td>\n",
       "      <td>1018</td>\n",
       "      <td>16</td>\n",
       "      <td>16</td>\n",
       "      <td>23</td>\n",
       "      <td>40</td>\n",
       "      <td>0</td>\n",
       "      <td>NaN</td>\n",
       "    </tr>\n",
       "    <tr>\n",
       "      <th>362</th>\n",
       "      <td>2014.0</td>\n",
       "      <td>Dec</td>\n",
       "      <td>28.0</td>\n",
       "      <td>12</td>\n",
       "      <td>6</td>\n",
       "      <td>6</td>\n",
       "      <td>-3</td>\n",
       "      <td>92</td>\n",
       "      <td>53</td>\n",
       "      <td>1018</td>\n",
       "      <td>1012</td>\n",
       "      <td>16</td>\n",
       "      <td>3</td>\n",
       "      <td>24</td>\n",
       "      <td>35</td>\n",
       "      <td>2.54</td>\n",
       "      <td>Rain</td>\n",
       "    </tr>\n",
       "    <tr>\n",
       "      <th>363</th>\n",
       "      <td>2014.0</td>\n",
       "      <td>Dec</td>\n",
       "      <td>29.0</td>\n",
       "      <td>7</td>\n",
       "      <td>1</td>\n",
       "      <td>-4</td>\n",
       "      <td>-9</td>\n",
       "      <td>53</td>\n",
       "      <td>31</td>\n",
       "      <td>1025</td>\n",
       "      <td>1019</td>\n",
       "      <td>16</td>\n",
       "      <td>16</td>\n",
       "      <td>24</td>\n",
       "      <td>40</td>\n",
       "      <td>0</td>\n",
       "      <td>NaN</td>\n",
       "    </tr>\n",
       "    <tr>\n",
       "      <th>364</th>\n",
       "      <td>2014.0</td>\n",
       "      <td>Dec</td>\n",
       "      <td>30.0</td>\n",
       "      <td>1</td>\n",
       "      <td>-2</td>\n",
       "      <td>-8</td>\n",
       "      <td>-13</td>\n",
       "      <td>58</td>\n",
       "      <td>36</td>\n",
       "      <td>1029</td>\n",
       "      <td>1025</td>\n",
       "      <td>16</td>\n",
       "      <td>16</td>\n",
       "      <td>16</td>\n",
       "      <td>27</td>\n",
       "      <td>0</td>\n",
       "      <td>NaN</td>\n",
       "    </tr>\n",
       "    <tr>\n",
       "      <th>365</th>\n",
       "      <td>2014.0</td>\n",
       "      <td>Dec</td>\n",
       "      <td>31.0</td>\n",
       "      <td>0</td>\n",
       "      <td>-3</td>\n",
       "      <td>-11</td>\n",
       "      <td>-15</td>\n",
       "      <td>55</td>\n",
       "      <td>30</td>\n",
       "      <td>1028</td>\n",
       "      <td>1022</td>\n",
       "      <td>16</td>\n",
       "      <td>16</td>\n",
       "      <td>23</td>\n",
       "      <td>34</td>\n",
       "      <td>0</td>\n",
       "      <td>NaN</td>\n",
       "    </tr>\n",
       "  </tbody>\n",
       "</table>\n",
       "<p>365 rows × 17 columns</p>\n",
       "</div>"
      ],
      "text/plain": [
       "       Year Month   Day  ... Wind (km/h) high Precip. (mm) sum WeatherEvent\n",
       "1    2014.0   Jan   1.0  ...               37                0          NaN\n",
       "2    2014.0   Jan   2.0  ...               45             8.38   Fog , Snow\n",
       "3    2014.0   Jan   3.0  ...               47             7.37         Snow\n",
       "4    2014.0   Jan   4.0  ...               32                0          NaN\n",
       "5    2014.0   Jan   5.0  ...               27             3.56   Fog , Rain\n",
       "..      ...   ...   ...  ...              ...              ...          ...\n",
       "361  2014.0   Dec  27.0  ...               40                0          NaN\n",
       "362  2014.0   Dec  28.0  ...               35             2.54         Rain\n",
       "363  2014.0   Dec  29.0  ...               40                0          NaN\n",
       "364  2014.0   Dec  30.0  ...               27                0          NaN\n",
       "365  2014.0   Dec  31.0  ...               34                0          NaN\n",
       "\n",
       "[365 rows x 17 columns]"
      ]
     },
     "execution_count": 22,
     "metadata": {
      "tags": []
     },
     "output_type": "execute_result"
    }
   ],
   "source": [
    "w_2014"
   ]
  },
  {
   "cell_type": "markdown",
   "metadata": {
    "id": "K97reEdw6bh5"
   },
   "source": [
    "#### Exercise 03: Combine the Weather data of all the years\n",
    "\n",
    "Hint: [pd.concat()](https://pandas.pydata.org/pandas-docs/stable/reference/api/pandas.concat.html)"
   ]
  },
  {
   "cell_type": "code",
   "execution_count": null,
   "metadata": {
    "colab": {
     "base_uri": "https://localhost:8080/"
    },
    "executionInfo": {
     "elapsed": 1172,
     "status": "ok",
     "timestamp": 1604664637466,
     "user": {
      "displayName": "Harshith a",
      "photoUrl": "https://lh3.googleusercontent.com/a-/AOh14Gg1ydY-8sWUdly1ac69J0vS3b5r75JtQ5GIvAJc=s64",
      "userId": "11844310727840414540"
     },
     "user_tz": -330
    },
    "id": "D0Ffu5fRGErc",
    "outputId": "c95ccd40-9bfc-4241-e1f9-db7be3682c16"
   },
   "outputs": [
    {
     "data": {
      "text/plain": [
       "((386, 17),\n",
       " (365, 17),\n",
       " (365, 17),\n",
       " (366, 17),\n",
       " (365, 17),\n",
       " (365, 17),\n",
       " (365, 17),\n",
       " (366, 17))"
      ]
     },
     "execution_count": 23,
     "metadata": {
      "tags": []
     },
     "output_type": "execute_result"
    }
   ],
   "source": [
    "w_2009.shape, w_2010.shape, w_2011.shape, w_2012.shape, w_2013.shape, w_2014.shape, w_2015.shape, w_2016.shape"
   ]
  },
  {
   "cell_type": "code",
   "execution_count": null,
   "metadata": {
    "colab": {
     "base_uri": "https://localhost:8080/",
     "height": 477
    },
    "executionInfo": {
     "elapsed": 1060,
     "status": "ok",
     "timestamp": 1604667097793,
     "user": {
      "displayName": "Harshith a",
      "photoUrl": "https://lh3.googleusercontent.com/a-/AOh14Gg1ydY-8sWUdly1ac69J0vS3b5r75JtQ5GIvAJc=s64",
      "userId": "11844310727840414540"
     },
     "user_tz": -330
    },
    "id": "ynrbPepZUEe3",
    "outputId": "e91f8dab-35eb-480b-ad2c-68b5f16da478"
   },
   "outputs": [
    {
     "data": {
      "text/html": [
       "<div>\n",
       "<style scoped>\n",
       "    .dataframe tbody tr th:only-of-type {\n",
       "        vertical-align: middle;\n",
       "    }\n",
       "\n",
       "    .dataframe tbody tr th {\n",
       "        vertical-align: top;\n",
       "    }\n",
       "\n",
       "    .dataframe thead th {\n",
       "        text-align: right;\n",
       "    }\n",
       "</style>\n",
       "<table border=\"1\" class=\"dataframe\">\n",
       "  <thead>\n",
       "    <tr style=\"text-align: right;\">\n",
       "      <th></th>\n",
       "      <th>Year</th>\n",
       "      <th>Month</th>\n",
       "      <th>Day</th>\n",
       "      <th>Temp high (°C)</th>\n",
       "      <th>Temp low (°C)</th>\n",
       "      <th>Dew Point high (°C)</th>\n",
       "      <th>Dew Point low (°C)</th>\n",
       "      <th>Humidity (%) high</th>\n",
       "      <th>Humidity (%) low</th>\n",
       "      <th>Sea Level Press. (hPa) high</th>\n",
       "      <th>Sea Level Press. (hPa) low</th>\n",
       "      <th>Visibility (km) high</th>\n",
       "      <th>Visibility (km) low</th>\n",
       "      <th>Wind (km/h) low</th>\n",
       "      <th>Wind (km/h) high</th>\n",
       "      <th>Precip. (mm) sum</th>\n",
       "      <th>WeatherEvent</th>\n",
       "    </tr>\n",
       "  </thead>\n",
       "  <tbody>\n",
       "    <tr>\n",
       "      <th>0</th>\n",
       "      <td>2009.0</td>\n",
       "      <td>Jan</td>\n",
       "      <td>1.0</td>\n",
       "      <td>-3</td>\n",
       "      <td>-9</td>\n",
       "      <td>-16</td>\n",
       "      <td>-19</td>\n",
       "      <td>54</td>\n",
       "      <td>32</td>\n",
       "      <td>1025</td>\n",
       "      <td>1015</td>\n",
       "      <td>16</td>\n",
       "      <td>16</td>\n",
       "      <td>37</td>\n",
       "      <td>60</td>\n",
       "      <td>0</td>\n",
       "      <td>NaN</td>\n",
       "    </tr>\n",
       "    <tr>\n",
       "      <th>1</th>\n",
       "      <td>2009.0</td>\n",
       "      <td>Jan</td>\n",
       "      <td>2.0</td>\n",
       "      <td>1</td>\n",
       "      <td>-5</td>\n",
       "      <td>-3</td>\n",
       "      <td>-17</td>\n",
       "      <td>78</td>\n",
       "      <td>36</td>\n",
       "      <td>1022</td>\n",
       "      <td>1007</td>\n",
       "      <td>16</td>\n",
       "      <td>2</td>\n",
       "      <td>27</td>\n",
       "      <td>48</td>\n",
       "      <td>T</td>\n",
       "      <td>Snow</td>\n",
       "    </tr>\n",
       "    <tr>\n",
       "      <th>2</th>\n",
       "      <td>2009.0</td>\n",
       "      <td>Jan</td>\n",
       "      <td>3.0</td>\n",
       "      <td>3</td>\n",
       "      <td>-2</td>\n",
       "      <td>-5</td>\n",
       "      <td>-13</td>\n",
       "      <td>72</td>\n",
       "      <td>35</td>\n",
       "      <td>1018</td>\n",
       "      <td>1008</td>\n",
       "      <td>16</td>\n",
       "      <td>16</td>\n",
       "      <td>27</td>\n",
       "      <td>42</td>\n",
       "      <td>T</td>\n",
       "      <td>NaN</td>\n",
       "    </tr>\n",
       "    <tr>\n",
       "      <th>3</th>\n",
       "      <td>2009.0</td>\n",
       "      <td>Jan</td>\n",
       "      <td>4.0</td>\n",
       "      <td>6</td>\n",
       "      <td>-4</td>\n",
       "      <td>-10</td>\n",
       "      <td>-13</td>\n",
       "      <td>55</td>\n",
       "      <td>29</td>\n",
       "      <td>1020</td>\n",
       "      <td>1015</td>\n",
       "      <td>16</td>\n",
       "      <td>16</td>\n",
       "      <td>32</td>\n",
       "      <td>40</td>\n",
       "      <td>0</td>\n",
       "      <td>NaN</td>\n",
       "    </tr>\n",
       "    <tr>\n",
       "      <th>4</th>\n",
       "      <td>2009.0</td>\n",
       "      <td>Jan</td>\n",
       "      <td>5.0</td>\n",
       "      <td>6</td>\n",
       "      <td>3</td>\n",
       "      <td>-1</td>\n",
       "      <td>-16</td>\n",
       "      <td>62</td>\n",
       "      <td>33</td>\n",
       "      <td>1016</td>\n",
       "      <td>1013</td>\n",
       "      <td>16</td>\n",
       "      <td>16</td>\n",
       "      <td>23</td>\n",
       "      <td>34</td>\n",
       "      <td>T</td>\n",
       "      <td>NaN</td>\n",
       "    </tr>\n",
       "    <tr>\n",
       "      <th>...</th>\n",
       "      <td>...</td>\n",
       "      <td>...</td>\n",
       "      <td>...</td>\n",
       "      <td>...</td>\n",
       "      <td>...</td>\n",
       "      <td>...</td>\n",
       "      <td>...</td>\n",
       "      <td>...</td>\n",
       "      <td>...</td>\n",
       "      <td>...</td>\n",
       "      <td>...</td>\n",
       "      <td>...</td>\n",
       "      <td>...</td>\n",
       "      <td>...</td>\n",
       "      <td>...</td>\n",
       "      <td>...</td>\n",
       "      <td>...</td>\n",
       "    </tr>\n",
       "    <tr>\n",
       "      <th>361</th>\n",
       "      <td>2016.0</td>\n",
       "      <td>Dec</td>\n",
       "      <td>27.0</td>\n",
       "      <td>16</td>\n",
       "      <td>4</td>\n",
       "      <td>11</td>\n",
       "      <td>-3</td>\n",
       "      <td>89</td>\n",
       "      <td>33</td>\n",
       "      <td>1017</td>\n",
       "      <td>1008</td>\n",
       "      <td>16</td>\n",
       "      <td>14</td>\n",
       "      <td>32</td>\n",
       "      <td>53</td>\n",
       "      <td>0</td>\n",
       "      <td>NaN</td>\n",
       "    </tr>\n",
       "    <tr>\n",
       "      <th>362</th>\n",
       "      <td>2016.0</td>\n",
       "      <td>Dec</td>\n",
       "      <td>28.0</td>\n",
       "      <td>4</td>\n",
       "      <td>1</td>\n",
       "      <td>-3</td>\n",
       "      <td>-7</td>\n",
       "      <td>64</td>\n",
       "      <td>44</td>\n",
       "      <td>1022</td>\n",
       "      <td>1014</td>\n",
       "      <td>16</td>\n",
       "      <td>16</td>\n",
       "      <td>23</td>\n",
       "      <td>34</td>\n",
       "      <td>0</td>\n",
       "      <td>NaN</td>\n",
       "    </tr>\n",
       "    <tr>\n",
       "      <th>363</th>\n",
       "      <td>2016.0</td>\n",
       "      <td>Dec</td>\n",
       "      <td>29.0</td>\n",
       "      <td>8</td>\n",
       "      <td>1</td>\n",
       "      <td>7</td>\n",
       "      <td>-7</td>\n",
       "      <td>96</td>\n",
       "      <td>52</td>\n",
       "      <td>1019</td>\n",
       "      <td>1000</td>\n",
       "      <td>16</td>\n",
       "      <td>2</td>\n",
       "      <td>24</td>\n",
       "      <td>40</td>\n",
       "      <td>9.91</td>\n",
       "      <td>Rain</td>\n",
       "    </tr>\n",
       "    <tr>\n",
       "      <th>364</th>\n",
       "      <td>2016.0</td>\n",
       "      <td>Dec</td>\n",
       "      <td>30.0</td>\n",
       "      <td>4</td>\n",
       "      <td>1</td>\n",
       "      <td>-1</td>\n",
       "      <td>-7</td>\n",
       "      <td>82</td>\n",
       "      <td>44</td>\n",
       "      <td>1015</td>\n",
       "      <td>1000</td>\n",
       "      <td>16</td>\n",
       "      <td>1</td>\n",
       "      <td>29</td>\n",
       "      <td>47</td>\n",
       "      <td>0.25</td>\n",
       "      <td>Fog , Snow</td>\n",
       "    </tr>\n",
       "    <tr>\n",
       "      <th>365</th>\n",
       "      <td>2016.0</td>\n",
       "      <td>Dec</td>\n",
       "      <td>31.0</td>\n",
       "      <td>7</td>\n",
       "      <td>-1</td>\n",
       "      <td>-3</td>\n",
       "      <td>-9</td>\n",
       "      <td>56</td>\n",
       "      <td>36</td>\n",
       "      <td>1021</td>\n",
       "      <td>1012</td>\n",
       "      <td>16</td>\n",
       "      <td>16</td>\n",
       "      <td>24</td>\n",
       "      <td>40</td>\n",
       "      <td>0</td>\n",
       "      <td>NaN</td>\n",
       "    </tr>\n",
       "  </tbody>\n",
       "</table>\n",
       "<p>2943 rows × 17 columns</p>\n",
       "</div>"
      ],
      "text/plain": [
       "       Year Month   Day  ... Wind (km/h) high Precip. (mm) sum WeatherEvent\n",
       "0    2009.0   Jan   1.0  ...               60                0          NaN\n",
       "1    2009.0   Jan   2.0  ...               48                T         Snow\n",
       "2    2009.0   Jan   3.0  ...               42                T          NaN\n",
       "3    2009.0   Jan   4.0  ...               40                0          NaN\n",
       "4    2009.0   Jan   5.0  ...               34                T          NaN\n",
       "..      ...   ...   ...  ...              ...              ...          ...\n",
       "361  2016.0   Dec  27.0  ...               53                0          NaN\n",
       "362  2016.0   Dec  28.0  ...               34                0          NaN\n",
       "363  2016.0   Dec  29.0  ...               40             9.91         Rain\n",
       "364  2016.0   Dec  30.0  ...               47             0.25   Fog , Snow\n",
       "365  2016.0   Dec  31.0  ...               40                0          NaN\n",
       "\n",
       "[2943 rows x 17 columns]"
      ]
     },
     "execution_count": 42,
     "metadata": {
      "tags": []
     },
     "output_type": "execute_result"
    }
   ],
   "source": [
    "total = pd.concat([w_2009,w_2010,w_2011,w_2012,w_2013,w_2014,w_2015,w_2016])\n",
    "total"
   ]
  },
  {
   "cell_type": "markdown",
   "metadata": {
    "id": "ZRU7hfmYiU0l"
   },
   "source": [
    "#### Exercise 04: Remove unneccessary columns (if any) and Group the data by `WeatherEvent` column and print the first value of each WeatherEvent"
   ]
  },
  {
   "cell_type": "code",
   "execution_count": null,
   "metadata": {
    "colab": {
     "base_uri": "https://localhost:8080/",
     "height": 384
    },
    "executionInfo": {
     "elapsed": 1391,
     "status": "ok",
     "timestamp": 1604667102241,
     "user": {
      "displayName": "Harshith a",
      "photoUrl": "https://lh3.googleusercontent.com/a-/AOh14Gg1ydY-8sWUdly1ac69J0vS3b5r75JtQ5GIvAJc=s64",
      "userId": "11844310727840414540"
     },
     "user_tz": -330
    },
    "id": "c5NDp6mAHD2x",
    "outputId": "c9af7f6b-b832-48de-da37-e57ee0b04eb3"
   },
   "outputs": [
    {
     "data": {
      "text/html": [
       "<div>\n",
       "<style scoped>\n",
       "    .dataframe tbody tr th:only-of-type {\n",
       "        vertical-align: middle;\n",
       "    }\n",
       "\n",
       "    .dataframe tbody tr th {\n",
       "        vertical-align: top;\n",
       "    }\n",
       "\n",
       "    .dataframe thead th {\n",
       "        text-align: right;\n",
       "    }\n",
       "</style>\n",
       "<table border=\"1\" class=\"dataframe\">\n",
       "  <thead>\n",
       "    <tr style=\"text-align: right;\">\n",
       "      <th></th>\n",
       "      <th>Year</th>\n",
       "      <th>Month</th>\n",
       "      <th>Day</th>\n",
       "      <th>Temp high (°C)</th>\n",
       "      <th>Temp low (°C)</th>\n",
       "      <th>Dew Point high (°C)</th>\n",
       "      <th>Dew Point low (°C)</th>\n",
       "      <th>Humidity (%) high</th>\n",
       "      <th>Humidity (%) low</th>\n",
       "      <th>Sea Level Press. (hPa) high</th>\n",
       "      <th>Sea Level Press. (hPa) low</th>\n",
       "      <th>Visibility (km) high</th>\n",
       "      <th>Visibility (km) low</th>\n",
       "      <th>Wind (km/h) low</th>\n",
       "      <th>Wind (km/h) high</th>\n",
       "      <th>Precip. (mm) sum</th>\n",
       "    </tr>\n",
       "    <tr>\n",
       "      <th>WeatherEvent</th>\n",
       "      <th></th>\n",
       "      <th></th>\n",
       "      <th></th>\n",
       "      <th></th>\n",
       "      <th></th>\n",
       "      <th></th>\n",
       "      <th></th>\n",
       "      <th></th>\n",
       "      <th></th>\n",
       "      <th></th>\n",
       "      <th></th>\n",
       "      <th></th>\n",
       "      <th></th>\n",
       "      <th></th>\n",
       "      <th></th>\n",
       "      <th></th>\n",
       "    </tr>\n",
       "  </thead>\n",
       "  <tbody>\n",
       "    <tr>\n",
       "      <th>Fog</th>\n",
       "      <td>2009.0</td>\n",
       "      <td>Mar</td>\n",
       "      <td>2.0</td>\n",
       "      <td>-2</td>\n",
       "      <td>-9</td>\n",
       "      <td>-3</td>\n",
       "      <td>-17</td>\n",
       "      <td>96</td>\n",
       "      <td>54</td>\n",
       "      <td>1019</td>\n",
       "      <td>1010</td>\n",
       "      <td>16</td>\n",
       "      <td>0</td>\n",
       "      <td>32</td>\n",
       "      <td>52</td>\n",
       "      <td>12.45</td>\n",
       "    </tr>\n",
       "    <tr>\n",
       "      <th>Fog , Rain</th>\n",
       "      <td>2009.0</td>\n",
       "      <td>Apr</td>\n",
       "      <td>3.0</td>\n",
       "      <td>16</td>\n",
       "      <td>9</td>\n",
       "      <td>14</td>\n",
       "      <td>7</td>\n",
       "      <td>100</td>\n",
       "      <td>60</td>\n",
       "      <td>1012</td>\n",
       "      <td>987</td>\n",
       "      <td>16</td>\n",
       "      <td>0</td>\n",
       "      <td>32</td>\n",
       "      <td>47</td>\n",
       "      <td>23.11</td>\n",
       "    </tr>\n",
       "    <tr>\n",
       "      <th>Fog , Rain , Snow</th>\n",
       "      <td>2009.0</td>\n",
       "      <td>Jan</td>\n",
       "      <td>10.0</td>\n",
       "      <td>-1</td>\n",
       "      <td>-5</td>\n",
       "      <td>-3</td>\n",
       "      <td>-12</td>\n",
       "      <td>88</td>\n",
       "      <td>50</td>\n",
       "      <td>1026</td>\n",
       "      <td>1012</td>\n",
       "      <td>16</td>\n",
       "      <td>1</td>\n",
       "      <td>26</td>\n",
       "      <td>39</td>\n",
       "      <td>3.56</td>\n",
       "    </tr>\n",
       "    <tr>\n",
       "      <th>Fog , Snow</th>\n",
       "      <td>2009.0</td>\n",
       "      <td>Jan</td>\n",
       "      <td>18.0</td>\n",
       "      <td>2</td>\n",
       "      <td>-6</td>\n",
       "      <td>-1</td>\n",
       "      <td>-12</td>\n",
       "      <td>100</td>\n",
       "      <td>55</td>\n",
       "      <td>1025</td>\n",
       "      <td>1006</td>\n",
       "      <td>16</td>\n",
       "      <td>1</td>\n",
       "      <td>19</td>\n",
       "      <td>27</td>\n",
       "      <td>4.57</td>\n",
       "    </tr>\n",
       "    <tr>\n",
       "      <th>Rain</th>\n",
       "      <td>2009.0</td>\n",
       "      <td>Jan</td>\n",
       "      <td>6.0</td>\n",
       "      <td>3</td>\n",
       "      <td>-1</td>\n",
       "      <td>-2</td>\n",
       "      <td>-18</td>\n",
       "      <td>85</td>\n",
       "      <td>22</td>\n",
       "      <td>1019</td>\n",
       "      <td>1009</td>\n",
       "      <td>16</td>\n",
       "      <td>6</td>\n",
       "      <td>24</td>\n",
       "      <td>29</td>\n",
       "      <td>2.03</td>\n",
       "    </tr>\n",
       "    <tr>\n",
       "      <th>Rain , Snow</th>\n",
       "      <td>2009.0</td>\n",
       "      <td>Feb</td>\n",
       "      <td>18.0</td>\n",
       "      <td>7</td>\n",
       "      <td>0</td>\n",
       "      <td>6</td>\n",
       "      <td>-9</td>\n",
       "      <td>100</td>\n",
       "      <td>47</td>\n",
       "      <td>1021</td>\n",
       "      <td>997</td>\n",
       "      <td>16</td>\n",
       "      <td>3</td>\n",
       "      <td>27</td>\n",
       "      <td>40</td>\n",
       "      <td>8.13</td>\n",
       "    </tr>\n",
       "    <tr>\n",
       "      <th>Snow</th>\n",
       "      <td>2009.0</td>\n",
       "      <td>Jan</td>\n",
       "      <td>2.0</td>\n",
       "      <td>1</td>\n",
       "      <td>-5</td>\n",
       "      <td>-3</td>\n",
       "      <td>-17</td>\n",
       "      <td>78</td>\n",
       "      <td>36</td>\n",
       "      <td>1022</td>\n",
       "      <td>1007</td>\n",
       "      <td>16</td>\n",
       "      <td>2</td>\n",
       "      <td>27</td>\n",
       "      <td>48</td>\n",
       "      <td>T</td>\n",
       "    </tr>\n",
       "    <tr>\n",
       "      <th>Thunderstorm</th>\n",
       "      <td>2011.0</td>\n",
       "      <td>Jul</td>\n",
       "      <td>31.0</td>\n",
       "      <td>33</td>\n",
       "      <td>22</td>\n",
       "      <td>17</td>\n",
       "      <td>16</td>\n",
       "      <td>78</td>\n",
       "      <td>36</td>\n",
       "      <td>1017</td>\n",
       "      <td>1016</td>\n",
       "      <td>16</td>\n",
       "      <td>16</td>\n",
       "      <td>16</td>\n",
       "      <td>26</td>\n",
       "      <td>T</td>\n",
       "    </tr>\n",
       "  </tbody>\n",
       "</table>\n",
       "</div>"
      ],
      "text/plain": [
       "                     Year Month  ...  Wind (km/h) high  Precip. (mm) sum\n",
       "WeatherEvent                     ...                                    \n",
       "Fog                2009.0   Mar  ...                52             12.45\n",
       "Fog , Rain         2009.0   Apr  ...                47             23.11\n",
       "Fog , Rain , Snow  2009.0   Jan  ...                39              3.56\n",
       "Fog , Snow         2009.0   Jan  ...                27              4.57\n",
       "Rain               2009.0   Jan  ...                29              2.03\n",
       "Rain , Snow        2009.0   Feb  ...                40              8.13\n",
       "Snow               2009.0   Jan  ...                48                 T\n",
       "Thunderstorm       2011.0   Jul  ...                26                 T\n",
       "\n",
       "[8 rows x 16 columns]"
      ]
     },
     "execution_count": 43,
     "metadata": {
      "tags": []
     },
     "output_type": "execute_result"
    }
   ],
   "source": [
    "groups = total.groupby(['WeatherEvent'])\n",
    "groups.first()"
   ]
  },
  {
   "cell_type": "code",
   "execution_count": null,
   "metadata": {
    "id": "JQuPsK2XXVMQ"
   },
   "outputs": [],
   "source": [
    "total.groupby?"
   ]
  },
  {
   "cell_type": "markdown",
   "metadata": {
    "id": "efMPgc2UELEt"
   },
   "source": [
    "#### Exercise 05: Convert the Month and Year to numericals (ex: Jan: 1)"
   ]
  },
  {
   "cell_type": "code",
   "execution_count": null,
   "metadata": {
    "colab": {
     "base_uri": "https://localhost:8080/",
     "height": 187
    },
    "executionInfo": {
     "elapsed": 1242,
     "status": "ok",
     "timestamp": 1604667102844,
     "user": {
      "displayName": "Harshith a",
      "photoUrl": "https://lh3.googleusercontent.com/a-/AOh14Gg1ydY-8sWUdly1ac69J0vS3b5r75JtQ5GIvAJc=s64",
      "userId": "11844310727840414540"
     },
     "user_tz": -330
    },
    "id": "UcW2v4EPh4BY",
    "outputId": "b4687a18-6f40-4fdc-c266-c56fecb0d349"
   },
   "outputs": [
    {
     "data": {
      "text/html": [
       "<div>\n",
       "<style scoped>\n",
       "    .dataframe tbody tr th:only-of-type {\n",
       "        vertical-align: middle;\n",
       "    }\n",
       "\n",
       "    .dataframe tbody tr th {\n",
       "        vertical-align: top;\n",
       "    }\n",
       "\n",
       "    .dataframe thead th {\n",
       "        text-align: right;\n",
       "    }\n",
       "</style>\n",
       "<table border=\"1\" class=\"dataframe\">\n",
       "  <thead>\n",
       "    <tr style=\"text-align: right;\">\n",
       "      <th></th>\n",
       "      <th>Year</th>\n",
       "      <th>Month</th>\n",
       "      <th>Day</th>\n",
       "      <th>Temp high (°C)</th>\n",
       "      <th>Temp low (°C)</th>\n",
       "      <th>Dew Point high (°C)</th>\n",
       "      <th>Dew Point low (°C)</th>\n",
       "      <th>Humidity (%) high</th>\n",
       "      <th>Humidity (%) low</th>\n",
       "      <th>Sea Level Press. (hPa) high</th>\n",
       "      <th>Sea Level Press. (hPa) low</th>\n",
       "      <th>Visibility (km) high</th>\n",
       "      <th>Visibility (km) low</th>\n",
       "      <th>Wind (km/h) low</th>\n",
       "      <th>Wind (km/h) high</th>\n",
       "      <th>Precip. (mm) sum</th>\n",
       "      <th>WeatherEvent</th>\n",
       "    </tr>\n",
       "  </thead>\n",
       "  <tbody>\n",
       "    <tr>\n",
       "      <th>0</th>\n",
       "      <td>2009.0</td>\n",
       "      <td>Jan</td>\n",
       "      <td>1.0</td>\n",
       "      <td>-3</td>\n",
       "      <td>-9</td>\n",
       "      <td>-16</td>\n",
       "      <td>-19</td>\n",
       "      <td>54</td>\n",
       "      <td>32</td>\n",
       "      <td>1025</td>\n",
       "      <td>1015</td>\n",
       "      <td>16</td>\n",
       "      <td>16</td>\n",
       "      <td>37</td>\n",
       "      <td>60</td>\n",
       "      <td>0</td>\n",
       "      <td>NaN</td>\n",
       "    </tr>\n",
       "    <tr>\n",
       "      <th>1</th>\n",
       "      <td>2009.0</td>\n",
       "      <td>Jan</td>\n",
       "      <td>2.0</td>\n",
       "      <td>1</td>\n",
       "      <td>-5</td>\n",
       "      <td>-3</td>\n",
       "      <td>-17</td>\n",
       "      <td>78</td>\n",
       "      <td>36</td>\n",
       "      <td>1022</td>\n",
       "      <td>1007</td>\n",
       "      <td>16</td>\n",
       "      <td>2</td>\n",
       "      <td>27</td>\n",
       "      <td>48</td>\n",
       "      <td>T</td>\n",
       "      <td>Snow</td>\n",
       "    </tr>\n",
       "    <tr>\n",
       "      <th>2</th>\n",
       "      <td>2009.0</td>\n",
       "      <td>Jan</td>\n",
       "      <td>3.0</td>\n",
       "      <td>3</td>\n",
       "      <td>-2</td>\n",
       "      <td>-5</td>\n",
       "      <td>-13</td>\n",
       "      <td>72</td>\n",
       "      <td>35</td>\n",
       "      <td>1018</td>\n",
       "      <td>1008</td>\n",
       "      <td>16</td>\n",
       "      <td>16</td>\n",
       "      <td>27</td>\n",
       "      <td>42</td>\n",
       "      <td>T</td>\n",
       "      <td>NaN</td>\n",
       "    </tr>\n",
       "  </tbody>\n",
       "</table>\n",
       "</div>"
      ],
      "text/plain": [
       "     Year Month  Day  ... Wind (km/h) high Precip. (mm) sum WeatherEvent\n",
       "0  2009.0   Jan  1.0  ...               60                0          NaN\n",
       "1  2009.0   Jan  2.0  ...               48                T         Snow\n",
       "2  2009.0   Jan  3.0  ...               42                T          NaN\n",
       "\n",
       "[3 rows x 17 columns]"
      ]
     },
     "execution_count": 45,
     "metadata": {
      "tags": []
     },
     "output_type": "execute_result"
    }
   ],
   "source": [
    "total.head(3)"
   ]
  },
  {
   "cell_type": "code",
   "execution_count": null,
   "metadata": {
    "colab": {
     "base_uri": "https://localhost:8080/"
    },
    "executionInfo": {
     "elapsed": 1408,
     "status": "ok",
     "timestamp": 1604667103476,
     "user": {
      "displayName": "Harshith a",
      "photoUrl": "https://lh3.googleusercontent.com/a-/AOh14Gg1ydY-8sWUdly1ac69J0vS3b5r75JtQ5GIvAJc=s64",
      "userId": "11844310727840414540"
     },
     "user_tz": -330
    },
    "id": "Mn-coqhwh9V2",
    "outputId": "22b6bd7b-b798-47d7-fde8-fd88a71a3c68"
   },
   "outputs": [
    {
     "data": {
      "text/plain": [
       "0      Jan\n",
       "1      Jan\n",
       "2      Jan\n",
       "3      Jan\n",
       "4      Jan\n",
       "      ... \n",
       "361    Dec\n",
       "362    Dec\n",
       "363    Dec\n",
       "364    Dec\n",
       "365    Dec\n",
       "Name: Month, Length: 2943, dtype: object"
      ]
     },
     "execution_count": 46,
     "metadata": {
      "tags": []
     },
     "output_type": "execute_result"
    }
   ],
   "source": [
    "total['Month']"
   ]
  },
  {
   "cell_type": "code",
   "execution_count": null,
   "metadata": {
    "id": "EOc8VXzdH2Ns"
   },
   "outputs": [],
   "source": [
    "Year = {2009.0: 1, 2010.0:2, 2011.0:3, 2012.0:4, 2013.0:5, 2014.0:6, 2015.0:7, 2016.0:8}\n",
    "Month = {'Jan':1, 'Feb':2, 'Mar': 3, 'Apr': 4, 'May':5, 'Jun':6, 'Jul':7, 'Aug':8, 'Sep':9, 'Oct':10, 'Nov':11,'Dec':12}\n",
    "\n",
    "total['Year'] = total['Year'].map(Year)\n",
    "total['Month'] = total['Month'].map(Month)"
   ]
  },
  {
   "cell_type": "code",
   "execution_count": null,
   "metadata": {
    "colab": {
     "base_uri": "https://localhost:8080/",
     "height": 457
    },
    "executionInfo": {
     "elapsed": 2876,
     "status": "ok",
     "timestamp": 1604667106477,
     "user": {
      "displayName": "Harshith a",
      "photoUrl": "https://lh3.googleusercontent.com/a-/AOh14Gg1ydY-8sWUdly1ac69J0vS3b5r75JtQ5GIvAJc=s64",
      "userId": "11844310727840414540"
     },
     "user_tz": -330
    },
    "id": "t2xL_rlnb-wh",
    "outputId": "5c265328-5702-4ae8-d312-047bde6ef0f7"
   },
   "outputs": [
    {
     "data": {
      "text/html": [
       "<div>\n",
       "<style scoped>\n",
       "    .dataframe tbody tr th:only-of-type {\n",
       "        vertical-align: middle;\n",
       "    }\n",
       "\n",
       "    .dataframe tbody tr th {\n",
       "        vertical-align: top;\n",
       "    }\n",
       "\n",
       "    .dataframe thead th {\n",
       "        text-align: right;\n",
       "    }\n",
       "</style>\n",
       "<table border=\"1\" class=\"dataframe\">\n",
       "  <thead>\n",
       "    <tr style=\"text-align: right;\">\n",
       "      <th></th>\n",
       "      <th>Year</th>\n",
       "      <th>Month</th>\n",
       "      <th>Day</th>\n",
       "      <th>Temp high (°C)</th>\n",
       "      <th>Temp low (°C)</th>\n",
       "      <th>Dew Point high (°C)</th>\n",
       "      <th>Dew Point low (°C)</th>\n",
       "      <th>Humidity (%) high</th>\n",
       "      <th>Humidity (%) low</th>\n",
       "      <th>Sea Level Press. (hPa) high</th>\n",
       "      <th>Sea Level Press. (hPa) low</th>\n",
       "      <th>Visibility (km) high</th>\n",
       "      <th>Visibility (km) low</th>\n",
       "      <th>Wind (km/h) low</th>\n",
       "      <th>Wind (km/h) high</th>\n",
       "      <th>Precip. (mm) sum</th>\n",
       "      <th>WeatherEvent</th>\n",
       "    </tr>\n",
       "  </thead>\n",
       "  <tbody>\n",
       "    <tr>\n",
       "      <th>0</th>\n",
       "      <td>1</td>\n",
       "      <td>1</td>\n",
       "      <td>1.0</td>\n",
       "      <td>-3</td>\n",
       "      <td>-9</td>\n",
       "      <td>-16</td>\n",
       "      <td>-19</td>\n",
       "      <td>54</td>\n",
       "      <td>32</td>\n",
       "      <td>1025</td>\n",
       "      <td>1015</td>\n",
       "      <td>16</td>\n",
       "      <td>16</td>\n",
       "      <td>37</td>\n",
       "      <td>60</td>\n",
       "      <td>0</td>\n",
       "      <td>NaN</td>\n",
       "    </tr>\n",
       "    <tr>\n",
       "      <th>1</th>\n",
       "      <td>1</td>\n",
       "      <td>1</td>\n",
       "      <td>2.0</td>\n",
       "      <td>1</td>\n",
       "      <td>-5</td>\n",
       "      <td>-3</td>\n",
       "      <td>-17</td>\n",
       "      <td>78</td>\n",
       "      <td>36</td>\n",
       "      <td>1022</td>\n",
       "      <td>1007</td>\n",
       "      <td>16</td>\n",
       "      <td>2</td>\n",
       "      <td>27</td>\n",
       "      <td>48</td>\n",
       "      <td>T</td>\n",
       "      <td>Snow</td>\n",
       "    </tr>\n",
       "    <tr>\n",
       "      <th>2</th>\n",
       "      <td>1</td>\n",
       "      <td>1</td>\n",
       "      <td>3.0</td>\n",
       "      <td>3</td>\n",
       "      <td>-2</td>\n",
       "      <td>-5</td>\n",
       "      <td>-13</td>\n",
       "      <td>72</td>\n",
       "      <td>35</td>\n",
       "      <td>1018</td>\n",
       "      <td>1008</td>\n",
       "      <td>16</td>\n",
       "      <td>16</td>\n",
       "      <td>27</td>\n",
       "      <td>42</td>\n",
       "      <td>T</td>\n",
       "      <td>NaN</td>\n",
       "    </tr>\n",
       "    <tr>\n",
       "      <th>3</th>\n",
       "      <td>1</td>\n",
       "      <td>1</td>\n",
       "      <td>4.0</td>\n",
       "      <td>6</td>\n",
       "      <td>-4</td>\n",
       "      <td>-10</td>\n",
       "      <td>-13</td>\n",
       "      <td>55</td>\n",
       "      <td>29</td>\n",
       "      <td>1020</td>\n",
       "      <td>1015</td>\n",
       "      <td>16</td>\n",
       "      <td>16</td>\n",
       "      <td>32</td>\n",
       "      <td>40</td>\n",
       "      <td>0</td>\n",
       "      <td>NaN</td>\n",
       "    </tr>\n",
       "    <tr>\n",
       "      <th>4</th>\n",
       "      <td>1</td>\n",
       "      <td>1</td>\n",
       "      <td>5.0</td>\n",
       "      <td>6</td>\n",
       "      <td>3</td>\n",
       "      <td>-1</td>\n",
       "      <td>-16</td>\n",
       "      <td>62</td>\n",
       "      <td>33</td>\n",
       "      <td>1016</td>\n",
       "      <td>1013</td>\n",
       "      <td>16</td>\n",
       "      <td>16</td>\n",
       "      <td>23</td>\n",
       "      <td>34</td>\n",
       "      <td>T</td>\n",
       "      <td>NaN</td>\n",
       "    </tr>\n",
       "    <tr>\n",
       "      <th>...</th>\n",
       "      <td>...</td>\n",
       "      <td>...</td>\n",
       "      <td>...</td>\n",
       "      <td>...</td>\n",
       "      <td>...</td>\n",
       "      <td>...</td>\n",
       "      <td>...</td>\n",
       "      <td>...</td>\n",
       "      <td>...</td>\n",
       "      <td>...</td>\n",
       "      <td>...</td>\n",
       "      <td>...</td>\n",
       "      <td>...</td>\n",
       "      <td>...</td>\n",
       "      <td>...</td>\n",
       "      <td>...</td>\n",
       "      <td>...</td>\n",
       "    </tr>\n",
       "    <tr>\n",
       "      <th>361</th>\n",
       "      <td>8</td>\n",
       "      <td>12</td>\n",
       "      <td>27.0</td>\n",
       "      <td>16</td>\n",
       "      <td>4</td>\n",
       "      <td>11</td>\n",
       "      <td>-3</td>\n",
       "      <td>89</td>\n",
       "      <td>33</td>\n",
       "      <td>1017</td>\n",
       "      <td>1008</td>\n",
       "      <td>16</td>\n",
       "      <td>14</td>\n",
       "      <td>32</td>\n",
       "      <td>53</td>\n",
       "      <td>0</td>\n",
       "      <td>NaN</td>\n",
       "    </tr>\n",
       "    <tr>\n",
       "      <th>362</th>\n",
       "      <td>8</td>\n",
       "      <td>12</td>\n",
       "      <td>28.0</td>\n",
       "      <td>4</td>\n",
       "      <td>1</td>\n",
       "      <td>-3</td>\n",
       "      <td>-7</td>\n",
       "      <td>64</td>\n",
       "      <td>44</td>\n",
       "      <td>1022</td>\n",
       "      <td>1014</td>\n",
       "      <td>16</td>\n",
       "      <td>16</td>\n",
       "      <td>23</td>\n",
       "      <td>34</td>\n",
       "      <td>0</td>\n",
       "      <td>NaN</td>\n",
       "    </tr>\n",
       "    <tr>\n",
       "      <th>363</th>\n",
       "      <td>8</td>\n",
       "      <td>12</td>\n",
       "      <td>29.0</td>\n",
       "      <td>8</td>\n",
       "      <td>1</td>\n",
       "      <td>7</td>\n",
       "      <td>-7</td>\n",
       "      <td>96</td>\n",
       "      <td>52</td>\n",
       "      <td>1019</td>\n",
       "      <td>1000</td>\n",
       "      <td>16</td>\n",
       "      <td>2</td>\n",
       "      <td>24</td>\n",
       "      <td>40</td>\n",
       "      <td>9.91</td>\n",
       "      <td>Rain</td>\n",
       "    </tr>\n",
       "    <tr>\n",
       "      <th>364</th>\n",
       "      <td>8</td>\n",
       "      <td>12</td>\n",
       "      <td>30.0</td>\n",
       "      <td>4</td>\n",
       "      <td>1</td>\n",
       "      <td>-1</td>\n",
       "      <td>-7</td>\n",
       "      <td>82</td>\n",
       "      <td>44</td>\n",
       "      <td>1015</td>\n",
       "      <td>1000</td>\n",
       "      <td>16</td>\n",
       "      <td>1</td>\n",
       "      <td>29</td>\n",
       "      <td>47</td>\n",
       "      <td>0.25</td>\n",
       "      <td>Fog , Snow</td>\n",
       "    </tr>\n",
       "    <tr>\n",
       "      <th>365</th>\n",
       "      <td>8</td>\n",
       "      <td>12</td>\n",
       "      <td>31.0</td>\n",
       "      <td>7</td>\n",
       "      <td>-1</td>\n",
       "      <td>-3</td>\n",
       "      <td>-9</td>\n",
       "      <td>56</td>\n",
       "      <td>36</td>\n",
       "      <td>1021</td>\n",
       "      <td>1012</td>\n",
       "      <td>16</td>\n",
       "      <td>16</td>\n",
       "      <td>24</td>\n",
       "      <td>40</td>\n",
       "      <td>0</td>\n",
       "      <td>NaN</td>\n",
       "    </tr>\n",
       "  </tbody>\n",
       "</table>\n",
       "<p>2943 rows × 17 columns</p>\n",
       "</div>"
      ],
      "text/plain": [
       "     Year  Month   Day  ... Wind (km/h) high Precip. (mm) sum WeatherEvent\n",
       "0       1      1   1.0  ...               60                0          NaN\n",
       "1       1      1   2.0  ...               48                T         Snow\n",
       "2       1      1   3.0  ...               42                T          NaN\n",
       "3       1      1   4.0  ...               40                0          NaN\n",
       "4       1      1   5.0  ...               34                T          NaN\n",
       "..    ...    ...   ...  ...              ...              ...          ...\n",
       "361     8     12  27.0  ...               53                0          NaN\n",
       "362     8     12  28.0  ...               34                0          NaN\n",
       "363     8     12  29.0  ...               40             9.91         Rain\n",
       "364     8     12  30.0  ...               47             0.25   Fog , Snow\n",
       "365     8     12  31.0  ...               40                0          NaN\n",
       "\n",
       "[2943 rows x 17 columns]"
      ]
     },
     "execution_count": 48,
     "metadata": {
      "tags": []
     },
     "output_type": "execute_result"
    }
   ],
   "source": [
    "total"
   ]
  },
  {
   "cell_type": "markdown",
   "metadata": {
    "id": "-9GpObnR74Ik"
   },
   "source": [
    "#### Exercise 06: Except for the `\"WeatherEvent\"` column, convert the datatypes of all the columns to `\"int / float\"`\n",
    "\n",
    "Hint: [pd.to_numeric](https://stackoverflow.com/questions/42719749/pandas-convert-string-to-int)"
   ]
  },
  {
   "cell_type": "code",
   "execution_count": null,
   "metadata": {
    "id": "rotxrHvWneqS"
   },
   "outputs": [],
   "source": [
    "## IFFFF END = -2 -> STOP: END-1 = -2-1 = -3\n",
    "required_columns = total.columns[0:-1]"
   ]
  },
  {
   "cell_type": "code",
   "execution_count": null,
   "metadata": {
    "colab": {
     "base_uri": "https://localhost:8080/"
    },
    "executionInfo": {
     "elapsed": 1005,
     "status": "ok",
     "timestamp": 1604667342150,
     "user": {
      "displayName": "Harshith a",
      "photoUrl": "https://lh3.googleusercontent.com/a-/AOh14Gg1ydY-8sWUdly1ac69J0vS3b5r75JtQ5GIvAJc=s64",
      "userId": "11844310727840414540"
     },
     "user_tz": -330
    },
    "id": "Xig7T9i9oHZa",
    "outputId": "6938f8a5-10d4-4ae5-afe6-4cbd62306a02"
   },
   "outputs": [
    {
     "data": {
      "text/plain": [
       "Index(['Year', 'Month', 'Day', 'Temp high (°C)', 'Temp low (°C)',\n",
       "       'Dew Point high (°C)', 'Dew Point low (°C)', 'Humidity (%) high',\n",
       "       'Humidity (%) low', 'Sea Level Press. (hPa) high',\n",
       "       'Sea Level Press. (hPa) low', 'Visibility (km) high',\n",
       "       'Visibility (km) low', 'Wind (km/h) low', 'Wind (km/h) high',\n",
       "       'Precip. (mm) sum'],\n",
       "      dtype='object')"
      ]
     },
     "execution_count": 52,
     "metadata": {
      "tags": []
     },
     "output_type": "execute_result"
    }
   ],
   "source": [
    "required_columns"
   ]
  },
  {
   "cell_type": "code",
   "execution_count": null,
   "metadata": {
    "id": "PX0PaRjCH_KR"
   },
   "outputs": [],
   "source": [
    "for each_column_name in required_columns:\n",
    "  total[each_column_name] = pd.to_numeric(total[each_column_name], errors='coerce')\n",
    "  #total[\"Year\"] = pd.to_numeric(total[\"Year\"], errors='coerce')\n",
    "  #total[\"Month\"] = pd.to_numeric(total[\"Month\"], errors='coerce')\n",
    "  #total[\"Day\"] = pd.to_numeric(total[\"Day\"], errors='coerce')\n",
    "  #.\n",
    "  #.\n",
    "  #.\n",
    "  #total[\"Precip. (mm) sum\"] = pd.to_numeric(total[\"Precip. (mm) sum\"], errors='coerce')"
   ]
  },
  {
   "cell_type": "code",
   "execution_count": null,
   "metadata": {
    "colab": {
     "base_uri": "https://localhost:8080/"
    },
    "executionInfo": {
     "elapsed": 1200,
     "status": "ok",
     "timestamp": 1604667624928,
     "user": {
      "displayName": "Harshith a",
      "photoUrl": "https://lh3.googleusercontent.com/a-/AOh14Gg1ydY-8sWUdly1ac69J0vS3b5r75JtQ5GIvAJc=s64",
      "userId": "11844310727840414540"
     },
     "user_tz": -330
    },
    "id": "1AQCJxjgoxdZ",
    "outputId": "fbd0ccf3-ab19-4d1e-daf8-f8f118fdb4f0"
   },
   "outputs": [
    {
     "data": {
      "text/plain": [
       "Year                             int64\n",
       "Month                            int64\n",
       "Day                            float64\n",
       "Temp high (°C)                 float64\n",
       "Temp low (°C)                  float64\n",
       "Dew Point high (°C)            float64\n",
       "Dew Point low (°C)             float64\n",
       "Humidity (%) high              float64\n",
       "Humidity (%) low               float64\n",
       "Sea Level Press. (hPa) high    float64\n",
       "Sea Level Press. (hPa) low     float64\n",
       "Visibility (km) high           float64\n",
       "Visibility (km) low            float64\n",
       "Wind (km/h) low                float64\n",
       "Wind (km/h) high               float64\n",
       "Precip. (mm) sum               float64\n",
       "WeatherEvent                    object\n",
       "dtype: object"
      ]
     },
     "execution_count": 54,
     "metadata": {
      "tags": []
     },
     "output_type": "execute_result"
    }
   ],
   "source": [
    "total.dtypes"
   ]
  },
  {
   "cell_type": "markdown",
   "metadata": {
    "id": "c3f1qMR5HfKp"
   },
   "source": [
    "#### Exercise 07: For each collection of the below-mentioned columns, construct a new average column with the average of their values and drop the remaining columns."
   ]
  },
  {
   "cell_type": "code",
   "execution_count": null,
   "metadata": {
    "colab": {
     "base_uri": "https://localhost:8080/",
     "height": 35
    },
    "executionInfo": {
     "elapsed": 2424,
     "status": "ok",
     "timestamp": 1604667940318,
     "user": {
      "displayName": "Harshith a",
      "photoUrl": "https://lh3.googleusercontent.com/a-/AOh14Gg1ydY-8sWUdly1ac69J0vS3b5r75JtQ5GIvAJc=s64",
      "userId": "11844310727840414540"
     },
     "user_tz": -330
    },
    "id": "O0-8nCJoqG7_",
    "outputId": "5de3adcb-62a7-4048-e8c4-652b749a029d"
   },
   "outputs": [
    {
     "data": {
      "application/vnd.google.colaboratory.intrinsic+json": {
       "type": "string"
      },
      "text/plain": [
       "'Temp avg'"
      ]
     },
     "execution_count": 57,
     "metadata": {
      "tags": []
     },
     "output_type": "execute_result"
    }
   ],
   "source": [
    "string = \"Temp high (C)\"\n",
    "string.split()[0] + \" avg\""
   ]
  },
  {
   "cell_type": "code",
   "execution_count": null,
   "metadata": {
    "colab": {
     "base_uri": "https://localhost:8080/",
     "height": 267
    },
    "executionInfo": {
     "elapsed": 933,
     "status": "ok",
     "timestamp": 1604668108889,
     "user": {
      "displayName": "Harshith a",
      "photoUrl": "https://lh3.googleusercontent.com/a-/AOh14Gg1ydY-8sWUdly1ac69J0vS3b5r75JtQ5GIvAJc=s64",
      "userId": "11844310727840414540"
     },
     "user_tz": -330
    },
    "id": "g1SGTfbcA3Ly",
    "outputId": "1c4be565-220b-4d2b-89df-a340ddf79022"
   },
   "outputs": [
    {
     "data": {
      "text/html": [
       "<div>\n",
       "<style scoped>\n",
       "    .dataframe tbody tr th:only-of-type {\n",
       "        vertical-align: middle;\n",
       "    }\n",
       "\n",
       "    .dataframe tbody tr th {\n",
       "        vertical-align: top;\n",
       "    }\n",
       "\n",
       "    .dataframe thead th {\n",
       "        text-align: right;\n",
       "    }\n",
       "</style>\n",
       "<table border=\"1\" class=\"dataframe\">\n",
       "  <thead>\n",
       "    <tr style=\"text-align: right;\">\n",
       "      <th></th>\n",
       "      <th>Year</th>\n",
       "      <th>Month</th>\n",
       "      <th>Day</th>\n",
       "      <th>Temp high (°C)</th>\n",
       "      <th>Temp low (°C)</th>\n",
       "      <th>Dew Point high (°C)</th>\n",
       "      <th>Dew Point low (°C)</th>\n",
       "      <th>Humidity (%) high</th>\n",
       "      <th>Humidity (%) low</th>\n",
       "      <th>Sea Level Press. (hPa) high</th>\n",
       "      <th>Sea Level Press. (hPa) low</th>\n",
       "      <th>Visibility (km) high</th>\n",
       "      <th>Visibility (km) low</th>\n",
       "      <th>Wind (km/h) low</th>\n",
       "      <th>Wind (km/h) high</th>\n",
       "      <th>Precip. (mm) sum</th>\n",
       "      <th>WeatherEvent</th>\n",
       "      <th>Temp avg</th>\n",
       "      <th>Dew avg</th>\n",
       "      <th>Humidity avg</th>\n",
       "      <th>Sea avg</th>\n",
       "      <th>Visibility avg</th>\n",
       "      <th>Wind avg</th>\n",
       "    </tr>\n",
       "  </thead>\n",
       "  <tbody>\n",
       "    <tr>\n",
       "      <th>0</th>\n",
       "      <td>1</td>\n",
       "      <td>1</td>\n",
       "      <td>1.0</td>\n",
       "      <td>-3.0</td>\n",
       "      <td>-9.0</td>\n",
       "      <td>-16.0</td>\n",
       "      <td>-19.0</td>\n",
       "      <td>54.0</td>\n",
       "      <td>32.0</td>\n",
       "      <td>1025.0</td>\n",
       "      <td>1015.0</td>\n",
       "      <td>16.0</td>\n",
       "      <td>16.0</td>\n",
       "      <td>37.0</td>\n",
       "      <td>60.0</td>\n",
       "      <td>0.0</td>\n",
       "      <td>NaN</td>\n",
       "      <td>-6.0</td>\n",
       "      <td>-18.0</td>\n",
       "      <td>43.0</td>\n",
       "      <td>1020.0</td>\n",
       "      <td>16.0</td>\n",
       "      <td>48.0</td>\n",
       "    </tr>\n",
       "    <tr>\n",
       "      <th>1</th>\n",
       "      <td>1</td>\n",
       "      <td>1</td>\n",
       "      <td>2.0</td>\n",
       "      <td>1.0</td>\n",
       "      <td>-5.0</td>\n",
       "      <td>-3.0</td>\n",
       "      <td>-17.0</td>\n",
       "      <td>78.0</td>\n",
       "      <td>36.0</td>\n",
       "      <td>1022.0</td>\n",
       "      <td>1007.0</td>\n",
       "      <td>16.0</td>\n",
       "      <td>2.0</td>\n",
       "      <td>27.0</td>\n",
       "      <td>48.0</td>\n",
       "      <td>NaN</td>\n",
       "      <td>Snow</td>\n",
       "      <td>-2.0</td>\n",
       "      <td>-10.0</td>\n",
       "      <td>57.0</td>\n",
       "      <td>1014.0</td>\n",
       "      <td>9.0</td>\n",
       "      <td>37.0</td>\n",
       "    </tr>\n",
       "    <tr>\n",
       "      <th>2</th>\n",
       "      <td>1</td>\n",
       "      <td>1</td>\n",
       "      <td>3.0</td>\n",
       "      <td>3.0</td>\n",
       "      <td>-2.0</td>\n",
       "      <td>-5.0</td>\n",
       "      <td>-13.0</td>\n",
       "      <td>72.0</td>\n",
       "      <td>35.0</td>\n",
       "      <td>1018.0</td>\n",
       "      <td>1008.0</td>\n",
       "      <td>16.0</td>\n",
       "      <td>16.0</td>\n",
       "      <td>27.0</td>\n",
       "      <td>42.0</td>\n",
       "      <td>NaN</td>\n",
       "      <td>NaN</td>\n",
       "      <td>0.0</td>\n",
       "      <td>-9.0</td>\n",
       "      <td>53.0</td>\n",
       "      <td>1013.0</td>\n",
       "      <td>16.0</td>\n",
       "      <td>34.0</td>\n",
       "    </tr>\n",
       "    <tr>\n",
       "      <th>3</th>\n",
       "      <td>1</td>\n",
       "      <td>1</td>\n",
       "      <td>4.0</td>\n",
       "      <td>6.0</td>\n",
       "      <td>-4.0</td>\n",
       "      <td>-10.0</td>\n",
       "      <td>-13.0</td>\n",
       "      <td>55.0</td>\n",
       "      <td>29.0</td>\n",
       "      <td>1020.0</td>\n",
       "      <td>1015.0</td>\n",
       "      <td>16.0</td>\n",
       "      <td>16.0</td>\n",
       "      <td>32.0</td>\n",
       "      <td>40.0</td>\n",
       "      <td>0.0</td>\n",
       "      <td>NaN</td>\n",
       "      <td>1.0</td>\n",
       "      <td>-12.0</td>\n",
       "      <td>42.0</td>\n",
       "      <td>1017.0</td>\n",
       "      <td>16.0</td>\n",
       "      <td>36.0</td>\n",
       "    </tr>\n",
       "    <tr>\n",
       "      <th>4</th>\n",
       "      <td>1</td>\n",
       "      <td>1</td>\n",
       "      <td>5.0</td>\n",
       "      <td>6.0</td>\n",
       "      <td>3.0</td>\n",
       "      <td>-1.0</td>\n",
       "      <td>-16.0</td>\n",
       "      <td>62.0</td>\n",
       "      <td>33.0</td>\n",
       "      <td>1016.0</td>\n",
       "      <td>1013.0</td>\n",
       "      <td>16.0</td>\n",
       "      <td>16.0</td>\n",
       "      <td>23.0</td>\n",
       "      <td>34.0</td>\n",
       "      <td>NaN</td>\n",
       "      <td>NaN</td>\n",
       "      <td>4.0</td>\n",
       "      <td>-9.0</td>\n",
       "      <td>47.0</td>\n",
       "      <td>1014.0</td>\n",
       "      <td>16.0</td>\n",
       "      <td>28.0</td>\n",
       "    </tr>\n",
       "  </tbody>\n",
       "</table>\n",
       "</div>"
      ],
      "text/plain": [
       "   Year  Month  Day  ...  Sea avg  Visibility avg  Wind avg\n",
       "0     1      1  1.0  ...   1020.0            16.0      48.0\n",
       "1     1      1  2.0  ...   1014.0             9.0      37.0\n",
       "2     1      1  3.0  ...   1013.0            16.0      34.0\n",
       "3     1      1  4.0  ...   1017.0            16.0      36.0\n",
       "4     1      1  5.0  ...   1014.0            16.0      28.0\n",
       "\n",
       "[5 rows x 23 columns]"
      ]
     },
     "execution_count": 58,
     "metadata": {
      "tags": []
     },
     "output_type": "execute_result"
    }
   ],
   "source": [
    "columns = [('Temp high (°C)', 'Temp low (°C)'),\n",
    "       ('Dew Point high (°C)', 'Dew Point low (°C)'),\n",
    "       ('Humidity\\xa0(%) high', 'Humidity\\xa0(%) low'),\n",
    "       ('Sea Level Press.\\xa0(hPa) high', 'Sea Level Press.\\xa0(hPa) low'),\n",
    "       ('Visibility\\xa0(km) high', 'Visibility\\xa0(km) low'),\n",
    "       ('Wind\\xa0(km/h) low', 'Wind\\xa0(km/h) high', 'Precip.\\xa0(mm) sum')]\n",
    "\n",
    "for each_set_of_column_names in columns:\n",
    "  string = each_set_of_column_names[0]\n",
    "  new_column_name = string.split()[0] + \" avg\"\n",
    "  total[new_column_name] = (total[each_set_of_column_names[0]] + total[each_set_of_column_names[1]]) // 2\n",
    "\n",
    "total.head()"
   ]
  },
  {
   "cell_type": "code",
   "execution_count": null,
   "metadata": {
    "colab": {
     "base_uri": "https://localhost:8080/"
    },
    "executionInfo": {
     "elapsed": 1257,
     "status": "ok",
     "timestamp": 1604668174820,
     "user": {
      "displayName": "Harshith a",
      "photoUrl": "https://lh3.googleusercontent.com/a-/AOh14Gg1ydY-8sWUdly1ac69J0vS3b5r75JtQ5GIvAJc=s64",
      "userId": "11844310727840414540"
     },
     "user_tz": -330
    },
    "id": "esO9dRVvrO7g",
    "outputId": "a46d181f-a9a2-40c7-bacf-74fd368ac797"
   },
   "outputs": [
    {
     "data": {
      "text/plain": [
       "Index(['Year', 'Month', 'Day', 'Temp high (°C)', 'Temp low (°C)',\n",
       "       'Dew Point high (°C)', 'Dew Point low (°C)', 'Humidity (%) high',\n",
       "       'Humidity (%) low', 'Sea Level Press. (hPa) high',\n",
       "       'Sea Level Press. (hPa) low', 'Visibility (km) high',\n",
       "       'Visibility (km) low', 'Wind (km/h) low', 'Wind (km/h) high',\n",
       "       'Precip. (mm) sum', 'WeatherEvent', 'Temp avg', 'Dew avg',\n",
       "       'Humidity avg', 'Sea avg', 'Visibility avg', 'Wind avg'],\n",
       "      dtype='object')"
      ]
     },
     "execution_count": 59,
     "metadata": {
      "tags": []
     },
     "output_type": "execute_result"
    }
   ],
   "source": [
    "total.columns"
   ]
  },
  {
   "cell_type": "code",
   "execution_count": null,
   "metadata": {
    "colab": {
     "base_uri": "https://localhost:8080/"
    },
    "executionInfo": {
     "elapsed": 1121,
     "status": "ok",
     "timestamp": 1604668263212,
     "user": {
      "displayName": "Harshith a",
      "photoUrl": "https://lh3.googleusercontent.com/a-/AOh14Gg1ydY-8sWUdly1ac69J0vS3b5r75JtQ5GIvAJc=s64",
      "userId": "11844310727840414540"
     },
     "user_tz": -330
    },
    "id": "aqcJERwIrXV2",
    "outputId": "957bf777-ba68-41e0-ad46-354cf6551e46"
   },
   "outputs": [
    {
     "data": {
      "text/plain": [
       "Index(['Temp high (°C)', 'Temp low (°C)', 'Dew Point high (°C)',\n",
       "       'Dew Point low (°C)', 'Humidity (%) high', 'Humidity (%) low',\n",
       "       'Sea Level Press. (hPa) high', 'Sea Level Press. (hPa) low',\n",
       "       'Visibility (km) high', 'Visibility (km) low', 'Wind (km/h) low',\n",
       "       'Wind (km/h) high', 'Precip. (mm) sum'],\n",
       "      dtype='object')"
      ]
     },
     "execution_count": 61,
     "metadata": {
      "tags": []
     },
     "output_type": "execute_result"
    }
   ],
   "source": [
    "to_be_dropped = total.columns[3:-7]\n",
    "to_be_dropped"
   ]
  },
  {
   "cell_type": "code",
   "execution_count": null,
   "metadata": {
    "colab": {
     "base_uri": "https://localhost:8080/",
     "height": 407
    },
    "executionInfo": {
     "elapsed": 2476,
     "status": "ok",
     "timestamp": 1604668344330,
     "user": {
      "displayName": "Harshith a",
      "photoUrl": "https://lh3.googleusercontent.com/a-/AOh14Gg1ydY-8sWUdly1ac69J0vS3b5r75JtQ5GIvAJc=s64",
      "userId": "11844310727840414540"
     },
     "user_tz": -330
    },
    "id": "X07q2AtlrpPJ",
    "outputId": "abc45cfc-35ce-47e6-de45-dbe6e052e19b"
   },
   "outputs": [
    {
     "data": {
      "text/html": [
       "<div>\n",
       "<style scoped>\n",
       "    .dataframe tbody tr th:only-of-type {\n",
       "        vertical-align: middle;\n",
       "    }\n",
       "\n",
       "    .dataframe tbody tr th {\n",
       "        vertical-align: top;\n",
       "    }\n",
       "\n",
       "    .dataframe thead th {\n",
       "        text-align: right;\n",
       "    }\n",
       "</style>\n",
       "<table border=\"1\" class=\"dataframe\">\n",
       "  <thead>\n",
       "    <tr style=\"text-align: right;\">\n",
       "      <th></th>\n",
       "      <th>Year</th>\n",
       "      <th>Month</th>\n",
       "      <th>Day</th>\n",
       "      <th>WeatherEvent</th>\n",
       "      <th>Temp avg</th>\n",
       "      <th>Dew avg</th>\n",
       "      <th>Humidity avg</th>\n",
       "      <th>Sea avg</th>\n",
       "      <th>Visibility avg</th>\n",
       "      <th>Wind avg</th>\n",
       "    </tr>\n",
       "  </thead>\n",
       "  <tbody>\n",
       "    <tr>\n",
       "      <th>0</th>\n",
       "      <td>1</td>\n",
       "      <td>1</td>\n",
       "      <td>1.0</td>\n",
       "      <td>NaN</td>\n",
       "      <td>-6.0</td>\n",
       "      <td>-18.0</td>\n",
       "      <td>43.0</td>\n",
       "      <td>1020.0</td>\n",
       "      <td>16.0</td>\n",
       "      <td>48.0</td>\n",
       "    </tr>\n",
       "    <tr>\n",
       "      <th>1</th>\n",
       "      <td>1</td>\n",
       "      <td>1</td>\n",
       "      <td>2.0</td>\n",
       "      <td>Snow</td>\n",
       "      <td>-2.0</td>\n",
       "      <td>-10.0</td>\n",
       "      <td>57.0</td>\n",
       "      <td>1014.0</td>\n",
       "      <td>9.0</td>\n",
       "      <td>37.0</td>\n",
       "    </tr>\n",
       "    <tr>\n",
       "      <th>2</th>\n",
       "      <td>1</td>\n",
       "      <td>1</td>\n",
       "      <td>3.0</td>\n",
       "      <td>NaN</td>\n",
       "      <td>0.0</td>\n",
       "      <td>-9.0</td>\n",
       "      <td>53.0</td>\n",
       "      <td>1013.0</td>\n",
       "      <td>16.0</td>\n",
       "      <td>34.0</td>\n",
       "    </tr>\n",
       "    <tr>\n",
       "      <th>3</th>\n",
       "      <td>1</td>\n",
       "      <td>1</td>\n",
       "      <td>4.0</td>\n",
       "      <td>NaN</td>\n",
       "      <td>1.0</td>\n",
       "      <td>-12.0</td>\n",
       "      <td>42.0</td>\n",
       "      <td>1017.0</td>\n",
       "      <td>16.0</td>\n",
       "      <td>36.0</td>\n",
       "    </tr>\n",
       "    <tr>\n",
       "      <th>4</th>\n",
       "      <td>1</td>\n",
       "      <td>1</td>\n",
       "      <td>5.0</td>\n",
       "      <td>NaN</td>\n",
       "      <td>4.0</td>\n",
       "      <td>-9.0</td>\n",
       "      <td>47.0</td>\n",
       "      <td>1014.0</td>\n",
       "      <td>16.0</td>\n",
       "      <td>28.0</td>\n",
       "    </tr>\n",
       "    <tr>\n",
       "      <th>...</th>\n",
       "      <td>...</td>\n",
       "      <td>...</td>\n",
       "      <td>...</td>\n",
       "      <td>...</td>\n",
       "      <td>...</td>\n",
       "      <td>...</td>\n",
       "      <td>...</td>\n",
       "      <td>...</td>\n",
       "      <td>...</td>\n",
       "      <td>...</td>\n",
       "    </tr>\n",
       "    <tr>\n",
       "      <th>361</th>\n",
       "      <td>8</td>\n",
       "      <td>12</td>\n",
       "      <td>27.0</td>\n",
       "      <td>NaN</td>\n",
       "      <td>10.0</td>\n",
       "      <td>4.0</td>\n",
       "      <td>61.0</td>\n",
       "      <td>1012.0</td>\n",
       "      <td>15.0</td>\n",
       "      <td>42.0</td>\n",
       "    </tr>\n",
       "    <tr>\n",
       "      <th>362</th>\n",
       "      <td>8</td>\n",
       "      <td>12</td>\n",
       "      <td>28.0</td>\n",
       "      <td>NaN</td>\n",
       "      <td>2.0</td>\n",
       "      <td>-5.0</td>\n",
       "      <td>54.0</td>\n",
       "      <td>1018.0</td>\n",
       "      <td>16.0</td>\n",
       "      <td>28.0</td>\n",
       "    </tr>\n",
       "    <tr>\n",
       "      <th>363</th>\n",
       "      <td>8</td>\n",
       "      <td>12</td>\n",
       "      <td>29.0</td>\n",
       "      <td>Rain</td>\n",
       "      <td>4.0</td>\n",
       "      <td>0.0</td>\n",
       "      <td>74.0</td>\n",
       "      <td>1009.0</td>\n",
       "      <td>9.0</td>\n",
       "      <td>32.0</td>\n",
       "    </tr>\n",
       "    <tr>\n",
       "      <th>364</th>\n",
       "      <td>8</td>\n",
       "      <td>12</td>\n",
       "      <td>30.0</td>\n",
       "      <td>Fog , Snow</td>\n",
       "      <td>2.0</td>\n",
       "      <td>-4.0</td>\n",
       "      <td>63.0</td>\n",
       "      <td>1007.0</td>\n",
       "      <td>8.0</td>\n",
       "      <td>38.0</td>\n",
       "    </tr>\n",
       "    <tr>\n",
       "      <th>365</th>\n",
       "      <td>8</td>\n",
       "      <td>12</td>\n",
       "      <td>31.0</td>\n",
       "      <td>NaN</td>\n",
       "      <td>3.0</td>\n",
       "      <td>-6.0</td>\n",
       "      <td>46.0</td>\n",
       "      <td>1016.0</td>\n",
       "      <td>16.0</td>\n",
       "      <td>32.0</td>\n",
       "    </tr>\n",
       "  </tbody>\n",
       "</table>\n",
       "<p>2943 rows × 10 columns</p>\n",
       "</div>"
      ],
      "text/plain": [
       "     Year  Month   Day  ... Sea avg  Visibility avg  Wind avg\n",
       "0       1      1   1.0  ...  1020.0            16.0      48.0\n",
       "1       1      1   2.0  ...  1014.0             9.0      37.0\n",
       "2       1      1   3.0  ...  1013.0            16.0      34.0\n",
       "3       1      1   4.0  ...  1017.0            16.0      36.0\n",
       "4       1      1   5.0  ...  1014.0            16.0      28.0\n",
       "..    ...    ...   ...  ...     ...             ...       ...\n",
       "361     8     12  27.0  ...  1012.0            15.0      42.0\n",
       "362     8     12  28.0  ...  1018.0            16.0      28.0\n",
       "363     8     12  29.0  ...  1009.0             9.0      32.0\n",
       "364     8     12  30.0  ...  1007.0             8.0      38.0\n",
       "365     8     12  31.0  ...  1016.0            16.0      32.0\n",
       "\n",
       "[2943 rows x 10 columns]"
      ]
     },
     "execution_count": 63,
     "metadata": {
      "tags": []
     },
     "output_type": "execute_result"
    }
   ],
   "source": [
    "new_df = total.drop(columns = to_be_dropped)\n",
    "new_df"
   ]
  },
  {
   "cell_type": "markdown",
   "metadata": {
    "id": "OftyTRceijlv"
   },
   "source": [
    "#### Exercise 08: Generate descriptive statistics of the dataframe"
   ]
  },
  {
   "cell_type": "code",
   "execution_count": null,
   "metadata": {
    "colab": {
     "base_uri": "https://localhost:8080/",
     "height": 287
    },
    "executionInfo": {
     "elapsed": 978,
     "status": "ok",
     "timestamp": 1604668389495,
     "user": {
      "displayName": "Harshith a",
      "photoUrl": "https://lh3.googleusercontent.com/a-/AOh14Gg1ydY-8sWUdly1ac69J0vS3b5r75JtQ5GIvAJc=s64",
      "userId": "11844310727840414540"
     },
     "user_tz": -330
    },
    "id": "GpyN1zSKRS-_",
    "outputId": "104d9be4-b6de-4eff-bc05-e8b1440101ff"
   },
   "outputs": [
    {
     "data": {
      "text/html": [
       "<div>\n",
       "<style scoped>\n",
       "    .dataframe tbody tr th:only-of-type {\n",
       "        vertical-align: middle;\n",
       "    }\n",
       "\n",
       "    .dataframe tbody tr th {\n",
       "        vertical-align: top;\n",
       "    }\n",
       "\n",
       "    .dataframe thead th {\n",
       "        text-align: right;\n",
       "    }\n",
       "</style>\n",
       "<table border=\"1\" class=\"dataframe\">\n",
       "  <thead>\n",
       "    <tr style=\"text-align: right;\">\n",
       "      <th></th>\n",
       "      <th>Year</th>\n",
       "      <th>Month</th>\n",
       "      <th>Day</th>\n",
       "      <th>Temp avg</th>\n",
       "      <th>Dew avg</th>\n",
       "      <th>Humidity avg</th>\n",
       "      <th>Sea avg</th>\n",
       "      <th>Visibility avg</th>\n",
       "      <th>Wind avg</th>\n",
       "    </tr>\n",
       "  </thead>\n",
       "  <tbody>\n",
       "    <tr>\n",
       "      <th>count</th>\n",
       "      <td>2943.000000</td>\n",
       "      <td>2943.000000</td>\n",
       "      <td>2943.000000</td>\n",
       "      <td>2941.000000</td>\n",
       "      <td>2941.000000</td>\n",
       "      <td>2941.000000</td>\n",
       "      <td>2924.000000</td>\n",
       "      <td>2915.000000</td>\n",
       "      <td>2884.000000</td>\n",
       "    </tr>\n",
       "    <tr>\n",
       "      <th>mean</th>\n",
       "      <td>4.476045</td>\n",
       "      <td>6.483520</td>\n",
       "      <td>15.695889</td>\n",
       "      <td>13.042843</td>\n",
       "      <td>4.830330</td>\n",
       "      <td>60.956817</td>\n",
       "      <td>1015.982558</td>\n",
       "      <td>13.043911</td>\n",
       "      <td>29.381068</td>\n",
       "    </tr>\n",
       "    <tr>\n",
       "      <th>std</th>\n",
       "      <td>2.302576</td>\n",
       "      <td>3.468267</td>\n",
       "      <td>8.794056</td>\n",
       "      <td>9.750050</td>\n",
       "      <td>10.392081</td>\n",
       "      <td>14.414886</td>\n",
       "      <td>7.149977</td>\n",
       "      <td>3.255868</td>\n",
       "      <td>8.700198</td>\n",
       "    </tr>\n",
       "    <tr>\n",
       "      <th>min</th>\n",
       "      <td>1.000000</td>\n",
       "      <td>1.000000</td>\n",
       "      <td>1.000000</td>\n",
       "      <td>-14.000000</td>\n",
       "      <td>-26.000000</td>\n",
       "      <td>19.000000</td>\n",
       "      <td>984.000000</td>\n",
       "      <td>4.000000</td>\n",
       "      <td>10.000000</td>\n",
       "    </tr>\n",
       "    <tr>\n",
       "      <th>25%</th>\n",
       "      <td>2.000000</td>\n",
       "      <td>3.000000</td>\n",
       "      <td>8.000000</td>\n",
       "      <td>5.000000</td>\n",
       "      <td>-3.000000</td>\n",
       "      <td>50.000000</td>\n",
       "      <td>1011.000000</td>\n",
       "      <td>9.000000</td>\n",
       "      <td>23.000000</td>\n",
       "    </tr>\n",
       "    <tr>\n",
       "      <th>50%</th>\n",
       "      <td>4.000000</td>\n",
       "      <td>7.000000</td>\n",
       "      <td>16.000000</td>\n",
       "      <td>14.000000</td>\n",
       "      <td>6.000000</td>\n",
       "      <td>60.000000</td>\n",
       "      <td>1016.000000</td>\n",
       "      <td>15.000000</td>\n",
       "      <td>28.000000</td>\n",
       "    </tr>\n",
       "    <tr>\n",
       "      <th>75%</th>\n",
       "      <td>6.000000</td>\n",
       "      <td>9.500000</td>\n",
       "      <td>23.000000</td>\n",
       "      <td>22.000000</td>\n",
       "      <td>14.000000</td>\n",
       "      <td>72.000000</td>\n",
       "      <td>1021.000000</td>\n",
       "      <td>16.000000</td>\n",
       "      <td>34.000000</td>\n",
       "    </tr>\n",
       "    <tr>\n",
       "      <th>max</th>\n",
       "      <td>8.000000</td>\n",
       "      <td>12.000000</td>\n",
       "      <td>31.000000</td>\n",
       "      <td>34.000000</td>\n",
       "      <td>23.000000</td>\n",
       "      <td>96.000000</td>\n",
       "      <td>1040.000000</td>\n",
       "      <td>16.000000</td>\n",
       "      <td>159.000000</td>\n",
       "    </tr>\n",
       "  </tbody>\n",
       "</table>\n",
       "</div>"
      ],
      "text/plain": [
       "              Year        Month  ...  Visibility avg     Wind avg\n",
       "count  2943.000000  2943.000000  ...     2915.000000  2884.000000\n",
       "mean      4.476045     6.483520  ...       13.043911    29.381068\n",
       "std       2.302576     3.468267  ...        3.255868     8.700198\n",
       "min       1.000000     1.000000  ...        4.000000    10.000000\n",
       "25%       2.000000     3.000000  ...        9.000000    23.000000\n",
       "50%       4.000000     7.000000  ...       15.000000    28.000000\n",
       "75%       6.000000     9.500000  ...       16.000000    34.000000\n",
       "max       8.000000    12.000000  ...       16.000000   159.000000\n",
       "\n",
       "[8 rows x 9 columns]"
      ]
     },
     "execution_count": 64,
     "metadata": {
      "tags": []
     },
     "output_type": "execute_result"
    }
   ],
   "source": [
    "new_df.describe()"
   ]
  },
  {
   "cell_type": "markdown",
   "metadata": {
    "id": "Ei-m68-FHlfQ"
   },
   "source": [
    "#### Exercise 09: Drop the duplicate rows of the dataframe\n"
   ]
  },
  {
   "cell_type": "code",
   "execution_count": null,
   "metadata": {
    "colab": {
     "base_uri": "https://localhost:8080/"
    },
    "executionInfo": {
     "elapsed": 1149,
     "status": "ok",
     "timestamp": 1604668573881,
     "user": {
      "displayName": "Harshith a",
      "photoUrl": "https://lh3.googleusercontent.com/a-/AOh14Gg1ydY-8sWUdly1ac69J0vS3b5r75JtQ5GIvAJc=s64",
      "userId": "11844310727840414540"
     },
     "user_tz": -330
    },
    "id": "N_3JHJGvRTfJ",
    "outputId": "bba9dc21-665b-4c2a-87d4-aca240650cc4"
   },
   "outputs": [
    {
     "name": "stdout",
     "output_type": "stream",
     "text": [
      "Before dropping duplicate rows:  2943\n"
     ]
    }
   ],
   "source": [
    "print(\"Before dropping duplicate rows: \", new_df.shape[0])"
   ]
  },
  {
   "cell_type": "code",
   "execution_count": null,
   "metadata": {
    "id": "iRob4Gtis1Yj"
   },
   "outputs": [],
   "source": [
    "new_df.drop_duplicates(inplace=True)"
   ]
  },
  {
   "cell_type": "code",
   "execution_count": null,
   "metadata": {
    "colab": {
     "base_uri": "https://localhost:8080/"
    },
    "executionInfo": {
     "elapsed": 910,
     "status": "ok",
     "timestamp": 1604668611713,
     "user": {
      "displayName": "Harshith a",
      "photoUrl": "https://lh3.googleusercontent.com/a-/AOh14Gg1ydY-8sWUdly1ac69J0vS3b5r75JtQ5GIvAJc=s64",
      "userId": "11844310727840414540"
     },
     "user_tz": -330
    },
    "id": "UP0v_65zs7gT",
    "outputId": "c54f1522-6b73-401b-e62e-02b52e87b0bb"
   },
   "outputs": [
    {
     "name": "stdout",
     "output_type": "stream",
     "text": [
      "After dropping duplicate rows:  2922\n"
     ]
    }
   ],
   "source": [
    "print(\"After dropping duplicate rows: \", new_df.shape[0])"
   ]
  },
  {
   "cell_type": "markdown",
   "metadata": {
    "id": "STXYv-MEwRhg"
   },
   "source": [
    "#### Exercise 10: Normalize the data (all columns except `\"Year, Month, Day, WeatherEvent\"`)\n",
    "\n",
    "Hint: [Sklearn Normalization](https://scikit-learn.org/stable/modules/classes.html#module-sklearn.preprocessing)"
   ]
  },
  {
   "cell_type": "code",
   "execution_count": null,
   "metadata": {
    "colab": {
     "base_uri": "https://localhost:8080/"
    },
    "executionInfo": {
     "elapsed": 897,
     "status": "ok",
     "timestamp": 1604669095146,
     "user": {
      "displayName": "Harshith a",
      "photoUrl": "https://lh3.googleusercontent.com/a-/AOh14Gg1ydY-8sWUdly1ac69J0vS3b5r75JtQ5GIvAJc=s64",
      "userId": "11844310727840414540"
     },
     "user_tz": -330
    },
    "id": "X1jzurbmJz4L",
    "outputId": "596fe787-b9ed-49ab-96b3-0291ee50cc8e"
   },
   "outputs": [
    {
     "data": {
      "text/plain": [
       "array([[-1.97791392e+00, -2.21789911e+00, -1.24573784e+00,\n",
       "         5.61430852e-01,  9.08841070e-01,  2.14176296e+00],\n",
       "       [-1.56491296e+00, -1.44435969e+00, -2.75113201e-01,\n",
       "        -2.79339725e-01, -1.24251467e+00,  8.78005239e-01],\n",
       "       [-1.35841248e+00, -1.34766726e+00, -5.52434527e-01,\n",
       "        -4.19468155e-01,  9.08841070e-01,  5.33344042e-01],\n",
       "       ...,\n",
       "       [-9.45411526e-01, -4.77435416e-01,  9.03502430e-01,\n",
       "        -9.79981873e-01, -1.24251467e+00,  3.03569910e-01],\n",
       "       [-1.15191200e+00, -8.64205125e-01,  1.40868786e-01,\n",
       "        -1.26023873e+00, -1.54985120e+00,  9.92892305e-01],\n",
       "       [-1.04866177e+00, -1.05758998e+00, -1.03774685e+00,\n",
       "         9.17134055e-04,  9.08841070e-01,  3.03569910e-01]])"
      ]
     },
     "execution_count": 73,
     "metadata": {
      "tags": []
     },
     "output_type": "execute_result"
    }
   ],
   "source": [
    "from sklearn.preprocessing import StandardScaler\n",
    "scaler = StandardScaler()\n",
    "temp = new_df.drop(columns = [\"Year\", \"Month\", \"Day\", \"WeatherEvent\"])\n",
    "normalized_df = scaler.fit_transform(temp.values)\n",
    "normalized_df"
   ]
  },
  {
   "cell_type": "code",
   "execution_count": null,
   "metadata": {
    "colab": {
     "base_uri": "https://localhost:8080/",
     "height": 107
    },
    "executionInfo": {
     "elapsed": 1226,
     "status": "ok",
     "timestamp": 1604669200011,
     "user": {
      "displayName": "Harshith a",
      "photoUrl": "https://lh3.googleusercontent.com/a-/AOh14Gg1ydY-8sWUdly1ac69J0vS3b5r75JtQ5GIvAJc=s64",
      "userId": "11844310727840414540"
     },
     "user_tz": -330
    },
    "id": "dFxM0rdQvMWC",
    "outputId": "d22013ea-a78a-40fc-93f8-c4bad663451c"
   },
   "outputs": [
    {
     "data": {
      "text/html": [
       "<div>\n",
       "<style scoped>\n",
       "    .dataframe tbody tr th:only-of-type {\n",
       "        vertical-align: middle;\n",
       "    }\n",
       "\n",
       "    .dataframe tbody tr th {\n",
       "        vertical-align: top;\n",
       "    }\n",
       "\n",
       "    .dataframe thead th {\n",
       "        text-align: right;\n",
       "    }\n",
       "</style>\n",
       "<table border=\"1\" class=\"dataframe\">\n",
       "  <thead>\n",
       "    <tr style=\"text-align: right;\">\n",
       "      <th></th>\n",
       "      <th>Temp avg</th>\n",
       "      <th>Dew avg</th>\n",
       "      <th>Humidity avg</th>\n",
       "      <th>Sea avg</th>\n",
       "      <th>Visibility avg</th>\n",
       "      <th>Wind avg</th>\n",
       "    </tr>\n",
       "  </thead>\n",
       "  <tbody>\n",
       "    <tr>\n",
       "      <th>0</th>\n",
       "      <td>-6.0</td>\n",
       "      <td>-18.0</td>\n",
       "      <td>43.0</td>\n",
       "      <td>1020.0</td>\n",
       "      <td>16.0</td>\n",
       "      <td>48.0</td>\n",
       "    </tr>\n",
       "    <tr>\n",
       "      <th>1</th>\n",
       "      <td>-2.0</td>\n",
       "      <td>-10.0</td>\n",
       "      <td>57.0</td>\n",
       "      <td>1014.0</td>\n",
       "      <td>9.0</td>\n",
       "      <td>37.0</td>\n",
       "    </tr>\n",
       "  </tbody>\n",
       "</table>\n",
       "</div>"
      ],
      "text/plain": [
       "   Temp avg  Dew avg  Humidity avg  Sea avg  Visibility avg  Wind avg\n",
       "0      -6.0    -18.0          43.0   1020.0            16.0      48.0\n",
       "1      -2.0    -10.0          57.0   1014.0             9.0      37.0"
      ]
     },
     "execution_count": 76,
     "metadata": {
      "tags": []
     },
     "output_type": "execute_result"
    }
   ],
   "source": [
    "temp.head(2)"
   ]
  },
  {
   "cell_type": "code",
   "execution_count": null,
   "metadata": {
    "colab": {
     "base_uri": "https://localhost:8080/",
     "height": 407
    },
    "executionInfo": {
     "elapsed": 1085,
     "status": "ok",
     "timestamp": 1604669169348,
     "user": {
      "displayName": "Harshith a",
      "photoUrl": "https://lh3.googleusercontent.com/a-/AOh14Gg1ydY-8sWUdly1ac69J0vS3b5r75JtQ5GIvAJc=s64",
      "userId": "11844310727840414540"
     },
     "user_tz": -330
    },
    "id": "FZ9q35dbu7vr",
    "outputId": "b2d98909-adf1-4b85-e2eb-52cf052d006e"
   },
   "outputs": [
    {
     "data": {
      "text/html": [
       "<div>\n",
       "<style scoped>\n",
       "    .dataframe tbody tr th:only-of-type {\n",
       "        vertical-align: middle;\n",
       "    }\n",
       "\n",
       "    .dataframe tbody tr th {\n",
       "        vertical-align: top;\n",
       "    }\n",
       "\n",
       "    .dataframe thead th {\n",
       "        text-align: right;\n",
       "    }\n",
       "</style>\n",
       "<table border=\"1\" class=\"dataframe\">\n",
       "  <thead>\n",
       "    <tr style=\"text-align: right;\">\n",
       "      <th></th>\n",
       "      <th>0</th>\n",
       "      <th>1</th>\n",
       "      <th>2</th>\n",
       "      <th>3</th>\n",
       "      <th>4</th>\n",
       "      <th>5</th>\n",
       "    </tr>\n",
       "  </thead>\n",
       "  <tbody>\n",
       "    <tr>\n",
       "      <th>0</th>\n",
       "      <td>-1.977914</td>\n",
       "      <td>-2.217899</td>\n",
       "      <td>-1.245738</td>\n",
       "      <td>0.561431</td>\n",
       "      <td>0.908841</td>\n",
       "      <td>2.141763</td>\n",
       "    </tr>\n",
       "    <tr>\n",
       "      <th>1</th>\n",
       "      <td>-1.564913</td>\n",
       "      <td>-1.444360</td>\n",
       "      <td>-0.275113</td>\n",
       "      <td>-0.279340</td>\n",
       "      <td>-1.242515</td>\n",
       "      <td>0.878005</td>\n",
       "    </tr>\n",
       "    <tr>\n",
       "      <th>2</th>\n",
       "      <td>-1.358412</td>\n",
       "      <td>-1.347667</td>\n",
       "      <td>-0.552435</td>\n",
       "      <td>-0.419468</td>\n",
       "      <td>0.908841</td>\n",
       "      <td>0.533344</td>\n",
       "    </tr>\n",
       "    <tr>\n",
       "      <th>3</th>\n",
       "      <td>-1.255162</td>\n",
       "      <td>-1.637745</td>\n",
       "      <td>-1.315068</td>\n",
       "      <td>0.141046</td>\n",
       "      <td>0.908841</td>\n",
       "      <td>0.763118</td>\n",
       "    </tr>\n",
       "    <tr>\n",
       "      <th>4</th>\n",
       "      <td>-0.945412</td>\n",
       "      <td>-1.347667</td>\n",
       "      <td>-0.968417</td>\n",
       "      <td>-0.279340</td>\n",
       "      <td>0.908841</td>\n",
       "      <td>-0.155978</td>\n",
       "    </tr>\n",
       "    <tr>\n",
       "      <th>...</th>\n",
       "      <td>...</td>\n",
       "      <td>...</td>\n",
       "      <td>...</td>\n",
       "      <td>...</td>\n",
       "      <td>...</td>\n",
       "      <td>...</td>\n",
       "    </tr>\n",
       "    <tr>\n",
       "      <th>2917</th>\n",
       "      <td>-0.325910</td>\n",
       "      <td>-0.090666</td>\n",
       "      <td>0.002208</td>\n",
       "      <td>-0.559597</td>\n",
       "      <td>0.601505</td>\n",
       "      <td>1.452441</td>\n",
       "    </tr>\n",
       "    <tr>\n",
       "      <th>2918</th>\n",
       "      <td>-1.151912</td>\n",
       "      <td>-0.960898</td>\n",
       "      <td>-0.483104</td>\n",
       "      <td>0.281174</td>\n",
       "      <td>0.908841</td>\n",
       "      <td>-0.155978</td>\n",
       "    </tr>\n",
       "    <tr>\n",
       "      <th>2919</th>\n",
       "      <td>-0.945412</td>\n",
       "      <td>-0.477435</td>\n",
       "      <td>0.903502</td>\n",
       "      <td>-0.979982</td>\n",
       "      <td>-1.242515</td>\n",
       "      <td>0.303570</td>\n",
       "    </tr>\n",
       "    <tr>\n",
       "      <th>2920</th>\n",
       "      <td>-1.151912</td>\n",
       "      <td>-0.864205</td>\n",
       "      <td>0.140869</td>\n",
       "      <td>-1.260239</td>\n",
       "      <td>-1.549851</td>\n",
       "      <td>0.992892</td>\n",
       "    </tr>\n",
       "    <tr>\n",
       "      <th>2921</th>\n",
       "      <td>-1.048662</td>\n",
       "      <td>-1.057590</td>\n",
       "      <td>-1.037747</td>\n",
       "      <td>0.000917</td>\n",
       "      <td>0.908841</td>\n",
       "      <td>0.303570</td>\n",
       "    </tr>\n",
       "  </tbody>\n",
       "</table>\n",
       "<p>2922 rows × 6 columns</p>\n",
       "</div>"
      ],
      "text/plain": [
       "             0         1         2         3         4         5\n",
       "0    -1.977914 -2.217899 -1.245738  0.561431  0.908841  2.141763\n",
       "1    -1.564913 -1.444360 -0.275113 -0.279340 -1.242515  0.878005\n",
       "2    -1.358412 -1.347667 -0.552435 -0.419468  0.908841  0.533344\n",
       "3    -1.255162 -1.637745 -1.315068  0.141046  0.908841  0.763118\n",
       "4    -0.945412 -1.347667 -0.968417 -0.279340  0.908841 -0.155978\n",
       "...        ...       ...       ...       ...       ...       ...\n",
       "2917 -0.325910 -0.090666  0.002208 -0.559597  0.601505  1.452441\n",
       "2918 -1.151912 -0.960898 -0.483104  0.281174  0.908841 -0.155978\n",
       "2919 -0.945412 -0.477435  0.903502 -0.979982 -1.242515  0.303570\n",
       "2920 -1.151912 -0.864205  0.140869 -1.260239 -1.549851  0.992892\n",
       "2921 -1.048662 -1.057590 -1.037747  0.000917  0.908841  0.303570\n",
       "\n",
       "[2922 rows x 6 columns]"
      ]
     },
     "execution_count": 75,
     "metadata": {
      "tags": []
     },
     "output_type": "execute_result"
    }
   ],
   "source": [
    "norm_df = pd.DataFrame(normalized_df)\n",
    "norm_df"
   ]
  },
  {
   "cell_type": "code",
   "execution_count": null,
   "metadata": {
    "id": "IUeSYtn2vGGK"
   },
   "outputs": [],
   "source": [
    "norm_df.columns = temp.columns"
   ]
  },
  {
   "cell_type": "code",
   "execution_count": null,
   "metadata": {
    "colab": {
     "base_uri": "https://localhost:8080/",
     "height": 197
    },
    "executionInfo": {
     "elapsed": 987,
     "status": "ok",
     "timestamp": 1604669910019,
     "user": {
      "displayName": "Harshith a",
      "photoUrl": "https://lh3.googleusercontent.com/a-/AOh14Gg1ydY-8sWUdly1ac69J0vS3b5r75JtQ5GIvAJc=s64",
      "userId": "11844310727840414540"
     },
     "user_tz": -330
    },
    "id": "-ZFjw0_Cv6hX",
    "outputId": "88ed3442-3ca9-49ac-c5af-69872b828a9b"
   },
   "outputs": [
    {
     "data": {
      "text/html": [
       "<div>\n",
       "<style scoped>\n",
       "    .dataframe tbody tr th:only-of-type {\n",
       "        vertical-align: middle;\n",
       "    }\n",
       "\n",
       "    .dataframe tbody tr th {\n",
       "        vertical-align: top;\n",
       "    }\n",
       "\n",
       "    .dataframe thead th {\n",
       "        text-align: right;\n",
       "    }\n",
       "</style>\n",
       "<table border=\"1\" class=\"dataframe\">\n",
       "  <thead>\n",
       "    <tr style=\"text-align: right;\">\n",
       "      <th></th>\n",
       "      <th>Temp avg</th>\n",
       "      <th>Dew avg</th>\n",
       "      <th>Humidity avg</th>\n",
       "      <th>Sea avg</th>\n",
       "      <th>Visibility avg</th>\n",
       "      <th>Wind avg</th>\n",
       "    </tr>\n",
       "  </thead>\n",
       "  <tbody>\n",
       "    <tr>\n",
       "      <th>0</th>\n",
       "      <td>-1.977914</td>\n",
       "      <td>-2.217899</td>\n",
       "      <td>-1.245738</td>\n",
       "      <td>0.561431</td>\n",
       "      <td>0.908841</td>\n",
       "      <td>2.141763</td>\n",
       "    </tr>\n",
       "    <tr>\n",
       "      <th>1</th>\n",
       "      <td>-1.564913</td>\n",
       "      <td>-1.444360</td>\n",
       "      <td>-0.275113</td>\n",
       "      <td>-0.279340</td>\n",
       "      <td>-1.242515</td>\n",
       "      <td>0.878005</td>\n",
       "    </tr>\n",
       "    <tr>\n",
       "      <th>2</th>\n",
       "      <td>-1.358412</td>\n",
       "      <td>-1.347667</td>\n",
       "      <td>-0.552435</td>\n",
       "      <td>-0.419468</td>\n",
       "      <td>0.908841</td>\n",
       "      <td>0.533344</td>\n",
       "    </tr>\n",
       "    <tr>\n",
       "      <th>3</th>\n",
       "      <td>-1.255162</td>\n",
       "      <td>-1.637745</td>\n",
       "      <td>-1.315068</td>\n",
       "      <td>0.141046</td>\n",
       "      <td>0.908841</td>\n",
       "      <td>0.763118</td>\n",
       "    </tr>\n",
       "    <tr>\n",
       "      <th>4</th>\n",
       "      <td>-0.945412</td>\n",
       "      <td>-1.347667</td>\n",
       "      <td>-0.968417</td>\n",
       "      <td>-0.279340</td>\n",
       "      <td>0.908841</td>\n",
       "      <td>-0.155978</td>\n",
       "    </tr>\n",
       "  </tbody>\n",
       "</table>\n",
       "</div>"
      ],
      "text/plain": [
       "   Temp avg   Dew avg  Humidity avg   Sea avg  Visibility avg  Wind avg\n",
       "0 -1.977914 -2.217899     -1.245738  0.561431        0.908841  2.141763\n",
       "1 -1.564913 -1.444360     -0.275113 -0.279340       -1.242515  0.878005\n",
       "2 -1.358412 -1.347667     -0.552435 -0.419468        0.908841  0.533344\n",
       "3 -1.255162 -1.637745     -1.315068  0.141046        0.908841  0.763118\n",
       "4 -0.945412 -1.347667     -0.968417 -0.279340        0.908841 -0.155978"
      ]
     },
     "execution_count": 88,
     "metadata": {
      "tags": []
     },
     "output_type": "execute_result"
    }
   ],
   "source": [
    "norm_df.head()"
   ]
  },
  {
   "cell_type": "code",
   "execution_count": null,
   "metadata": {
    "colab": {
     "base_uri": "https://localhost:8080/"
    },
    "executionInfo": {
     "elapsed": 908,
     "status": "ok",
     "timestamp": 1604669913369,
     "user": {
      "displayName": "Harshith a",
      "photoUrl": "https://lh3.googleusercontent.com/a-/AOh14Gg1ydY-8sWUdly1ac69J0vS3b5r75JtQ5GIvAJc=s64",
      "userId": "11844310727840414540"
     },
     "user_tz": -330
    },
    "id": "ELh77QciwHAo",
    "outputId": "b854e421-3cef-4b8a-b259-2e0181780a82"
   },
   "outputs": [
    {
     "data": {
      "text/plain": [
       "(2922, 10)"
      ]
     },
     "execution_count": 89,
     "metadata": {
      "tags": []
     },
     "output_type": "execute_result"
    }
   ],
   "source": [
    "new_df.shape"
   ]
  },
  {
   "cell_type": "code",
   "execution_count": null,
   "metadata": {
    "colab": {
     "base_uri": "https://localhost:8080/"
    },
    "executionInfo": {
     "elapsed": 1264,
     "status": "ok",
     "timestamp": 1604669917686,
     "user": {
      "displayName": "Harshith a",
      "photoUrl": "https://lh3.googleusercontent.com/a-/AOh14Gg1ydY-8sWUdly1ac69J0vS3b5r75JtQ5GIvAJc=s64",
      "userId": "11844310727840414540"
     },
     "user_tz": -330
    },
    "id": "zj07Ar4LwKy4",
    "outputId": "98fd6312-1917-41a5-e7fb-3d097b29c451"
   },
   "outputs": [
    {
     "data": {
      "text/plain": [
       "2922"
      ]
     },
     "execution_count": 90,
     "metadata": {
      "tags": []
     },
     "output_type": "execute_result"
    }
   ],
   "source": [
    "len(new_df[\"WeatherEvent\"])"
   ]
  },
  {
   "cell_type": "code",
   "execution_count": null,
   "metadata": {
    "id": "ZKR671l_vd9Q"
   },
   "outputs": [],
   "source": [
    "norm_df['Weather_event'] = list(new_df[\"WeatherEvent\"])"
   ]
  },
  {
   "cell_type": "code",
   "execution_count": null,
   "metadata": {
    "colab": {
     "base_uri": "https://localhost:8080/",
     "height": 197
    },
    "executionInfo": {
     "elapsed": 743,
     "status": "ok",
     "timestamp": 1604670094794,
     "user": {
      "displayName": "Harshith a",
      "photoUrl": "https://lh3.googleusercontent.com/a-/AOh14Gg1ydY-8sWUdly1ac69J0vS3b5r75JtQ5GIvAJc=s64",
      "userId": "11844310727840414540"
     },
     "user_tz": -330
    },
    "id": "G0xfhjyVynCZ",
    "outputId": "6c1c1ced-349f-456d-d65c-13dc00ccf801"
   },
   "outputs": [
    {
     "data": {
      "text/html": [
       "<div>\n",
       "<style scoped>\n",
       "    .dataframe tbody tr th:only-of-type {\n",
       "        vertical-align: middle;\n",
       "    }\n",
       "\n",
       "    .dataframe tbody tr th {\n",
       "        vertical-align: top;\n",
       "    }\n",
       "\n",
       "    .dataframe thead th {\n",
       "        text-align: right;\n",
       "    }\n",
       "</style>\n",
       "<table border=\"1\" class=\"dataframe\">\n",
       "  <thead>\n",
       "    <tr style=\"text-align: right;\">\n",
       "      <th></th>\n",
       "      <th>Temp avg</th>\n",
       "      <th>Dew avg</th>\n",
       "      <th>Humidity avg</th>\n",
       "      <th>Sea avg</th>\n",
       "      <th>Visibility avg</th>\n",
       "      <th>Wind avg</th>\n",
       "      <th>Weather_event</th>\n",
       "    </tr>\n",
       "  </thead>\n",
       "  <tbody>\n",
       "    <tr>\n",
       "      <th>0</th>\n",
       "      <td>-1.977914</td>\n",
       "      <td>-2.217899</td>\n",
       "      <td>-1.245738</td>\n",
       "      <td>0.561431</td>\n",
       "      <td>0.908841</td>\n",
       "      <td>2.141763</td>\n",
       "      <td>NaN</td>\n",
       "    </tr>\n",
       "    <tr>\n",
       "      <th>1</th>\n",
       "      <td>-1.564913</td>\n",
       "      <td>-1.444360</td>\n",
       "      <td>-0.275113</td>\n",
       "      <td>-0.279340</td>\n",
       "      <td>-1.242515</td>\n",
       "      <td>0.878005</td>\n",
       "      <td>Snow</td>\n",
       "    </tr>\n",
       "    <tr>\n",
       "      <th>2</th>\n",
       "      <td>-1.358412</td>\n",
       "      <td>-1.347667</td>\n",
       "      <td>-0.552435</td>\n",
       "      <td>-0.419468</td>\n",
       "      <td>0.908841</td>\n",
       "      <td>0.533344</td>\n",
       "      <td>NaN</td>\n",
       "    </tr>\n",
       "    <tr>\n",
       "      <th>3</th>\n",
       "      <td>-1.255162</td>\n",
       "      <td>-1.637745</td>\n",
       "      <td>-1.315068</td>\n",
       "      <td>0.141046</td>\n",
       "      <td>0.908841</td>\n",
       "      <td>0.763118</td>\n",
       "      <td>NaN</td>\n",
       "    </tr>\n",
       "    <tr>\n",
       "      <th>4</th>\n",
       "      <td>-0.945412</td>\n",
       "      <td>-1.347667</td>\n",
       "      <td>-0.968417</td>\n",
       "      <td>-0.279340</td>\n",
       "      <td>0.908841</td>\n",
       "      <td>-0.155978</td>\n",
       "      <td>NaN</td>\n",
       "    </tr>\n",
       "  </tbody>\n",
       "</table>\n",
       "</div>"
      ],
      "text/plain": [
       "   Temp avg   Dew avg  Humidity avg  ...  Visibility avg  Wind avg  Weather_event\n",
       "0 -1.977914 -2.217899     -1.245738  ...        0.908841  2.141763            NaN\n",
       "1 -1.564913 -1.444360     -0.275113  ...       -1.242515  0.878005           Snow\n",
       "2 -1.358412 -1.347667     -0.552435  ...        0.908841  0.533344            NaN\n",
       "3 -1.255162 -1.637745     -1.315068  ...        0.908841  0.763118            NaN\n",
       "4 -0.945412 -1.347667     -0.968417  ...        0.908841 -0.155978            NaN\n",
       "\n",
       "[5 rows x 7 columns]"
      ]
     },
     "execution_count": 93,
     "metadata": {
      "tags": []
     },
     "output_type": "execute_result"
    }
   ],
   "source": [
    "norm_df.head()"
   ]
  },
  {
   "cell_type": "markdown",
   "metadata": {
    "id": "U7GixxzbNvHf"
   },
   "source": [
    "#### Exercise 11: Handle NaN values as mentioned below\n",
    "1. Look for missing values in `\"WeatherEvent\"` column and drop those respective records\n",
    "2. Find Null or NaN values in the rest of the columns and fill them with 0\n"
   ]
  },
  {
   "cell_type": "code",
   "execution_count": null,
   "metadata": {
    "colab": {
     "base_uri": "https://localhost:8080/"
    },
    "executionInfo": {
     "elapsed": 1120,
     "status": "ok",
     "timestamp": 1604670110536,
     "user": {
      "displayName": "Harshith a",
      "photoUrl": "https://lh3.googleusercontent.com/a-/AOh14Gg1ydY-8sWUdly1ac69J0vS3b5r75JtQ5GIvAJc=s64",
      "userId": "11844310727840414540"
     },
     "user_tz": -330
    },
    "id": "m5s2_M5zIDba",
    "outputId": "bc27c4d6-8460-49a4-d824-920a26d3add8"
   },
   "outputs": [
    {
     "data": {
      "text/plain": [
       "Temp avg             2\n",
       "Dew avg              2\n",
       "Humidity avg         2\n",
       "Sea avg             19\n",
       "Visibility avg      28\n",
       "Wind avg            59\n",
       "Weather_event     1908\n",
       "dtype: int64"
      ]
     },
     "execution_count": 94,
     "metadata": {
      "tags": []
     },
     "output_type": "execute_result"
    }
   ],
   "source": [
    "norm_df.isna().sum()"
   ]
  },
  {
   "cell_type": "code",
   "execution_count": null,
   "metadata": {
    "id": "uBhsGeLuy05z"
   },
   "outputs": [],
   "source": [
    "norm_df.dropna(subset=[\"Weather_event\"], inplace=True)"
   ]
  },
  {
   "cell_type": "code",
   "execution_count": null,
   "metadata": {
    "id": "F8V_ETxkwS6M"
   },
   "outputs": [],
   "source": [
    "norm_df.fillna(0, inplace=True)"
   ]
  },
  {
   "cell_type": "code",
   "execution_count": null,
   "metadata": {
    "colab": {
     "base_uri": "https://localhost:8080/"
    },
    "executionInfo": {
     "elapsed": 1075,
     "status": "ok",
     "timestamp": 1604670233040,
     "user": {
      "displayName": "Harshith a",
      "photoUrl": "https://lh3.googleusercontent.com/a-/AOh14Gg1ydY-8sWUdly1ac69J0vS3b5r75JtQ5GIvAJc=s64",
      "userId": "11844310727840414540"
     },
     "user_tz": -330
    },
    "id": "sM5v2symzD2O",
    "outputId": "401df280-6a7f-4d15-e484-6766449c9559"
   },
   "outputs": [
    {
     "data": {
      "text/plain": [
       "Temp avg          0\n",
       "Dew avg           0\n",
       "Humidity avg      0\n",
       "Sea avg           0\n",
       "Visibility avg    0\n",
       "Wind avg          0\n",
       "Weather_event     0\n",
       "dtype: int64"
      ]
     },
     "execution_count": 100,
     "metadata": {
      "tags": []
     },
     "output_type": "execute_result"
    }
   ],
   "source": [
    "norm_df.isna().sum()"
   ]
  },
  {
   "cell_type": "markdown",
   "metadata": {
    "id": "tPe1F0RRWBJE"
   },
   "source": [
    "#### Exercise 12: Plot the Bar plot of the column `\"WeatherEvent\"` to understand which year has highest `\"Fog,Rain,Snow\"` (it is one of the labels in WeatherEvent)\n",
    "\n",
    "1.   Count how many no. of times a label (Fog,Rain,Snow) occurred per year\n",
    "\n",
    "    Hint: [df.value_counts()](https://pandas.pydata.org/pandas-docs/stable/reference/api/pandas.Series.value_counts.html)\n",
    "\n",
    "\n",
    "2.   Using the value counts plot the histogram\n",
    "\n",
    "  Hint: [Bar Plot](https://dfrieds.com/data-visualizations/bar-plot-python-pandas.html)\n"
   ]
  },
  {
   "cell_type": "code",
   "execution_count": null,
   "metadata": {
    "colab": {
     "base_uri": "https://localhost:8080/",
     "height": 265
    },
    "executionInfo": {
     "elapsed": 1331,
     "status": "ok",
     "timestamp": 1604670329261,
     "user": {
      "displayName": "Harshith a",
      "photoUrl": "https://lh3.googleusercontent.com/a-/AOh14Gg1ydY-8sWUdly1ac69J0vS3b5r75JtQ5GIvAJc=s64",
      "userId": "11844310727840414540"
     },
     "user_tz": -330
    },
    "id": "S9vVQvNZhOB0",
    "outputId": "186cf410-f3e4-463a-ac76-5dcf9b91264b"
   },
   "outputs": [
    {
     "data": {
      "image/png": "[encoded data removed]",
      "text/plain": [
       "<Figure size 432x288 with 1 Axes>"
      ]
     },
     "metadata": {
      "needs_background": "light",
      "tags": []
     },
     "output_type": "display_data"
    }
   ],
   "source": [
    "norm_df['Weather_event'].value_counts().plot(kind = 'barh')\n",
    "plt.grid(False)\n",
    "plt.show()"
   ]
  },
  {
   "cell_type": "markdown",
   "metadata": {
    "id": "nAJvTUe9HsK7"
   },
   "source": [
    "#### Exercise 13: Print the correlation matrix of the dataframe\n",
    "\n",
    "Hint: Compute pairwise correlations of columns using [df.corr](https://pandas.pydata.org/pandas-docs/stable/reference/api/pandas.DataFrame.corr.html)"
   ]
  },
  {
   "cell_type": "code",
   "execution_count": null,
   "metadata": {
    "colab": {
     "base_uri": "https://localhost:8080/",
     "height": 227
    },
    "executionInfo": {
     "elapsed": 1242,
     "status": "ok",
     "timestamp": 1604670369414,
     "user": {
      "displayName": "Harshith a",
      "photoUrl": "https://lh3.googleusercontent.com/a-/AOh14Gg1ydY-8sWUdly1ac69J0vS3b5r75JtQ5GIvAJc=s64",
      "userId": "11844310727840414540"
     },
     "user_tz": -330
    },
    "id": "kUjl23W7IA5m",
    "outputId": "72ea2d04-b2d9-431a-f737-7c7ee2308c4a"
   },
   "outputs": [
    {
     "data": {
      "text/html": [
       "<div>\n",
       "<style scoped>\n",
       "    .dataframe tbody tr th:only-of-type {\n",
       "        vertical-align: middle;\n",
       "    }\n",
       "\n",
       "    .dataframe tbody tr th {\n",
       "        vertical-align: top;\n",
       "    }\n",
       "\n",
       "    .dataframe thead th {\n",
       "        text-align: right;\n",
       "    }\n",
       "</style>\n",
       "<table border=\"1\" class=\"dataframe\">\n",
       "  <thead>\n",
       "    <tr style=\"text-align: right;\">\n",
       "      <th></th>\n",
       "      <th>Temp avg</th>\n",
       "      <th>Dew avg</th>\n",
       "      <th>Humidity avg</th>\n",
       "      <th>Sea avg</th>\n",
       "      <th>Visibility avg</th>\n",
       "      <th>Wind avg</th>\n",
       "    </tr>\n",
       "  </thead>\n",
       "  <tbody>\n",
       "    <tr>\n",
       "      <th>Temp avg</th>\n",
       "      <td>1.000000</td>\n",
       "      <td>0.955666</td>\n",
       "      <td>0.206933</td>\n",
       "      <td>-0.050787</td>\n",
       "      <td>-0.011156</td>\n",
       "      <td>-0.307610</td>\n",
       "    </tr>\n",
       "    <tr>\n",
       "      <th>Dew avg</th>\n",
       "      <td>0.955666</td>\n",
       "      <td>1.000000</td>\n",
       "      <td>0.461810</td>\n",
       "      <td>-0.071074</td>\n",
       "      <td>-0.136768</td>\n",
       "      <td>-0.305441</td>\n",
       "    </tr>\n",
       "    <tr>\n",
       "      <th>Humidity avg</th>\n",
       "      <td>0.206933</td>\n",
       "      <td>0.461810</td>\n",
       "      <td>1.000000</td>\n",
       "      <td>-0.077945</td>\n",
       "      <td>-0.483664</td>\n",
       "      <td>-0.095846</td>\n",
       "    </tr>\n",
       "    <tr>\n",
       "      <th>Sea avg</th>\n",
       "      <td>-0.050787</td>\n",
       "      <td>-0.071074</td>\n",
       "      <td>-0.077945</td>\n",
       "      <td>1.000000</td>\n",
       "      <td>0.125017</td>\n",
       "      <td>-0.322327</td>\n",
       "    </tr>\n",
       "    <tr>\n",
       "      <th>Visibility avg</th>\n",
       "      <td>-0.011156</td>\n",
       "      <td>-0.136768</td>\n",
       "      <td>-0.483664</td>\n",
       "      <td>0.125017</td>\n",
       "      <td>1.000000</td>\n",
       "      <td>-0.026611</td>\n",
       "    </tr>\n",
       "    <tr>\n",
       "      <th>Wind avg</th>\n",
       "      <td>-0.307610</td>\n",
       "      <td>-0.305441</td>\n",
       "      <td>-0.095846</td>\n",
       "      <td>-0.322327</td>\n",
       "      <td>-0.026611</td>\n",
       "      <td>1.000000</td>\n",
       "    </tr>\n",
       "  </tbody>\n",
       "</table>\n",
       "</div>"
      ],
      "text/plain": [
       "                Temp avg   Dew avg  ...  Visibility avg  Wind avg\n",
       "Temp avg        1.000000  0.955666  ...       -0.011156 -0.307610\n",
       "Dew avg         0.955666  1.000000  ...       -0.136768 -0.305441\n",
       "Humidity avg    0.206933  0.461810  ...       -0.483664 -0.095846\n",
       "Sea avg        -0.050787 -0.071074  ...        0.125017 -0.322327\n",
       "Visibility avg -0.011156 -0.136768  ...        1.000000 -0.026611\n",
       "Wind avg       -0.307610 -0.305441  ...       -0.026611  1.000000\n",
       "\n",
       "[6 rows x 6 columns]"
      ]
     },
     "execution_count": 103,
     "metadata": {
      "tags": []
     },
     "output_type": "execute_result"
    }
   ],
   "source": [
    "norm_df.corr()"
   ]
  },
  {
   "cell_type": "markdown",
   "metadata": {
    "id": "kPKOFoEhizcJ"
   },
   "source": [
    "#### Exercise 14: Plot the heat map\n",
    "Heat Maps is a type of plot which is necessary when we need to find the dependent variables. One of the best way to find the relationship between the features can be done using heat maps.\n",
    "\n",
    "Hint: [sns.heatmap](https://seaborn.pydata.org/generated/seaborn.heatmap.html)"
   ]
  },
  {
   "cell_type": "code",
   "execution_count": null,
   "metadata": {
    "colab": {
     "base_uri": "https://localhost:8080/",
     "height": 336
    },
    "executionInfo": {
     "elapsed": 1230,
     "status": "ok",
     "timestamp": 1604670486272,
     "user": {
      "displayName": "Harshith a",
      "photoUrl": "https://lh3.googleusercontent.com/a-/AOh14Gg1ydY-8sWUdly1ac69J0vS3b5r75JtQ5GIvAJc=s64",
      "userId": "11844310727840414540"
     },
     "user_tz": -330
    },
    "id": "c6zC9HZWnUus",
    "outputId": "8341c0f0-d80e-4937-bb02-08675ec2095d"
   },
   "outputs": [
    {
     "data": {
      "image/png": "[encoded data removed]",
      "text/plain": [
       "<Figure size 432x288 with 2 Axes>"
      ]
     },
     "metadata": {
      "tags": []
     },
     "output_type": "display_data"
    }
   ],
   "source": [
    "import seaborn as sns\n",
    "\n",
    "matrix = norm_df.corr()\n",
    "sns.set()\n",
    "ax = sns.heatmap(matrix, annot=True)\n",
    "plt.show()"
   ]
  },
  {
   "cell_type": "markdown",
   "metadata": {
    "id": "1Ur2skf1W7TK"
   },
   "source": [
    "#### Exercise 15: Detect Outliers using Box Plot\n",
    "Hint: Plot the boxplot for Humidity and Temperature"
   ]
  },
  {
   "cell_type": "code",
   "execution_count": null,
   "metadata": {
    "colab": {
     "base_uri": "https://localhost:8080/",
     "height": 268
    },
    "executionInfo": {
     "elapsed": 1106,
     "status": "ok",
     "timestamp": 1604670699182,
     "user": {
      "displayName": "Harshith a",
      "photoUrl": "https://lh3.googleusercontent.com/a-/AOh14Gg1ydY-8sWUdly1ac69J0vS3b5r75JtQ5GIvAJc=s64",
      "userId": "11844310727840414540"
     },
     "user_tz": -330
    },
    "id": "V3b7PfqtVy-k",
    "outputId": "79634909-a859-4e72-b8ad-dc89fcb8d710"
   },
   "outputs": [
    {
     "data": {
      "image/png": "[encoded data removed]",
      "text/plain": [
       "<Figure size 432x288 with 1 Axes>"
      ]
     },
     "metadata": {
      "tags": []
     },
     "output_type": "display_data"
    }
   ],
   "source": [
    "norm_df.boxplot(column = ['Humidity avg', 'Temp avg']);"
   ]
  },
  {
   "cell_type": "markdown",
   "metadata": {
    "id": "IIA4vQ0-iHB6"
   },
   "source": [
    "#### Exercise 16: Convert the categorical data (`\"WeatherEvent\"` column) into numerical\n",
    "\n",
    "Hint: [pd.factorize](https://pandas.pydata.org/pandas-docs/stable/reference/api/pandas.factorize.html)"
   ]
  },
  {
   "cell_type": "code",
   "execution_count": null,
   "metadata": {
    "colab": {
     "base_uri": "https://localhost:8080/",
     "height": 407
    },
    "executionInfo": {
     "elapsed": 891,
     "status": "ok",
     "timestamp": 1604670776539,
     "user": {
      "displayName": "Harshith a",
      "photoUrl": "https://lh3.googleusercontent.com/a-/AOh14Gg1ydY-8sWUdly1ac69J0vS3b5r75JtQ5GIvAJc=s64",
      "userId": "11844310727840414540"
     },
     "user_tz": -330
    },
    "id": "zMERIkjMMBOu",
    "outputId": "3b57804c-4342-4d2a-ae0c-5e105f64fc7c"
   },
   "outputs": [
    {
     "data": {
      "text/html": [
       "<div>\n",
       "<style scoped>\n",
       "    .dataframe tbody tr th:only-of-type {\n",
       "        vertical-align: middle;\n",
       "    }\n",
       "\n",
       "    .dataframe tbody tr th {\n",
       "        vertical-align: top;\n",
       "    }\n",
       "\n",
       "    .dataframe thead th {\n",
       "        text-align: right;\n",
       "    }\n",
       "</style>\n",
       "<table border=\"1\" class=\"dataframe\">\n",
       "  <thead>\n",
       "    <tr style=\"text-align: right;\">\n",
       "      <th></th>\n",
       "      <th>Temp avg</th>\n",
       "      <th>Dew avg</th>\n",
       "      <th>Humidity avg</th>\n",
       "      <th>Sea avg</th>\n",
       "      <th>Visibility avg</th>\n",
       "      <th>Wind avg</th>\n",
       "      <th>Weather_event</th>\n",
       "    </tr>\n",
       "  </thead>\n",
       "  <tbody>\n",
       "    <tr>\n",
       "      <th>1</th>\n",
       "      <td>-1.564913</td>\n",
       "      <td>-1.444360</td>\n",
       "      <td>-0.275113</td>\n",
       "      <td>-0.279340</td>\n",
       "      <td>-1.242515</td>\n",
       "      <td>0.878005</td>\n",
       "      <td>0</td>\n",
       "    </tr>\n",
       "    <tr>\n",
       "      <th>5</th>\n",
       "      <td>-1.255162</td>\n",
       "      <td>-1.444360</td>\n",
       "      <td>-0.552435</td>\n",
       "      <td>-0.279340</td>\n",
       "      <td>-0.627842</td>\n",
       "      <td>-0.385752</td>\n",
       "      <td>1</td>\n",
       "    </tr>\n",
       "    <tr>\n",
       "      <th>6</th>\n",
       "      <td>-1.255162</td>\n",
       "      <td>-0.477435</td>\n",
       "      <td>2.012788</td>\n",
       "      <td>-2.661523</td>\n",
       "      <td>-1.242515</td>\n",
       "      <td>1.911989</td>\n",
       "      <td>1</td>\n",
       "    </tr>\n",
       "    <tr>\n",
       "      <th>9</th>\n",
       "      <td>-1.668163</td>\n",
       "      <td>-1.250975</td>\n",
       "      <td>0.556851</td>\n",
       "      <td>0.421302</td>\n",
       "      <td>-1.549851</td>\n",
       "      <td>0.303570</td>\n",
       "      <td>2</td>\n",
       "    </tr>\n",
       "    <tr>\n",
       "      <th>10</th>\n",
       "      <td>-1.668163</td>\n",
       "      <td>-1.057590</td>\n",
       "      <td>1.111493</td>\n",
       "      <td>-0.699725</td>\n",
       "      <td>-0.935178</td>\n",
       "      <td>0.303570</td>\n",
       "      <td>1</td>\n",
       "    </tr>\n",
       "    <tr>\n",
       "      <th>...</th>\n",
       "      <td>...</td>\n",
       "      <td>...</td>\n",
       "      <td>...</td>\n",
       "      <td>...</td>\n",
       "      <td>...</td>\n",
       "      <td>...</td>\n",
       "      <td>...</td>\n",
       "    </tr>\n",
       "    <tr>\n",
       "      <th>2908</th>\n",
       "      <td>-0.738911</td>\n",
       "      <td>-0.380743</td>\n",
       "      <td>0.626181</td>\n",
       "      <td>0.281174</td>\n",
       "      <td>-1.549851</td>\n",
       "      <td>1.107779</td>\n",
       "      <td>6</td>\n",
       "    </tr>\n",
       "    <tr>\n",
       "      <th>2914</th>\n",
       "      <td>-0.842161</td>\n",
       "      <td>-0.477435</td>\n",
       "      <td>0.626181</td>\n",
       "      <td>0.981816</td>\n",
       "      <td>-1.242515</td>\n",
       "      <td>-0.041091</td>\n",
       "      <td>1</td>\n",
       "    </tr>\n",
       "    <tr>\n",
       "      <th>2916</th>\n",
       "      <td>-0.842161</td>\n",
       "      <td>-0.477435</td>\n",
       "      <td>0.626181</td>\n",
       "      <td>1.962715</td>\n",
       "      <td>-0.935178</td>\n",
       "      <td>0.188683</td>\n",
       "      <td>1</td>\n",
       "    </tr>\n",
       "    <tr>\n",
       "      <th>2919</th>\n",
       "      <td>-0.945412</td>\n",
       "      <td>-0.477435</td>\n",
       "      <td>0.903502</td>\n",
       "      <td>-0.979982</td>\n",
       "      <td>-1.242515</td>\n",
       "      <td>0.303570</td>\n",
       "      <td>1</td>\n",
       "    </tr>\n",
       "    <tr>\n",
       "      <th>2920</th>\n",
       "      <td>-1.151912</td>\n",
       "      <td>-0.864205</td>\n",
       "      <td>0.140869</td>\n",
       "      <td>-1.260239</td>\n",
       "      <td>-1.549851</td>\n",
       "      <td>0.992892</td>\n",
       "      <td>3</td>\n",
       "    </tr>\n",
       "  </tbody>\n",
       "</table>\n",
       "<p>1014 rows × 7 columns</p>\n",
       "</div>"
      ],
      "text/plain": [
       "      Temp avg   Dew avg  Humidity avg  ...  Visibility avg  Wind avg  Weather_event\n",
       "1    -1.564913 -1.444360     -0.275113  ...       -1.242515  0.878005              0\n",
       "5    -1.255162 -1.444360     -0.552435  ...       -0.627842 -0.385752              1\n",
       "6    -1.255162 -0.477435      2.012788  ...       -1.242515  1.911989              1\n",
       "9    -1.668163 -1.250975      0.556851  ...       -1.549851  0.303570              2\n",
       "10   -1.668163 -1.057590      1.111493  ...       -0.935178  0.303570              1\n",
       "...        ...       ...           ...  ...             ...       ...            ...\n",
       "2908 -0.738911 -0.380743      0.626181  ...       -1.549851  1.107779              6\n",
       "2914 -0.842161 -0.477435      0.626181  ...       -1.242515 -0.041091              1\n",
       "2916 -0.842161 -0.477435      0.626181  ...       -0.935178  0.188683              1\n",
       "2919 -0.945412 -0.477435      0.903502  ...       -1.242515  0.303570              1\n",
       "2920 -1.151912 -0.864205      0.140869  ...       -1.549851  0.992892              3\n",
       "\n",
       "[1014 rows x 7 columns]"
      ]
     },
     "execution_count": 111,
     "metadata": {
      "tags": []
     },
     "output_type": "execute_result"
    }
   ],
   "source": [
    "encodes, uniques = pd.factorize(norm_df['Weather_event'])\n",
    "norm_df['Weather_event'] = encodes\n",
    "norm_df"
   ]
  }
 ],
 "metadata": {
  "colab": {
   "collapsed_sections": [],
   "name": "W3_2_Exploratory_Data_Analysis.ipynb",
   "provenance": []
  },
  "kernelspec": {
   "display_name": "Python 3",
   "language": "python",
   "name": "python3"
  },
  "language_info": {
   "codemirror_mode": {
    "name": "ipython",
    "version": 3
   },
   "file_extension": ".py",
   "mimetype": "text/x-python",
   "name": "python",
   "nbconvert_exporter": "python",
   "pygments_lexer": "ipython3",
   "version": "3.8.8"
  }
 },
 "nbformat": 4,
 "nbformat_minor": 1
}
